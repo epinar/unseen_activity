{
 "cells": [
  {
   "cell_type": "code",
   "execution_count": 1,
   "metadata": {},
   "outputs": [],
   "source": [
    "import argparse\n",
    "\n",
    "import numpy as np\n",
    "import torch\n",
    "import torch.nn as nn\n",
    "import fnmatch\n",
    "\n",
    "from src.i3dpt import I3D\n",
    "\n",
    "rgb_pt_checkpoint = 'model/model_rgb.pth'"
   ]
  },
  {
   "cell_type": "markdown",
   "metadata": {},
   "source": [
    "## Set up the gpu and the model"
   ]
  },
  {
   "cell_type": "code",
   "execution_count": null,
   "metadata": {},
   "outputs": [],
   "source": [
    "import os\n",
    "os.environ['CUDA_DEVICE_ORDER']=\"PCI_BUS_ID\"\n",
    "torch.cuda.set_device(0)\n",
    "torch.cuda.current_device()\n",
    "device = torch.device('cuda:0')"
   ]
  },
  {
   "cell_type": "code",
   "execution_count": null,
   "metadata": {},
   "outputs": [],
   "source": [
    "if device.type == 'cuda':\n",
    "    i = 0\n",
    "    print(torch.cuda.get_device_name(i))\n",
    "    print(torch.cuda.get_device_properties(i).total_memory)\n",
    "    print('Memory Usage:')\n",
    "    print('Allocated:', round(torch.cuda.memory_allocated(i)/1024**3,1), 'GB')\n",
    "    print('Cached:   ', round(torch.cuda.memory_cached(i)/1024**3,1), 'GB')"
   ]
  },
  {
   "cell_type": "code",
   "execution_count": 164,
   "metadata": {},
   "outputs": [
    {
     "data": {
      "text/plain": [
       "0"
      ]
     },
     "execution_count": 164,
     "metadata": {},
     "output_type": "execute_result"
    }
   ],
   "source": [
    "torch.cuda.current_device()"
   ]
  },
  {
   "cell_type": "code",
   "execution_count": 5,
   "metadata": {},
   "outputs": [],
   "source": [
    "i3d_rgb = I3D(num_classes=400, modality='rgb').to(device)"
   ]
  },
  {
   "cell_type": "code",
   "execution_count": 6,
   "metadata": {},
   "outputs": [],
   "source": [
    "i3d_rgb.eval()\n",
    "i3d_rgb.load_state_dict(torch.load(rgb_pt_checkpoint))"
   ]
  },
  {
   "cell_type": "code",
   "execution_count": 7,
   "metadata": {},
   "outputs": [],
   "source": [
    "rgb_sample = np.load('data/kinetic-samples/v_CricketShot_g04_c01_rgb.npy').transpose(0, 4, 1, 2, 3)"
   ]
  },
  {
   "cell_type": "code",
   "execution_count": 8,
   "metadata": {},
   "outputs": [
    {
     "name": "stdout",
     "output_type": "stream",
     "text": [
      "torch.Size([1, 3, 79, 224, 224])\n",
      "torch.Size([1, 1024])\n"
     ]
    }
   ],
   "source": [
    "sample_var = torch.autograd.Variable(torch.from_numpy(rgb_sample)).to(device)\n",
    "print(sample_var.shape)\n",
    "out_var, out_logit = i3d_rgb(sample_var)\n",
    "print(out_var.shape)\n",
    "out_tensor = out_var.data.cpu()"
   ]
  },
  {
   "cell_type": "markdown",
   "metadata": {},
   "source": [
    "## Good to go, now test on sample data! "
   ]
  },
  {
   "cell_type": "markdown",
   "metadata": {},
   "source": [
    "### Extract i3d features\n",
    "\n",
    "To be able to run this step:\n",
    "1. Download the Kinetics dataset -> download.py\n",
    "2. Extract the frames by ffmpeg -> extract_frames.py\n",
    "3. Preprocess the frames and create npy files ->read_frames.py"
   ]
  },
  {
   "cell_type": "code",
   "execution_count": 15,
   "metadata": {},
   "outputs": [
    {
     "name": "stdout",
     "output_type": "stream",
     "text": [
      "shape now: torch.Size([1, 3, 52, 224, 224])\n",
      "torch.Size([1, 3, 52, 224, 224])\n",
      "torch.Size([1, 1024])\n"
     ]
    }
   ],
   "source": [
    "rgb_sample = np.load(\"../ActivityNet/Crawler/Kinetics/mini_data_frames_rgb/abseiling__aQSjArgAqA_000123_000133.npy\")\n",
    "sample = torch.from_numpy(rgb_sample).unsqueeze(0)\n",
    "print(\"shape now:\", sample.shape)\n",
    "sample_var = torch.autograd.Variable(sample).to(device)\n",
    "print(sample_var.shape)\n",
    "out_var, _ = i3d_rgb(sample_var)\n",
    "print(out_var.shape)\n",
    "out_tensor = out_var.data.cpu()"
   ]
  },
  {
   "cell_type": "code",
   "execution_count": 16,
   "metadata": {},
   "outputs": [],
   "source": [
    "sample_var = sample_var[:, :, :10, :, :]"
   ]
  },
  {
   "cell_type": "code",
   "execution_count": 17,
   "metadata": {},
   "outputs": [
    {
     "data": {
      "text/plain": [
       "(tensor([[0.1054, 0.0502, 0.1034,  ..., 0.1667, 0.0000, 0.0544]],\n",
       "        device='cuda:0', grad_fn=<MeanBackward0>),\n",
       " tensor([[0.1054, 0.0502, 0.1034,  ..., 0.1667, 0.0000, 0.0544]],\n",
       "        device='cuda:0', grad_fn=<MeanBackward0>))"
      ]
     },
     "execution_count": 17,
     "metadata": {},
     "output_type": "execute_result"
    }
   ],
   "source": [
    "i3d_rgb(sample_var)"
   ]
  },
  {
   "cell_type": "code",
   "execution_count": 9,
   "metadata": {},
   "outputs": [],
   "source": [
    "frame_dir = \"../ActivityNet/Crawler/Kinetics/mini_data_frames_rgb/\""
   ]
  },
  {
   "cell_type": "code",
   "execution_count": null,
   "metadata": {},
   "outputs": [],
   "source": [
    "for dirpath, dirs, files in os.walk(frame_dir):\n",
    "    for filename in fnmatch.filter(files, '*.npy'):\n",
    "        print(filename)"
   ]
  },
  {
   "cell_type": "code",
   "execution_count": 18,
   "metadata": {},
   "outputs": [],
   "source": [
    "vid_features = {}\n",
    "vid_ids = []\n",
    "for dirpath, dirs, files in os.walk(frame_dir):\n",
    "    for filename in fnmatch.filter(files, '*.npy'):\n",
    "        rgb_sample = np.load(dirpath+filename)\n",
    "        sample = torch.from_numpy(rgb_sample).unsqueeze(0)\n",
    "        if sample.shape[2] > 10: # should be bigger than the kernel size \n",
    "            vid_ids.append(filename)\n",
    "            sample_var = torch.autograd.Variable(sample).to(device)\n",
    "            try:\n",
    "                out_var, _ = i3d_rgb(sample_var)\n",
    "            except Exception as e: \n",
    "                print(\"error: \", e)\n",
    "                print(\"   shape: \", sample_var.shape)\n",
    "            vid_features[filename] = out_var.data.cpu().numpy()"
   ]
  },
  {
   "cell_type": "markdown",
   "metadata": {},
   "source": [
    "### Extract word features"
   ]
  },
  {
   "cell_type": "code",
   "execution_count": 200,
   "metadata": {},
   "outputs": [],
   "source": [
    "from argparse import ArgumentParser\n",
    "import glob\n",
    "import json\n",
    "import os\n",
    "import numpy as np\n",
    "import torch\n",
    "import re\n",
    "import sys\n",
    "import array"
   ]
  },
  {
   "cell_type": "code",
   "execution_count": 214,
   "metadata": {},
   "outputs": [
    {
     "name": "stdout",
     "output_type": "stream",
     "text": [
      "Loading Glove Model\n",
      "Done. 400000  words loaded!\n"
     ]
    }
   ],
   "source": [
    "vectors = array.array('d')\n",
    "print(\"Loading Glove Model\")\n",
    "gloveFile = '../glove.6B.300d.txt'\n",
    "f = open(gloveFile, 'r', encoding=\"utf-8\")\n",
    "dct = {}\n",
    "glove_model = {}\n",
    "for i, line in enumerate(f):\n",
    "    splitLine = line.split()\n",
    "    word = splitLine[0]\n",
    "    entries = splitLine[1:]\n",
    "    embedding = np.array([float(val) for val in entries], dtype=np.float32)\n",
    "    glove_model[word] = embedding\n",
    "    dct[word] = i\n",
    "    vectors.extend(float(x) for x in entries)\n",
    "\n",
    "print(\"Done.\", len(glove_model), \" words loaded!\")\n",
    "#return model"
   ]
  },
  {
   "cell_type": "code",
   "execution_count": 206,
   "metadata": {},
   "outputs": [
    {
     "name": "stdout",
     "output_type": "stream",
     "text": [
      "Loading Glove Model\n",
      "Done. 400000  words loaded!\n"
     ]
    }
   ],
   "source": [
    "#glove_model = loadGloveModel()"
   ]
  },
  {
   "cell_type": "code",
   "execution_count": 215,
   "metadata": {},
   "outputs": [],
   "source": [
    "no_components = len(v)\n",
    "no_vectors = len(dct)    \n",
    "no_components = no_components\n",
    "word_vectors = (np.array(vectors).reshape(no_vectors,no_components))\n",
    "word_biases = np.zeros(no_vectors)\n",
    "items_iterator = dct.items()\n",
    "inverse_dictionary = {v: k for k, v in items_iterator}"
   ]
  },
  {
   "cell_type": "code",
   "execution_count": null,
   "metadata": {},
   "outputs": [],
   "source": [
    "glove_model[\"hopscotch\"]"
   ]
  },
  {
   "cell_type": "code",
   "execution_count": 217,
   "metadata": {},
   "outputs": [],
   "source": [
    "def _similarity_query(word_vectors, word_vec, number, inverse_dictionary):\n",
    "    \n",
    "    dst = (np.dot(word_vectors, word_vec)\n",
    "           / np.linalg.norm(word_vectors, axis=1)\n",
    "           / np.linalg.norm(word_vec))\n",
    "    word_ids = np.argsort(-dst)\n",
    "\n",
    "    return [(inverse_dictionary[x], dst[x]) for x in word_ids[:number]\n",
    "            if x in inverse_dictionary]\n",
    "\n",
    "def most_similar(word_vectors, dictionary, word, number=5):\n",
    "    \"\"\"\n",
    "    Run a similarity query, retrieving number\n",
    "    most similar words.\n",
    "    \"\"\"\n",
    "\n",
    "    if self.word_vectors is None:\n",
    "        raise Exception('Model must be fit before querying')\n",
    "\n",
    "    if self.dictionary is None:\n",
    "        raise Exception('No word dictionary supplied')\n",
    "\n",
    "    try:\n",
    "        word_idx = dictionary[word]\n",
    "    except KeyError:\n",
    "        raise Exception('Word not in dictionary')\n",
    "\n",
    "    return _similarity_query(word_vectors, word_vectors[word_idx], number, inverse_dictionary)[1:]"
   ]
  },
  {
   "cell_type": "code",
   "execution_count": 22,
   "metadata": {},
   "outputs": [],
   "source": [
    "# should we use ing words?\n",
    "word_dict = {\n",
    "    'abseiling': glove_model['abseiling'],\n",
    "    'air drumming': glove_model['drumming'],\n",
    "    'answering questions': glove_model['answering'],\n",
    "    'applauding': glove_model['applauding'],\n",
    "    'applying cream': np.average([glove_model['applying'], glove_model['cream']], axis=0), # applying cream?\n",
    "    'archery': glove_model['archery'], \n",
    "    'arm wrestling': np.average([glove_model['wrestling'], glove_model['arm']], axis=0), # arm wrestling\n",
    "    'arranging flowers': np.average([glove_model['arranging'], glove_model['flowers']], axis=0), # arranging flowers\n",
    "    'assembling computer': np.average([glove_model['assembling'], glove_model['computer']], axis=0), # assembling computer\n",
    "    'auctioning': glove_model['auctioning'],\n",
    "    'baby waking up': np.average([glove_model['baby'], glove_model['wakeup']], axis=0), # baby waking up\n",
    "    'baking cookies': np.average([glove_model['baking'], glove_model['cookies']], axis=0), # baking cookies\n",
    "    'balloon blowing': np.average([glove_model['balloon'], glove_model['blowing']], axis=0), \n",
    "    'bandaging': glove_model['bandaging'],\n",
    "    'barbequing': glove_model['barbeque'],\n",
    "    'bartending': glove_model['bartending'],\n",
    "    'beatboxing': glove_model['beatboxing'],\n",
    "    'bee keeping': glove_model['beekeeping'],\n",
    "    'belly dancing': glove_model['bellydance'],\n",
    "    'bench pressing': np.average([glove_model['weight'], glove_model['lifting']], axis=0) \n",
    "}"
   ]
  },
  {
   "cell_type": "markdown",
   "metadata": {},
   "source": [
    "### Split train + test"
   ]
  },
  {
   "cell_type": "code",
   "execution_count": 25,
   "metadata": {},
   "outputs": [
    {
     "name": "stdout",
     "output_type": "stream",
     "text": [
      "Total videos: 785\n",
      "total labels:  20\n"
     ]
    }
   ],
   "source": [
    "print(\"Total videos:\" , len(vid_ids))\n",
    "print(\"total labels: \", len(word_dict.keys()))"
   ]
  },
  {
   "cell_type": "code",
   "execution_count": 34,
   "metadata": {},
   "outputs": [],
   "source": [
    "label_counter = {}\n",
    "for v in vid_ids:\n",
    "    label = v.split('_')[0]\n",
    "    try:\n",
    "        label_counter[label].append(v)\n",
    "    except KeyError:\n",
    "        label_counter[label] = [v]"
   ]
  },
  {
   "cell_type": "code",
   "execution_count": 112,
   "metadata": {},
   "outputs": [],
   "source": [
    "import random\n",
    "train_ids, val_ids, test_ids = [], [], []\n",
    "for k, v in label_counter.items():\n",
    "    p = len(v)* 20 // 100\n",
    "    ind = random.sample(range(len(v)), p)\n",
    "    val_ind = ind[:len(ind)//2]\n",
    "    test_ind = ind[len(ind)//2:]\n",
    "    for i, e in enumerate(v):\n",
    "        if i in test_ind:\n",
    "            test_ids.append(e)\n",
    "        elif i in val_ind:\n",
    "            val_ids.append(e)\n",
    "        else:\n",
    "            train_ids.append(e)"
   ]
  },
  {
   "cell_type": "code",
   "execution_count": 165,
   "metadata": {},
   "outputs": [
    {
     "data": {
      "text/plain": [
       "(639, 68, 78)"
      ]
     },
     "execution_count": 165,
     "metadata": {},
     "output_type": "execute_result"
    }
   ],
   "source": [
    "len(train_ids), len(val_ids), len(test_ids)"
   ]
  },
  {
   "cell_type": "markdown",
   "metadata": {},
   "source": [
    "### Define dataset"
   ]
  },
  {
   "cell_type": "code",
   "execution_count": 387,
   "metadata": {},
   "outputs": [],
   "source": [
    "import torch\n",
    "import torch.nn as nn\n",
    "from torch.autograd import Variable\n",
    "from torch.utils.data import DataLoader, Dataset\n",
    "\n",
    "class MultimodalDataset(Dataset):\n",
    "\n",
    "    def __init__(self, train_ids, vids, words, transform=None):\n",
    "        \"\"\"\n",
    "        Args:\n",
    "            csv_file (string): Path to the csv file with annotations.\n",
    "            root_dir (string): Directory with all the images.\n",
    "            transform (callable, optional): Optional transform to be applied\n",
    "                on a sample.\n",
    "        \"\"\"\n",
    "        self.train_ids = train_ids\n",
    "        self.vids = vids\n",
    "        self.caps = words\n",
    "\n",
    "    def __len__(self):\n",
    "        return len(self.train_ids)\n",
    "\n",
    "    def __getitem__(self, idx):\n",
    "        vid_id = self.train_ids[idx]\n",
    "        vid_feat = self.vids[vid_id]\n",
    "        word_feat = self.caps[vid_id.split('_')[0]]\n",
    "        word_feat = np.expand_dims(word_feat, axis=0)\n",
    "        label = vid_id.split(\"_\")[0]\n",
    "\n",
    "        sample = {'vid_feat': vid_feat, 'word_feat': word_feat, 'label':label}\n",
    "\n",
    "        return sample"
   ]
  },
  {
   "cell_type": "code",
   "execution_count": 388,
   "metadata": {},
   "outputs": [],
   "source": [
    "batch_size = 8\n",
    "train_data = MultimodalDataset(train_ids, vids=vid_features, words=word_dict)\n",
    "val_data = MultimodalDataset(val_ids, vids=vid_features, words=word_dict)\n",
    "test_data = MultimodalDataset(test_ids, vids=vid_features, words=word_dict)\n",
    "dataloader = DataLoader(dataset=train_data, batch_size=batch_size, shuffle=True)\n",
    "dataloader = DataLoader(dataset=train_data, batch_size=batch_size, shuffle=True)\n",
    "dataloaders_dict = {\n",
    "    'train' : DataLoader(dataset=train_data, batch_size=batch_size, shuffle=True),\n",
    "    'val': DataLoader(dataset=val_data, batch_size=batch_size, shuffle=True),\n",
    "    'test': DataLoader(dataset=test_data, batch_size=batch_size, shuffle=True)\n",
    "}"
   ]
  },
  {
   "cell_type": "code",
   "execution_count": 159,
   "metadata": {},
   "outputs": [
    {
     "name": "stdout",
     "output_type": "stream",
     "text": [
      "(1, 1024)\n"
     ]
    }
   ],
   "source": [
    "data_sample = train_data[10]\n",
    "print(data_sample['vid_feat'].shape)\n",
    "word = data_sample['word_feat']"
   ]
  },
  {
   "cell_type": "code",
   "execution_count": 160,
   "metadata": {},
   "outputs": [
    {
     "data": {
      "text/plain": [
       "(1, 1024)"
      ]
     },
     "execution_count": 160,
     "metadata": {},
     "output_type": "execute_result"
    }
   ],
   "source": [
    "test_data[0]['vid_feat'].shape"
   ]
  },
  {
   "cell_type": "markdown",
   "metadata": {},
   "source": [
    "## Define simple model"
   ]
  },
  {
   "cell_type": "code",
   "execution_count": 169,
   "metadata": {},
   "outputs": [],
   "source": [
    "class V2S(torch.nn.Module):\n",
    "\n",
    "    def __init__(self,\n",
    "                 video_dim,\n",
    "                 latent_dim,\n",
    "                 word_dim):\n",
    "        super(V2S, self).__init__()\n",
    "\n",
    "        self.fc1 = nn.Linear(video_dim, word_dim)\n",
    "        #self.fc1 = nn.Linear(video_dim, latent_dim)\n",
    "        #self.fc2 = nn.Linear(latent_dim, latent_dim)\n",
    "        #self.fc3 = nn.Linear(latent_dim, word_dim)\n",
    "\n",
    "    def forward(self, inp):\n",
    "        out = self.fc1(inp)\n",
    "        #out = self.fc2(out)\n",
    "        #out = self.fc3(out)\n",
    "        return out"
   ]
  },
  {
   "cell_type": "code",
   "execution_count": 352,
   "metadata": {},
   "outputs": [],
   "source": [
    "import torch.nn.functional as F\n",
    "\n",
    "# inspired from xu, corso et al\n",
    "class V2S_nonlinear(torch.nn.Module):\n",
    "\n",
    "    def __init__(self,\n",
    "                 video_dim,\n",
    "                 latent_dim,\n",
    "                 word_dim):\n",
    "        super(V2S_nonlinear, self).__init__()\n",
    "\n",
    "        #self.fc1 = nn.Linear(video_dim, word_dim)\n",
    "        self.fc1 = nn.Linear(video_dim, latent_dim)\n",
    "        self.tanh = nn.Tanh()\n",
    "        #self.fc2 = nn.Linear(latent_dim, latent_dim)\n",
    "        self.fc2 = nn.Linear(latent_dim, word_dim)\n",
    "\n",
    "    def forward(self, inp):\n",
    "        out = self.fc1(inp)\n",
    "        out = self.tanh(out)\n",
    "        out = self.fc2(out)\n",
    "        #out = self.fc3(out)\n",
    "        return out"
   ]
  },
  {
   "cell_type": "code",
   "execution_count": 378,
   "metadata": {},
   "outputs": [
    {
     "name": "stdout",
     "output_type": "stream",
     "text": [
      "0.017086035517208716\n",
      "0.012928592369836919\n",
      "0.011981660828870885\n",
      "0.01143557600238744\n",
      "0.011123410042594461\n",
      "0.011064204770852537\n",
      "0.011011489173945259\n",
      "0.010826056384864976\n",
      "0.010884980397189365\n",
      "0.010610780843040523\n",
      "0.010835472384796423\n",
      "0.0105829687022111\n",
      "0.010431058923987782\n",
      "0.010666219517588615\n",
      "0.01042973469285404\n",
      "0.01052871165687547\n",
      "0.010580761686843984\n",
      "0.010636583408888648\n",
      "0.010507959927267888\n",
      "0.010506123413934428\n",
      "Training complete in 2m 57s\n",
      "Best val Acc: 0.000000\n"
     ]
    }
   ],
   "source": [
    "import copy\n",
    "\n",
    "model = V2S(1024, 500, 300).to(device)\n",
    "\n",
    "num_epochs=2000\n",
    "\n",
    "criterion = torch.nn.MSELoss()\n",
    "optimizer = torch.optim.SGD(model.parameters(), lr=0.001, momentum=0.9)\n",
    "\n",
    "\n",
    "import time\n",
    "since = time.time()\n",
    "model.train()\n",
    "\n",
    "val_acc_history = []\n",
    "\n",
    "best_model_wts = copy.deepcopy(model.state_dict())\n",
    "best_loss = 0.0\n",
    "\n",
    "for epoch in range(num_epochs):\n",
    "\n",
    "    for phase in ['train', 'val']:\n",
    "        if phase == 'train':\n",
    "            model.train()  # Set model to training mode\n",
    "        else:\n",
    "            model.eval() \n",
    "        \n",
    "        running_loss = 0.0\n",
    "        running_corrects = 0\n",
    "        optimizer.zero_grad()\n",
    "        \n",
    "        for data in dataloaders_dict[phase]:\n",
    "\n",
    "            video = data[\"vid_feat\"].float().to(device)\n",
    "            word = data[\"word_feat\"].float().to(device)\n",
    "\n",
    "            #print(video.shape)\n",
    "            #print(word.shape)\n",
    "            \n",
    "            with torch.set_grad_enabled(phase == 'train'):\n",
    "                y_pred = model(video)\n",
    "                #print(\"prediction: \", y_pred.shape)\n",
    "                # Compute and print loss\n",
    "                loss = criterion(y_pred, word)\n",
    "\n",
    "                if phase == 'train':\n",
    "                    optimizer.zero_grad()\n",
    "                    loss.backward()\n",
    "                    optimizer.step()\n",
    "                        \n",
    "            running_loss += loss.item() \n",
    "            #print(running_loss)\n",
    "            #running_corrects += torch.sum(preds == labels.data)\n",
    "        epoch_loss = running_loss #/ len(dataloaders_dict[phase].dataset)\n",
    "        #loss = running_loss\n",
    "        if phase == 'val':\n",
    "            if epoch_loss < best_loss:\n",
    "                best_loss = epoch_loss\n",
    "                best_model_wts = copy.deepcopy(model.state_dict())\n",
    "            val_acc_history.append(epoch_loss)\n",
    "            if epoch%100 ==0:\n",
    "                print(epoch_loss)\n",
    "        \n",
    "time_elapsed = time.time() - since\n",
    "print('Training complete in {:.0f}m {:.0f}s'.format(time_elapsed // 60, time_elapsed % 60))\n",
    "print('Best val Acc: {:4f}'.format(best_loss))"
   ]
  },
  {
   "cell_type": "code",
   "execution_count": 379,
   "metadata": {},
   "outputs": [
    {
     "data": {
      "image/png": "[encoded data removed]",
      "text/plain": [
       "<Figure size 432x288 with 1 Axes>"
      ]
     },
     "metadata": {
      "needs_background": "light"
     },
     "output_type": "display_data"
    }
   ],
   "source": [
    "import matplotlib.pyplot as plt\n",
    "\n",
    "plt.plot(val_acc_history)\n",
    "plt.show()"
   ]
  },
  {
   "cell_type": "code",
   "execution_count": 346,
   "metadata": {},
   "outputs": [
    {
     "data": {
      "image/png": "[encoded data removed]",
      "text/plain": [
       "<Figure size 432x288 with 1 Axes>"
      ]
     },
     "metadata": {
      "needs_background": "light"
     },
     "output_type": "display_data"
    }
   ],
   "source": [
    "from copy import deepcopy\n",
    "linear_acc = deepcopy(val_acc_history)\n",
    "plt.plot(linear_acc)\n",
    "plt.show()"
   ]
  },
  {
   "cell_type": "markdown",
   "metadata": {},
   "source": [
    "### Evaluate on test data"
   ]
  },
  {
   "cell_type": "code",
   "execution_count": 380,
   "metadata": {},
   "outputs": [
    {
     "name": "stdout",
     "output_type": "stream",
     "text": [
      "val loss:  0.06829777508974075\n"
     ]
    }
   ],
   "source": [
    "model.eval()\n",
    "\n",
    "test_dataloader = DataLoader(dataset=test_data, batch_size=batch_size, shuffle=True)\n",
    "\n",
    "eval_loss = []\n",
    "\n",
    "for data in test_dataloader:\n",
    "    video = data[\"vid_feat\"].float().to(device)\n",
    "    word = data[\"word_feat\"].float().to(device)\n",
    "\n",
    "    y_pred = model(video)\n",
    "    loss = criterion(y_pred, word)\n",
    "    eval_loss.append(loss.item())\n",
    "    \n",
    "print(\"val loss: \", np.mean(eval_loss))"
   ]
  },
  {
   "cell_type": "markdown",
   "metadata": {},
   "source": [
    "## Check the most similar words"
   ]
  },
  {
   "cell_type": "code",
   "execution_count": 435,
   "metadata": {},
   "outputs": [
    {
     "name": "stdout",
     "output_type": "stream",
     "text": [
      "match! baby\n",
      "val loss:  0.06848313064815906\n",
      "total:  78  and acc:  1\n"
     ]
    }
   ],
   "source": [
    "model.eval()\n",
    "\n",
    "test_dataloader = DataLoader(dataset=test_data, batch_size=1, shuffle=True)\n",
    "\n",
    "eval_loss = []\n",
    "\n",
    "similarities= {}\n",
    "acc = 0\n",
    "c = 0\n",
    "\n",
    "for data in test_dataloader:\n",
    "    video = data[\"vid_feat\"].float().to(device)\n",
    "    word = data[\"word_feat\"].float().to(device)\n",
    "    label = data[\"label\"][0]\n",
    "\n",
    "    y_pred = model(video)\n",
    "    \n",
    "    sample_word = y_pred.cpu().detach().numpy()\n",
    "    sample_word = np.squeeze(np.transpose(sample_word))\n",
    "    #print(\"samp word size:\", label)\n",
    "    sims = _similarity_query(word_vectors, sample_word, 10, inverse_dictionary)[1:]\n",
    "\n",
    "    if label not in similarities:\n",
    "        similarities[label] = [[sims]]\n",
    "    else:\n",
    "        similarities[label].append([sims])\n",
    "    #label = \"\".join(label.split())\n",
    "    #print(label)\n",
    "    sim_words = [word_vals[0] for word_vals in sims]\n",
    "    if check_match(label, sim_words):\n",
    "        acc += 1\n",
    "    c +=1\n",
    "\n",
    "    loss = criterion(y_pred, word)\n",
    "    eval_loss.append(loss.item())\n",
    "    \n",
    "print(\"val loss: \", np.mean(eval_loss))\n",
    "print(\"total: \", c , \" and acc: \", acc)"
   ]
  },
  {
   "cell_type": "code",
   "execution_count": 438,
   "metadata": {},
   "outputs": [
    {
     "name": "stdout",
     "output_type": "stream",
     "text": [
      "total:  78  and acc:  22\n"
     ]
    }
   ],
   "source": [
    "print(\"total: \", c , \" and acc: \", acc)"
   ]
  },
  {
   "cell_type": "code",
   "execution_count": 442,
   "metadata": {},
   "outputs": [],
   "source": [
    "def check_match(key, sim_words):\n",
    "    for w in sim_words:\n",
    "        # Check direct match\n",
    "        if sorted(list(w)) == sorted(list(k)):\n",
    "            print(\"match!\", w)\n",
    "            return True\n",
    "        # Check if any words of key is included in the similarities list\n",
    "        for k_v in k.split(' '):\n",
    "            #if sorted(list(w)) == sorted(list(k_v)):\n",
    "            if str(w) == str(k_v):\n",
    "                print(\"match!\", w)\n",
    "                return True\n",
    "        # Check if concatenation of key is included \n",
    "        k_concat = ''.join(k.split(' '))\n",
    "        if str(w) == str(k):\n",
    "            print(\"match!\", w)\n",
    "            return True\n",
    "    return False"
   ]
  },
  {
   "cell_type": "code",
   "execution_count": 443,
   "metadata": {},
   "outputs": [
    {
     "name": "stdout",
     "output_type": "stream",
     "text": [
      "Key:  bandaging\n",
      "['baking', 'cooking', 'cakes', 'frying', 'butter', 'chocolate', 'cookies', 'honey', 'cheese']\n",
      "['beatboxing', 'archery', 'bellydance', 'sword-fighting', 'applauding', 'clapping', 'butchering', 'horseriding', 'beekeeping']\n",
      "['applauding', 'slapping', 'clapping', 'rubbing', 'weights', 'bandaging', 'auctioning', 'pulling', 'beatboxing']\n",
      "match! bandaging\n",
      "['bandages', 'dirce', 'bandage', 'deboning', 'pomade', 'in-hospital', 'suturing', '77.17', 'musluoglu']\n",
      " =================================================== \n",
      "Key:  belly dancing\n",
      "['beatboxing', 'jiwamol', 'kanoksilp', 'tom.fowler@chron.com', 'bb95', 'el1l', 'technobabble', 'mangxamba', 'pi96']\n",
      "['bartending', 'kusti', 'shadowboxing', 'el1l', 'free-style', 'division-i', 'crampon', 'charlatanism', 'hibachi']\n",
      "['folksiness', 'ländler', 'tifo', 'rennweg', 'shadowboxing', 'overselling', 'enthusiam', 'goldsbury', 'reprocessors']\n",
      "['archery', 'racquetball', 'ritualised', 'gymnastic', 'division-i', 'ländler', 'cardio', 'charlatanism', 'chhau']\n",
      " =================================================== \n",
      "Key:  balloon blowing\n",
      "['baking', 'baby', 'cookies', 'cakes', 'wakeup', 'chocolate', 'cooked', 'cooking', 'cream']\n",
      "['blowing', 'balloons', 'blew', 'blown', 'helium', 'wind', 'cake', 'dust', 'cookies']\n",
      "match! blowing\n",
      "['beatboxing', 'drummers', 'drum', 'drums', 'percussion', 'auctioning', 'riffs', 'solos', 'percussive']\n",
      "['designing', 'cream', 'answering', 'applying', 'arranging', 'experimenting', 'vendors', 'filling', 'decorating']\n",
      " =================================================== \n",
      "Key:  applying cream\n",
      "['chocolate', 'butter', 'cake', 'milk', 'cheese', 'cookies', 'candy', 'filling', 'applying']\n",
      "match! applying\n",
      "['cream', 'butter', 'applying', 'cookies', 'cooking', 'cakes', 'ingredients', 'bread', 'chocolate']\n",
      "match! cream\n",
      "['bartending', 'drumming', 'rapping', 'emoting', 'djing', 'beekeeping', 'dj-ing', 'scat', 'sculpting']\n",
      "['banging', 'clapping', 'blowing', 'soaking', 'rapping', 'pouring', 'drum', 'sucking', 'riffs']\n",
      " =================================================== \n",
      "Key:  arm wrestling\n",
      "['bandaging', 'arm', 'wrestler', 'boxing', 'archery', 'judo', 'weight', 'karate', 'gymnastics']\n",
      "match! arm\n",
      "['beatboxing', 'auctioning', 'drumming', 'clapping', 'grunting', 'miming', 'krumping', 'hooting', 'dirties']\n",
      "['applauding', 'yanking', 'pawning', 'castigating', 'miming', 'critiquing', 'ridiculing', 'gesticulating', 'bemusedly']\n",
      "['wrestling', 'wrestle', 'wrestler', 'weight', 'boxing', 'hand', 'head', 'wrestled', 'wrestlers']\n",
      "match! wrestling\n",
      " =================================================== \n",
      "Key:  air drumming\n",
      "['bartending', 'klezmer', 'djing', 'drummers', 'beatboxing', 'choreographing', 'gigs', 'fiddling', 'rapping']\n",
      "['bartending', 'lifting', 'weights', 'bandaging', 'weight', 'drummers', 'slapping', 'drum', 'sculpting']\n",
      "['drumming', 'beatboxing', 'archery', 'rapping', 'sculpting', 'grunting', 'judo', 'dancing', 'twirling']\n",
      "match! drumming\n",
      "['lifting', 'drum', 'blowing', 'drums', 'percussion', 'dancing', 'pulling', 'banging', 'drummers']\n",
      " =================================================== \n",
      "Key:  bee keeping\n",
      "['beekeeping', 'arboriculture', 'apiary', 'apiculture', 'bbq', 'critiquing', 'levana', 'chitlin', 'kyudo']\n",
      "['barbeque', 'arboriculture', 'beatboxing', 'antiquarianism', 'bee-keeping', 'critiquing', 'apiculture', 'tugluk', 'gunsmithing']\n",
      "['barbeque', 'barbecue', 'archery', 'apiculture', 'barbecuing', 'snowshoeing', 'feasting', 'breadmaking', 'gardening']\n",
      " =================================================== \n",
      "Key:  barbequing\n",
      "['barbecue', 'baking', 'beekeeping', 'barbecues', 'barbecuing', 'bbq', 'assembling', 'grills', 'cooking']\n",
      "['baking', 'barbecue', 'cakes', 'cake', 'bbq', 'cream', 'cookies', 'baked', 'lasagna']\n",
      "['beekeeping', 'barbecue', 'archery', 'bbq', 'barbecuing', 'barbecues', 'feasting', 'fortune-telling', 'woodworking']\n",
      "['beekeeping', 'barbecue', 'bbq', 'barbecuing', 'meatloaf', 'mulching', 'snacking', 'baking', 'feasting']\n",
      " =================================================== \n",
      "Key:  abseiling\n",
      "['rappelling', 'beekeeping', 'breadmaking', 'parachuting', 'birdwatching', 'biking', 'kayaking', 'hillwalking', 'skylarks']\n",
      "['archery', 'abseiling', 'canoeing', 'biking', 'picnicking', 'kayaking', 'birdwatching', 'hobbies', 'horse-riding']\n",
      "match! abseiling\n",
      "['beekeeping', 'rappelling', 'biking', 'troubleshooting', 'woodworking', 'breadmaking', 'woodturning', 'kayaking', 'parachuting']\n",
      "['rappelling', 'climbing', 'kayaking', 'canoeing', 'white-water', 'parachuting', 'archery', 'biking', 'rappel']\n",
      " =================================================== \n",
      "Key:  answering questions\n",
      "['composing', 'lecturing', 'drumming', 'applauding', 'arranging', 'chatting', 'bartending', 'singing', 'communicating']\n",
      "['asking', 'answered', 'applauding', 'talking', 'answer', 'politely', 'telling', 'responding', 'auctioning']\n",
      "['applauding', 'politely', 'chatting', 'answered', 'inquiring', 'greeting', 'thanking', 'conversing', 'talking']\n",
      "['applauding', 'bartending', 'critiquing', 'yanking', 'carping', 'crossdressing', 'beekeeping', 'griping', 'deriding']\n",
      " =================================================== \n",
      "Key:  applauding\n",
      "['applauded', 'applaud', 'thanking', 'cheering', 'sarcastically', 'enthusiastically', 'auctioning', 'saluting', 'lambasting']\n",
      "['flowers', 'massages', 'cream', 'hair', 'pillows', 'scented', 'massage', 'soaking', 'shampoo']\n",
      "['unintelligibly', 'freestyling', 'critiquing', 'excoriating', 'trashing', 'consumer-grade', 'conversing', 'dj-ing', 'videophone']\n",
      "['drumming', 'applauding', 'clapping', 'cheering', 'beekeeping', 'judo', 'hobbies', 'chanting', 'dancing']\n",
      "match! applauding\n",
      " =================================================== \n",
      "Key:  bench pressing\n",
      "['lifting', 'lift', 'weights', 'instead', 'lifted', 'putting', 'while', 'weighing', 'giving']\n",
      "['weight', 'lift', 'weights', 'arm', 'pulling', 'lifted', 'shoulders', 'slapping', 'putting']\n",
      "['lifting', 'lift', 'weights', 'lifted', 'putting', 'pulling', 'weighing', 'shoulders', 'dropping']\n",
      "['weight', 'lift', 'weights', 'lifted', 'heavier', 'sanctions', 'heavy', 'embargo', 'imposed']\n",
      " =================================================== \n",
      "Key:  auctioning\n",
      "['drumming', 'auctioned', 'applauding', 'clapping', 'tossing', 'pawning', 'donating', 'auctions', 'appropriating']\n",
      "['rappelling', 'climbing', 'biking', 'lifting', 'weights', 'hook-and-line', 'bungee', 'dumbbells', 'beatboxing']\n",
      "['applauding', 'auctioned', 'applauded', 'enthusiastically', 'applaud', 'donating', 'thanking', 'cheering', 'saluting']\n",
      "['polishing', 'arranging', 'bartending', 'composing', 'doing', 'bandaging', 'answering', 'picking', 'chores']\n",
      " =================================================== \n",
      "Key:  bartending\n",
      "['beatboxing', 'rapping', 'bartending', 'composing', 'djing', 'singing', 'dancing', 'acrobatics', 'lecturing']\n",
      "match! bartending\n",
      "['beatboxing', 'choreographing', 'digitizing', 'annotating', 'lecturing', 'cataloguing', 'waitressing', 'busily', 'transcribing']\n",
      "['waitressing', 'babysitting', 'bartenders', 'tranquilizers', 'reassignments', 'hairdressing', 'choreographing', 'bartender', 'oratorical']\n",
      "['waitressing', 'babysitting', 'drumming', 'arranging', 'choreographing', 'chauffeuring', 'composing', 'lecturing', 'libations']\n",
      "['waitressing', 'baking', 'brownies', 'cookies', 'bartenders', 'cupcakes', 'babysitting', 'utensil', 'dessert']\n",
      " =================================================== \n",
      "Key:  archery\n",
      "['bandaging', 'abseiling', 'beekeeping', 'archery', 'beatboxing', 'rappelling', 'clapping', 'horseriding', 'tweeting']\n",
      "match! archery\n",
      "['abseiling', 'biking', 'beekeeping', 'rappelling', 'canoeing', 'judo', 'weightlifting', 'gymnastics', 'climbing']\n",
      "['abseiling', 'bellydance', 'canoeing', 'acrobatics', 'horsemanship', 'beatboxing', 'wushu', 'fencing', 'gymnastics']\n",
      "['judo', 'gymnastics', 'weightlifting', 'taekwondo', 'volleyball', 'fencing', 'badminton', 'swimming', 'equestrian']\n",
      " =================================================== \n",
      "Key:  arranging flowers\n",
      "['decorating', 'gardening', 'flowers', 'beekeeping', 'needlework', 'archery', 'calligraphy', 'handicrafts', 'ornaments']\n",
      "match! flowers\n",
      "['arranging', 'cakes', 'cookies', 'baking', 'cake', 'flower', 'dessert', 'cream', 'decorating']\n",
      "match! arranging\n",
      "['flowers', 'flower', 'arrange', 'fruit', 'baking', 'cakes', 'cake', 'decorating', 'bouquets']\n",
      "match! flowers\n",
      " =================================================== \n",
      "Key:  baby waking up\n",
      "['your', 'me', 'mom', 'you', 'kids', 'my', 'yourself', 'babies', 'bag']\n",
      "['wakeup', 'daddy', 'babies', 'drumming', 'mom', 'wake-up', 'mama', 'hey', 'grandma']\n",
      "['cream', 'babies', 'me', 'eating', 'my', 'your', 'eat', 'crying', 'yourself']\n",
      "['wakeup', 'babies', 'girl', 'newborn', 'me', 'boy', 'hug', 'infant', 'woman']\n",
      "['beekeeping', 'beatboxing', 'crossdressing', 'archery', 'wakeup', 'bungee', 'breadmaking', 'rappelling', 'cosplay']\n",
      " =================================================== \n",
      "Key:  assembling computer\n",
      "['computers', 'assembling', 'software', 'computing', 'hardware', 'machines', 'computerized', 'assemble', 'laptop']\n",
      "match! assembling\n",
      "['assembling', 'cataloguing', 'carpentry', 'woodworking', 'polishing', 'perusing', 'busily', 'designing', 'sewing']\n",
      "match! assembling\n",
      "['cookies', 'computers', 'computer', 'assembling', 'cookie', 'gardening', 'cooking', 'answering', 'machines']\n",
      "match! computer\n",
      " =================================================== \n",
      "Key:  baking cookies\n",
      "['cookies', 'cakes', 'butter', 'cookie', 'baked', 'bake', 'cake', 'chocolate', 'breads']\n",
      "match! cookies\n",
      "['baking', 'cookies', 'honey', 'cakes', 'cookie', 'barbeque', 'oatmeal', 'cooking', 'frying']\n",
      "match! baking\n",
      "['wakeup', 'beatboxing', 'wake-up', 'rock-a-bye', 'brylcreem', 'digitizes', '7-pound', 'maarek', 'westclox']\n",
      " =================================================== \n",
      "Key:  beatboxing\n",
      "['bartending', 'clowning', 'beatboxing', 'drumming', 'twirling', 'lophophore', 'horseriding', 'abseiling', 'vaginoplasty']\n",
      "match! beatboxing\n",
      "['answering', 'rapping', 'composing', 'bartending', 'voice-overs', 'texting', 'improvising', 'inane', 'drumming']\n",
      "['drumming', 'mixing', 'rapping', 'synthesizers', 'answering', 'drum', 'riffs', 'kneading', 'synthesizing']\n",
      "['answering', 'beatboxing', 'rapping', 'singing', 'drum', 'voice', 'banging', 'drums', 'clapping']\n",
      "match! beatboxing\n",
      " =================================================== \n"
     ]
    }
   ],
   "source": [
    "for k, v in similarities.items():\n",
    "    print(\"Key: \", k)\n",
    "    for vals in v:\n",
    "        sim_words = [word_vals[0] for word_vals in vals[0]]\n",
    "        print(sim_words)\n",
    "        if check_match(k, sim_words):\n",
    "            acc += 1\n",
    "    print(\" =================================================== \")"
   ]
  },
  {
   "cell_type": "code",
   "execution_count": 422,
   "metadata": {},
   "outputs": [
    {
     "data": {
      "text/plain": [
       "21"
      ]
     },
     "execution_count": 422,
     "metadata": {},
     "output_type": "execute_result"
    }
   ],
   "source": []
  },
  {
   "cell_type": "markdown",
   "metadata": {},
   "source": [
    "## Check a data sample"
   ]
  },
  {
   "cell_type": "code",
   "execution_count": 242,
   "metadata": {},
   "outputs": [
    {
     "name": "stdout",
     "output_type": "stream",
     "text": [
      "real value:  beatboxing_RtJ-HMpBko0_000007_000017.npy\n"
     ]
    }
   ],
   "source": [
    "print(\"real value: \", test_ids[0])"
   ]
  },
  {
   "cell_type": "code",
   "execution_count": 191,
   "metadata": {},
   "outputs": [],
   "source": [
    "test_video = torch.from_numpy(test_data[0][\"vid_feat\"]).float().to(device)\n",
    "test_word = torch.from_numpy(test_data[0][\"word_feat\"]).float().to(device)"
   ]
  },
  {
   "cell_type": "code",
   "execution_count": 360,
   "metadata": {},
   "outputs": [],
   "source": [
    "y_pred = model(test_video)"
   ]
  },
  {
   "cell_type": "code",
   "execution_count": 361,
   "metadata": {},
   "outputs": [],
   "source": [
    "word_vector = y_pred.cpu().detach().numpy()\n",
    "word_vector= np.squeeze(np.transpose(word_vector))"
   ]
  },
  {
   "cell_type": "code",
   "execution_count": 362,
   "metadata": {},
   "outputs": [
    {
     "name": "stdout",
     "output_type": "stream",
     "text": [
      "Closest words to prediction: \n"
     ]
    },
    {
     "data": {
      "text/plain": [
       "[('answering', 0.5228655202193893),\n",
       " ('composing', 0.44707119925323846),\n",
       " ('rapping', 0.4364975261342865),\n",
       " ('drumming', 0.43596508857237204),\n",
       " ('lecturing', 0.421478549577403),\n",
       " ('transcribing', 0.42125910532097677),\n",
       " ('improvising', 0.4190966266291168),\n",
       " ('beekeeping', 0.4182581283745773),\n",
       " ('synthesizing', 0.4066469140534339)]"
      ]
     },
     "execution_count": 362,
     "metadata": {},
     "output_type": "execute_result"
    }
   ],
   "source": [
    "print(\"Closest words to prediction: \")\n",
    "_similarity_query(word_vectors, word_vector, 10, inverse_dictionary)[1:]"
   ]
  },
  {
   "cell_type": "code",
   "execution_count": 239,
   "metadata": {},
   "outputs": [],
   "source": [
    "word_vector_real = test_word.cpu().detach().numpy()\n",
    "word_vector_real = np.squeeze(np.transpose(word_vector_real))"
   ]
  },
  {
   "cell_type": "code",
   "execution_count": 244,
   "metadata": {},
   "outputs": [
    {
     "name": "stdout",
     "output_type": "stream",
     "text": [
      "Closest words to real label\n"
     ]
    },
    {
     "data": {
      "text/plain": [
       "[('beatbox', 0.46125200363933017),\n",
       " ('rapping', 0.4035467694682134),\n",
       " ('microphotography', 0.39153406524065903),\n",
       " ('craniosacral', 0.3775974816350196),\n",
       " ('regulaciones', 0.37598784277196046),\n",
       " ('dj-ing', 0.3747132763941343),\n",
       " ('shito', 0.37439481270025377),\n",
       " ('visualisation', 0.37371987767263243),\n",
       " ('longform', 0.3714321225321916)]"
      ]
     },
     "execution_count": 244,
     "metadata": {},
     "output_type": "execute_result"
    }
   ],
   "source": [
    "print(\"Closest words to real label\")\n",
    "_similarity_query(word_vectors, word_vector_real, 10, inverse_dictionary)[1:]"
   ]
  },
  {
   "cell_type": "markdown",
   "metadata": {},
   "source": [
    "## Unseen class word-embedding"
   ]
  },
  {
   "cell_type": "markdown",
   "metadata": {},
   "source": [
    "### 1. Cricket Shot"
   ]
  },
  {
   "cell_type": "code",
   "execution_count": 444,
   "metadata": {},
   "outputs": [
    {
     "name": "stdout",
     "output_type": "stream",
     "text": [
      "shape now: torch.Size([1, 3, 79, 224, 224])\n"
     ]
    }
   ],
   "source": [
    "sample_path = 'data/kinetic-samples/v_CricketShot_g04_c01_rgb.npy'\n",
    "rgb_sample = np.load(sample_path).transpose(0, 4, 1, 2, 3)\n",
    "sample = torch.from_numpy(rgb_sample)\n",
    "print(\"shape now:\", sample.shape)"
   ]
  },
  {
   "cell_type": "code",
   "execution_count": 445,
   "metadata": {},
   "outputs": [
    {
     "name": "stdout",
     "output_type": "stream",
     "text": [
      "torch.Size([1, 3, 79, 224, 224])\n"
     ]
    }
   ],
   "source": [
    "sample_var = torch.autograd.Variable(sample).to(device)\n",
    "print(sample_var.shape)\n",
    "out_var, _ = i3d_rgb(sample_var)"
   ]
  },
  {
   "cell_type": "code",
   "execution_count": 446,
   "metadata": {},
   "outputs": [
    {
     "data": {
      "text/plain": [
       "torch.Size([1, 1024])"
      ]
     },
     "execution_count": 446,
     "metadata": {},
     "output_type": "execute_result"
    }
   ],
   "source": [
    "out_var.shape"
   ]
  },
  {
   "cell_type": "code",
   "execution_count": 447,
   "metadata": {},
   "outputs": [],
   "source": [
    "sample_mapped = model(out_var)"
   ]
  },
  {
   "cell_type": "code",
   "execution_count": 448,
   "metadata": {},
   "outputs": [],
   "source": [
    "sample_word = sample_mapped.cpu().detach().numpy()\n",
    "sample_word = np.squeeze(np.transpose(sample_word))"
   ]
  },
  {
   "cell_type": "code",
   "execution_count": 449,
   "metadata": {},
   "outputs": [
    {
     "data": {
      "text/plain": [
       "[('cheering', 0.47610855513611694),\n",
       " ('waving', 0.4578801978904351),\n",
       " ('shouting', 0.4318152041499119),\n",
       " ('jumping', 0.4139245687462716),\n",
       " ('blowing', 0.40986755690113463),\n",
       " ('loudly', 0.4072906243583767),\n",
       " ('yelling', 0.40108183295572564),\n",
       " ('waved', 0.3978462672313317),\n",
       " ('clapping', 0.3921057488450472)]"
      ]
     },
     "execution_count": 449,
     "metadata": {},
     "output_type": "execute_result"
    }
   ],
   "source": [
    "_similarity_query(word_vectors, sample_word, 10, inverse_dictionary)[1:]"
   ]
  },
  {
   "cell_type": "markdown",
   "metadata": {},
   "source": [
    "### 2. Drawing samples"
   ]
  },
  {
   "cell_type": "code",
   "execution_count": 458,
   "metadata": {},
   "outputs": [],
   "source": [
    "unseen_frame_dir = \"../ActivityNet/Crawler/Kinetics/unseen_mini_data_frames_rgb/\""
   ]
  },
  {
   "cell_type": "code",
   "execution_count": 459,
   "metadata": {},
   "outputs": [],
   "source": [
    "unseen_vid_features = {}\n",
    "unseen_vid_ids = []\n",
    "for dirpath, dirs, files in os.walk(unseen_frame_dir):\n",
    "    for filename in fnmatch.filter(files, '*.npy'):\n",
    "        rgb_sample = np.load(dirpath+filename)\n",
    "        sample = torch.from_numpy(rgb_sample).unsqueeze(0)\n",
    "        if sample.shape[2] > 10: # should be bigger than the kernel size \n",
    "            unseen_vid_ids.append(filename)\n",
    "            sample_var = torch.autograd.Variable(sample).to(device)\n",
    "            try:\n",
    "                out_var, _ = i3d_rgb(sample_var)\n",
    "            except Exception as e: \n",
    "                print(\"error: \", e)\n",
    "                print(\"   shape: \", sample_var.shape)\n",
    "            unseen_vid_features[filename] = out_var.data.cpu().numpy()"
   ]
  },
  {
   "cell_type": "code",
   "execution_count": 306,
   "metadata": {},
   "outputs": [
    {
     "name": "stdout",
     "output_type": "stream",
     "text": [
      "['drinking', 'beer']\n"
     ]
    }
   ],
   "source": [
    "label = unseen_vid_ids[150].split(\"_\")[0]\n",
    "label = label.split()\n",
    "print(label)"
   ]
  },
  {
   "cell_type": "code",
   "execution_count": 487,
   "metadata": {},
   "outputs": [],
   "source": [
    "unseen_word_dict = {\n",
    "    'drinking shots': np.average([glove_model['drinking'], glove_model['shots']], axis=0),\n",
    "    'digging': glove_model['digging'],\n",
    "    'drinking': glove_model['drinking'],\n",
    "    'drawing': glove_model['drawing'],\n",
    "    'drinking beer': np.average([glove_model['drinking'], glove_model['beer']], axis=0),\n",
    "}"
   ]
  },
  {
   "cell_type": "code",
   "execution_count": 477,
   "metadata": {},
   "outputs": [
    {
     "name": "stdout",
     "output_type": "stream",
     "text": [
      "new label drinking shots \n",
      "\n",
      "new label drawing \n",
      "\n",
      "new label drinking \n",
      "\n",
      "new label drinking beer \n",
      "\n",
      "new label digging \n",
      "\n"
     ]
    }
   ],
   "source": [
    "unseen_similarities= {}\n",
    "\n",
    "unseen_loss=[]\n",
    "\n",
    "for k, v in unseen_vid_features.items():\n",
    "    #print(v.shape)\n",
    "    var = torch.from_numpy(v).float().to(device)\n",
    "    sample_mapped = model(var)\n",
    "    sample_word = sample_mapped.cpu().detach().numpy()\n",
    "    sample_word = np.squeeze(np.transpose(sample_word))\n",
    "    #print(\"samp word size:\", sample_word.shape )\n",
    "    sims = _similarity_query(word_vectors, sample_word, 10, inverse_dictionary)[1:]\n",
    "    \n",
    "    label = k.split(\"_\")[0]\n",
    "    if label not in unseen_similarities:\n",
    "        print(\"new label\", label, \"\\n\")\n",
    "        unseen_similarities[label] = [[sims]]\n",
    "    else:\n",
    "        unseen_similarities[label].append([sims])\n",
    "    \n",
    "    word = unseen_word_dict[label]\n",
    "    word = torch.from_numpy(word).float().to(device)\n",
    "    loss = criterion(y_pred, word)\n",
    "    unseen_loss.append(loss.item())"
   ]
  },
  {
   "cell_type": "code",
   "execution_count": 479,
   "metadata": {},
   "outputs": [
    {
     "data": {
      "text/plain": [
       "5"
      ]
     },
     "execution_count": 479,
     "metadata": {},
     "output_type": "execute_result"
    }
   ],
   "source": [
    "len(unseen_similarities.values())"
   ]
  },
  {
   "cell_type": "code",
   "execution_count": null,
   "metadata": {},
   "outputs": [],
   "source": []
  },
  {
   "cell_type": "code",
   "execution_count": 480,
   "metadata": {},
   "outputs": [
    {
     "name": "stdout",
     "output_type": "stream",
     "text": [
      "Key:  drinking shots\n",
      "['waitressing', 'drumming', 'choreographing', 'babysitting', 'bartenders', 'clowning', 'caddying', 'fiddling', 'lecturing']\n",
      "['singing', 'drummers', 'dancing', 'bartending', 'drum', 'drums', 'rapping', 'guitar', 'percussion']\n",
      "['beatboxing', 'clapping', 'rapping', 'applauding', 'bartending', 'choreographing', 'clowning', 'strumming', 'dancing']\n",
      "['drumming', 'drummers', 'djing', 'capoeira', 'clowning', 'choreographing', 'waitressing', 'dancing', 'strumming']\n",
      "['rappelling', 'biking', 'parachuting', 'blacksmithing', 'wood-carving', 'kayaking', 'woodworking', 'climbing', 'beekeeping']\n",
      "['drumming', 'beatboxing', 'abseiling', 'clowning', 'acrobatics', 'breakdancing', 'capoeira', 'choreographing', 'djing']\n",
      "['bartending', 'mangxamba', 'prolixity', 'djing', 'drumming', 'carcase', 'freestyling', 'tom.fowler@chron.com', 'el1l']\n",
      "['computers', 'computer', 'computerized', 'designing', 'machines', 'sewing', 'equipment', 'bellydance', 'answering']\n",
      "['baking', 'cooking', 'cakes', 'cookies', 'cake', 'barbeque', 'barbecue', 'dessert', 'decorating']\n",
      "['beatboxing', 'beekeeping', 'rapping', 'salsa', 'honey', 'infused', 'drum', 'flavored', 'synthesizers']\n",
      "['bartending', 'rapping', 'clapping', 'dancing', 'beatboxing', 'choreographing', 'barbeque', 'maypole', 'toasting']\n",
      "['bandaging', 'beatboxing', 'drums', 'rapping', 'riffs', 'drummers', 'bartending', 'guitar', 'clowning']\n",
      "['tossing', 'bandaging', 'sculpting', 'cleaning', 'throwing', 'polishing', 'vacuuming', 'placing', 'frying']\n",
      "['cookies', 'dough', 'cake', 'tossing', 'cookie', 'frying', 'cakes', 'cream', 'soda']\n",
      "['waitressing', 'babysitting', 'tranquilizers', 'caddying', 'choreographing', 'bartenders', 'smacking', 'chauffeuring', 'jetting']\n",
      "['abseiling', 'bartending', 'archery', 'barbeque', 'breadmaking', 'biking', 'arboriculture', 'hobbies', 'woodworking']\n",
      "['drumming', 'wrestling', 'waitressing', 'chops', 'babysitting', 'choreographing', 'kickboxing', 'flair', 'muay']\n",
      "['beatboxing', 'drumming', 'dancing', 'rapping', 'tossing', 'banging', 'clapping', 'acrobatics', 'clowning']\n",
      "['abseiling', 'vacuuming', 'assembling', 'busily', 'cataloguing', 'scrubbing', 'disassembling', 'winching', 'auctioning']\n",
      "['beatboxing', 'bartending', 'rapping', 'bellydance', 'clowning', 'djing', 'choreographing', 'acrobatics', 'drummers']\n",
      "['clapping', 'cheering', 'waving', 'drumming', 'dancing', 'clapped', 'enthusiastically', 'chanting', 'waved']\n",
      "['clapping', 'applauding', 'banging', 'beatboxing', 'cheering', 'slapping', 'dancing', 'waving', 'yelling']\n",
      "['assembling', 'waitressing', 'sculpting', 'experimenting', 'djing', 'carpentry', 'pasting', 'sketching', 'digitizing']\n",
      "['answering', 'scrubbing', 'vacuuming', 'drumming', 'bandaging', 'cleaning', 'mixing', 'applying', 'texting']\n",
      "['bartending', 'beatboxing', 'choreographing', 'djing', 'rapping', 'fiddling', 'improvising', 'freestyling', 'composing']\n",
      "['bandaging', 'sculpting', 'drumming', 'beekeeping', 'waitressing', 'snacking', 'sewing', 'pruning', 'carpentry']\n",
      "['cookies', 'filling', 'baking', 'doing', 'cake', 'bartending', 'chocolate', 'applying', 'selling']\n",
      "['weight', 'weights', 'equipment', 'computerized', 'computer', 'assembling', 'computers', 'machines', 'lift']\n",
      "['talking', 'telling', 'greeting', 'politely', 'thanking', 'asking', 'thank', 'reminding', 'answered']\n",
      "['lifting', 'storing', 'dusting', 'baking', 'cleaning', 'scrubbing', 'cooking', 'cookies', 'vacuuming']\n",
      "['bandaging', 'baking', 'applying', 'putting', 'throwing', 'mixing', 'dough', 'cookies', 'cooking']\n",
      "['drumming', 'beekeeping', 'baking', 'cooking', 'cookies', 'needlework', 'sculpting', 'decorating', 'babysitting']\n",
      "['baking', 'beekeeping', 'frying', 'drumming', 'barbeque', 'vegan', 'meatloaf', 'cooking', 'snacking']\n",
      "['drumming', 'beekeeping', 'bartending', 'bellydance', 'gastronomy', 'djing', 'bbq', 'barbecue', 'fortune-telling']\n",
      "['archery', 'judo', 'weightlifting', 'sculpting', 'babysitting', 'powerlifting', 'beekeeping', 'wrestling', 'fencing']\n",
      "['drumming', 'beatboxing', 'djing', 'choreographing', 'rapping', 'capoeira', 'klezmer', 'syndicating', 'fiddling']\n",
      "['beatboxing', 'clowning', 'drumming', 'choreographing', 'capoeira', 'free-style', 'rapping', 'mixology', 'acrobatics']\n",
      "['drumming', 'beatboxing', 'abseiling', 'djing', 'rapping', 'emceeing', 'soloing', 'raschèr', 'sculpting']\n",
      "['auctioning', 'archery', 'clapping', 'beekeeping', 'feasting', 'slapping', 'dancing', 'barbecuing', 'tossing']\n",
      "['archery', 'beekeeping', 'bartending', 'horsemanship', 'breakdancing', 'pankration', 'bellydance', 'bowhunting', 'gymnastic']\n",
      "['beatboxing', 'percussion', 'drums', 'drum', 'guitar', 'banging', 'dancing', 'rapping', 'bandaging']\n",
      "['bartending', 'beatboxing', 'bandaging', 'clowning', 'sculpting', 'rapping', 'choreographing', 'mixing', 'dancing']\n",
      "['drumming', 'beatboxing', 'choreographing', 'clowning', 'rapping', 'djing', 'freestyling', 'toasting', 'capoeira']\n",
      " =================================================== \n",
      "Key:  digging\n",
      "['abseiling', 'judo', 'canoeing', 'taekwondo', 'weightlifting', 'gymnastics', 'biking', 'rowing', 'kayaking']\n",
      "['abseiling', 'archery', 'applauding', 'biking', 'barbeque', 'drumming', 'picnicking', 'rappelling', 'bee-keeping']\n",
      "['archery', 'canoeing', 'rappelling', 'biking', 'kayaking', 'beekeeping', 'judo', 'bungee', 'parachuting']\n",
      "['gardening', 'barbeque', 'answering', 'cataloging', 'perusing', 'photocopying', 'cataloguing', 'vacuuming', 'automating']\n",
      "['beekeeping', 'barbecue', 'workingmen', 'feasting', 'archery', 'apiculture', 'barbecues', 'bbq', 'barbecuing']\n",
      "['archery', 'gardening', 'abseiling', 'barbeque', 'woodworking', 'hobbies', 'quizzing', 'biking', 'snowshoeing']\n",
      "['beekeeping', 'rappelling', 'breadmaking', 'crossdressing', 'antiquarianism', '79.88', 'hosing', 'hillwalking', 'emceeing']\n",
      "['barbeque', 'antiquarianism', 'arboriculture', 'apiculture', 'breadmaking', 'critiquing', 'gunsmithing', 'abseiling', '1969-1975']\n",
      "['barbeque', 'archery', 'abseiling', 'snowshoeing', 'barbecue', 'woodworking', 'philately', 'hobbies', 'gardening']\n",
      "['judo', 'weightlifting', 'beekeeping', 'equestrian', 'recurve', 'billiards', 'canoeing', 'gymnastics', 'fencing']\n",
      "['archery', 'barbeque', 'gardening', 'woodworking', 'abseiling', 'breadmaking', 'hobbies', 'needlework', 'sculpting']\n",
      "['abseiling', 'archery', 'biking', 'barbeque', 'rappelling', 'hobbies', 'kayaking', 'snowshoeing', 'picnicking']\n",
      "['beekeeping', 'barbeque', 'billiards', 'quizzing', 'recurve', 'judo', 'barbecue', 'kyudo', 'barbecuing']\n",
      "['abseiling', 'archery', 'barbeque', 'biking', 'snowshoeing', 'breadmaking', 'arboriculture', 'bee-keeping', 'backpacking']\n",
      "['beekeeping', 'barbecue', 'barbecuing', 'bbq', 'qdoba', 'bellydance', 'archery', 'copla', 'gluten-free']\n",
      "['abseiling', 'swimming', 'judo', 'rowing', 'jumping', 'weightlifting', 'canoeing', 'gymnastics', 'taekwondo']\n",
      "['barbeque', 'archery', 'bbq', 'barbecue', 'bellydance', 'snowshoeing', 'kyudo', 'arboriculture', 'gastronomy']\n",
      "['bartending', 'beekeeping', 'archery', 'quizzing', 'self-improvement', 'rappelling', 'horseriding', 'barbeque', '38.33']\n",
      "['abseiling', 'barbeque', 'breadmaking', 'bee-keeping', 'arboriculture', 'gloxinia', 'copla', 'antiquarianism', 'gastronomy']\n",
      "['barbeque', 'archery', 'apiculture', 'kyudo', 'snowshoeing', 'supernationals', 'abseiling', 'arboriculture', '5-for-13']\n",
      "['drumming', 'barbecue', 'archery', 'bandaging', 'stomping', 'bbq', 'clapping', 'barbecues', 'grills']\n",
      "['beekeeping', 'judo', 'canoeing', 'biking', 'gymnastics', 'weightlifting', 'abseiling', 'kayaking', 'fencing']\n",
      "['fencing', 'judo', 'canoeing', 'gymnastics', 'kayaking', 'abseiling', 'climbing', 'biking', 'taekwondo']\n",
      "['barbeque', 'beekeeping', 'barbecue', 'judo', 'hobbies', 'barbecuing', 'weightlifting', 'billiards', 'barbecues']\n",
      "['beekeeping', 'biking', 'archery', 'kayaking', 'snowshoeing', 'canoeing', 'bartending', 'picnicking', 'hang-gliding']\n",
      "['archery', 'beekeeping', 'drumming', 'breadmaking', 'hobbies', 'emceeing', 'beatboxing', 'rappelling', 'falconry']\n",
      "['beatboxing', 'bartending', 'arboriculture', 'antiquarianism', 'gunsmithing', 'sword-fighting', 'sattriya', 'trampolining', 'bee-keeping']\n",
      "['barbeque', 'abseiling', 'archery', 'snowshoeing', 'biking', 'gardening', 'picnicking', 'kayaking', 'bicycling']\n",
      "['baking', 'archery', 'barbecue', 'cakes', 'cookie', 'cookies', 'frying', 'beekeeping', 'squash']\n",
      "['archery', 'bandaging', 'barbeque', 'sculpting', 'judo', 'biking', 'snowshoeing', 'abseiling', 'sewing']\n",
      "['beatboxing', 'auctioning', 'rapping', 'archery', 'co-hosting', 'freestyling', 'clapping', 'film-making', 'butchering']\n",
      "['beekeeping', 'bbq', 'kyudo', 'apiculture', 'beekeepers', 'barbecue', 'arboriculture', 'cookout', 'workingmen']\n",
      "['archery', 'rappelling', 'canoeing', 'horseriding', 'biking', 'horse-riding', 'kayaking', 'beekeeping', 'kusti']\n",
      "['barbeque', 'abseiling', 'archery', 'drumming', 'applauding', 'hobbies', 'kabaddi', 'woodworking', 'apiary']\n",
      "['abseiling', 'el1l', 'tom.fowler@chron.com', 'pâtisserie', 'beatboxing', 'monechma', 'brett.clanton@chron.com', 'mangxamba', 'pi96']\n",
      "['barbeque', 'archery', 'gardening', 'philately', 'hobbies', 'barbecue', 'woodworking', 'feasting', 'apiculture']\n",
      "['abseiling', 'beatboxing', 'drumming', 'bandaging', 'barbeque', 'sword-fighting', 'antiquarianism', 'arboriculture', 'horseriding']\n",
      "['composing', 'bartending', 'lecturing', 'sewing', 'beekeeping', 'mixing', 'answering', 'sculpting', 'experimenting']\n",
      "['barbeque', 'apiculture', 'kyudo', 'arboriculture', 'snowshoeing', 'breadmaking', 'beekeepers', '1969-1975', 'antiquarianism']\n",
      "['abseiling', 'drumming', 'sculpting', 'carpentry', 'climbing', 'assembling', 'hobbies', 'archery', 'skills']\n",
      "['beekeeping', 'archery', 'snowshoeing', 'kyudo', 'barbecue', 'barbecuing', 'qdoba', 'bbq', '5-for-13']\n",
      "['archery', 'barbeque', 'abseiling', 'bartending', 'arboriculture', 'charreada', '5-for-13', 'bandaging', 'snowshoeing']\n",
      "['archery', 'climbing', 'biking', 'kayaking', 'canoeing', 'swimming', 'fencing', 'gymnastics', 'competitions']\n",
      "['archery', 'barbeque', 'applauding', 'judo', 'billiards', 'softball', 'apiculture', 'gardening', 'abseiling']\n",
      "['beekeeping', 'gardening', 'gymnastics', 'badminton', 'recurve', 'judo', 'weightlifting', 'hobbies', 'billiards']\n",
      "['archery', 'rappelling', 'canoeing', 'biking', 'beekeeping', 'charreada', 'hang-gliding', 'horseriding', 'ryhope']\n",
      "['beekeeping', 'barbeque', 'gardening', 'judo', 'abseiling', 'billiards', 'biking', 'canoeing', 'barbecue']\n",
      " =================================================== \n",
      "Key:  drinking\n",
      "['bartending', 'drumming', 'auctioning', 'djing', 'choreographing', 'yanking', 'clowning', 'freestyling', 'prolixity']\n",
      "['baby', 'babies', 'blowing', 'cream', 'loud', 'whistles', 'wake-up', 'concoction', 'ass']\n",
      "['archery', 'lifting', 'tossing', 'judo', 'hoisting', 'slapping', 'weights', 'rubbing', 'weightlifting']\n",
      "['blowing', 'cream', 'gels', 'baby', 'mushrooms', 'skin', 'layering', 'balloons', 'facials']\n",
      "['baby', 'wake-up', 'grandma', 'boomlet', 'toddler', 'toddlers', 'groovy', 'fucking', 'brainy']\n",
      "['bandaging', 'wakeup', 'bellydance', 'granddad', 'drumming', 'bbq', 'scrubbing', 'yodeling', 'grandma']\n",
      "['beatboxing', 'answering', 'wake-up', 'cellphones', 'cellphone', 'prank', 'beepers', 'doorbell', 'bandaging']\n",
      "['baby', 'bandaging', 'wake-up', 'grandma', 'weights', 'mom', '10-pound', 'toddler', 'washing']\n",
      "['balloon', 'blowing', 'tossing', 'sculpting', 'bartending', 'cooking', 'lifting', 'frying', 'dancing']\n",
      "['arm', 'drum', 'pulling', 'dancing', 'doing', 'slapping', 'bandaging', 'juggling', 'throwing']\n",
      "['bandaging', 'applauding', 'reinvesting', 'rubbing', 'yanking', 'rinses', 'patting', 'nodding', 'booing']\n",
      "['beatboxing', 'drumming', 'soda', 'bandaging', 'concoction', 'manicure', 'sculpting', 'pie', 'vacuuming']\n",
      "['abseiling', 'woodworking', 'sewing', 'drumming', 'troubleshooting', 'carpentry', 'assembling', 'needlework', 'bellydance']\n",
      "['drumming', 'bellydance', 'clowning', 'archery', 'twirling', 'sculpting', 'beatboxing', 'microtome', 'yodeling']\n",
      "['baby', 'wakeup', 'vacuuming', 'shampoo', 'vaseline', 'bandages', 'cleaning', 'washing', 'soaking']\n",
      "['baby', 'wakeup', 'grandma', 'mom', 'vacuuming', 'diaper', 'frying', 'shampoo', 'vaseline']\n",
      "['bandaging', 'drumming', 'beekeeping', 'miming', 'clapping', 'antiquarianism', 'urbizo', 'twirling', 'scuffing']\n",
      "['chocolate', 'cake', 'baby', 'pie', 'filling', 'butter', 'candy', 'cakes', 'dish']\n",
      "['barbeque', 'beekeeping', 'vacuuming', 'bartending', 'beeswax', 'deboning', 'mulching', 'vaseline', 'dusting']\n",
      "['babies', 'wakeup', 'mom', 'kids', 'girl', 'newborn', 'eggs', 'boy', 'eat']\n",
      "['clapping', 'dancing', 'bandaging', 'banging', 'drummers', 'drum', 'rapping', 'choreographing', 'beatboxing']\n",
      "['drumming', 'baking', 'frying', 'cookies', 'pans', 'tossing', 'cooking', 'mixing', 'sculpting']\n",
      "['wakeup', 'drumming', 'clapping', 'tourniquet', 'sucking', 'banged', 'muffled', 'rubbing', 'slapping']\n",
      "['answer', 'questions', 'answered', 'answers', 'machine', 'applying', 'your', 'listening', 'doing']\n",
      "['arranging', 'decorating', 'assembling', 'baking', 'cooking', 'gardening', 'drumming', 'composing', 'sculpting']\n",
      "['bandaging', 'bbq', 'barbecue', 'bartending', 'deboning', 'butchering', 'finite-state', 'halftimes', 'impromptu']\n",
      "['babysitting', 'waitressing', 'preschooler', 'grandma', 'babysitter', 'snacking', 'granddad', 'wakeup', 'manicure']\n",
      "['waitressing', 'drumming', 'choreographing', 'sportswriting', 'babysitting', 'caddying', 'sportscasting', 'bartenders', 'djing']\n",
      "['flowers', 'cakes', 'cake', 'baby', 'cookies', 'blowing', 'cooking', 'homemade', 'dishes']\n",
      "['bartending', 'beatboxing', 'rapping', 'auctioning', 'djing', 'beekeeping', 'capoeira', 'film-making', 'drummers']\n",
      "['freestyling', 'auctioning', 'beatbox', 'rapping', 'dj-ing', 'kazoo', 'djing', 'microphotography', 'scrubbing']\n",
      "['applauding', 'abseiling', 'clapping', 'cursing', 'beatboxing', 'drumming', 'answering', 'horsemanship', 'gesticulating']\n",
      "['drumming', 'doing', 'talking', 'singing', 'listening', 'yelling', 'instead', 'microphone', 'loud']\n",
      "['applauding', 'bartending', 'polishing', 'busily', 'donating', 'renting', 'dedicating', 'rearranging', 'lecturing']\n",
      "['bartending', 'auctioning', 'abseiling', 'rappelling', 'drummers', 'capoeira', 'acrobatics', 'lifting', 'djing']\n",
      "['applying', 'butter', 'chocolate', 'cheese', 'honey', 'creams', 'yogurt', 'ingredients', 'eating']\n",
      "['candy', 'baby', 'yourself', 'stuff', 'answering', 'chocolate', 'cake', 'your', 'tossing']\n",
      "['bartending', 'bandaging', 'barbeque', 'beatboxing', 'glovework', 'dmm', 'erdenet', 'yanking', 'vacuuming']\n",
      "['dancing', 'singing', 'drummers', 'composing', 'percussion', 'rapping', 'drum', 'banging', 'clapping']\n",
      "['beatboxing', 'drummers', 'rapping', 'drums', 'riffs', 'strumming', 'drum', 'solos', 'guitar']\n",
      "['rappelling', 'horseriding', 'archery', 'kusti', 'breakdancing', 'bartending', 'biking', 'bellydance', 'woodturning']\n",
      "['singing', 'clapping', 'baby', 'loud', 'flowers', 'crying', 'mom', 'arranging', 'screaming']\n",
      "['tweeting', 'wake-up', 'texting', 'vacuuming', 'sucking', 'answering', 'bellowing', 'incessantly', 'whining']\n",
      " =================================================== \n",
      "Key:  drinking beer\n",
      "['drumming', 'rapping', 'dancing', 'juggling', 'djing', 'composing', 'choreographing', 'sculpting', 'honing']\n",
      "['beatboxing', 'bartending', 'rappelling', 'acrobatics', 'abseiling', 'pawning', 'sculpturing', 'clowning', 'bandaging']\n",
      "['bartending', 'rapping', 'dancing', 'chores', 'juggling', 'beatboxing', 'answering', 'singing', 'doing']\n",
      "['weight', 'putting', 'weights', 'drumming', 'pulling', 'throwing', 'cutting', 'lift', 'doing']\n",
      "['beatboxing', 'mangxamba', 'zety', 'el1l', 'nixing', 'bellydance', 'serializing', 'tom.fowler@chron.com', 'reinvesting']\n",
      "['abseiling', 'rappelling', 'beatbox', 'full-motion', 'antiquarianism', 'bandaging', 'trichloroethane', 'hook-and-line', 'bungee']\n",
      "['drumming', 'rapping', 'drum', 'percussion', 'sounds', 'vocal', 'singing', 'technique', 'drums']\n",
      "['drumming', 'rapping', 'sculpting', 'singing', 'composing', 'mixing', 'experimenting', 'lecturing', 'dancing']\n",
      "['drumming', 'beatboxing', 'archery', 'djing', 'rapping', 'choreographing', 'clowning', 'bandaging', 'juggling']\n",
      "['bartending', 'dancing', 'drummers', 'juggling', 'rapping', 'guitar', 'surfing', 'wrestling', 'babysitting']\n",
      "['dancing', 'baby', 'drum', 'banging', 'loud', 'singing', 'pie', 'guitar', 'kids']\n",
      "['dancing', 'baking', 'cooking', 'singing', 'salsa', 'dance', 'drum', 'decorating', 'dances']\n",
      "['scrubbing', 'tossing', 'rubbing', 'vacuuming', 'gluing', 'schlepping', 'auctioning', 'slicing', 'patting']\n",
      "['bandaging', 'rubbing', 'shaving', 'toasting', 'twirling', 'sculpting', 'straightening', 'clowning', 'yanking']\n",
      "['drumming', 'beekeeping', 'rapping', 'singing', 'tweeting', 'bellowing', 'scat', 'ukulele', 'beatbox']\n",
      "['auctioning', 'clapping', 'banging', 'blasting', 'tossing', 'pulling', 'rapping', 'applauding', 'miming']\n",
      "['cheering', 'applauded', 'loudly', 'crowd', 'applaud', 'cheered', 'clapping', 'waving', 'enthusiastically']\n",
      "['applauding', 'composing', 'clapping', 'chatting', 'lecturing', 'bartending', 'conversing', 'tossing', 'gesturing']\n",
      "['drumming', 'beatboxing', 'improvising', 'reinvesting', 'freestyling', 'voice-overs', 'djing', 'trashcans', 'toasting']\n",
      "['beatboxing', 'wrestling', 'bandaging', 'weight', 'dancing', 'weights', 'arm', 'technique', 'techniques']\n",
      "['bartending', 'wrestling', 'archery', 'beekeeping', 'horseriding', 'bandaging', 'feasting', 'roping', 'sculpting']\n",
      "['beekeeping', 'abseiling', 'mcing', 'bartending', 'antiquarianism', 'turntablism', 'blacksmithing', 'arboriculture', 'dj-ing']\n",
      "['bartending', 'needlework', 'sculpting', 'hobby', 'hobbies', 'quilting', 'drumming', 'carpentry', 'gardening']\n",
      "['bartending', 'bellydance', 'tom.fowler@chron.com', 'mangxamba', 'zety', 'clowning', 'breakdancing', 'el1l', 'choreographing']\n",
      "['applauding', 'bartending', 'saluting', 'tossing', 'digitizing', 'flipping', 'toasting', 'lambasting', 'thanking']\n",
      "['drum', 'drums', 'beatboxing', 'banging', 'punching', 'percussion', 'guitar', 'blowing', 'kicking']\n",
      "['beatboxing', 'bandaging', 'bartending', 'rapping', 'djing', 'choreographing', 'improvising', 'busking', 'sculpting']\n",
      "['beekeeping', 'abseiling', 'gardening', 'archery', 'hobbies', 'sculpting', 'quizzing', 'woodworking', 'breadmaking']\n",
      "['putting', 'bartending', 'doing', 'talking', 'pulling', 'balloon', 'taking', 'instead', 'idea']\n",
      "['auctioning', 'beatboxing', 'sculpting', 'rapping', 'rubbing', 'beekeeping', 'dancing', 'djing', 'scrubbing']\n",
      "['abseiling', 'bartending', 'rapping', 'auctioning', 'autochrome', 'beatbox', 'brownies', 'farmwork', 'synthesizing']\n",
      "['calisthenics', 'acrobatics', 'sculpting', 'beatboxing', 'vacuuming', 'auctioning', 'clowning', 'miming', 'dancing']\n",
      "['judo', 'bartending', 'weightlifting', 'gymnastics', 'hobbies', 'taekwondo', 'canoeing', 'competitions', 'biking']\n",
      "['scrubbing', 'bartenders', 'cookies', 'cooking', 'homework', 'baking', 'vacuuming', 'cakes', 'pizza']\n",
      "['bandaging', 'assembling', 'postproduction', 'dj-ing', 'classwork', '3-d', 'animatronics', 'freestyling', 'disassembling']\n",
      "['talking', 'calling', 'laughing', 'doing', 'loud', 'call', 'telling', 'applauding', 'asking']\n",
      "['beatboxing', 'bartending', 'tossing', 'pulling', 'lifting', 'putting', 'banging', 'percussion', 'dancing']\n",
      "['drumming', 'singing', 'auctioning', 'ringing', 'rapping', 'answered', 'beekeeping', 'archery', 'questions']\n",
      "['beatboxing', 'clapping', 'banging', 'strumming', 'rapping', 'bellowing', 'céilí', 'twirling', 'stomping']\n",
      "['bartending', 'rapping', 'drummers', 'beatboxing', 'dancing', 'djing', 'choreographing', 'improvising', 'singing']\n",
      "['drumming', 'percussion', 'dancing', 'guitar', 'rapping', 'drum', 'bartending', 'singing', 'drums']\n",
      "['waitressing', 'sportswriting', 'bartenders', 'clowning', 'sportscasting', 'beekeeping', 'mangxamba', 'choreographing', 'djing']\n",
      "['waitressing', 'baking', 'barbeque', 'cakes', 'brownies', 'cookies', 'bandaging', 'cupcakes', 'meatloaf']\n",
      " =================================================== \n",
      "Key:  drawing\n",
      "['cream', 'baby', 'dough', 'cooking', 'massage', 'bandages', 'butter', 'snack', 'chocolate']\n",
      "['baking', 'instead', 'doing', 'talking', 'cooking', 'selling', 'cream', 'writing', 'asking']\n",
      "['baking', 'butter', 'archery', 'cooking', 'chocolate', 'pumpkin', 'climbing', 'cakes', 'cookies']\n",
      "['bellydance', 'computer', 'instructions', 'computers', 'phones', 'typing', 'phone', 'cooking', 'dictation']\n",
      "['weight', 'pie', 'me', 'babies', 'mom', 'meal', 'baking', 'bag', 'you']\n",
      "['technique', 'dancing', 'cooking', 'butter', 'baking', 'mixing', 'archery', 'techniques', 'applying']\n",
      "['climbing', 'using', 'jumping', 'applying', 'technique', 'rope', 'techniques', 'weights', 'ropes']\n",
      "['archery', 'drumming', 'dancing', 'karate', 'listening', 'singing', 'machine', 'sewing', 'doing']\n",
      "['assembling', 'simple', 'dish', 'baking', 'computer', 'phones', 'answering', 'uses', 'dishes']\n",
      "['cream', 'cooking', 'baking', 'cookies', 'cooked', 'cakes', 'dish', 'carrots', 'dessert']\n",
      "['baking', 'butter', 'chocolate', 'cookies', 'cheese', 'cooking', 'ingredients', 'cake', 'fruit']\n",
      "['baking', 'butter', 'chocolate', 'cookies', 'cake', 'cheese', 'cookie', 'cakes', 'dough']\n",
      "['cooking', 'baking', 'using', 'designing', 'technique', 'skills', 'specialized', 'equipment', 'tools']\n",
      "['cream', 'butter', 'cooking', 'dessert', 'honey', 'chocolate', 'archery', 'cakes', 'cake']\n",
      "['instead', 'technique', 'hand', 'cream', 'doing', 'simple', 'techniques', 'used', 'me']\n",
      "['bandaging', 'eating', 'sculpting', 'pushups', 'dough', 'baking', 'frying', 'vaseline', 'soda']\n",
      "['simple', 'making', 'computer', 'cream', 'use', 'you', 'like', 'doing', 'instead']\n",
      "['cooking', 'gardening', 'baby', 'grandma', 'karate', 'beekeeping', 'cream', 'eating', 'sculpting']\n",
      "['cream', 'using', 'plastic', 'putting', 'your', 'instead', 'arm', 'them', 'doing']\n",
      "['beekeeping', 'bandaging', 'sewing', 'abseiling', 'weight-lifting', 'carpentry', 'weights', 'socializing', 'crocheting']\n",
      "['asking', 'instead', 'talking', 'questions', 'doing', 'answer', 'telling', 'turning', 'answered']\n",
      "['rappelling', 'bandaging', 'beatboxing', 'techniques', 'tools', 'climbing', 'technique', 'applying', 'involves']\n",
      "['clapping', 'dancing', 'rapping', 'drummers', 'banging', 'singing', 'bartending', 'drum', 'yelling']\n",
      "['cooking', 'butter', 'ingredients', 'mixing', 'technique', 'techniques', 'using', 'chocolate', 'combine']\n",
      "['abseiling', 'bandaging', 'ventriloquism', 'rapping', 'rappelling', 'clowning', 'drumming', 'calisthenics', 'sculpting']\n",
      "['cooking', 'baking', 'cream', 'swimming', 'gymnastics', 'competitions', 'judo', 'butter', 'squash']\n",
      "['beekeeping', 'cream', 'barbeque', 'barbecue', 'sculpting', 'cooking', 'karate', 'snowboarding', 'judo']\n",
      "['auctioning', 'asking', 'greeting', 'applauding', 'chatting', 'autographs', 'talking', 'arranging', 'inviting']\n",
      "['gardening', 'bellydance', 'arranging', 'dancing', 'baking', 'decorating', 'greeting', 'singing', 'composing']\n",
      "['baking', 'butter', 'chocolate', 'cooking', 'ingredients', 'cookies', 'cakes', 'dough', 'cake']\n",
      " =================================================== \n"
     ]
    }
   ],
   "source": [
    "acc = 0\n",
    "c = 0\n",
    "for k, v in unseen_similarities.items():\n",
    "    print(\"Key: \", k)\n",
    "    c +=1\n",
    "    for vals in v:\n",
    "        sim_words = [word_vals[0] for word_vals in vals[0]]\n",
    "        print(sim_words)\n",
    "        if check_match(k, sim_words):\n",
    "            acc += 1\n",
    "    print(\" =================================================== \")"
   ]
  },
  {
   "cell_type": "code",
   "execution_count": null,
   "metadata": {},
   "outputs": [],
   "source": []
  }
 ],
 "metadata": {
  "kernelspec": {
   "display_name": "Python 3",
   "language": "python",
   "name": "python3"
  },
  "language_info": {
   "codemirror_mode": {
    "name": "ipython",
    "version": 3
   },
   "file_extension": ".py",
   "mimetype": "text/x-python",
   "name": "python",
   "nbconvert_exporter": "python",
   "pygments_lexer": "ipython3",
   "version": "3.5.2"
  }
 },
 "nbformat": 4,
 "nbformat_minor": 2
}
