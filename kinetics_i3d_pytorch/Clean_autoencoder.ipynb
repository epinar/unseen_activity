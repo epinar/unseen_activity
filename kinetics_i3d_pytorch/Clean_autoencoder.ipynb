{
 "cells": [
  {
   "cell_type": "code",
   "execution_count": 1,
   "metadata": {},
   "outputs": [],
   "source": [
    "import argparse\n",
    "\n",
    "import numpy as np\n",
    "import torch\n",
    "import torch.nn as nn\n",
    "import fnmatch\n",
    "import os"
   ]
  },
  {
   "cell_type": "markdown",
   "metadata": {},
   "source": [
    "### Define dataset"
   ]
  },
  {
   "cell_type": "code",
   "execution_count": 2,
   "metadata": {},
   "outputs": [],
   "source": [
    "def readDATA(fileDir, vis=False):\n",
    "    words,vectors = [], []\n",
    "    with open(fileDir) as infile: # wherever you store the vectors\n",
    "        for line in infile:\n",
    "            line = line.strip()\n",
    "            line = line.split(\",\")\n",
    "            words.append(line[0])\n",
    "            vect = line[1:len(line)]\n",
    "            vect = [float(t) for t in vect]\n",
    "            #if vis:\n",
    "            #    vect = np.expand_dims(vect, axis=0)\n",
    "            vectors.append(vect)\n",
    "        vectors = np.array(vectors)\n",
    "    return words, vectors"
   ]
  },
  {
   "cell_type": "code",
   "execution_count": 3,
   "metadata": {},
   "outputs": [],
   "source": [
    "lb_ts, EMB_ts_vis = readDATA('iaprtc/TS_vis_vgg128.csv', True)\n",
    "_, EMB_ts_lang = readDATA('iaprtc/TS_lang_biGRU.csv')\n",
    "lb_tr, EMB_tr_vis = readDATA('iaprtc/TR_vis_vgg128.csv', True)\n",
    "_, EMB_tr_lang = readDATA('iaprtc/TR_lang_biGRU.csv')"
   ]
  },
  {
   "cell_type": "code",
   "execution_count": 4,
   "metadata": {},
   "outputs": [
    {
     "data": {
      "text/plain": [
       "(1962, 1962, 1962, 17665)"
      ]
     },
     "execution_count": 4,
     "metadata": {},
     "output_type": "execute_result"
    }
   ],
   "source": [
    "len(lb_ts), len(EMB_ts_vis), len(EMB_ts_lang), len(lb_tr)"
   ]
  },
  {
   "cell_type": "code",
   "execution_count": 5,
   "metadata": {},
   "outputs": [
    {
     "data": {
      "text/plain": [
       "(1962, 128)"
      ]
     },
     "execution_count": 5,
     "metadata": {},
     "output_type": "execute_result"
    }
   ],
   "source": [
    "EMB_ts_vis.shape"
   ]
  },
  {
   "cell_type": "code",
   "execution_count": 6,
   "metadata": {},
   "outputs": [],
   "source": [
    "import torch\n",
    "import torch.nn as nn\n",
    "from torch.autograd import Variable\n",
    "from torch.utils.data import DataLoader, Dataset\n",
    "\n",
    "class MultimodalDataset(Dataset):\n",
    "\n",
    "    def __init__(self, vids, words, transform=None):\n",
    "        \"\"\"\n",
    "        Args:\n",
    "            csv_file (string): Path to the csv file with annotations.\n",
    "            root_dir (string): Directory with all the images.\n",
    "            transform (callable, optional): Optional transform to be applied\n",
    "                on a sample.\n",
    "        \"\"\"\n",
    "        self.vids = vids\n",
    "        self.caps = words\n",
    "\n",
    "    def __len__(self):\n",
    "        return len(self.vids)\n",
    "\n",
    "    def __getitem__(self, idx):\n",
    "        vid_feat = self.vids[idx]\n",
    "        word_feat = self.caps[idx]\n",
    "\n",
    "        sample = {'vid_feat': vid_feat, 'word_feat': word_feat}\n",
    "\n",
    "        return sample"
   ]
  },
  {
   "cell_type": "markdown",
   "metadata": {},
   "source": [
    "### Define autoencoder"
   ]
  },
  {
   "cell_type": "code",
   "execution_count": 123,
   "metadata": {},
   "outputs": [],
   "source": [
    "class VideoEncoder(torch.nn.Module):\n",
    "\n",
    "    def __init__(self,\n",
    "                 C,\n",
    "                 N,\n",
    "                 num_feats,\n",
    "                 drop_out):\n",
    "        super(VideoEncoder, self).__init__()\n",
    "\n",
    "        self.C = C\n",
    "        self.N = N\n",
    "        self.num_feats = num_feats\n",
    "        mid = int((N+C)/2)\n",
    "        \n",
    "        self.fc = nn.Sequential(\n",
    "            nn.Linear(num_feats, C),\n",
    "            nn.ReLU(),\n",
    "            nn.Dropout(drop_out),\n",
    "            nn.Linear(C, mid),\n",
    "            nn.ReLU(),\n",
    "            nn.Dropout(drop_out),\n",
    "            nn.Linear(mid, N)\n",
    "        )     \n",
    "\n",
    "    def forward(self, inp):\n",
    "        out = self.fc(inp)\n",
    "        return out\n",
    "    \n",
    "class VideoDecoder(torch.nn.Module):\n",
    "\n",
    "    def __init__(self,\n",
    "                 C,\n",
    "                 N,\n",
    "                 num_feats,\n",
    "                 drop_out):\n",
    "        super(VideoDecoder, self).__init__()\n",
    "\n",
    "        self.C = C\n",
    "        self.N = N\n",
    "        self.num_feats = num_feats\n",
    "        mid = int((num_feats+C)/2)\n",
    "        \n",
    "        self.fc = nn.Sequential(\n",
    "            nn.Linear(N, C),\n",
    "            nn.ReLU(),\n",
    "            nn.Dropout(drop_out),\n",
    "            nn.Linear(C, mid),\n",
    "            nn.ReLU(),\n",
    "            nn.Dropout(drop_out),\n",
    "            nn.Linear(mid, num_feats)\n",
    "        )  \n",
    "        \n",
    "    def forward(self, inp):\n",
    "        out = self.fc(inp)\n",
    "        return out\n",
    "    \n",
    "class WordEncoder(torch.nn.Module):\n",
    "\n",
    "    def __init__(self,\n",
    "                 L,\n",
    "                 N,\n",
    "                 num_feats,\n",
    "                 drop_out):\n",
    "        super(WordEncoder, self).__init__()\n",
    "\n",
    "        self.L = L\n",
    "        self.N = N\n",
    "        self.num_feats = num_feats\n",
    "        mid = int((L+N)/2)\n",
    "        \n",
    "        self.fc = nn.Sequential(\n",
    "            nn.Linear(num_feats, L),\n",
    "            nn.ReLU(),\n",
    "            nn.Dropout(drop_out),\n",
    "            nn.Linear(L, mid),\n",
    "            nn.ReLU(),\n",
    "            nn.Dropout(drop_out),\n",
    "            nn.Linear(mid, N)\n",
    "        )\n",
    "\n",
    "    def forward(self, inp):\n",
    "        out = self.fc(inp)\n",
    "        return out\n",
    "    \n",
    "class WordDecoder(torch.nn.Module):\n",
    "\n",
    "    def __init__(self,\n",
    "                 L,\n",
    "                 N,\n",
    "                 num_feats,\n",
    "                 drop_out):\n",
    "        super(WordDecoder, self).__init__()\n",
    "\n",
    "        self.L = L\n",
    "        self.N = N\n",
    "        self.num_feats = num_feats\n",
    "        mid = int((L+num_feats)/2)\n",
    "        self.fc = nn.Sequential(\n",
    "            nn.Linear(N, L),\n",
    "            nn.ReLU(),\n",
    "            nn.Dropout(drop_out),\n",
    "            nn.Linear(L, mid),\n",
    "            nn.ReLU(),\n",
    "            nn.Dropout(drop_out),\n",
    "            nn.Linear(mid, num_feats)\n",
    "        )\n",
    "\n",
    "    def forward(self, inp):\n",
    "        out = self.fc(inp)\n",
    "        return out"
   ]
  },
  {
   "cell_type": "markdown",
   "metadata": {},
   "source": [
    "### Define parameters"
   ]
  },
  {
   "cell_type": "code",
   "execution_count": 314,
   "metadata": {},
   "outputs": [
    {
     "name": "stdout",
     "output_type": "stream",
     "text": [
      "Video autoencoder::: \n",
      "Word autoencoder::: \n"
     ]
    }
   ],
   "source": [
    "num_epochs = 100\n",
    "batch_size = 2048\n",
    "learning_rate = 1e-5\n",
    "weight_decay = 1e-5\n",
    "drop_out = 0.5\n",
    "\n",
    "C = 64 # mid bottleneck for video\n",
    "N = 64 # representation dim\n",
    "V = 128 # feature vector size for vgg\n",
    "L = 64 # mid bottleneck for text\n",
    "D = 64 # gru feature size \n",
    "\n",
    "train_data = MultimodalDataset(vids=EMB_tr_vis[:-1962], words=EMB_tr_lang[:-1962])\n",
    "val_data = MultimodalDataset(vids=EMB_tr_vis[-1962:], words=EMB_tr_lang[-1962:])\n",
    "test_data = MultimodalDataset(vids=EMB_ts_vis, words=EMB_ts_lang)\n",
    "dataloaders_dict = {\n",
    "    'train' : DataLoader(dataset=train_data, batch_size=batch_size, shuffle=True),\n",
    "    'val': DataLoader(dataset=val_data, batch_size=batch_size, shuffle=True),\n",
    "    'test': DataLoader(dataset=test_data, batch_size=batch_size, shuffle=True)\n",
    "}\n",
    "\n",
    "print(\"Video autoencoder::: \")\n",
    "enc_vid = VideoEncoder(C=C, N=N, num_feats=V, drop_out=drop_out)\n",
    "dec_vid = VideoDecoder(C=C, N=N, num_feats=V, drop_out=drop_out)\n",
    "\n",
    "print(\"Word autoencoder::: \")\n",
    "enc_word = WordEncoder(L=L, N=N, num_feats=D, drop_out=drop_out)\n",
    "dec_word = WordDecoder(L=L, N=N, num_feats=D, drop_out=drop_out)\n",
    "\n",
    "\n",
    "optim1 = torch.optim.Adam(enc_vid.parameters(), lr=learning_rate, weight_decay = weight_decay)\n",
    "optim2 = torch.optim.Adam(dec_vid.parameters(), lr=learning_rate, weight_decay = weight_decay)\n",
    "optim3 = torch.optim.Adam(enc_word.parameters(), lr=learning_rate, weight_decay = weight_decay)\n",
    "optim4 = torch.optim.Adam(dec_word.parameters(), lr=learning_rate, weight_decay = weight_decay)\n",
    "criterion = nn.MSELoss()"
   ]
  },
  {
   "cell_type": "code",
   "execution_count": 315,
   "metadata": {},
   "outputs": [
    {
     "data": {
      "text/plain": [
       "(1962, 64)"
      ]
     },
     "execution_count": 315,
     "metadata": {},
     "output_type": "execute_result"
    }
   ],
   "source": [
    "EMB_ts_lang.shape"
   ]
  },
  {
   "cell_type": "markdown",
   "metadata": {},
   "source": [
    "## Train the model"
   ]
  },
  {
   "cell_type": "code",
   "execution_count": 316,
   "metadata": {},
   "outputs": [],
   "source": [
    "device = torch.device('cuda:0')\n",
    "enc_vid = enc_vid.to(device)\n",
    "dec_vid = dec_vid.to(device)\n",
    "enc_word = enc_word.to(device)\n",
    "dec_word = dec_word.to(device)"
   ]
  },
  {
   "cell_type": "code",
   "execution_count": 317,
   "metadata": {},
   "outputs": [],
   "source": [
    "enc_vid = nn.DataParallel(enc_vid)\n",
    "dec_vid = nn.DataParallel(dec_vid)\n",
    "enc_word = nn.DataParallel(enc_word)\n",
    "dec_word = nn.DataParallel(dec_word)"
   ]
  },
  {
   "cell_type": "code",
   "execution_count": 318,
   "metadata": {},
   "outputs": [
    {
     "data": {
      "text/plain": [
       "(15703, 1962, 1962)"
      ]
     },
     "execution_count": 318,
     "metadata": {},
     "output_type": "execute_result"
    }
   ],
   "source": [
    "len(dataloaders_dict['train'].dataset), len(dataloaders_dict['val'].dataset), len(dataloaders_dict['test'].dataset)"
   ]
  },
  {
   "cell_type": "code",
   "execution_count": 319,
   "metadata": {},
   "outputs": [
    {
     "name": "stdout",
     "output_type": "stream",
     "text": [
      "DataParallel(\n",
      "  (module): VideoEncoder(\n",
      "    (fc): Sequential(\n",
      "      (0): Linear(in_features=128, out_features=64, bias=True)\n",
      "      (1): ReLU()\n",
      "      (2): Dropout(p=0.5)\n",
      "      (3): Linear(in_features=64, out_features=64, bias=True)\n",
      "      (4): ReLU()\n",
      "      (5): Dropout(p=0.5)\n",
      "      (6): Linear(in_features=64, out_features=64, bias=True)\n",
      "    )\n",
      "  )\n",
      ")\n"
     ]
    }
   ],
   "source": [
    "print(enc_vid)"
   ]
  },
  {
   "cell_type": "markdown",
   "metadata": {},
   "source": [
    "## TRAIN"
   ]
  },
  {
   "cell_type": "code",
   "execution_count": 320,
   "metadata": {},
   "outputs": [
    {
     "name": "stdout",
     "output_type": "stream",
     "text": [
      "epoch [1/200], epoch_loss:104.88525391, l_recons:9.34634209, l_joint:0.10150284, l_rank:0.20571601, l_cross:9.34817505\n",
      "epoch [6/200], epoch_loss:107.00141907, l_recons:9.54281902, l_joint:0.09897341, l_rank:0.20163822, l_cross:9.54422188\n",
      "epoch [11/200], epoch_loss:106.79114532, l_recons:9.52919960, l_joint:0.09674732, l_rank:0.19586298, l_cross:9.53033161\n",
      "epoch [16/200], epoch_loss:103.62257385, l_recons:9.24072456, l_joint:0.09523950, l_rank:0.19644569, l_cross:9.24173927\n",
      "epoch [21/200], epoch_loss:104.59493256, l_recons:9.32517815, l_joint:0.10033169, l_rank:0.20108902, l_cross:9.32588673\n",
      "epoch [26/200], epoch_loss:104.61854553, l_recons:9.32884502, l_joint:0.10641528, l_rank:0.19954963, l_cross:9.32942009\n",
      "epoch [31/200], epoch_loss:103.66427612, l_recons:9.24507523, l_joint:0.11413161, l_rank:0.19640604, l_cross:9.24551392\n",
      "epoch [36/200], epoch_loss:103.54711151, l_recons:9.23183155, l_joint:0.12724289, l_rank:0.19944865, l_cross:9.23207951\n",
      "epoch [41/200], epoch_loss:105.77484131, l_recons:9.43434906, l_joint:0.15043017, l_rank:0.19976717, l_cross:9.43428230\n",
      "epoch [46/200], epoch_loss:103.58956146, l_recons:9.24184799, l_joint:0.17613626, l_rank:0.19306748, l_cross:9.24170399\n",
      "epoch [51/200], epoch_loss:102.45035553, l_recons:9.13380814, l_joint:0.21001771, l_rank:0.19831426, l_cross:9.13334084\n",
      "epoch [56/200], epoch_loss:102.35484314, l_recons:9.12690830, l_joint:0.26788694, l_rank:0.19684562, l_cross:9.12594795\n",
      "epoch [61/200], epoch_loss:100.03066254, l_recons:8.91307545, l_joint:0.32889858, l_rank:0.19994839, l_cross:8.91180992\n",
      "epoch [66/200], epoch_loss:101.05968475, l_recons:9.01030254, l_joint:0.41890723, l_rank:0.19616562, l_cross:9.00877190\n",
      "epoch [71/200], epoch_loss:98.17478943, l_recons:8.74550247, l_joint:0.53941852, l_rank:0.19967118, l_cross:8.74325752\n",
      "epoch [76/200], epoch_loss:96.05126190, l_recons:8.55399990, l_joint:0.67236775, l_rank:0.19823141, l_cross:8.55149460\n",
      "epoch [81/200], epoch_loss:94.21556854, l_recons:8.38697147, l_joint:0.84768486, l_rank:0.19887622, l_cross:8.38398361\n",
      "epoch [86/200], epoch_loss:91.99151611, l_recons:8.18783188, l_joint:1.05629635, l_rank:0.19619825, l_cross:8.18416977\n",
      "epoch [91/200], epoch_loss:87.83029938, l_recons:7.81210136, l_joint:1.25929272, l_rank:0.19413622, l_cross:7.80768347\n",
      "epoch [96/200], epoch_loss:86.11204529, l_recons:7.65720034, l_joint:1.45955157, l_rank:0.19298872, l_cross:7.65249538\n",
      "epoch [101/200], epoch_loss:84.97255707, l_recons:7.54853964, l_joint:1.67982578, l_rank:0.19865485, l_cross:7.54374695\n",
      "epoch [106/200], epoch_loss:83.17725372, l_recons:7.38678837, l_joint:1.81950665, l_rank:0.19714043, l_cross:7.38190603\n",
      "epoch [111/200], epoch_loss:79.42405701, l_recons:7.04756880, l_joint:1.88032174, l_rank:0.19490705, l_cross:7.04274178\n",
      "epoch [116/200], epoch_loss:80.22128296, l_recons:7.11634302, l_joint:1.96748924, l_rank:0.19875845, l_cross:7.11173534\n",
      "epoch [121/200], epoch_loss:79.80639648, l_recons:7.07952309, l_joint:2.04121375, l_rank:0.19794983, l_cross:7.07473755\n",
      "epoch [126/200], epoch_loss:78.74731445, l_recons:6.98356915, l_joint:2.06457329, l_rank:0.19770126, l_cross:6.97867346\n",
      "epoch [131/200], epoch_loss:75.87574005, l_recons:6.72189140, l_joint:2.02616692, l_rank:0.19814688, l_cross:6.71723747\n",
      "epoch [136/200], epoch_loss:76.01106262, l_recons:6.73547506, l_joint:2.06779552, l_rank:0.19698118, l_cross:6.73057795\n",
      "epoch [141/200], epoch_loss:74.62386322, l_recons:6.60755825, l_joint:2.05388045, l_rank:0.19878447, l_cross:6.60284615\n",
      "epoch [146/200], epoch_loss:74.82503510, l_recons:6.62750196, l_joint:2.07087922, l_rank:0.19725905, l_cross:6.62249470\n",
      "epoch [151/200], epoch_loss:76.16468811, l_recons:6.74852753, l_joint:2.11256099, l_rank:0.19826339, l_cross:6.74335241\n",
      "epoch [156/200], epoch_loss:74.12986755, l_recons:6.56402969, l_joint:2.04841900, l_rank:0.19796257, l_cross:6.55862141\n",
      "epoch [161/200], epoch_loss:71.48076630, l_recons:6.32424641, l_joint:2.01205754, l_rank:0.19685042, l_cross:6.31880140\n",
      "epoch [166/200], epoch_loss:71.71978760, l_recons:6.34472418, l_joint:2.00580621, l_rank:0.19856693, l_cross:6.33893967\n",
      "epoch [171/200], epoch_loss:73.46046448, l_recons:6.50418234, l_joint:2.05837417, l_rank:0.19730014, l_cross:6.49832821\n",
      "epoch [176/200], epoch_loss:70.44715118, l_recons:6.22871447, l_joint:1.97258508, l_rank:0.19932686, l_cross:6.22251701\n",
      "epoch [181/200], epoch_loss:71.93341064, l_recons:6.36502361, l_joint:1.98147190, l_rank:0.19816348, l_cross:6.35867500\n",
      "epoch [186/200], epoch_loss:70.34024048, l_recons:6.22140074, l_joint:1.93757463, l_rank:0.19714470, l_cross:6.21473932\n",
      "epoch [191/200], epoch_loss:71.98159790, l_recons:6.36958742, l_joint:1.93549144, l_rank:0.19848207, l_cross:6.36271906\n",
      "epoch [196/200], epoch_loss:69.15544128, l_recons:6.11221552, l_joint:1.90213823, l_rank:0.19892581, l_cross:6.10539675\n",
      "Training complete in 2m 6s\n",
      "Best val Acc: 69.155441\n"
     ]
    }
   ],
   "source": [
    "import time\n",
    "import copy\n",
    "\n",
    "since = time.time()\n",
    "\n",
    "train_acc_history = []\n",
    "val_acc_history = []\n",
    "\n",
    "best_enc_vid = VideoEncoder(C=C, N=N, num_feats=V, drop_out=drop_out)\n",
    "best_dec_vid = VideoDecoder(C=C, N=N, num_feats=V, drop_out=drop_out)\n",
    "best_enc_word = WordEncoder(L=L, N=N, num_feats=D, drop_out=drop_out)\n",
    "best_dec_word = WordDecoder(L=L, N=N, num_feats=D, drop_out=drop_out)\n",
    "\n",
    "\n",
    "best_loss = 1000000.0\n",
    "\n",
    "num_epochs=200\n",
    "\n",
    "\n",
    "\n",
    "for epoch in range(num_epochs):\n",
    "\n",
    "    for phase in ['train', 'val']:\n",
    "        if phase == 'train':\n",
    "            # Set model to training mode\n",
    "            enc_vid.train()\n",
    "            dec_vid.train()\n",
    "            enc_word.train()\n",
    "            dec_word.train()\n",
    "        else:\n",
    "            enc_vid.eval()\n",
    "            dec_vid.eval()\n",
    "            enc_word.eval()\n",
    "            dec_word.eval()\n",
    "            \n",
    "        running_loss = 0.0\n",
    "        l_recons, l_joint, l_cross = 0.0, 0.0, 0.0\n",
    "        running_l_recons, running_l_joint, running_l_cross = 0.0, 0.0, 0.0\n",
    "        running_l_rank = 0.0\n",
    "        optim1.zero_grad()\n",
    "        optim2.zero_grad()\n",
    "        optim3.zero_grad()\n",
    "        optim4.zero_grad()\n",
    "        \n",
    "        for data in dataloaders_dict[phase]:\n",
    "                        \n",
    "            videos = torch.chunk(data[\"vid_feat\"],2)\n",
    "            words = torch.chunk(data[\"word_feat\"], 2)            \n",
    "        \n",
    "            video = videos[0].float().to(device)\n",
    "            word = words[0].float().to(device)\n",
    "            \n",
    "            video_n = videos[1].float().to(device)\n",
    "            word_n = words[1].float().to(device)\n",
    "            \n",
    "            \n",
    "            with torch.set_grad_enabled(phase == 'train'):\n",
    "                try:\n",
    "                    mid_video = enc_vid(video)\n",
    "                except RuntimeError as err:\n",
    "                    print(video.shape)\n",
    "                    print(\"mid video cannot create: \", err)\n",
    "                    break\n",
    "                out_video = dec_vid(mid_video)\n",
    "                loss1 = criterion(out_video, video)\n",
    "\n",
    "                mid_word = enc_word(word)\n",
    "                out_word = dec_word(mid_word)\n",
    "                loss2 = criterion(out_word, word)\n",
    "\n",
    "                l_recons = loss1+loss2\n",
    "\n",
    "                cos = nn.CosineSimilarity(dim=1, eps=1e-6)\n",
    "                \n",
    "                mid_word_n = enc_word(word_n)\n",
    "                \n",
    "                try:\n",
    "                    sim1 = cos(mid_video, mid_word)\n",
    "                    sim2 = cos(mid_video, mid_word_n)\n",
    "                except:\n",
    "                    break\n",
    "                \n",
    "                \n",
    "                marg_loss = torch.nn.MarginRankingLoss(margin=0.2)\n",
    "                \n",
    "                target = torch.ones(len(sim1)).to(device)\n",
    "                \n",
    "                l_rank_joint = marg_loss(sim1, sim2, target)\n",
    "                # print(l_rank_joint)\n",
    "                \n",
    "                #output = cos(input1, input2)\n",
    "                \n",
    "                l_joint = criterion(mid_video, mid_word)\n",
    "\n",
    "                cross_words = dec_word(mid_video)\n",
    "                cross_video = dec_vid(mid_video)\n",
    "                l_cross = criterion(cross_words, word) + criterion(cross_video, video)\n",
    "\n",
    "                alpha1, alpha2, alpha3 = 1, 10, 10\n",
    "                loss = alpha1*l_recons + alpha2*l_rank_joint + alpha3*l_cross\n",
    "                \n",
    "                running_loss += loss.item()\n",
    "                running_l_recons += l_recons.item()\n",
    "                running_l_joint += l_joint.item()\n",
    "                running_l_cross += l_cross.item()\n",
    "                running_l_rank += l_rank_joint.item()\n",
    "\n",
    "                if phase == 'train':\n",
    "                    optim1.zero_grad()\n",
    "                    optim2.zero_grad()\n",
    "                    optim3.zero_grad()\n",
    "                    optim4.zero_grad()\n",
    "                    loss.backward()\n",
    "                    optim1.step()\n",
    "                    optim2.step()\n",
    "                    optim3.step()\n",
    "                    optim4.step()\n",
    "            \n",
    "        epoch_loss = running_loss #/ len(dataloaders_dict[phase].dataset)\n",
    "        \n",
    "        if phase == 'train':\n",
    "            train_acc_history.append(epoch_loss)\n",
    "        \n",
    "        #loss = running_loss\n",
    "        if phase == 'val':\n",
    "            if epoch_loss < best_loss:\n",
    "                best_loss = epoch_loss\n",
    "                best_enc_vid = copy.deepcopy(enc_vid.state_dict())\n",
    "                best_dec_vid = copy.deepcopy(dec_vid.state_dict())\n",
    "                best_enc_word = copy.deepcopy(enc_word.state_dict())\n",
    "                best_dec_word = copy.deepcopy(dec_word.state_dict())\n",
    "            val_acc_history.append(epoch_loss)\n",
    "            if epoch%5 ==0:\n",
    "                print('epoch [{}/{}], epoch_loss:{:.8f}, l_recons:{:.8f}, l_joint:{:.8f}, l_rank:{:.8f}, l_cross:{:.8f}'\n",
    "                      .format(epoch + 1, num_epochs, epoch_loss, running_l_recons, running_l_joint, running_l_rank, running_l_cross))\n",
    "        \n",
    "time_elapsed = time.time() - since\n",
    "print('Training complete in {:.0f}m {:.0f}s'.format(time_elapsed // 60, time_elapsed % 60))\n",
    "print('Best val Acc: {:4f}'.format(best_loss))\n",
    "\n",
    "torch.save(enc_vid.state_dict(), './video_encoder.pth')\n",
    "torch.save(dec_vid.state_dict(), './video_decoder.pth')\n",
    "torch.save(enc_word.state_dict(), './word_encoder.pth')\n",
    "torch.save(enc_word.state_dict(), './word_decoder.pth')"
   ]
  },
  {
   "cell_type": "code",
   "execution_count": 321,
   "metadata": {},
   "outputs": [
    {
     "data": {
      "text/plain": [
       "69.15544128417969"
      ]
     },
     "execution_count": 321,
     "metadata": {},
     "output_type": "execute_result"
    }
   ],
   "source": [
    "best_loss"
   ]
  },
  {
   "cell_type": "code",
   "execution_count": 322,
   "metadata": {},
   "outputs": [
    {
     "data": {
      "image/png": "[encoded data removed]",
      "text/plain": [
       "<Figure size 432x288 with 1 Axes>"
      ]
     },
     "metadata": {
      "needs_background": "light"
     },
     "output_type": "display_data"
    }
   ],
   "source": [
    "import matplotlib.pyplot as plt\n",
    "\n",
    "plt.plot(val_acc_history)\n",
    "plt.show()"
   ]
  },
  {
   "cell_type": "code",
   "execution_count": 323,
   "metadata": {},
   "outputs": [
    {
     "data": {
      "image/png": "[encoded data removed]",
      "text/plain": [
       "<Figure size 432x288 with 1 Axes>"
      ]
     },
     "metadata": {
      "needs_background": "light"
     },
     "output_type": "display_data"
    }
   ],
   "source": [
    "plt.plot(train_acc_history)\n",
    "plt.show()"
   ]
  },
  {
   "cell_type": "markdown",
   "metadata": {},
   "source": [
    "### Evaluate on test data"
   ]
  },
  {
   "cell_type": "code",
   "execution_count": 324,
   "metadata": {},
   "outputs": [],
   "source": [
    "enc_vid.eval()\n",
    "dec_vid.eval()\n",
    "enc_word.eval()\n",
    "dec_word.eval()\n",
    "\n",
    "eval_loss = []\n",
    "check_similarities = False\n",
    "test_dataloader = DataLoader(dataset=test_data, batch_size=1, shuffle=True)\n",
    "\n",
    "similarities= {}\n",
    "acc = 0\n",
    "c = 0\n",
    "\n",
    "mNNOs = []\n",
    "\n",
    "torch.set_grad_enabled(False)\n",
    "\n",
    "data_size=(EMB_ts_lang.shape)[0]\n",
    "\n",
    "vid_inputs = torch.zeros((data_size, 128))\n",
    "word_inputs = torch.zeros((data_size, 64))\n",
    "vid_to_word = torch.zeros((data_size, 64))\n",
    "word_to_vid = torch.zeros((data_size, 128))\n",
    "\n",
    "for data in test_dataloader:\n",
    "    video = data[\"vid_feat\"].float().to(device)\n",
    "    word = data[\"word_feat\"].float().to(device)\n",
    "    #label = data[\"label\"][0]\n",
    "    #print(\"video shape: \", video.squeeze(0).shape)\n",
    "    \n",
    "    try:\n",
    "        mid_video = enc_vid(video)\n",
    "    except RuntimeError as err:\n",
    "        print(\"eror:\", err)\n",
    "        break\n",
    "    out_video = dec_vid(mid_video)\n",
    "    loss1 = criterion(out_video, video)\n",
    "\n",
    "    mid_word = enc_word(word)\n",
    "    out_word = dec_word(mid_word)\n",
    "    loss2 = criterion(out_word, word)\n",
    "\n",
    "    l_recons = loss1+loss2\n",
    "\n",
    "    #l_joint = criterion(mid_video, mid_word)\n",
    "\n",
    "    #cross_words = dec_word(mid_video)\n",
    "    #cross_video = dec_vid(mid_video)\n",
    "    #l_cross = criterion(cross_words, word) + criterion(cross_video, video)\n",
    "\n",
    "    #alpha1, alpha2, alpha3 = 1, 1, 1\n",
    "    #loss = l_recons + alpha1 * l_joint + alpha2 * l_cross\n",
    "    loss = l_recons\n",
    "    \n",
    "    #print(\"data: {}, \\n\" , c)\n",
    "    #print('  mid video: {} ,  out video:{}'.format(mid_video[0][:5], out_video[0][:5]))\n",
    "    #print('  mid word: {} ,  out word:{}'.format(mid_word[0][:5], out_word[0][:5]))\n",
    "    #print(out_word[0])\n",
    "    \n",
    "    vid_inputs[c]=video.squeeze(0)\n",
    "    word_inputs[c]=word.squeeze(0)\n",
    "    vid_to_word[c]=out_word.squeeze(0)\n",
    "    word_to_vid[c]=out_video.squeeze(0)\n",
    "    \n",
    "    #print(loss.item())\n",
    "    eval_loss.append(loss.item())\n",
    "    c+=1\n",
    "    \n",
    "#print(\"val loss: \", np.mean(eval_loss))"
   ]
  },
  {
   "cell_type": "code",
   "execution_count": 326,
   "metadata": {},
   "outputs": [
    {
     "data": {
      "text/plain": [
       "(torch.Size([1962, 128]),\n",
       " torch.Size([1962, 64]),\n",
       " torch.Size([1962, 64]),\n",
       " torch.Size([1962, 128]))"
      ]
     },
     "execution_count": 326,
     "metadata": {},
     "output_type": "execute_result"
    }
   ],
   "source": [
    "vid_inputs.shape, word_inputs.shape, vid_to_word.shape, word_to_vid.shape"
   ]
  },
  {
   "cell_type": "code",
   "execution_count": 311,
   "metadata": {},
   "outputs": [
    {
     "name": "stdout",
     "output_type": "stream",
     "text": [
      "val loss:  5.578561305695961\n"
     ]
    }
   ],
   "source": [
    "print(\"val loss: \", np.mean(eval_loss))"
   ]
  },
  {
   "cell_type": "markdown",
   "metadata": {},
   "source": [
    "## EVALUATE MNNOs"
   ]
  },
  {
   "cell_type": "code",
   "execution_count": 327,
   "metadata": {},
   "outputs": [
    {
     "name": "stdout",
     "output_type": "stream",
     "text": [
      "TEST: MNNO(f(X),X)= 0.097  || MNNO(f(X),Y)= 0.257  || MNNO(Y,X)= 0.162  || mse= 0.49538  || R2= -0.4036\n"
     ]
    }
   ],
   "source": [
    "import eval_utils\n",
    "\n",
    "k_neighbors = 30\n",
    "sim = 'cosine'\n",
    "\n",
    "#perf = eval_utils.eval_performance(EMB_in=vid_inputs, EMB_out=word_inputs, EMB_map=vid_to_word, sim=sim, k_neighbors, False)\n",
    "perf = eval_utils.eval_performance(vid_inputs.numpy(), word_inputs.numpy(), vid_to_word.numpy(), sim, k_neighbors, True)\n",
    "\n",
    "\n",
    "print('TEST: MNNO(f(X),X)=', round(perf['mnno_map-in'],3),\n",
    "                                      ' || MNNO(f(X),Y)=', round(perf['mnno_map-out'],3),\n",
    "                                      ' || MNNO(Y,X)=', round(perf['mnno_in-out'],3),\n",
    "                                      ' || mse=', round(perf['mse'],5), ' || R2=', round(perf['R2'],4))"
   ]
  },
  {
   "cell_type": "code",
   "execution_count": 328,
   "metadata": {},
   "outputs": [
    {
     "name": "stdout",
     "output_type": "stream",
     "text": [
      "TEST: MNNO(f(X),X)= 0.1  || MNNO(f(X),Y)= 0.236  || MNNO(Y,X)= 0.162  || mse= 5.57866  || R2= -0.0842\n"
     ]
    }
   ],
   "source": [
    "perf = eval_utils.eval_performance(word_inputs.numpy(), vid_inputs.numpy(), word_to_vid.numpy(), sim, k_neighbors, True)\n",
    "\n",
    "\n",
    "print('TEST: MNNO(f(X),X)=', round(perf['mnno_map-in'],3),\n",
    "                                      ' || MNNO(f(X),Y)=', round(perf['mnno_map-out'],3),\n",
    "                                      ' || MNNO(Y,X)=', round(perf['mnno_in-out'],3),\n",
    "                                      ' || mse=', round(perf['mse'],5), ' || R2=', round(perf['R2'],4))"
   ]
  },
  {
   "cell_type": "markdown",
   "metadata": {},
   "source": [
    "## TEST MNNO FOR LINEAR LAYER"
   ]
  },
  {
   "cell_type": "code",
   "execution_count": 329,
   "metadata": {},
   "outputs": [],
   "source": [
    "linear_mapping = nn.Linear(V, D).to(device)\n",
    "linear_mapping = nn.DataParallel(linear_mapping)"
   ]
  },
  {
   "cell_type": "code",
   "execution_count": 338,
   "metadata": {},
   "outputs": [],
   "source": [
    "linear_mapping2 = nn.Linear(D, V).to(device) # Text to video\n",
    "linear_mapping2 = nn.DataParallel(linear_mapping2)"
   ]
  },
  {
   "cell_type": "code",
   "execution_count": 339,
   "metadata": {},
   "outputs": [],
   "source": [
    "num_epochs = 100\n",
    "learning_rate = 1e-3\n",
    "weight_decay = 1e-5\n",
    "drop_out = 0.3\n",
    "\n",
    "optim = torch.optim.Adam(linear_mapping2.parameters(), lr=learning_rate, weight_decay = weight_decay)\n",
    "criterion = nn.MSELoss()"
   ]
  },
  {
   "cell_type": "code",
   "execution_count": 340,
   "metadata": {},
   "outputs": [
    {
     "name": "stdout",
     "output_type": "stream",
     "text": [
      "epoch [1/100], loss:8.62404823\n",
      "epoch [26/100], loss:5.04593420\n",
      "epoch [51/100], loss:4.48589897\n",
      "epoch [76/100], loss:4.33453703\n",
      "Training complete in 0m 18s\n",
      "Best val Acc: 4.273274\n"
     ]
    }
   ],
   "source": [
    "import time\n",
    "import copy\n",
    "\n",
    "since = time.time()\n",
    "\n",
    "train_acc_history = []\n",
    "val_acc_history = []\n",
    "\n",
    "best_loss = 1000000.0\n",
    "\n",
    "num_epochs=100\n",
    "\n",
    "for epoch in range(num_epochs):\n",
    "\n",
    "    for phase in ['train', 'val']:\n",
    "        if phase == 'train':\n",
    "            # Set model to training mode\n",
    "            linear_mapping2.train()\n",
    "        else:\n",
    "            linear_mapping2.eval()\n",
    "            \n",
    "        optim.zero_grad()\n",
    "        running_loss = 0.0\n",
    "        \n",
    "        for data in dataloaders_dict[phase]:\n",
    "            \n",
    "            video = data[\"vid_feat\"].float().to(device)\n",
    "            word = data[\"word_feat\"].float().to(device)\n",
    "\n",
    "            with torch.set_grad_enabled(phase == 'train'):\n",
    "                \n",
    "                out_video = linear_mapping2(word)\n",
    "                loss = criterion(out_video, video)\n",
    "                running_loss += loss.item()\n",
    "\n",
    "                if phase == 'train':\n",
    "                    optim.zero_grad()\n",
    "                    loss.backward()\n",
    "                    optim.step()\n",
    "                    \n",
    "        epoch_loss = running_loss #/ len(dataloaders_dict[phase].dataset)\n",
    "        \n",
    "        if phase == 'train':\n",
    "            train_acc_history.append(epoch_loss)\n",
    "        \n",
    "        #loss = running_loss\n",
    "        if phase == 'val':\n",
    "            if epoch_loss < best_loss:\n",
    "                best_loss = epoch_loss\n",
    "            val_acc_history.append(epoch_loss)\n",
    "            if epoch%25 ==0:\n",
    "                print('epoch [{}/{}], loss:{:.8f}'\n",
    "                      .format(epoch + 1, num_epochs, epoch_loss))\n",
    "        \n",
    "time_elapsed = time.time() - since\n",
    "print('Training complete in {:.0f}m {:.0f}s'.format(time_elapsed // 60, time_elapsed % 60))\n",
    "print('Best val Acc: {:4f}'.format(best_loss))"
   ]
  },
  {
   "cell_type": "code",
   "execution_count": 341,
   "metadata": {},
   "outputs": [
    {
     "data": {
      "image/png": "[encoded data removed]",
      "text/plain": [
       "<Figure size 432x288 with 1 Axes>"
      ]
     },
     "metadata": {
      "needs_background": "light"
     },
     "output_type": "display_data"
    }
   ],
   "source": [
    "import matplotlib.pyplot as plt\n",
    "\n",
    "plt.plot(val_acc_history)\n",
    "plt.show()"
   ]
  },
  {
   "cell_type": "code",
   "execution_count": 342,
   "metadata": {},
   "outputs": [
    {
     "data": {
      "image/png": "[encoded data removed]",
      "text/plain": [
       "<Figure size 432x288 with 1 Axes>"
      ]
     },
     "metadata": {
      "needs_background": "light"
     },
     "output_type": "display_data"
    }
   ],
   "source": [
    "plt.plot(train_acc_history)\n",
    "plt.show()"
   ]
  },
  {
   "cell_type": "code",
   "execution_count": 344,
   "metadata": {},
   "outputs": [],
   "source": [
    "linear_mapping.eval()\n",
    "\n",
    "eval_loss = []\n",
    "test_dataloader = DataLoader(dataset=test_data, batch_size=1, shuffle=True)\n",
    "\n",
    "c = 0\n",
    "\n",
    "mNNOs = []\n",
    "\n",
    "torch.set_grad_enabled(False)\n",
    "\n",
    "data_size=(EMB_ts_lang.shape)[0]\n",
    "\n",
    "vid_inputs = torch.zeros((data_size, 128))\n",
    "word_inputs = torch.zeros((data_size, 64))\n",
    "vid_to_word = torch.zeros((data_size, 64))\n",
    "word_to_vid = torch.zeros((data_size, 128))\n",
    "\n",
    "for data in test_dataloader:\n",
    "    video = data[\"vid_feat\"].float().to(device)\n",
    "    word = data[\"word_feat\"].float().to(device)\n",
    "    \n",
    "    \n",
    "    out_video = linear_mapping2(word)\n",
    "    loss = criterion(out_video, video)\n",
    "    \n",
    "    #print(\"data: {}, \\n\" , c)\n",
    "    #print('  mid video: {} ,  out video:{}'.format(mid_video[0][0][:5], out_video[0][0][:5]))\n",
    "    #print(' out word:{}'.format(out_word[0][:5]))\n",
    "    \n",
    "    vid_inputs[c]=video.squeeze(0)\n",
    "    word_inputs[c]=word.squeeze(0)\n",
    "    #vid_to_word[c]=out_word.squeeze(0)\n",
    "    word_to_vid[c]=out_video.squeeze(0)\n",
    "    \n",
    "    eval_loss.append(loss.item())\n",
    "    c+=1"
   ]
  },
  {
   "cell_type": "code",
   "execution_count": 345,
   "metadata": {},
   "outputs": [
    {
     "name": "stdout",
     "output_type": "stream",
     "text": [
      "val loss:  4.147771962738912\n"
     ]
    }
   ],
   "source": [
    "print(\"val loss: \", np.mean(eval_loss))"
   ]
  },
  {
   "cell_type": "code",
   "execution_count": 346,
   "metadata": {},
   "outputs": [
    {
     "name": "stdout",
     "output_type": "stream",
     "text": [
      "TEST: MNNO(f(X),X)= 0.049  || MNNO(f(X),Y)= 0.049  || MNNO(Y,X)= 0.162  || mse= 0.50219  || R2= -0.4085\n"
     ]
    }
   ],
   "source": [
    "perf = eval_utils.eval_performance(vid_inputs.numpy(), word_inputs.numpy(), vid_to_word.numpy(), sim, k_neighbors, True)\n",
    "\n",
    "\n",
    "print('TEST: MNNO(f(X),X)=', round(perf['mnno_map-in'],3),\n",
    "                                      ' || MNNO(f(X),Y)=', round(perf['mnno_map-out'],3),\n",
    "                                      ' || MNNO(Y,X)=', round(perf['mnno_in-out'],3),\n",
    "                                      ' || mse=', round(perf['mse'],5), ' || R2=', round(perf['R2'],4))"
   ]
  },
  {
   "cell_type": "code",
   "execution_count": 294,
   "metadata": {},
   "outputs": [],
   "source": [
    "input1 = torch.randn(100, 128)\n",
    "input2 = torch.randn(100, 128)\n"
   ]
  },
  {
   "cell_type": "code",
   "execution_count": 337,
   "metadata": {},
   "outputs": [
    {
     "data": {
      "text/plain": [
       "128"
      ]
     },
     "execution_count": 337,
     "metadata": {},
     "output_type": "execute_result"
    }
   ],
   "source": [
    "len(output)"
   ]
  },
  {
   "cell_type": "code",
   "execution_count": null,
   "metadata": {},
   "outputs": [],
   "source": []
  }
 ],
 "metadata": {
  "kernelspec": {
   "display_name": "Python 3",
   "language": "python",
   "name": "python3"
  },
  "language_info": {
   "codemirror_mode": {
    "name": "ipython",
    "version": 3
   },
   "file_extension": ".py",
   "mimetype": "text/x-python",
   "name": "python",
   "nbconvert_exporter": "python",
   "pygments_lexer": "ipython3",
   "version": "3.5.2"
  }
 },
 "nbformat": 4,
 "nbformat_minor": 2
}
