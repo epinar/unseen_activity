{
 "cells": [
  {
   "cell_type": "code",
   "execution_count": 1,
   "metadata": {},
   "outputs": [],
   "source": [
    "import argparse\n",
    "\n",
    "import numpy as np\n",
    "import torch\n",
    "import torch.nn as nn\n",
    "import fnmatch\n",
    "import os\n",
    "\n",
    "from src.i3dpt import I3D\n",
    "\n",
    "rgb_pt_checkpoint = 'model/model_rgb.pth'"
   ]
  },
  {
   "cell_type": "markdown",
   "metadata": {},
   "source": [
    "## Set up the gpu and the model"
   ]
  },
  {
   "cell_type": "code",
   "execution_count": 2,
   "metadata": {},
   "outputs": [
    {
     "ename": "ImportError",
     "evalue": "No module named 'pycuda'",
     "output_type": "error",
     "traceback": [
      "\u001b[0;31m---------------------------------------------------------------------------\u001b[0m",
      "\u001b[0;31mImportError\u001b[0m                               Traceback (most recent call last)",
      "\u001b[0;32m<ipython-input-2-47d081b46b58>\u001b[0m in \u001b[0;36m<module>\u001b[0;34m\u001b[0m\n\u001b[0;32m----> 1\u001b[0;31m \u001b[0;32mimport\u001b[0m \u001b[0mpycuda\u001b[0m\u001b[0;34m.\u001b[0m\u001b[0mdriver\u001b[0m \u001b[0;32mas\u001b[0m \u001b[0mcuda\u001b[0m\u001b[0;34m\u001b[0m\u001b[0m\n\u001b[0m\u001b[1;32m      2\u001b[0m \u001b[0;32mimport\u001b[0m \u001b[0mpycuda\u001b[0m\u001b[0;34m.\u001b[0m\u001b[0mautoinit\u001b[0m \u001b[0;31m# Necessary for using its functions\u001b[0m\u001b[0;34m\u001b[0m\u001b[0m\n\u001b[1;32m      3\u001b[0m \u001b[0mcuda\u001b[0m\u001b[0;34m.\u001b[0m\u001b[0minit\u001b[0m\u001b[0;34m(\u001b[0m\u001b[0;34m)\u001b[0m \u001b[0;31m# Necesarry for using its functions\u001b[0m\u001b[0;34m\u001b[0m\u001b[0m\n\u001b[1;32m      4\u001b[0m \u001b[0;34m\u001b[0m\u001b[0m\n\u001b[1;32m      5\u001b[0m \u001b[0mnum\u001b[0m \u001b[0;34m=\u001b[0m \u001b[0mcuda\u001b[0m\u001b[0;34m.\u001b[0m\u001b[0mDevice\u001b[0m\u001b[0;34m.\u001b[0m\u001b[0mcount\u001b[0m\u001b[0;34m(\u001b[0m\u001b[0;34m)\u001b[0m\u001b[0;34m\u001b[0m\u001b[0m\n",
      "\u001b[0;31mImportError\u001b[0m: No module named 'pycuda'"
     ]
    }
   ],
   "source": [
    "import pycuda.driver as cuda\n",
    "import pycuda.autoinit # Necessary for using its functions\n",
    "cuda.init() # Necesarry for using its functions\n",
    "\n",
    "num = cuda.Device.count()\n",
    "print(\"%d device(s) found:\"%num)\n",
    "for i in range(num):\n",
    "    print(cuda.Device(i).name(), \"(Id: %d)\"%i)"
   ]
  },
  {
   "cell_type": "code",
   "execution_count": null,
   "metadata": {},
   "outputs": [],
   "source": [
    "os.environ['CUDA_DEVICE_ORDER']=\"PCI_BUS_ID\"\n",
    "torch.cuda.set_device(0)\n",
    "torch.cuda.current_device()\n",
    "device = torch.device('cuda:0')"
   ]
  },
  {
   "cell_type": "code",
   "execution_count": null,
   "metadata": {},
   "outputs": [],
   "source": [
    "if device.type == 'cuda':\n",
    "    i = 0\n",
    "    print(torch.cuda.get_device_name(i))\n",
    "    print(torch.cuda.get_device_properties(i).total_memory)\n",
    "    print('Memory Usage:')\n",
    "    print('Allocated:', round(torch.cuda.memory_allocated(i)/1024**3,1), 'GB')\n",
    "    print('Cached:   ', round(torch.cuda.memory_cached(i)/1024**3,1), 'GB')"
   ]
  },
  {
   "cell_type": "code",
   "execution_count": null,
   "metadata": {},
   "outputs": [],
   "source": [
    "torch.cuda.current_device()"
   ]
  },
  {
   "cell_type": "code",
   "execution_count": null,
   "metadata": {},
   "outputs": [],
   "source": [
    "torch.cuda.get_device_capability(0)"
   ]
  },
  {
   "cell_type": "code",
   "execution_count": 4,
   "metadata": {},
   "outputs": [],
   "source": [
    "#i3d_rgb = I3D(num_classes=400, modality='rgb').to(device)\n",
    "i3d_rgb = I3D(num_classes=400, modality='rgb').cuda()"
   ]
  },
  {
   "cell_type": "code",
   "execution_count": 5,
   "metadata": {},
   "outputs": [],
   "source": [
    "#i3d_rgb.eval()\n",
    "i3d_rgb.load_state_dict(torch.load(rgb_pt_checkpoint))"
   ]
  },
  {
   "cell_type": "code",
   "execution_count": 6,
   "metadata": {},
   "outputs": [],
   "source": [
    "i3d_rgb = nn.DataParallel(i3d_rgb)"
   ]
  },
  {
   "cell_type": "code",
   "execution_count": 7,
   "metadata": {},
   "outputs": [],
   "source": [
    "rgb_sample = np.load('data/kinetic-samples/v_CricketShot_g04_c01_rgb.npy').transpose(0, 4, 1, 2, 3)"
   ]
  },
  {
   "cell_type": "code",
   "execution_count": 8,
   "metadata": {},
   "outputs": [
    {
     "name": "stdout",
     "output_type": "stream",
     "text": [
      "torch.Size([1, 3, 79, 224, 224])\n",
      "torch.Size([1, 1024])\n"
     ]
    }
   ],
   "source": [
    "# sample_var = torch.autograd.Variable(torch.from_numpy(rgb_sample)).to(device)\n",
    "sample_var = torch.autograd.Variable(torch.from_numpy(rgb_sample)).cuda()\n",
    "print(sample_var.shape)\n",
    "out_var, out_logit = i3d_rgb(sample_var)\n",
    "print(out_var.shape)\n",
    "out_tensor = out_var.data.cpu()"
   ]
  },
  {
   "cell_type": "markdown",
   "metadata": {},
   "source": [
    "## Good to go, now test on sample data! "
   ]
  },
  {
   "cell_type": "markdown",
   "metadata": {},
   "source": [
    "### Extract i3d features\n",
    "\n",
    "To be able to run this step:\n",
    "1. Download the Kinetics dataset -> download.py\n",
    "2. Extract the frames by ffmpeg -> extract_frames.py\n",
    "3. Preprocess the frames and create npy files ->read_frames.py"
   ]
  },
  {
   "cell_type": "code",
   "execution_count": 9,
   "metadata": {},
   "outputs": [
    {
     "name": "stdout",
     "output_type": "stream",
     "text": [
      "shape now: torch.Size([1, 3, 52, 224, 224])\n",
      "torch.Size([1, 3, 52, 224, 224])\n",
      "torch.Size([1, 1024])\n"
     ]
    }
   ],
   "source": [
    "rgb_sample = np.load(\"../ActivityNet/Crawler/Kinetics/mini_data_frames_rgb/abseiling__aQSjArgAqA_000123_000133.npy\")\n",
    "sample = torch.from_numpy(rgb_sample).unsqueeze(0)\n",
    "print(\"shape now:\", sample.shape)\n",
    "#sample_var = torch.autograd.Variable(sample).to(device)\n",
    "sample_var = torch.autograd.Variable(sample).cuda()\n",
    "print(sample_var.shape)\n",
    "out_var, _ = i3d_rgb(sample_var)\n",
    "print(out_var.shape)\n",
    "out_tensor = out_var.data.cpu()"
   ]
  },
  {
   "cell_type": "code",
   "execution_count": 10,
   "metadata": {},
   "outputs": [],
   "source": [
    "sample_var = sample_var[:, :, :10, :, :]"
   ]
  },
  {
   "cell_type": "code",
   "execution_count": 11,
   "metadata": {},
   "outputs": [
    {
     "data": {
      "text/plain": [
       "(tensor([[0.1719, 0.1271, 0.2577,  ..., 0.2460, 0.2247, 0.1889]],\n",
       "        device='cuda:0', grad_fn=<GatherBackward>),\n",
       " tensor([[0.1719, 0.1271, 0.2577,  ..., 0.2460, 0.2247, 0.1889]],\n",
       "        device='cuda:0', grad_fn=<GatherBackward>))"
      ]
     },
     "execution_count": 11,
     "metadata": {},
     "output_type": "execute_result"
    }
   ],
   "source": [
    "i3d_rgb(sample_var)"
   ]
  },
  {
   "cell_type": "code",
   "execution_count": 301,
   "metadata": {},
   "outputs": [],
   "source": [
    "#frame_dir = \"../ActivityNet/Crawler/Kinetics/val400_data_frames_rgb/\"\n",
    "frame_dir = \"../ActivityNet/Crawler/Kinetics/test400_100_frames_rgb/\""
   ]
  },
  {
   "cell_type": "code",
   "execution_count": null,
   "metadata": {},
   "outputs": [],
   "source": [
    "action_classes = [\n",
    "    'swimming breast stroke',\n",
    "    'jogging',\n",
    "    \"digging\",\n",
    "    'riding horse',\n",
    "    'side kick',\n",
    "    'punching bag',\n",
    "    'marching',\n",
    "    'breakdancing',\n",
    "    #'somersaulting',\n",
    "    'capoeira',\n",
    "    'robot dancing',\n",
    "    'air drumming',\n",
    "    'clapping',\n",
    "    #'headbanging',\n",
    "    'eating burger',\n",
    "    'laughing',\n",
    "    'crying',\n",
    "    'bartending',\n",
    "    'bowling',\n",
    "    'snowboarding',\n",
    "    'beatboxing',\n",
    "    'playing cello',\n",
    "    'playing piano',\n",
    "    \"singing\"\n",
    "]"
   ]
  },
  {
   "cell_type": "code",
   "execution_count": 302,
   "metadata": {},
   "outputs": [],
   "source": [
    "action_classes_all = set()\n",
    "for dirpath, dirs, files in os.walk(frame_dir):\n",
    "    for filename in fnmatch.filter(files, '*.npy'):\n",
    "        action = filename.split(\"_\")[0]\n",
    "        action_classes_all.add(action)"
   ]
  },
  {
   "cell_type": "code",
   "execution_count": 303,
   "metadata": {},
   "outputs": [
    {
     "data": {
      "text/plain": [
       "400"
      ]
     },
     "execution_count": 303,
     "metadata": {},
     "output_type": "execute_result"
    }
   ],
   "source": [
    "len(action_classes_all)"
   ]
  },
  {
   "cell_type": "code",
   "execution_count": 304,
   "metadata": {},
   "outputs": [
    {
     "data": {
      "text/plain": [
       "['skiing']"
      ]
     },
     "execution_count": 304,
     "metadata": {},
     "output_type": "execute_result"
    }
   ],
   "source": [
    "hele = \"skiing (ama soyle boyle)\"\n",
    "(hele.split(\" (\")[0]).split(\" \")"
   ]
  },
  {
   "cell_type": "code",
   "execution_count": 383,
   "metadata": {},
   "outputs": [],
   "source": [
    "n = 200 # number of classes\n",
    "\n",
    "import random\n",
    "action_classes = set(random.sample(action_classes_all, n))"
   ]
  },
  {
   "cell_type": "code",
   "execution_count": 384,
   "metadata": {},
   "outputs": [],
   "source": [
    "for a in action_classes:\n",
    "    words = a.split(\" (\")[0]\n",
    "    action_classes.remove(a)\n",
    "    action_classes.add(words)"
   ]
  },
  {
   "cell_type": "code",
   "execution_count": 385,
   "metadata": {},
   "outputs": [
    {
     "name": "stdout",
     "output_type": "stream",
     "text": [
      "massaging person's head\n",
      "slacklining\n",
      "deadlifting\n",
      "situp\n",
      "passing American football\n",
      "trapezing\n",
      "barbequing\n",
      "faceplanting\n",
      "unboxing\n",
      "jumpstyle dancing\n"
     ]
    }
   ],
   "source": [
    "word_dict = {}\n",
    "not_exist = set()\n",
    "for a in action_classes:\n",
    "    words = a.split(\" (\")[0]\n",
    "    words = words.split(\" \")\n",
    "    glove_sums = 0\n",
    "    for w in words:\n",
    "        try:\n",
    "            glove_sums += glove_model[w]\n",
    "        except:\n",
    "            print(a)\n",
    "            not_exist.add(a)\n",
    "            break\n",
    "            \n",
    "action_classes.difference_update(not_exist)"
   ]
  },
  {
   "cell_type": "code",
   "execution_count": null,
   "metadata": {},
   "outputs": [],
   "source": [
    "action_classes"
   ]
  },
  {
   "cell_type": "code",
   "execution_count": 387,
   "metadata": {},
   "outputs": [],
   "source": [
    "for a in action_classes:\n",
    "    words = a.split(\" (\")[0]\n",
    "    words = words.split(\" \")\n",
    "    glove_sums = 0\n",
    "    for w in words:\n",
    "        glove_sums += glove_model[w]\n",
    "    glove_sums /= len(words)\n",
    "    word_dict[a] = glove_sums"
   ]
  },
  {
   "cell_type": "code",
   "execution_count": 388,
   "metadata": {},
   "outputs": [
    {
     "data": {
      "text/plain": [
       "190"
      ]
     },
     "execution_count": 388,
     "metadata": {},
     "output_type": "execute_result"
    }
   ],
   "source": [
    "len(action_classes)"
   ]
  },
  {
   "cell_type": "code",
   "execution_count": 389,
   "metadata": {},
   "outputs": [],
   "source": [
    "vid_features = {}\n",
    "vid_ids = []\n",
    "for dirpath, dirs, files in os.walk(frame_dir):\n",
    "    for filename in fnmatch.filter(files, '*.npy'):\n",
    "        action = filename.split(\"_\")[0]\n",
    "        if action in action_classes:\n",
    "            rgb_sample = np.load(dirpath+filename)\n",
    "            sample = torch.from_numpy(rgb_sample).unsqueeze(0)\n",
    "            if sample.shape[2] > 10: # should be bigger than the kernel size \n",
    "                vid_ids.append(filename)\n",
    "                # sample_var = torch.autograd.Variable(sample).to(device)\n",
    "                sample_var = torch.autograd.Variable(sample)\n",
    "                try:\n",
    "                    out_var, _ = i3d_rgb(sample_var)\n",
    "                except Exception as e: \n",
    "                    print(\"error: \", e)\n",
    "                    print(\"   shape: \", sample_var.shape)\n",
    "                vid_features[filename] = out_var.data.cpu().numpy()"
   ]
  },
  {
   "cell_type": "code",
   "execution_count": null,
   "metadata": {},
   "outputs": [],
   "source": [
    "next(i3d_rgb.parameters()).is_cuda"
   ]
  },
  {
   "cell_type": "code",
   "execution_count": null,
   "metadata": {},
   "outputs": [],
   "source": [
    "vid_features.keys()"
   ]
  },
  {
   "cell_type": "code",
   "execution_count": null,
   "metadata": {},
   "outputs": [],
   "source": [
    "import pickle\n",
    "fname = 'pickle/kinetics_i3d.pkl'\n",
    "pickle.dump(vid_features, open (fname, 'wb'))"
   ]
  },
  {
   "cell_type": "code",
   "execution_count": null,
   "metadata": {},
   "outputs": [],
   "source": [
    "fname = 'anet_c3d.pkl'\n",
    "vids = pickle.load(open(fname, 'rb'))"
   ]
  },
  {
   "cell_type": "markdown",
   "metadata": {},
   "source": [
    "### Extract word features"
   ]
  },
  {
   "cell_type": "code",
   "execution_count": 17,
   "metadata": {},
   "outputs": [],
   "source": [
    "from argparse import ArgumentParser\n",
    "import glob\n",
    "import json\n",
    "import os\n",
    "import numpy as np\n",
    "import torch\n",
    "import re\n",
    "import sys\n",
    "import array"
   ]
  },
  {
   "cell_type": "code",
   "execution_count": 18,
   "metadata": {},
   "outputs": [
    {
     "name": "stdout",
     "output_type": "stream",
     "text": [
      "Loading Glove Model\n",
      "Done. 400000  words loaded!\n"
     ]
    }
   ],
   "source": [
    "vectors = array.array('d')\n",
    "print(\"Loading Glove Model\")\n",
    "gloveFile = '../glove.6B.300d.txt'\n",
    "f = open(gloveFile, 'r', encoding=\"utf-8\")\n",
    "dct = {}\n",
    "glove_model = {}\n",
    "n_words = 400000 #### TAKE THE MOST FREQUENT N WORDS!!!\n",
    "for i, line in enumerate(f):\n",
    "    splitLine = line.split()\n",
    "    word = splitLine[0]\n",
    "    entries = splitLine[1:]\n",
    "    embedding = np.array([float(val) for val in entries], dtype=np.float32)\n",
    "    glove_model[word] = embedding\n",
    "    dct[word] = i\n",
    "    vectors.extend(float(x) for x in entries)\n",
    "    if i == n_words - 1:\n",
    "        break\n",
    "\n",
    "print(\"Done.\", len(glove_model), \" words loaded!\")\n",
    "#return model"
   ]
  },
  {
   "cell_type": "markdown",
   "metadata": {},
   "source": [
    "###### "
   ]
  },
  {
   "cell_type": "code",
   "execution_count": 19,
   "metadata": {},
   "outputs": [],
   "source": [
    "len(vectors)\n",
    "no_vectors = len(dct)"
   ]
  },
  {
   "cell_type": "code",
   "execution_count": 20,
   "metadata": {},
   "outputs": [
    {
     "data": {
      "text/plain": [
       "True"
      ]
     },
     "execution_count": 20,
     "metadata": {},
     "output_type": "execute_result"
    }
   ],
   "source": [
    "no_vectors*300 == len(vectors)"
   ]
  },
  {
   "cell_type": "code",
   "execution_count": 21,
   "metadata": {},
   "outputs": [],
   "source": [
    "# no_components = len(v) # What is v?!?!\n",
    "no_vectors = len(dct)    \n",
    "no_components = 300\n",
    "word_vectors = (np.array(vectors).reshape(no_vectors,no_components))\n",
    "word_biases = np.zeros(no_vectors)\n",
    "items_iterator = dct.items()\n",
    "inverse_dictionary = {v: k for k, v in items_iterator}"
   ]
  },
  {
   "cell_type": "code",
   "execution_count": 22,
   "metadata": {},
   "outputs": [
    {
     "ename": "KeyError",
     "evalue": "'bellydancing'",
     "output_type": "error",
     "traceback": [
      "\u001b[0;31m---------------------------------------------------------------------------\u001b[0m",
      "\u001b[0;31mKeyError\u001b[0m                                  Traceback (most recent call last)",
      "\u001b[0;32m<ipython-input-22-e1f4e1ef50ff>\u001b[0m in \u001b[0;36m<module>\u001b[0;34m\u001b[0m\n\u001b[0;32m----> 1\u001b[0;31m \u001b[0mlen\u001b[0m\u001b[0;34m(\u001b[0m\u001b[0mglove_model\u001b[0m\u001b[0;34m[\u001b[0m\u001b[0;34m\"somersaulting\"\u001b[0m\u001b[0;34m]\u001b[0m\u001b[0;34m)\u001b[0m\u001b[0;34m,\u001b[0m \u001b[0mlen\u001b[0m\u001b[0;34m(\u001b[0m\u001b[0mglove_model\u001b[0m\u001b[0;34m[\u001b[0m\u001b[0;34m\"bellydancing\"\u001b[0m\u001b[0;34m]\u001b[0m\u001b[0;34m)\u001b[0m\u001b[0;34m\u001b[0m\u001b[0m\n\u001b[0m",
      "\u001b[0;31mKeyError\u001b[0m: 'bellydancing'"
     ]
    }
   ],
   "source": [
    "len(glove_model[\"somersaulting\"]), len(glove_model[\"bellydancing\"])"
   ]
  },
  {
   "cell_type": "code",
   "execution_count": 130,
   "metadata": {},
   "outputs": [],
   "source": [
    "def _similarity_query(word_vectors, word_vec, number, inverse_dictionary):\n",
    "    \n",
    "    dst = (np.dot(word_vectors, word_vec)\n",
    "           / np.linalg.norm(word_vectors, axis=1)\n",
    "           / np.linalg.norm(word_vec))\n",
    "    word_ids = np.argsort(-dst)\n",
    "\n",
    "    return [(inverse_dictionary[x], dst[x]) for x in word_ids[:number]\n",
    "            if x in inverse_dictionary]\n",
    "\n",
    "def most_similar(word_vectors, dictionary, word, number=5):\n",
    "    try:\n",
    "        word_idx = dictionary[word]\n",
    "    except KeyError:\n",
    "        raise Exception('Word not in dictionary')\n",
    "\n",
    "    return _similarity_query(word_vectors, word_vectors[word_idx], number, inverse_dictionary)[1:]"
   ]
  },
  {
   "cell_type": "code",
   "execution_count": null,
   "metadata": {},
   "outputs": [],
   "source": [
    "# should we use ing words?\n",
    "word_dict = {\n",
    "    'abseiling': glove_model['abseiling'],\n",
    "    'air drumming': glove_model['drumming'],\n",
    "    'answering questions': glove_model['answering'],\n",
    "    'applauding': glove_model['applauding'],\n",
    "    'applying cream': np.average([glove_model['applying'], glove_model['cream']], axis=0), # applying cream?\n",
    "    'archery': glove_model['archery'], \n",
    "    'arm wrestling': np.average([glove_model['wrestling'], glove_model['arm']], axis=0), # arm wrestling\n",
    "    'arranging flowers': np.average([glove_model['arranging'], glove_model['flowers']], axis=0), # arranging flowers\n",
    "    'assembling computer': np.average([glove_model['assembling'], glove_model['computer']], axis=0), # assembling computer\n",
    "    'auctioning': glove_model['auctioning'],\n",
    "    'baby waking up': np.average([glove_model['baby'], glove_model['wakeup']], axis=0), # baby waking up\n",
    "    'baking cookies': np.average([glove_model['baking'], glove_model['cookies']], axis=0), # baking cookies\n",
    "    'balloon blowing': np.average([glove_model['balloon'], glove_model['blowing']], axis=0), \n",
    "    'bandaging': glove_model['bandaging'],\n",
    "    'barbequing': glove_model['barbeque'],\n",
    "    'bartending': glove_model['bartending'],\n",
    "    'beatboxing': glove_model['beatboxing'],\n",
    "    'bee keeping': glove_model['beekeeping'],\n",
    "    #'belly dancing': glove_model['bellydance'],\n",
    "    'bench pressing': np.average([glove_model['weight'], glove_model['lifting']], axis=0), \n",
    "    'swimming breast stroke': glove_model['swimming'],\n",
    "    'jogging': glove_model['jogging'],\n",
    "    'digging': glove_model['digging'],\n",
    "    'riding horse': glove_model['riding'], #### add horse?\n",
    "    'side kick': glove_model['sidekick'],\n",
    "    'punching bag': glove_model['punching'],\n",
    "    'marching': glove_model['marching'],\n",
    "    'breakdancing': glove_model['breakdancing'],\n",
    "    #'somersaulting': glove_model['somersaulting'],\n",
    "    'capoeira': glove_model['capoeira'],\n",
    "    'robot dancing': np.average([glove_model['robot'], glove_model['dancing']], axis=0),\n",
    "    'laughing': glove_model['laughing'],\n",
    "    'crying': glove_model['crying'],\n",
    "    #'headbanging': glove_model['headbanging'],\n",
    "    'eating burger': glove_model['eating'],   ### add burger?\n",
    "    'clapping': glove_model['clapping'],\n",
    "    'bowling': glove_model['bowling'],\n",
    "    'singing': glove_model['singing'],\n",
    "    'snowboarding': glove_model['snowboarding'],\n",
    "    'capoeira': glove_model['capoeira'],\n",
    "    'playing piano': np.average([glove_model['playing'], glove_model['piano']], axis=0),\n",
    "    'playing cello': np.average([glove_model['playing'], glove_model['cello']], axis=0)\n",
    "}"
   ]
  },
  {
   "cell_type": "code",
   "execution_count": 880,
   "metadata": {},
   "outputs": [
    {
     "name": "stdout",
     "output_type": "stream",
     "text": [
      "person's\n",
      "jumpstyle\n",
      "breadcrumbing\n",
      "(not\n",
      "cat)\n",
      "deadlifting\n",
      "slacklining\n"
     ]
    }
   ],
   "source": []
  },
  {
   "cell_type": "code",
   "execution_count": 312,
   "metadata": {},
   "outputs": [],
   "source": [
    "for a in action_classes:\n",
    "    if a not in word_dict:\n",
    "        print(a)"
   ]
  },
  {
   "cell_type": "markdown",
   "metadata": {},
   "source": [
    "### Split train + test"
   ]
  },
  {
   "cell_type": "code",
   "execution_count": 390,
   "metadata": {},
   "outputs": [
    {
     "data": {
      "text/plain": [
       "400000"
      ]
     },
     "execution_count": 390,
     "metadata": {},
     "output_type": "execute_result"
    }
   ],
   "source": [
    "len(dct.keys())"
   ]
  },
  {
   "cell_type": "code",
   "execution_count": 53,
   "metadata": {},
   "outputs": [
    {
     "data": {
      "text/plain": [
       "['pushing cart', 'tVG1cCloXuM', '000004', '000014.npy']"
      ]
     },
     "execution_count": 53,
     "metadata": {},
     "output_type": "execute_result"
    }
   ],
   "source": [
    "vid_ids[7].split('_')"
   ]
  },
  {
   "cell_type": "code",
   "execution_count": 391,
   "metadata": {},
   "outputs": [
    {
     "name": "stdout",
     "output_type": "stream",
     "text": [
      "Total videos: 14263\n",
      "total labels:  190\n"
     ]
    }
   ],
   "source": [
    "print(\"Total videos:\" , len(vid_ids))\n",
    "print(\"total labels: \", len(word_dict.keys()))"
   ]
  },
  {
   "cell_type": "code",
   "execution_count": 392,
   "metadata": {},
   "outputs": [],
   "source": [
    "label_counter = {}\n",
    "for v in vid_ids:\n",
    "    label = v.split('_')[0]\n",
    "    try:\n",
    "        label_counter[label].append(v)\n",
    "    except KeyError:\n",
    "        label_counter[label] = [v]"
   ]
  },
  {
   "cell_type": "code",
   "execution_count": null,
   "metadata": {},
   "outputs": [],
   "source": [
    "for v in label_counter:\n",
    "    print(v, len(label_counter[v]))"
   ]
  },
  {
   "cell_type": "code",
   "execution_count": 105,
   "metadata": {},
   "outputs": [],
   "source": [
    "vid_dict = {}\n",
    "vid_vectors = []\n",
    "for v in vid_ids:\n",
    "    label = v.split('_')[0]\n",
    "    feat = vid_features[v]\n",
    "    #print(len(feat[0]))\n",
    "    try:\n",
    "        vid_dict[label].append(feat[0])\n",
    "    except KeyError:\n",
    "        vid_dict[label] = [feat[0]]\n",
    "\n",
    "j = 0\n",
    "vid_dict_ind = {}\n",
    "for k,v in vid_dict.items():\n",
    "    sums = [0]*1024\n",
    "    for e in v:\n",
    "        sums += e\n",
    "    sums = sums / len(v)\n",
    "    vid_dict[k] = sums\n",
    "    vid_dict_ind[k] = j\n",
    "    j += 1\n",
    "    vid_vectors.append(sums)\n",
    "        \n",
    "items_iterator_vid = vid_dict_ind.items()\n",
    "inverse_vid_dictionary = {v: k for k, v in items_iterator_vid}"
   ]
  },
  {
   "cell_type": "code",
   "execution_count": 106,
   "metadata": {},
   "outputs": [
    {
     "name": "stdout",
     "output_type": "stream",
     "text": [
      "[0.17831162 0.09592676 0.18540394 ... 0.19039199 0.13865879 0.2214011 ]\n"
     ]
    },
    {
     "data": {
      "text/plain": [
       "(1, 1024)"
      ]
     },
     "execution_count": 106,
     "metadata": {},
     "output_type": "execute_result"
    }
   ],
   "source": [
    "sampl = vid_ids[7]\n",
    "v_sampl = vid_features[sampl]\n",
    "print(v_sampl[0])\n",
    "v_sampl.shape"
   ]
  },
  {
   "cell_type": "code",
   "execution_count": 904,
   "metadata": {},
   "outputs": [
    {
     "data": {
      "text/plain": [
       "[('tickling', 0.9820670993327837),\n",
       " ('getting a tattoo', 0.9808556450625217),\n",
       " ('eating watermelon', 0.9801278543463946),\n",
       " ('hugging', 0.9800894620913595),\n",
       " ('massaging feet', 0.9799010141827584),\n",
       " ('washing hair', 0.9797260852306909),\n",
       " ('crying', 0.9795987738340197),\n",
       " ('drinking shots', 0.9794118267174158),\n",
       " ('reading book', 0.9794117965496962),\n",
       " ('petting cat', 0.9793869743345667)]"
      ]
     },
     "execution_count": 904,
     "metadata": {},
     "output_type": "execute_result"
    }
   ],
   "source": [
    "_similarity_query(vid_vectors, v_sampl[0], 10, inverse_vid_dictionary)"
   ]
  },
  {
   "cell_type": "code",
   "execution_count": 58,
   "metadata": {},
   "outputs": [
    {
     "ename": "KeyError",
     "evalue": "'laughing'",
     "output_type": "error",
     "traceback": [
      "\u001b[0;31m---------------------------------------------------------------------------\u001b[0m",
      "\u001b[0;31mKeyError\u001b[0m                                  Traceback (most recent call last)",
      "\u001b[0;32m<ipython-input-58-3caf681d7afb>\u001b[0m in \u001b[0;36m<module>\u001b[0;34m\u001b[0m\n\u001b[0;32m----> 1\u001b[0;31m \u001b[0mvid_dict\u001b[0m\u001b[0;34m[\u001b[0m\u001b[0;34m\"laughing\"\u001b[0m\u001b[0;34m]\u001b[0m\u001b[0;34m\u001b[0m\u001b[0m\n\u001b[0m",
      "\u001b[0;31mKeyError\u001b[0m: 'laughing'"
     ]
    }
   ],
   "source": [
    "vid_dict[\"laughing\"]"
   ]
  },
  {
   "cell_type": "code",
   "execution_count": 393,
   "metadata": {},
   "outputs": [],
   "source": [
    "import random\n",
    "train_ids, val_ids, test_ids = [], [], []\n",
    "for k, v in label_counter.items():\n",
    "    p = len(v)* 20 // 100\n",
    "    ind = random.sample(range(len(v)), p)\n",
    "    val_ind = ind[:len(ind)//2]\n",
    "    test_ind = ind[len(ind)//2:]\n",
    "    for i, e in enumerate(v):\n",
    "        if i in test_ind:\n",
    "            test_ids.append(e)\n",
    "        elif i in val_ind:\n",
    "            val_ids.append(e)\n",
    "        else:\n",
    "            train_ids.append(e)"
   ]
  },
  {
   "cell_type": "code",
   "execution_count": 394,
   "metadata": {},
   "outputs": [
    {
     "data": {
      "text/plain": [
       "(11485, 1337, 1441)"
      ]
     },
     "execution_count": 394,
     "metadata": {},
     "output_type": "execute_result"
    }
   ],
   "source": [
    "len(train_ids), len(val_ids), len(test_ids)"
   ]
  },
  {
   "cell_type": "markdown",
   "metadata": {},
   "source": [
    "### Define dataset"
   ]
  },
  {
   "cell_type": "code",
   "execution_count": 395,
   "metadata": {},
   "outputs": [],
   "source": [
    "import torch\n",
    "import torch.nn as nn\n",
    "from torch.autograd import Variable\n",
    "from torch.utils.data import DataLoader, Dataset\n",
    "from random import randint\n",
    "\n",
    "class MultimodalDataset(Dataset):\n",
    "\n",
    "    def __init__(self, train_ids, vids, words, transform=None):\n",
    "        \"\"\"\n",
    "        Args:\n",
    "            csv_file (string): Path to the csv file with annotations.\n",
    "            root_dir (string): Directory with all the images.\n",
    "            transform (callable, optional): Optional transform to be applied\n",
    "                on a sample.\n",
    "        \"\"\"\n",
    "        self.train_ids = train_ids\n",
    "        self.vids = vids\n",
    "        self.caps = words\n",
    "\n",
    "    def __len__(self):\n",
    "        return len(self.train_ids)\n",
    "\n",
    "    def __getitem__(self, idx):\n",
    "        vid_id = self.train_ids[idx]\n",
    "        vid_feat = self.vids[vid_id]\n",
    "        word_feat = self.caps[vid_id.split('_')[0]]\n",
    "        word_feat = np.expand_dims(word_feat, axis=0)\n",
    "        label = vid_id.split(\"_\")[0]\n",
    "        \n",
    "        neg_sample = False\n",
    "        n_vid_id = vid_id\n",
    "        n_label = label\n",
    "        while not neg_sample:\n",
    "            rand = randint(0, len(self.train_ids)-1)\n",
    "            if rand == idx:\n",
    "                break\n",
    "            n_vid_id = self.train_ids[rand]\n",
    "            n_label = n_vid_id.split(\"_\")[0]\n",
    "            if n_label is label:\n",
    "                break\n",
    "            neg_sample=True\n",
    "        \n",
    "        n_vid_feat = self.vids[n_vid_id]\n",
    "        n_word_feat = self.caps[n_vid_id.split('_')[0]]\n",
    "        n_word_feat = np.expand_dims(n_word_feat, axis=0)\n",
    "        \n",
    "        sample = {'vid_feat': vid_feat, 'word_feat': word_feat, 'label':label, \n",
    "                  'n_vid_feat': n_vid_feat, 'n_word_feat':n_word_feat, 'n_label':n_label }\n",
    "\n",
    "        return sample"
   ]
  },
  {
   "cell_type": "code",
   "execution_count": 396,
   "metadata": {},
   "outputs": [],
   "source": [
    "batch_size = 4\n",
    "train_data = MultimodalDataset(train_ids, vids=vid_features, words=word_dict)\n",
    "val_data = MultimodalDataset(val_ids, vids=vid_features, words=word_dict)\n",
    "test_data = MultimodalDataset(test_ids, vids=vid_features, words=word_dict)\n",
    "dataloader = DataLoader(dataset=train_data, batch_size=batch_size, shuffle=True)\n",
    "dataloaders_dict = {\n",
    "    'train' : DataLoader(dataset=train_data, batch_size=batch_size, shuffle=True),\n",
    "    'val': DataLoader(dataset=val_data, batch_size=batch_size, shuffle=True),\n",
    "    'test': DataLoader(dataset=test_data, batch_size=batch_size, shuffle=True)\n",
    "}"
   ]
  },
  {
   "cell_type": "code",
   "execution_count": 397,
   "metadata": {},
   "outputs": [
    {
     "name": "stdout",
     "output_type": "stream",
     "text": [
      "presenting weather forecast  -  whistling\n"
     ]
    }
   ],
   "source": [
    "data_sample = train_data[10]\n",
    "print(data_sample['label'],\" - \", data_sample['n_label'])\n",
    "word = data_sample['n_word_feat']"
   ]
  },
  {
   "cell_type": "code",
   "execution_count": 398,
   "metadata": {},
   "outputs": [
    {
     "data": {
      "text/plain": [
       "(1, 300)"
      ]
     },
     "execution_count": 398,
     "metadata": {},
     "output_type": "execute_result"
    }
   ],
   "source": [
    "test_data[0]['word_feat'].shape"
   ]
  },
  {
   "cell_type": "markdown",
   "metadata": {},
   "source": [
    "### Extract another dataset -> IAPRCTC12 - wiki"
   ]
  },
  {
   "cell_type": "code",
   "execution_count": null,
   "metadata": {},
   "outputs": [],
   "source": [
    "def readDATA(fileDir, vis=False):\n",
    "    words,vectors = [], []\n",
    "    with open(fileDir) as infile: # wherever you store the vectors\n",
    "        for line in infile:\n",
    "            line = line.strip()\n",
    "            line = line.split(\",\")\n",
    "            words.append(line[0])\n",
    "            vect = line[1:len(line)]\n",
    "            vect = [float(t) for t in vect]\n",
    "            if vis:\n",
    "                vect = np.expand_dims(vect, axis=0)\n",
    "            vectors.append(vect)\n",
    "        vectors = np.array(vectors)\n",
    "    return words, vectors"
   ]
  },
  {
   "cell_type": "code",
   "execution_count": null,
   "metadata": {},
   "outputs": [],
   "source": [
    "lb_ts, EMB_ts_vis = readDATA('iaprtc/TS_vis_vgg128.csv', True)\n",
    "_, EMB_ts_lang = readDATA('iaprtc/TS_lang_biGRU.csv')\n",
    "lb_tr, EMB_tr_vis = readDATA('iaprtc/TR_vis_vgg128.csv', True)\n",
    "_, EMB_tr_lang = readDATA('iaprtc/TR_lang_biGRU.csv')"
   ]
  },
  {
   "cell_type": "code",
   "execution_count": null,
   "metadata": {},
   "outputs": [],
   "source": [
    "len(lb_ts), len(EMB_ts_vis), len(EMB_ts_lang), len(lb_tr)"
   ]
  },
  {
   "cell_type": "code",
   "execution_count": null,
   "metadata": {},
   "outputs": [],
   "source": [
    "EMB_ts_lang.shape"
   ]
  },
  {
   "cell_type": "code",
   "execution_count": null,
   "metadata": {},
   "outputs": [],
   "source": [
    "import torch\n",
    "import torch.nn as nn\n",
    "from torch.autograd import Variable\n",
    "from torch.utils.data import DataLoader, Dataset\n",
    "\n",
    "class MultimodalDataset2(Dataset):\n",
    "\n",
    "    def __init__(self, vids, words, transform=None):\n",
    "        \"\"\"\n",
    "        Args:\n",
    "            csv_file (string): Path to the csv file with annotations.\n",
    "            root_dir (string): Directory with all the images.\n",
    "            transform (callable, optional): Optional transform to be applied\n",
    "                on a sample.\n",
    "        \"\"\"\n",
    "        self.vids = vids\n",
    "        self.caps = words\n",
    "\n",
    "    def __len__(self):\n",
    "        return len(self.vids)\n",
    "\n",
    "    def __getitem__(self, idx):\n",
    "        #vid_id = self.train_ids[idx]\n",
    "        vid_feat = self.vids[idx]\n",
    "        word_feat = self.caps[idx]\n",
    "        word_feat = np.expand_dims(word_feat, axis=0)\n",
    "\n",
    "        sample = {'vid_feat': vid_feat, 'word_feat': word_feat}\n",
    "\n",
    "        return sample"
   ]
  },
  {
   "cell_type": "code",
   "execution_count": null,
   "metadata": {},
   "outputs": [],
   "source": [
    "batch_size = 4\n",
    "train_data = MultimodalDataset2(vids=EMB_tr_vis[:-2000], words=EMB_tr_lang[:-2000])\n",
    "val_data = MultimodalDataset2(vids=EMB_tr_vis[-2000:], words=EMB_tr_lang[-2000:])\n",
    "test_data = MultimodalDataset2(vids=EMB_ts_vis, words=EMB_ts_lang)\n",
    "dataloader = DataLoader(dataset=train_data, batch_size=batch_size, shuffle=True)\n",
    "dataloaders_dict = {\n",
    "    'train' : DataLoader(dataset=train_data, batch_size=batch_size, shuffle=True),\n",
    "    'val': DataLoader(dataset=val_data, batch_size=batch_size, shuffle=True),\n",
    "    'test': DataLoader(dataset=test_data, batch_size=batch_size, shuffle=True)\n",
    "}"
   ]
  },
  {
   "cell_type": "code",
   "execution_count": null,
   "metadata": {},
   "outputs": [],
   "source": [
    "a = [1, 2, 3, 4 , 5, 6]\n",
    "a[:-2]"
   ]
  },
  {
   "cell_type": "markdown",
   "metadata": {},
   "source": [
    "### Define autoencoder"
   ]
  },
  {
   "cell_type": "code",
   "execution_count": 399,
   "metadata": {},
   "outputs": [],
   "source": [
    "class VideoEncoder(torch.nn.Module):\n",
    "\n",
    "    def __init__(self,\n",
    "                 C,\n",
    "                 N,\n",
    "                 num_feats,\n",
    "                 drop_out):\n",
    "        super(VideoEncoder, self).__init__()\n",
    "\n",
    "        self.C = C\n",
    "        self.N = N\n",
    "        self.num_feats = num_feats\n",
    "        mid = int((N+C)/2)\n",
    "        \n",
    "        self.fc = nn.Sequential(\n",
    "            nn.Linear(num_feats, C),\n",
    "            nn.ReLU(),\n",
    "            nn.Dropout(drop_out),\n",
    "            nn.Linear(C, mid),\n",
    "            nn.ReLU(),\n",
    "            nn.Dropout(drop_out),\n",
    "            nn.Linear(mid, N)\n",
    "        )     \n",
    "\n",
    "    def forward(self, inp):\n",
    "        out = self.fc(inp)\n",
    "        return out\n",
    "    \n",
    "class VideoDecoder(torch.nn.Module):\n",
    "\n",
    "    def __init__(self,\n",
    "                 C,\n",
    "                 N,\n",
    "                 num_feats,\n",
    "                 drop_out):\n",
    "        super(VideoDecoder, self).__init__()\n",
    "\n",
    "        self.C = C\n",
    "        self.N = N\n",
    "        self.num_feats = num_feats\n",
    "        mid = int((num_feats+C)/2)\n",
    "        \n",
    "        self.fc = nn.Sequential(\n",
    "            nn.Linear(N, C),\n",
    "            nn.ReLU(),\n",
    "            nn.Dropout(drop_out),\n",
    "            nn.Linear(C, mid),\n",
    "            nn.ReLU(),\n",
    "            nn.Dropout(drop_out),\n",
    "            nn.Linear(mid, num_feats)\n",
    "        )  \n",
    "        \n",
    "    def forward(self, inp):\n",
    "        out = self.fc(inp)\n",
    "        return out\n",
    "    \n",
    "class WordEncoder(torch.nn.Module):\n",
    "\n",
    "    def __init__(self,\n",
    "                 L,\n",
    "                 N,\n",
    "                 num_feats,\n",
    "                 drop_out):\n",
    "        super(WordEncoder, self).__init__()\n",
    "\n",
    "        self.L = L\n",
    "        self.N = N\n",
    "        self.num_feats = num_feats\n",
    "        mid = int((L+N)/2)\n",
    "        \n",
    "        self.fc = nn.Sequential(\n",
    "            nn.Linear(num_feats, L),\n",
    "            nn.ReLU(),\n",
    "            nn.Dropout(drop_out),\n",
    "            nn.Linear(L, mid),\n",
    "            nn.ReLU(),\n",
    "            nn.Dropout(drop_out),\n",
    "            nn.Linear(mid, N)\n",
    "        )\n",
    "\n",
    "    def forward(self, inp):\n",
    "        out = self.fc(inp)\n",
    "        return out\n",
    "    \n",
    "class WordDecoder(torch.nn.Module):\n",
    "\n",
    "    def __init__(self,\n",
    "                 L,\n",
    "                 N,\n",
    "                 num_feats,\n",
    "                 drop_out):\n",
    "        super(WordDecoder, self).__init__()\n",
    "\n",
    "        self.L = L\n",
    "        self.N = N\n",
    "        self.num_feats = num_feats\n",
    "        mid = int((L+num_feats)/2)\n",
    "        self.fc = nn.Sequential(\n",
    "            nn.Linear(N, L),\n",
    "            nn.ReLU(),\n",
    "            nn.Dropout(drop_out),\n",
    "            nn.Linear(L, mid),\n",
    "            nn.ReLU(),\n",
    "            nn.Dropout(drop_out),\n",
    "            nn.Linear(mid, num_feats)\n",
    "        )\n",
    "\n",
    "    def forward(self, inp):\n",
    "        out = self.fc(inp)\n",
    "        return out"
   ]
  },
  {
   "cell_type": "code",
   "execution_count": 400,
   "metadata": {},
   "outputs": [
    {
     "ename": "TypeError",
     "evalue": "__init__() missing 1 required positional argument: 'drop_out'",
     "output_type": "error",
     "traceback": [
      "\u001b[0;31m---------------------------------------------------------------------------\u001b[0m",
      "\u001b[0;31mTypeError\u001b[0m                                 Traceback (most recent call last)",
      "\u001b[0;32m<ipython-input-400-a2ca1f78abf5>\u001b[0m in \u001b[0;36m<module>\u001b[0;34m\u001b[0m\n\u001b[1;32m      3\u001b[0m \u001b[0mN\u001b[0m \u001b[0;34m=\u001b[0m \u001b[0;36m50\u001b[0m \u001b[0;31m# representation dim\u001b[0m\u001b[0;34m\u001b[0m\u001b[0m\n\u001b[1;32m      4\u001b[0m \u001b[0mV\u001b[0m \u001b[0;34m=\u001b[0m \u001b[0;36m1024\u001b[0m \u001b[0;31m# feature vector size for i3d\u001b[0m\u001b[0;34m\u001b[0m\u001b[0m\n\u001b[0;32m----> 5\u001b[0;31m \u001b[0menc_vid\u001b[0m \u001b[0;34m=\u001b[0m \u001b[0mVideoEncoder\u001b[0m\u001b[0;34m(\u001b[0m\u001b[0mC\u001b[0m\u001b[0;34m=\u001b[0m\u001b[0mC\u001b[0m\u001b[0;34m,\u001b[0m \u001b[0mN\u001b[0m\u001b[0;34m=\u001b[0m\u001b[0mN\u001b[0m\u001b[0;34m,\u001b[0m \u001b[0mnum_feats\u001b[0m\u001b[0;34m=\u001b[0m\u001b[0mV\u001b[0m\u001b[0;34m)\u001b[0m\u001b[0;34m\u001b[0m\u001b[0m\n\u001b[0m\u001b[1;32m      6\u001b[0m \u001b[0mdec_vid\u001b[0m \u001b[0;34m=\u001b[0m \u001b[0mVideoDecoder\u001b[0m\u001b[0;34m(\u001b[0m\u001b[0mC\u001b[0m\u001b[0;34m=\u001b[0m\u001b[0mC\u001b[0m\u001b[0;34m,\u001b[0m \u001b[0mN\u001b[0m\u001b[0;34m=\u001b[0m\u001b[0mN\u001b[0m\u001b[0;34m,\u001b[0m \u001b[0mnum_feats\u001b[0m\u001b[0;34m=\u001b[0m\u001b[0mV\u001b[0m\u001b[0;34m)\u001b[0m\u001b[0;34m\u001b[0m\u001b[0m\n",
      "\u001b[0;31mTypeError\u001b[0m: __init__() missing 1 required positional argument: 'drop_out'"
     ]
    }
   ],
   "source": [
    "batch_size = 1\n",
    "C = 300 # mid bottleneck for video\n",
    "N = 50 # representation dim\n",
    "V = 1024 # feature vector size for i3d\n",
    "enc_vid = VideoEncoder(C=C, N=N, num_feats=V)\n",
    "dec_vid = VideoDecoder(C=C, N=N, num_feats=V)"
   ]
  },
  {
   "cell_type": "code",
   "execution_count": null,
   "metadata": {},
   "outputs": [],
   "source": [
    "enc_vid.to(device)\n",
    "dec_vid.to(device)"
   ]
  },
  {
   "cell_type": "code",
   "execution_count": 70,
   "metadata": {},
   "outputs": [
    {
     "name": "stdout",
     "output_type": "stream",
     "text": [
      "cuda:0\n"
     ]
    }
   ],
   "source": [
    "device = torch.device(\"cuda:0\" if torch.cuda.is_available() else \"cpu\")\n",
    "print(device)"
   ]
  },
  {
   "cell_type": "code",
   "execution_count": null,
   "metadata": {},
   "outputs": [],
   "source": [
    "ff_0 = nn.Linear(1024, 300).to(device)\n",
    "ff = nn.Linear(300, 50).to(device)"
   ]
  },
  {
   "cell_type": "code",
   "execution_count": null,
   "metadata": {},
   "outputs": [],
   "source": [
    "#vid_sample = vid_sample.squeeze(0)\n",
    "#vid_sample.shape\n",
    "v_sampl.shape"
   ]
  },
  {
   "cell_type": "code",
   "execution_count": null,
   "metadata": {},
   "outputs": [],
   "source": [
    "k = ff_0(vid_sample)"
   ]
  },
  {
   "cell_type": "code",
   "execution_count": null,
   "metadata": {},
   "outputs": [],
   "source": [
    "k.shape"
   ]
  },
  {
   "cell_type": "code",
   "execution_count": null,
   "metadata": {},
   "outputs": [],
   "source": [
    "m = nn.ReLU()\n",
    "k = m(k)"
   ]
  },
  {
   "cell_type": "code",
   "execution_count": null,
   "metadata": {},
   "outputs": [],
   "source": [
    "k.shape"
   ]
  },
  {
   "cell_type": "code",
   "execution_count": null,
   "metadata": {},
   "outputs": [],
   "source": [
    "ff(k).shape"
   ]
  },
  {
   "cell_type": "code",
   "execution_count": null,
   "metadata": {},
   "outputs": [],
   "source": [
    "vid_sample = torch.from_numpy(test_data[0]['vid_feat']).float().to(device)\n",
    "h = enc_vid(vid_sample)\n",
    "h.shape"
   ]
  },
  {
   "cell_type": "code",
   "execution_count": null,
   "metadata": {},
   "outputs": [],
   "source": [
    "out = dec_vid(h)"
   ]
  },
  {
   "cell_type": "code",
   "execution_count": null,
   "metadata": {},
   "outputs": [],
   "source": [
    "out.shape"
   ]
  },
  {
   "cell_type": "code",
   "execution_count": null,
   "metadata": {},
   "outputs": [],
   "source": [
    "vid_sample.shape"
   ]
  },
  {
   "cell_type": "code",
   "execution_count": null,
   "metadata": {},
   "outputs": [],
   "source": [
    "L = 100 # mid bottleneck for word\n",
    "N = 50 # representation dim\n",
    "D = 300 # glove vector dim\n",
    "enc_word = WordEncoder(L=L, N=N, num_feats=D)\n",
    "dec_word = WordDecoder(L=L, N=N, num_feats=D)"
   ]
  },
  {
   "cell_type": "code",
   "execution_count": null,
   "metadata": {},
   "outputs": [],
   "source": [
    "word_sample = torch.from_numpy(test_data[0]['word_feat']).float().to(device)\n",
    "enc_word.to(device)\n",
    "dec_word.to(device)\n",
    "h_w = enc_word(word_sample)"
   ]
  },
  {
   "cell_type": "code",
   "execution_count": null,
   "metadata": {},
   "outputs": [],
   "source": [
    "h_w.shape"
   ]
  },
  {
   "cell_type": "code",
   "execution_count": null,
   "metadata": {},
   "outputs": [],
   "source": [
    "w_out = dec_word(h_w)"
   ]
  },
  {
   "cell_type": "code",
   "execution_count": null,
   "metadata": {},
   "outputs": [],
   "source": [
    "v_to_w = dec_word(h)"
   ]
  },
  {
   "cell_type": "code",
   "execution_count": null,
   "metadata": {},
   "outputs": [],
   "source": [
    "w_to_v = dec_vid(h_w)"
   ]
  },
  {
   "cell_type": "code",
   "execution_count": null,
   "metadata": {},
   "outputs": [],
   "source": [
    "w_to_v.shape, vid_sample.shape"
   ]
  },
  {
   "cell_type": "code",
   "execution_count": null,
   "metadata": {},
   "outputs": [],
   "source": [
    "loss = nn.MSELoss()\n",
    "loss(w_to_v ,vid_sample.view(1, 1, 1024))"
   ]
  },
  {
   "cell_type": "code",
   "execution_count": null,
   "metadata": {},
   "outputs": [],
   "source": [
    "loss(v_to_w, word_sample.view(1, 1, 300))"
   ]
  },
  {
   "cell_type": "markdown",
   "metadata": {},
   "source": [
    "### Define parameters"
   ]
  },
  {
   "cell_type": "code",
   "execution_count": 401,
   "metadata": {},
   "outputs": [
    {
     "name": "stdout",
     "output_type": "stream",
     "text": [
      "Video autoencoder::: \n",
      "Word autoencoder::: \n"
     ]
    }
   ],
   "source": [
    "num_epochs = 300\n",
    "batch_size = 512\n",
    "learning_rate = 1e-3\n",
    "weight_decay = 1e-5\n",
    "drop_out = 0.5\n",
    "\n",
    "dataset= 'kinetics'\n",
    "\n",
    "if dataset is 'kinetics':\n",
    "    C = 600 # mid bottleneck for video\n",
    "    N = 150 # representation dim\n",
    "    V = 1024 # feature vector size for i3d\n",
    "    L = 200 # mid bottleneck for word\n",
    "    D = 300 # glove vector dim\n",
    "elif dataset is 'wiki':\n",
    "    C = 80 # mid bottleneck for video\n",
    "    N = 48 # representation dim\n",
    "    V = 128 # feature vector size for vgg\n",
    "    L = 100 # mid bottleneck for text\n",
    "    D = 64 # gru feature size \n",
    "\n",
    "print(\"Video autoencoder::: \")\n",
    "enc_vid = VideoEncoder(C=C, N=N, num_feats=V, drop_out=drop_out)\n",
    "dec_vid = VideoDecoder(C=C, N=N, num_feats=V, drop_out=drop_out)\n",
    "\n",
    "print(\"Word autoencoder::: \")\n",
    "enc_word = WordEncoder(L=L, N=N, num_feats=D, drop_out=drop_out)\n",
    "dec_word = WordDecoder(L=L, N=N, num_feats=D, drop_out=drop_out)\n",
    "\n",
    "\n",
    "optim1 = torch.optim.Adam(enc_vid.parameters(), lr=learning_rate, weight_decay = weight_decay)\n",
    "optim2 = torch.optim.Adam(dec_vid.parameters(), lr=learning_rate, weight_decay = weight_decay)\n",
    "optim3 = torch.optim.Adam(enc_word.parameters(), lr=learning_rate, weight_decay = weight_decay)\n",
    "optim4 = torch.optim.Adam(dec_word.parameters(), lr=learning_rate, weight_decay = weight_decay)\n",
    "criterion = nn.MSELoss()"
   ]
  },
  {
   "cell_type": "code",
   "execution_count": 402,
   "metadata": {},
   "outputs": [],
   "source": [
    "if dataset is 'kinetics':\n",
    "    train_data = MultimodalDataset(train_ids, vids=vid_features, words=word_dict)\n",
    "    val_data = MultimodalDataset(val_ids, vids=vid_features, words=word_dict)\n",
    "    test_data = MultimodalDataset(test_ids, vids=vid_features, words=word_dict)\n",
    "    dataloader = DataLoader(dataset=train_data, batch_size=batch_size, shuffle=True)\n",
    "    dataloaders_dict = {\n",
    "        'train' : DataLoader(dataset=train_data, batch_size=batch_size, shuffle=True),\n",
    "        'val': DataLoader(dataset=val_data, batch_size=batch_size, shuffle=True),\n",
    "        'test': DataLoader(dataset=test_data, batch_size=1, shuffle=True)\n",
    "    }\n",
    "elif dataset is 'wiki_small':\n",
    "    train_data = MultimodalDataset2(vids=EMB_tr_vis[:700], words=EMB_tr_lang[:700])\n",
    "    val_data = MultimodalDataset2(vids=EMB_tr_vis[700:800], words=EMB_tr_lang[700:800])\n",
    "    test_data = MultimodalDataset2(vids=EMB_ts_vis[:100], words=EMB_ts_lang[:100])\n",
    "    dataloader = DataLoader(dataset=train_data, batch_size=batch_size, shuffle=True)\n",
    "    dataloaders_dict = {\n",
    "        'train' : DataLoader(dataset=train_data, batch_size=batch_size, shuffle=True),\n",
    "        'val': DataLoader(dataset=val_data, batch_size=batch_size, shuffle=True),\n",
    "        'test': DataLoader(dataset=test_data, batch_size=1, shuffle=True)\n",
    "    }\n",
    "elif dataset is 'wiki':\n",
    "    train_data = MultimodalDataset2(vids=EMB_tr_vis[:14131], words=EMB_tr_lang[:14131])\n",
    "    val_data = MultimodalDataset2(vids=EMB_tr_vis[14131:15898], words=EMB_tr_lang[14131:15898])\n",
    "    test_data = MultimodalDataset2(vids=EMB_ts_vis[:1767], words=EMB_ts_lang[:1767])\n",
    "    dataloader = DataLoader(dataset=train_data, batch_size=batch_size, shuffle=True)\n",
    "    dataloaders_dict = {\n",
    "        'train' : DataLoader(dataset=train_data, batch_size=batch_size, shuffle=True),\n",
    "        'val': DataLoader(dataset=val_data, batch_size=batch_size, shuffle=True),\n",
    "        'test': DataLoader(dataset=test_data, batch_size=batch_size, shuffle=True)\n",
    "    }"
   ]
  },
  {
   "cell_type": "code",
   "execution_count": 328,
   "metadata": {},
   "outputs": [
    {
     "ename": "KeyError",
     "evalue": "'dancing macarena'",
     "output_type": "error",
     "traceback": [
      "\u001b[0;31m---------------------------------------------------------------------------\u001b[0m",
      "\u001b[0;31mKeyError\u001b[0m                                  Traceback (most recent call last)",
      "\u001b[0;32m<ipython-input-328-0ee5bcfb3203>\u001b[0m in \u001b[0;36m<module>\u001b[0;34m\u001b[0m\n\u001b[0;32m----> 1\u001b[0;31m \u001b[0mlen\u001b[0m\u001b[0;34m(\u001b[0m\u001b[0mword_dict\u001b[0m\u001b[0;34m[\u001b[0m\u001b[0;34m'dancing macarena'\u001b[0m\u001b[0;34m]\u001b[0m\u001b[0;34m)\u001b[0m\u001b[0;34m\u001b[0m\u001b[0m\n\u001b[0m",
      "\u001b[0;31mKeyError\u001b[0m: 'dancing macarena'"
     ]
    }
   ],
   "source": [
    "len(word_dict['dancing macarena'])"
   ]
  },
  {
   "cell_type": "code",
   "execution_count": 213,
   "metadata": {},
   "outputs": [
    {
     "ename": "NameError",
     "evalue": "name 'EMB_tr_vis' is not defined",
     "output_type": "error",
     "traceback": [
      "\u001b[0;31m---------------------------------------------------------------------------\u001b[0m",
      "\u001b[0;31mNameError\u001b[0m                                 Traceback (most recent call last)",
      "\u001b[0;32m<ipython-input-213-7373d22ca493>\u001b[0m in \u001b[0;36m<module>\u001b[0;34m\u001b[0m\n\u001b[0;32m----> 1\u001b[0;31m \u001b[0mEMB_tr_vis\u001b[0m\u001b[0;34m.\u001b[0m\u001b[0mshape\u001b[0m\u001b[0;34m\u001b[0m\u001b[0m\n\u001b[0m",
      "\u001b[0;31mNameError\u001b[0m: name 'EMB_tr_vis' is not defined"
     ]
    }
   ],
   "source": [
    "EMB_tr_vis.shape"
   ]
  },
  {
   "cell_type": "markdown",
   "metadata": {},
   "source": [
    "## Train the model"
   ]
  },
  {
   "cell_type": "code",
   "execution_count": 403,
   "metadata": {},
   "outputs": [],
   "source": [
    "enc_vid = enc_vid.to(device)\n",
    "dec_vid = dec_vid.to(device)\n",
    "enc_word = enc_word.to(device)\n",
    "dec_word = dec_word.to(device)"
   ]
  },
  {
   "cell_type": "code",
   "execution_count": 404,
   "metadata": {},
   "outputs": [],
   "source": [
    "enc_vid = nn.DataParallel(enc_vid)\n",
    "dec_vid = nn.DataParallel(dec_vid)\n",
    "enc_word = nn.DataParallel(enc_word)\n",
    "dec_word = nn.DataParallel(dec_word)"
   ]
  },
  {
   "cell_type": "code",
   "execution_count": 405,
   "metadata": {},
   "outputs": [
    {
     "data": {
      "text/plain": [
       "(11485, 1337, 1441)"
      ]
     },
     "execution_count": 405,
     "metadata": {},
     "output_type": "execute_result"
    }
   ],
   "source": [
    "len(dataloaders_dict['train'].dataset), len(dataloaders_dict['val'].dataset), len(dataloaders_dict['test'].dataset)"
   ]
  },
  {
   "cell_type": "code",
   "execution_count": 406,
   "metadata": {},
   "outputs": [
    {
     "name": "stdout",
     "output_type": "stream",
     "text": [
      "DataParallel(\n",
      "  (module): VideoEncoder(\n",
      "    (fc): Sequential(\n",
      "      (0): Linear(in_features=1024, out_features=600, bias=True)\n",
      "      (1): ReLU()\n",
      "      (2): Dropout(p=0.5)\n",
      "      (3): Linear(in_features=600, out_features=375, bias=True)\n",
      "      (4): ReLU()\n",
      "      (5): Dropout(p=0.5)\n",
      "      (6): Linear(in_features=375, out_features=150, bias=True)\n",
      "    )\n",
      "  )\n",
      ")\n"
     ]
    }
   ],
   "source": [
    "print(enc_vid)"
   ]
  },
  {
   "cell_type": "code",
   "execution_count": 407,
   "metadata": {},
   "outputs": [
    {
     "name": "stdout",
     "output_type": "stream",
     "text": [
      "epoch [1/300], epoch_loss:8.92476177, l_recons:0.25862036, l_joint:0.13739784, l_rank:0.59827262, l_cross:0.26834150\n",
      "epoch [6/300], epoch_loss:8.76937866, l_recons:0.24921270, l_joint:0.87873951, l_rank:0.60168147, l_cross:0.25033514\n",
      "epoch [11/300], epoch_loss:7.64272499, l_recons:0.23119941, l_joint:0.25722317, l_rank:0.49233028, l_cross:0.24882226\n",
      "epoch [16/300], epoch_loss:6.85749102, l_recons:0.21909659, l_joint:0.20301680, l_rank:0.41855550, l_cross:0.24528394\n",
      "epoch [21/300], epoch_loss:6.73666644, l_recons:0.20966902, l_joint:0.24948702, l_rank:0.40832914, l_cross:0.24437062\n",
      "epoch [26/300], epoch_loss:6.36795449, l_recons:0.20200701, l_joint:0.31183806, l_rank:0.37428979, l_cross:0.24230495\n",
      "epoch [31/300], epoch_loss:6.26015663, l_recons:0.19813114, l_joint:0.35445952, l_rank:0.36193044, l_cross:0.24427211\n",
      "epoch [36/300], epoch_loss:6.29964232, l_recons:0.19267596, l_joint:0.45035420, l_rank:0.36625153, l_cross:0.24444512\n",
      "epoch [41/300], epoch_loss:6.39672136, l_recons:0.18904077, l_joint:0.55834000, l_rank:0.37624010, l_cross:0.24452798\n",
      "epoch [46/300], epoch_loss:6.18608427, l_recons:0.18606884, l_joint:0.60452081, l_rank:0.35495003, l_cross:0.24505150\n",
      "epoch [51/300], epoch_loss:6.14657617, l_recons:0.18153029, l_joint:0.70591521, l_rank:0.35427230, l_cross:0.24223228\n",
      "epoch [56/300], epoch_loss:6.35868311, l_recons:0.17977041, l_joint:0.83352682, l_rank:0.37270819, l_cross:0.24518305\n",
      "epoch [61/300], epoch_loss:6.38000131, l_recons:0.17659399, l_joint:1.01430339, l_rank:0.37493137, l_cross:0.24540934\n",
      "epoch [66/300], epoch_loss:6.01554918, l_recons:0.17323395, l_joint:1.11160398, l_rank:0.34060772, l_cross:0.24362379\n",
      "epoch [71/300], epoch_loss:5.89252830, l_recons:0.17034203, l_joint:1.26314291, l_rank:0.32927023, l_cross:0.24294839\n",
      "epoch [76/300], epoch_loss:6.14772224, l_recons:0.16785993, l_joint:1.40917084, l_rank:0.35583174, l_cross:0.24215446\n",
      "epoch [81/300], epoch_loss:6.26885223, l_recons:0.16772705, l_joint:1.55888885, l_rank:0.36585899, l_cross:0.24425353\n",
      "epoch [86/300], epoch_loss:6.21241856, l_recons:0.16396028, l_joint:1.72802711, l_rank:0.36134502, l_cross:0.24350078\n",
      "epoch [91/300], epoch_loss:6.24541485, l_recons:0.16665353, l_joint:1.89173990, l_rank:0.36373241, l_cross:0.24414371\n",
      "epoch [96/300], epoch_loss:6.16998553, l_recons:0.16129327, l_joint:2.07586432, l_rank:0.35795430, l_cross:0.24291494\n",
      "epoch [101/300], epoch_loss:6.21739841, l_recons:0.16034153, l_joint:2.30464959, l_rank:0.36387525, l_cross:0.24183047\n",
      "epoch [106/300], epoch_loss:6.19930458, l_recons:0.15830192, l_joint:2.66724586, l_rank:0.36141950, l_cross:0.24268077\n",
      "epoch [111/300], epoch_loss:6.28221345, l_recons:0.15520848, l_joint:2.77012634, l_rank:0.36953679, l_cross:0.24316370\n",
      "epoch [116/300], epoch_loss:6.36798620, l_recons:0.15537695, l_joint:2.92309791, l_rank:0.37840043, l_cross:0.24286049\n",
      "epoch [121/300], epoch_loss:6.29393721, l_recons:0.15493982, l_joint:3.25625348, l_rank:0.37204628, l_cross:0.24185346\n",
      "epoch [126/300], epoch_loss:5.91895998, l_recons:0.15234504, l_joint:3.43483567, l_rank:0.33460391, l_cross:0.24205761\n",
      "epoch [131/300], epoch_loss:6.50600243, l_recons:0.14881483, l_joint:3.72103000, l_rank:0.39279824, l_cross:0.24292052\n",
      "epoch [136/300], epoch_loss:6.51377678, l_recons:0.14906946, l_joint:4.18847978, l_rank:0.39304256, l_cross:0.24342818\n",
      "epoch [141/300], epoch_loss:6.51324153, l_recons:0.14748089, l_joint:4.55923057, l_rank:0.39309885, l_cross:0.24347723\n",
      "epoch [146/300], epoch_loss:6.40391541, l_recons:0.14782885, l_joint:4.66156185, l_rank:0.38216492, l_cross:0.24344373\n",
      "epoch [151/300], epoch_loss:6.51697707, l_recons:0.14569062, l_joint:4.77186787, l_rank:0.39381826, l_cross:0.24331039\n",
      "epoch [156/300], epoch_loss:6.39337707, l_recons:0.14497522, l_joint:5.18685412, l_rank:0.38124881, l_cross:0.24359139\n",
      "epoch [161/300], epoch_loss:6.47448993, l_recons:0.14331875, l_joint:5.57316983, l_rank:0.38981470, l_cross:0.24330240\n",
      "epoch [166/300], epoch_loss:6.28478241, l_recons:0.14547746, l_joint:6.14337873, l_rank:0.36911330, l_cross:0.24481717\n",
      "epoch [171/300], epoch_loss:6.44044971, l_recons:0.14173181, l_joint:6.60701990, l_rank:0.38715179, l_cross:0.24272001\n",
      "epoch [176/300], epoch_loss:6.68225360, l_recons:0.13890023, l_joint:6.86265540, l_rank:0.41055502, l_cross:0.24378034\n",
      "epoch [181/300], epoch_loss:6.54368377, l_recons:0.13961945, l_joint:7.29399657, l_rank:0.39747524, l_cross:0.24293118\n",
      "epoch [186/300], epoch_loss:6.32506204, l_recons:0.13893637, l_joint:7.80832148, l_rank:0.37523835, l_cross:0.24337421\n",
      "epoch [191/300], epoch_loss:6.53780556, l_recons:0.13626951, l_joint:8.03735065, l_rank:0.39664973, l_cross:0.24350386\n",
      "epoch [196/300], epoch_loss:6.64880300, l_recons:0.13801936, l_joint:8.93836904, l_rank:0.40766135, l_cross:0.24341702\n",
      "epoch [201/300], epoch_loss:6.33856654, l_recons:0.13581865, l_joint:9.10054994, l_rank:0.37862913, l_cross:0.24164566\n",
      "epoch [206/300], epoch_loss:6.37027073, l_recons:0.13594655, l_joint:9.97544980, l_rank:0.38121529, l_cross:0.24221711\n",
      "epoch [211/300], epoch_loss:6.39294553, l_recons:0.13521666, l_joint:10.37647986, l_rank:0.38318662, l_cross:0.24258628\n",
      "epoch [216/300], epoch_loss:6.26488495, l_recons:0.13421443, l_joint:10.97574329, l_rank:0.37063275, l_cross:0.24243430\n",
      "epoch [221/300], epoch_loss:6.43056655, l_recons:0.13261244, l_joint:11.37673688, l_rank:0.38602608, l_cross:0.24376932\n",
      "epoch [226/300], epoch_loss:6.19937825, l_recons:0.13420159, l_joint:11.85408497, l_rank:0.36354071, l_cross:0.24297693\n",
      "epoch [231/300], epoch_loss:6.11095881, l_recons:0.13281898, l_joint:13.24139500, l_rank:0.35531066, l_cross:0.24250332\n",
      "epoch [236/300], epoch_loss:6.69328618, l_recons:0.13479688, l_joint:13.49666166, l_rank:0.41232245, l_cross:0.24352649\n",
      "epoch [241/300], epoch_loss:6.45879340, l_recons:0.12898212, l_joint:14.55942535, l_rank:0.39004162, l_cross:0.24293949\n",
      "epoch [246/300], epoch_loss:6.27294683, l_recons:0.12966683, l_joint:14.53482199, l_rank:0.37171353, l_cross:0.24261446\n",
      "epoch [251/300], epoch_loss:6.65995502, l_recons:0.13106572, l_joint:15.20266867, l_rank:0.40957750, l_cross:0.24331142\n",
      "epoch [256/300], epoch_loss:6.34306002, l_recons:0.12995639, l_joint:15.98923540, l_rank:0.37920463, l_cross:0.24210577\n",
      "epoch [261/300], epoch_loss:6.42507601, l_recons:0.13000230, l_joint:16.39762974, l_rank:0.38507585, l_cross:0.24443152\n",
      "epoch [266/300], epoch_loss:6.52192950, l_recons:0.12799405, l_joint:17.09469414, l_rank:0.39560302, l_cross:0.24379054\n",
      "epoch [271/300], epoch_loss:6.68728709, l_recons:0.13048924, l_joint:17.97800493, l_rank:0.41134717, l_cross:0.24433261\n",
      "epoch [276/300], epoch_loss:6.61292624, l_recons:0.12686504, l_joint:18.99994183, l_rank:0.40524264, l_cross:0.24336349\n",
      "epoch [281/300], epoch_loss:6.44638658, l_recons:0.12790492, l_joint:19.11494637, l_rank:0.38995330, l_cross:0.24189489\n",
      "epoch [286/300], epoch_loss:6.63024688, l_recons:0.12672938, l_joint:20.99370384, l_rank:0.40530974, l_cross:0.24504203\n",
      "epoch [291/300], epoch_loss:6.29588008, l_recons:0.12384427, l_joint:21.12322092, l_rank:0.37380521, l_cross:0.24339838\n",
      "epoch [296/300], epoch_loss:6.40510201, l_recons:0.12591867, l_joint:21.27982664, l_rank:0.38558632, l_cross:0.24233201\n",
      "Training complete in 9m 16s\n",
      "Best val Acc: 5.892528\n"
     ]
    }
   ],
   "source": [
    "import time\n",
    "import copy\n",
    "\n",
    "since = time.time()\n",
    "\n",
    "train_acc_history = []\n",
    "val_acc_history = []\n",
    "\n",
    "best_enc_vid = VideoEncoder(C=C, N=N, num_feats=V, drop_out=drop_out)\n",
    "best_dec_vid = VideoDecoder(C=C, N=N, num_feats=V, drop_out=drop_out)\n",
    "best_enc_word = WordEncoder(L=L, N=N, num_feats=D, drop_out=drop_out)\n",
    "best_dec_word = WordDecoder(L=L, N=N, num_feats=D, drop_out=drop_out)\n",
    "\n",
    "\n",
    "best_loss = 1000000.0\n",
    "\n",
    "num_epochs=300\n",
    "\n",
    "for epoch in range(num_epochs):\n",
    "\n",
    "    for phase in ['train', 'val']:\n",
    "        if phase == 'train':\n",
    "            # Set model to training mode\n",
    "            enc_vid.train()\n",
    "            dec_vid.train()\n",
    "            enc_word.train()\n",
    "            dec_word.train()\n",
    "        else:\n",
    "            enc_vid.eval()\n",
    "            dec_vid.eval()\n",
    "            enc_word.eval()\n",
    "            dec_word.eval()\n",
    "            \n",
    "        running_loss = 0.0\n",
    "        l_recons, l_joint, l_cross = 0.0, 0.0, 0.0\n",
    "        running_l_recons, running_l_joint, running_l_cross = 0.0, 0.0, 0.0\n",
    "        running_l_rank = 0.0\n",
    "        optim1.zero_grad()\n",
    "        optim2.zero_grad()\n",
    "        optim3.zero_grad()\n",
    "        optim4.zero_grad()\n",
    "        \n",
    "        for data in dataloaders_dict[phase]:\n",
    "            \n",
    "            video = data[\"vid_feat\"].float().to(device)\n",
    "            word = data[\"word_feat\"].float().to(device)\n",
    "            \n",
    "            n_video = data[\"n_vid_feat\"].float().to(device)\n",
    "            n_word = data[\"n_word_feat\"].float().to(device)\n",
    "\n",
    "            with torch.set_grad_enabled(phase == 'train'):\n",
    "                try:\n",
    "                    mid_video = enc_vid(video)\n",
    "                except RuntimeError as err:\n",
    "                    print(video.shape)\n",
    "                    print(\"mid video cannot create: \", err)\n",
    "                    break\n",
    "                out_video = dec_vid(mid_video)\n",
    "                \n",
    "                loss1 = criterion(out_video, video)\n",
    "\n",
    "                mid_word = enc_word(word)\n",
    "                out_word = dec_word(mid_word)\n",
    "\n",
    "                \n",
    "                loss2 = criterion(out_word, word)\n",
    "\n",
    "                l_recons = loss1+loss2\n",
    "                \n",
    "                cos = nn.CosineSimilarity(dim=2, eps=1e-6)\n",
    "                \n",
    "                n_mid_word = enc_word(n_word)\n",
    "                \n",
    "                try:\n",
    "                    sim1 = cos(mid_video, mid_word)\n",
    "                    sim2 = cos(mid_video, n_mid_word)\n",
    "                except:\n",
    "                    break\n",
    "                \n",
    "                marg_loss = torch.nn.MarginRankingLoss(margin=0.2)\n",
    "                target = torch.ones(len(sim1)).to(device)\n",
    "                #print(\"mid word: \", mid_video.shape)\n",
    "                #print(\"sim1: \", sim1.shape, \" sim2: \", sim2.shape)\n",
    "                l_rank_joint = marg_loss(sim1, sim2, target)\n",
    "                \n",
    "                \n",
    "                l_joint = criterion(mid_video, mid_word)\n",
    "\n",
    "                cross_words = dec_word(mid_video)\n",
    "                cross_video = dec_vid(mid_video)\n",
    "                l_cross = criterion(cross_words, word) + criterion(cross_video, video)\n",
    "\n",
    "                alpha1, alpha2, alpha3 = 1, 10, 10\n",
    "                loss = alpha1*l_recons + alpha2*l_rank_joint + alpha3*l_cross\n",
    "                \n",
    "                running_loss += loss.item()\n",
    "                running_l_recons += l_recons.item()\n",
    "                running_l_joint += l_joint.item()\n",
    "                running_l_cross += l_cross.item()\n",
    "                running_l_rank += l_rank_joint.item()\n",
    "\n",
    "                if phase == 'train':\n",
    "                    optim1.zero_grad()\n",
    "                    optim2.zero_grad()\n",
    "                    optim3.zero_grad()\n",
    "                    optim4.zero_grad()\n",
    "                    loss.backward()\n",
    "                    optim1.step()\n",
    "                    optim2.step()\n",
    "                    optim3.step()\n",
    "                    optim4.step()\n",
    "            \n",
    "        epoch_loss = running_loss #/ len(dataloaders_dict[phase].dataset)\n",
    "        \n",
    "        if phase == 'train':\n",
    "            train_acc_history.append(epoch_loss)\n",
    "        \n",
    "        #loss = running_loss\n",
    "        if phase == 'val':\n",
    "            if epoch_loss < best_loss:\n",
    "                best_loss = epoch_loss\n",
    "                best_enc_vid = copy.deepcopy(enc_vid)\n",
    "                best_dec_vid = copy.deepcopy(dec_vid)\n",
    "                best_enc_word = copy.deepcopy(enc_word)\n",
    "                best_dec_word = copy.deepcopy(dec_word)\n",
    "            val_acc_history.append(epoch_loss)\n",
    "            if epoch%5 ==0:\n",
    "                print('epoch [{}/{}], epoch_loss:{:.8f}, l_recons:{:.8f}, l_joint:{:.8f}, l_rank:{:.8f}, l_cross:{:.8f}'\n",
    "                      .format(epoch + 1, num_epochs, epoch_loss, running_l_recons, running_l_joint, running_l_rank, running_l_cross))\n",
    "        \n",
    "time_elapsed = time.time() - since\n",
    "print('Training complete in {:.0f}m {:.0f}s'.format(time_elapsed // 60, time_elapsed % 60))\n",
    "print('Best val Acc: {:4f}'.format(best_loss))\n",
    "\n",
    "torch.save(enc_vid.state_dict(), './video_encoder.pth')\n",
    "torch.save(dec_vid.state_dict(), './video_decoder.pth')\n",
    "torch.save(enc_word.state_dict(), './word_encoder.pth')\n",
    "torch.save(enc_word.state_dict(), './word_decoder.pth')"
   ]
  },
  {
   "cell_type": "code",
   "execution_count": 408,
   "metadata": {},
   "outputs": [
    {
     "data": {
      "text/plain": [
       "5.892528295516968"
      ]
     },
     "execution_count": 408,
     "metadata": {},
     "output_type": "execute_result"
    }
   ],
   "source": [
    "best_loss"
   ]
  },
  {
   "cell_type": "code",
   "execution_count": 409,
   "metadata": {},
   "outputs": [
    {
     "data": {
      "image/png": "[encoded data removed]",
      "text/plain": [
       "<Figure size 432x288 with 1 Axes>"
      ]
     },
     "metadata": {
      "needs_background": "light"
     },
     "output_type": "display_data"
    },
    {
     "data": {
      "text/plain": [
       "<Figure size 432x288 with 0 Axes>"
      ]
     },
     "metadata": {},
     "output_type": "display_data"
    }
   ],
   "source": [
    "import matplotlib.pyplot as plt\n",
    "\n",
    "plt.plot(val_acc_history)\n",
    "plt.show()\n",
    "\n",
    "plt.savefig('val11010.png');"
   ]
  },
  {
   "cell_type": "code",
   "execution_count": 410,
   "metadata": {},
   "outputs": [
    {
     "data": {
      "image/png": "[encoded data removed]",
      "text/plain": [
       "<Figure size 432x288 with 1 Axes>"
      ]
     },
     "metadata": {
      "needs_background": "light"
     },
     "output_type": "display_data"
    },
    {
     "data": {
      "text/plain": [
       "<Figure size 432x288 with 0 Axes>"
      ]
     },
     "metadata": {},
     "output_type": "display_data"
    }
   ],
   "source": [
    "plt.plot(train_acc_history)\n",
    "plt.show()\n",
    "\n",
    "plt.savefig('train11010.png');"
   ]
  },
  {
   "cell_type": "markdown",
   "metadata": {},
   "source": [
    "### Evaluate on test data"
   ]
  },
  {
   "cell_type": "code",
   "execution_count": 411,
   "metadata": {},
   "outputs": [],
   "source": [
    "enc_vid.eval()\n",
    "dec_vid.eval()\n",
    "enc_word.eval()\n",
    "dec_word.eval()\n",
    "\n",
    "eval_loss = []\n",
    "check_similarities = True\n",
    "test_dataloader = DataLoader(dataset=test_data, batch_size=1, shuffle=True)\n",
    "\n",
    "similarities= {}\n",
    "acc = 0\n",
    "c = 0\n",
    "\n",
    "mNNOs = []\n",
    "\n",
    "torch.set_grad_enabled(False)\n",
    "\n",
    "#data_size=1767\n",
    "data_size=len(dataloaders_dict['test'].dataset)\n",
    "\n",
    "vid_inputs = torch.zeros((data_size, V))\n",
    "word_inputs = torch.zeros((data_size, D))\n",
    "vid_to_word = torch.zeros((data_size, D))\n",
    "word_to_vid = torch.zeros((data_size, V))\n",
    "\n",
    "\n",
    "for data in test_dataloader:\n",
    "    video = data[\"vid_feat\"].float().to(device)\n",
    "    word = data[\"word_feat\"].float().to(device)\n",
    "    label = data[\"label\"][0]\n",
    "    #print(\"video shape: \", video.squeeze(0).shape)\n",
    "    \n",
    "    try:\n",
    "        mid_video = best_enc_vid(video)\n",
    "    except RuntimeError as err:\n",
    "        print(\"eror:\", err)\n",
    "        break\n",
    "    out_video = best_dec_vid(mid_video)\n",
    "    loss1 = criterion(out_video, video)\n",
    "\n",
    "    mid_word = best_enc_word(word)\n",
    "    out_word = best_dec_word(mid_word)\n",
    "    loss2 = criterion(out_word, word)\n",
    "\n",
    "    l_recons = loss1+loss2\n",
    "\n",
    "    l_joint = criterion(mid_video, mid_word)\n",
    "\n",
    "    cross_words = best_dec_word(mid_video)\n",
    "    cross_video = best_dec_vid(mid_video)\n",
    "    l_cross = criterion(cross_words, word) + criterion(cross_video, video)\n",
    "\n",
    "    alpha1, alpha2, alpha3 = 1, 1, 1\n",
    "    loss = l_recons + alpha1 * l_joint + alpha2 * l_cross\n",
    "    \n",
    "    #print(\"data: {}, \\n\" , c)\n",
    "    #print('  mid video: {} ,  out video:{}'.format(mid_video[0][0][:5], out_video[0][0][:5]))\n",
    "    #print('  mid word: {} ,  out word:{}'.format(mid_word[0][0][:5], out_word[0][0][:5]))\n",
    "    \n",
    "    \n",
    "    vid_inputs[c]=video.squeeze(0)\n",
    "    word_inputs[c]=word.squeeze(0)\n",
    "    vid_to_word[c]=cross_words.squeeze(0)\n",
    "    word_to_vid[c]=cross_video.squeeze(0)\n",
    "    \n",
    "    \n",
    "    #print(loss.item())\n",
    "    eval_loss.append(loss.item())\n",
    "        \n",
    "    if check_similarities:\n",
    "        sample_word = cross_words.cpu().detach().numpy()\n",
    "        sample_word = np.squeeze(np.transpose(sample_word))\n",
    "        #print(\"samp word size:\", label)\n",
    "        sims = _similarity_query(word_vectors, sample_word, 30, inverse_dictionary)[1:]\n",
    "\n",
    "        \n",
    "        if label not in similarities:\n",
    "            similarities[label] = [[sims]]\n",
    "        else:\n",
    "            similarities[label].append([sims])\n",
    "        #label = \"\".join(label.split())\n",
    "        #print(label)\n",
    "        sim_words = [word_vals[0] for word_vals in sims]\n",
    "        #print(len(sim_words))\n",
    "        if check_match(label, sim_words):\n",
    "            acc += 1\n",
    "    \n",
    "        #mNNO = check_neighbors(sims, label_similarities[label])\n",
    "        #mNNOs.append(len(mNNO))\n",
    "    c+=1\n",
    "    \n",
    "#print(\"val loss: \", np.mean(eval_loss))"
   ]
  },
  {
   "cell_type": "code",
   "execution_count": 412,
   "metadata": {},
   "outputs": [
    {
     "data": {
      "text/plain": [
       "(torch.Size([1441, 1024]),\n",
       " torch.Size([1441, 300]),\n",
       " torch.Size([1441, 300]),\n",
       " torch.Size([1441, 1024]))"
      ]
     },
     "execution_count": 412,
     "metadata": {},
     "output_type": "execute_result"
    }
   ],
   "source": [
    "vid_inputs.shape, word_inputs.shape, vid_to_word.shape, word_to_vid.shape"
   ]
  },
  {
   "cell_type": "code",
   "execution_count": 413,
   "metadata": {},
   "outputs": [
    {
     "name": "stdout",
     "output_type": "stream",
     "text": [
      "val loss:  0.5549734417584354\n"
     ]
    }
   ],
   "source": [
    "print(\"val loss: \", np.mean(eval_loss))"
   ]
  },
  {
   "cell_type": "code",
   "execution_count": null,
   "metadata": {},
   "outputs": [],
   "source": [
    "# TEST SCORE \n",
    "np.average(mNNOs)"
   ]
  },
  {
   "cell_type": "code",
   "execution_count": null,
   "metadata": {},
   "outputs": [],
   "source": [
    "k = [ x for x in mNNOs if x>1]\n",
    "print(len(k))"
   ]
  },
  {
   "cell_type": "code",
   "execution_count": null,
   "metadata": {},
   "outputs": [],
   "source": [
    "plt.hist(mNNOs) "
   ]
  },
  {
   "cell_type": "markdown",
   "metadata": {},
   "source": [
    "## EVALUATE MNNOs"
   ]
  },
  {
   "cell_type": "code",
   "execution_count": 414,
   "metadata": {},
   "outputs": [
    {
     "name": "stdout",
     "output_type": "stream",
     "text": [
      "TEST: MNNO(f(X),X)= 0.133  || MNNO(f(X),Y)= 0.076  || MNNO(Y,X)= 0.089  || mse= 0.07912  || R2= 0.0281\n"
     ]
    }
   ],
   "source": [
    "import eval_utils\n",
    "\n",
    "k_neighbors = 30\n",
    "sim = 'cosine'\n",
    "\n",
    "#perf = eval_utils.eval_performance(EMB_in=vid_inputs, EMB_out=word_inputs, EMB_map=vid_to_word, sim=sim, k_neighbors, False)\n",
    "perf = eval_utils.eval_performance(vid_inputs.numpy(), word_inputs.numpy(), vid_to_word.numpy(), sim, k_neighbors, True)\n",
    "\n",
    "\n",
    "print('TEST: MNNO(f(X),X)=', round(perf['mnno_map-in'],3),\n",
    "                                      ' || MNNO(f(X),Y)=', round(perf['mnno_map-out'],3),\n",
    "                                      ' || MNNO(Y,X)=', round(perf['mnno_in-out'],3),\n",
    "                                      ' || mse=', round(perf['mse'],5), ' || R2=', round(perf['R2'],4))"
   ]
  },
  {
   "cell_type": "code",
   "execution_count": 415,
   "metadata": {},
   "outputs": [
    {
     "name": "stdout",
     "output_type": "stream",
     "text": [
      "TEST: MNNO(f(X),X)= 0.074  || MNNO(f(X),Y)= 0.136  || MNNO(Y,X)= 0.089  || mse= 0.00171  || R2= 0.0713\n"
     ]
    }
   ],
   "source": [
    "perf = eval_utils.eval_performance(word_inputs.numpy(), vid_inputs.numpy(), word_to_vid.numpy(), sim, k_neighbors, True)\n",
    "\n",
    "\n",
    "print('TEST: MNNO(f(X),X)=', round(perf['mnno_map-in'],3),\n",
    "                                      ' || MNNO(f(X),Y)=', round(perf['mnno_map-out'],3),\n",
    "                                      ' || MNNO(Y,X)=', round(perf['mnno_in-out'],3),\n",
    "                                      ' || mse=', round(perf['mse'],5), ' || R2=', round(perf['R2'],4))"
   ]
  },
  {
   "cell_type": "markdown",
   "metadata": {},
   "source": [
    "## Check the most similar words"
   ]
  },
  {
   "cell_type": "code",
   "execution_count": null,
   "metadata": {},
   "outputs": [],
   "source": [
    "label_similarities = {}\n",
    "\n",
    "for k,v in word_dict.items():\n",
    "    label_similarities[k] = _similarity_query(word_vectors, v, 40, inverse_dictionary)[1:]"
   ]
  },
  {
   "cell_type": "code",
   "execution_count": 161,
   "metadata": {},
   "outputs": [],
   "source": [
    "def check_match(k, sim_words, top_k=10):\n",
    "    for w in sim_words[:top_k]:\n",
    "        # Check direct match\n",
    "        if sorted(list(w)) == sorted(list(k)):\n",
    "            print(\"match!\", w)\n",
    "            return True\n",
    "        # Check if any words of key is included in the similarities list\n",
    "        for k_v in k.split(' '):\n",
    "            #if sorted(list(w)) == sorted(list(k_v)):\n",
    "            if str(w) == str(k_v):\n",
    "                #print(\"match!\", w)\n",
    "                return True\n",
    "        # Check if concatenation of key is included \n",
    "        k_concat = ''.join(k.split(' '))\n",
    "        if str(w) == str(k):\n",
    "            print(\"match!\", w)\n",
    "            return True\n",
    "    return False"
   ]
  },
  {
   "cell_type": "code",
   "execution_count": 129,
   "metadata": {},
   "outputs": [],
   "source": [
    "def check_neighbors(sim1, sim2):\n",
    "    \n",
    "    a = [x[0] for x in sim1]\n",
    "    b = [x[0] for x in sim2]\n",
    "    \n",
    "    return set(a).intersection(b)"
   ]
  },
  {
   "cell_type": "code",
   "execution_count": 426,
   "metadata": {},
   "outputs": [
    {
     "name": "stdout",
     "output_type": "stream",
     "text": [
      "1441   32  score:  2.220680083275503\n"
     ]
    }
   ],
   "source": [
    "acc = 0\n",
    "c = 0\n",
    "top_k=1\n",
    "for k, v in similarities.items():\n",
    "    #print(\"Key: \", k, \" items: \", len(v))\n",
    "    for vals in v:\n",
    "        sim_words = [word_vals[0] for word_vals in vals[0]]\n",
    "        #print(sim_words)\n",
    "        if check_match(k, sim_words, top_k=top_k):\n",
    "            #print(k, \" !\")\n",
    "            acc += 1\n",
    "        c += 1\n",
    "    #print(\" =================================================== \")\n",
    "    \n",
    "print(c, \" \", acc, \" score: \", (acc/c)*100)"
   ]
  },
  {
   "cell_type": "code",
   "execution_count": 139,
   "metadata": {},
   "outputs": [
    {
     "data": {
      "text/plain": [
       "(1195, 197)"
      ]
     },
     "execution_count": 139,
     "metadata": {},
     "output_type": "execute_result"
    }
   ],
   "source": [
    "c, acc"
   ]
  },
  {
   "cell_type": "code",
   "execution_count": 140,
   "metadata": {},
   "outputs": [
    {
     "data": {
      "text/plain": [
       "0.16485355648535566"
      ]
     },
     "execution_count": 140,
     "metadata": {},
     "output_type": "execute_result"
    }
   ],
   "source": []
  },
  {
   "cell_type": "code",
   "execution_count": 1108,
   "metadata": {},
   "outputs": [
    {
     "data": {
      "text/plain": [
       "[[[('meditation', 0.6764361198585322),\n",
       "   ('pilates', 0.6524277472570437),\n",
       "   ('aerobics', 0.6154991559249399),\n",
       "   ('hatha', 0.6037811835067952),\n",
       "   ('massage', 0.49586760563632054),\n",
       "   ('workout', 0.4687201422618096),\n",
       "   ('sahaja', 0.46550430333255466),\n",
       "   ('meditative', 0.4642566639357688),\n",
       "   ('qigong', 0.46416886138960844)]],\n",
       " [[('meditation', 0.6764361198585322),\n",
       "   ('pilates', 0.6524277472570437),\n",
       "   ('aerobics', 0.6154991559249399),\n",
       "   ('hatha', 0.6037811835067952),\n",
       "   ('massage', 0.49586760563632054),\n",
       "   ('workout', 0.4687201422618096),\n",
       "   ('sahaja', 0.46550430333255466),\n",
       "   ('meditative', 0.4642566639357688),\n",
       "   ('qigong', 0.46416886138960844)]],\n",
       " [[('meditation', 0.6764361198585322),\n",
       "   ('pilates', 0.6524277472570437),\n",
       "   ('aerobics', 0.6154991559249399),\n",
       "   ('hatha', 0.6037811835067952),\n",
       "   ('massage', 0.49586760563632054),\n",
       "   ('workout', 0.4687201422618096),\n",
       "   ('sahaja', 0.46550430333255466),\n",
       "   ('meditative', 0.4642566639357688),\n",
       "   ('qigong', 0.46416886138960844)]],\n",
       " [[('meditation', 0.6764361198585322),\n",
       "   ('pilates', 0.6524277472570437),\n",
       "   ('aerobics', 0.6154991559249399),\n",
       "   ('hatha', 0.6037811835067952),\n",
       "   ('massage', 0.49586760563632054),\n",
       "   ('workout', 0.4687201422618096),\n",
       "   ('sahaja', 0.46550430333255466),\n",
       "   ('meditative', 0.4642566639357688),\n",
       "   ('qigong', 0.46416886138960844)]]]"
      ]
     },
     "execution_count": 1108,
     "metadata": {},
     "output_type": "execute_result"
    }
   ],
   "source": [
    "similarities[\"yoga\"]"
   ]
  },
  {
   "cell_type": "code",
   "execution_count": 1111,
   "metadata": {},
   "outputs": [
    {
     "data": {
      "text/plain": [
       "{'buddhism', 'meditative', 'taoist'}"
      ]
     },
     "execution_count": 1111,
     "metadata": {},
     "output_type": "execute_result"
    }
   ],
   "source": [
    "check_neighbors(most_similar(word_vectors, dct, \"yoga\", number=20), most_similar(word_vectors, dct, \"meditation\", number=20))"
   ]
  },
  {
   "cell_type": "code",
   "execution_count": 1110,
   "metadata": {},
   "outputs": [
    {
     "data": {
      "text/plain": [
       "[('meditation', 0.6798500437828566),\n",
       " ('pilates', 0.6539306675117248),\n",
       " ('aerobics', 0.606233724916318),\n",
       " ('hatha', 0.6027756741519328),\n",
       " ('massage', 0.4880033221824527),\n",
       " ('qigong', 0.46563682669834094),\n",
       " ('sahaja', 0.460048857258116),\n",
       " ('tantra', 0.45663410031778334),\n",
       " ('meditative', 0.4563757859173338)]"
      ]
     },
     "execution_count": 1110,
     "metadata": {},
     "output_type": "execute_result"
    }
   ],
   "source": [
    "most_similar(word_vectors, dct, \"yoga\", number=10)"
   ]
  },
  {
   "cell_type": "markdown",
   "metadata": {},
   "source": [
    "# ========= RUN UNTIL THIS POINT ========="
   ]
  },
  {
   "cell_type": "markdown",
   "metadata": {},
   "source": [
    "## Check a data sample"
   ]
  },
  {
   "cell_type": "code",
   "execution_count": null,
   "metadata": {},
   "outputs": [],
   "source": [
    "print(\"real value: \", test_ids[0])"
   ]
  },
  {
   "cell_type": "code",
   "execution_count": null,
   "metadata": {},
   "outputs": [],
   "source": [
    "test_video = torch.from_numpy(test_data[0][\"vid_feat\"]).float().to(device)\n",
    "test_word = torch.from_numpy(test_data[0][\"word_feat\"]).float().to(device)"
   ]
  },
  {
   "cell_type": "code",
   "execution_count": null,
   "metadata": {},
   "outputs": [],
   "source": [
    "y_pred = model(test_video)"
   ]
  },
  {
   "cell_type": "code",
   "execution_count": null,
   "metadata": {},
   "outputs": [],
   "source": [
    "word_vector = y_pred.cpu().detach().numpy()\n",
    "word_vector= np.squeeze(np.transpose(word_vector))"
   ]
  },
  {
   "cell_type": "code",
   "execution_count": null,
   "metadata": {},
   "outputs": [],
   "source": [
    "print(\"Closest words to prediction: \")\n",
    "_similarity_query(word_vectors, word_vector, 10, inverse_dictionary)[1:]"
   ]
  },
  {
   "cell_type": "code",
   "execution_count": null,
   "metadata": {},
   "outputs": [],
   "source": [
    "word_vector_real = test_word.cpu().detach().numpy()\n",
    "word_vector_real = np.squeeze(np.transpose(word_vector_real))"
   ]
  },
  {
   "cell_type": "code",
   "execution_count": null,
   "metadata": {},
   "outputs": [],
   "source": [
    "print(\"Closest words to real label\")\n",
    "_similarity_query(word_vectors, word_vector_real, 10, inverse_dictionary)[1:]"
   ]
  },
  {
   "cell_type": "markdown",
   "metadata": {},
   "source": [
    "## Unseen class word-embedding"
   ]
  },
  {
   "cell_type": "code",
   "execution_count": 427,
   "metadata": {},
   "outputs": [
    {
     "name": "stdout",
     "output_type": "stream",
     "text": [
      "['running on treadmill', 'driving tractor', 'playing kickball', 'weaving basket', 'golf driving', 'arranging flowers', 'recording music', 'tickling', 'spraying', 'cooking egg', 'digging', 'tap dancing', 'faceplanting', 'dancing charleston', 'playing volleyball', 'answering questions', 'breading or breadcrumbing', 'playing guitar', 'using segway', 'chopping wood', 'sharpening pencil', 'dribbling basketball', 'catching or throwing baseball', 'getting a tattoo', 'skateboarding', 'making jewelry', 'blowing glass', 'barbequing', 'reading book', 'zumba']\n"
     ]
    }
   ],
   "source": [
    "unseen_classes=random.sample(set(action_classes_all).difference(action_classes), 30)\n",
    "print(unseen_classes)"
   ]
  },
  {
   "cell_type": "code",
   "execution_count": 428,
   "metadata": {},
   "outputs": [
    {
     "name": "stdout",
     "output_type": "stream",
     "text": [
      "barbequing\n",
      "faceplanting\n",
      "breading or breadcrumbing\n"
     ]
    }
   ],
   "source": [
    "unseen_classes = set(unseen_classes)\n",
    "for a in unseen_classes:\n",
    "    words = a.split(\" \")\n",
    "    glove_sums = 0\n",
    "    for w in words:\n",
    "        try:\n",
    "            glove_sums += glove_model[w]\n",
    "        except:\n",
    "            print(a)\n",
    "            not_exist.add(a)\n",
    "            break\n",
    "unseen_classes.difference_update(not_exist)"
   ]
  },
  {
   "cell_type": "code",
   "execution_count": 429,
   "metadata": {},
   "outputs": [],
   "source": [
    "for a in unseen_classes:\n",
    "    words = a.split(\" \")\n",
    "    glove_sums = 0\n",
    "    for w in words:\n",
    "        glove_sums += glove_model[w]\n",
    "    glove_sums /= len(words)\n",
    "    word_dict[a] = glove_sums"
   ]
  },
  {
   "cell_type": "code",
   "execution_count": 430,
   "metadata": {},
   "outputs": [],
   "source": [
    "unseen_vid_features = {}\n",
    "unseen_vid_ids = []\n",
    "for dirpath, dirs, files in os.walk(frame_dir):\n",
    "    for filename in fnmatch.filter(files, '*.npy'):\n",
    "        action = filename.split(\"_\")[0]\n",
    "        if action in unseen_classes:\n",
    "            rgb_sample = np.load(dirpath+filename)\n",
    "            sample = torch.from_numpy(rgb_sample).unsqueeze(0)\n",
    "            if sample.shape[2] > 10: # should be bigger than the kernel size \n",
    "                unseen_vid_ids.append(filename)\n",
    "                # sample_var = torch.autograd.Variable(sample).to(device)\n",
    "                sample_var = torch.autograd.Variable(sample)\n",
    "                try:\n",
    "                    out_var, _ = i3d_rgb(sample_var)\n",
    "                except Exception as e: \n",
    "                    print(\"error: \", e)\n",
    "                    print(\"   shape: \", sample_var.shape)\n",
    "                unseen_vid_features[filename] = out_var.data.cpu().numpy()"
   ]
  },
  {
   "cell_type": "code",
   "execution_count": 431,
   "metadata": {},
   "outputs": [
    {
     "name": "stdout",
     "output_type": "stream",
     "text": [
      "['tap', 'dancing']\n"
     ]
    }
   ],
   "source": [
    "label = unseen_vid_ids[150].split(\"_\")[0]\n",
    "label = label.split()\n",
    "print(label)"
   ]
  },
  {
   "cell_type": "code",
   "execution_count": 438,
   "metadata": {},
   "outputs": [],
   "source": [
    "unseen_similarities= {}\n",
    "\n",
    "unseen_loss=[]\n",
    "\n",
    "for k, v in unseen_vid_features.items():\n",
    "    #print(v.shape)\n",
    "    \n",
    "    var = torch.from_numpy(v).float().to(device)\n",
    "    \n",
    "    mid_video = enc_vid(var)\n",
    "\n",
    "    out_video = dec_vid(mid_video)\n",
    "    loss1 = criterion(out_video, var)\n",
    "\n",
    "    #mid_word = enc_word(word)\n",
    "    out_word = dec_word(mid_video)\n",
    "    \n",
    "    #sample_mapped = model(var)\n",
    "    sample_word = out_word.cpu().detach().numpy()\n",
    "    sample_word = np.squeeze(np.transpose(sample_word))\n",
    "    #print(\"samp word size:\", sample_word.shape )\n",
    "    sims = _similarity_query(word_vectors, sample_word, 10, inverse_dictionary)[1:]\n",
    "    \n",
    "    label = k.split(\"_\")[0]\n",
    "    if label not in unseen_similarities:\n",
    "        #print(\"new label\", label, \"\\n\")\n",
    "        unseen_similarities[label] = [[sims]]\n",
    "    else:\n",
    "        unseen_similarities[label].append([sims])\n",
    "    \n",
    "    #print(label)\n",
    "    #print(sims)\n",
    "    \n",
    "    #word = unseen_word_dict[label]\n",
    "    #word = torch.from_numpy(word).float().to(device)\n",
    "    #loss = criterion(y_pred, word)\n",
    "    #unseen_loss.append(loss.item())"
   ]
  },
  {
   "cell_type": "code",
   "execution_count": 440,
   "metadata": {},
   "outputs": [
    {
     "name": "stdout",
     "output_type": "stream",
     "text": [
      "1993   211  score:  10.58705469141997\n"
     ]
    }
   ],
   "source": [
    "acc = 0\n",
    "c = 0\n",
    "top_k = 10\n",
    "for k, v in unseen_similarities.items():\n",
    "    #print(\"Key: \", k, \" items: \", len(v))\n",
    "    for vals in v:\n",
    "        sim_words = [word_vals[0] for word_vals in vals[0]]\n",
    "        #print(sim_words)\n",
    "        if check_match(k, sim_words, top_k=top_k):\n",
    "            #print(k, \" !\")\n",
    "            acc += 1\n",
    "        c += 1\n",
    "    #print(\" =================================================== \")\n",
    "    \n",
    "print(c, \" \", acc, \" score: \", (acc/c)*100)"
   ]
  },
  {
   "cell_type": "code",
   "execution_count": 434,
   "metadata": {},
   "outputs": [
    {
     "name": "stdout",
     "output_type": "stream",
     "text": [
      "Key:  reading book  items:  85\n",
      "['putting', 'doing', 'instead', 'hand', 'dancing', 'like', 'you', 'started', 'just']\n",
      "['hand', 'eating', 'instead', 'your', 'everything', 'you', 'tossing', 'washing', 'turning']\n",
      "['putting', 'hand', 'instead', 'doing', 'you', 'your', 'like', 'everything', 'my']\n",
      "['putting', 'washing', 'tossing', 'cleaning', 'cooking', 'instead', 'your', 'everything', 'hand']\n",
      "['eating', 'instead', 'hand', 'everything', 'washing', 'your', 'tossing', 'you', 'walking']\n",
      "['hand', 'your', 'instead', 'you', 'everything', 'doing', 'eating', 'my', 'like']\n",
      "['eating', 'your', 'hand', 'you', 'fingers', 'everything', 'my', 'instead', 'talking']\n",
      "['eating', 'walking', 'instead', 'you', 'like', 'picking', 'doing', 'everything', 'jumping']\n",
      "['instead', 'hand', 'doing', 'walking', 'you', 'like', 'up', 'everything', 'just']\n",
      "['hand', 'your', 'instead', 'you', 'eating', 'everything', 'doing', 'my', 'like']\n",
      "['instead', 'hand', 'doing', 'you', 'everything', 'your', 'like', 'walking', 'up']\n",
      "['putting', 'hand', 'instead', 'doing', 'you', 'like', 'everything', 'your', \"'re\"]\n",
      "['putting', 'walking', 'instead', 'cleaning', 'washing', 'you', 'picking', 'cooking', 'like']\n",
      "['eating', 'your', 'hand', 'fingers', 'you', 'tossing', 'everything', 'my', 'washing']\n",
      "['hand', 'instead', 'your', 'you', 'doing', 'everything', 'like', 'turning', 'my']\n",
      "['hand', 'your', 'eating', 'instead', 'you', 'everything', 'doing', 'my', 'fingers']\n",
      "['eating', 'your', 'hand', 'you', 'everything', 'instead', 'fingers', 'my', 'doing']\n",
      "['hand', 'your', 'eating', 'instead', 'you', 'everything', 'my', 'doing', 'tossing']\n",
      "['instead', 'walking', 'hand', 'doing', 'you', 'everything', 'like', 'your', 'up']\n",
      "['jumping', 'putting', 'climbing', 'eating', 'instead', 'like', 'dancing', 'doing', 'you']\n",
      "['eating', 'instead', 'hand', 'walking', 'everything', 'you', 'your', 'doing', 'turning']\n",
      "['walking', 'jumping', 'dancing', 'instead', 'doing', 'pulling', 'up', 'like', 'just']\n",
      "['putting', 'hand', 'instead', 'doing', 'you', 'your', 'like', 'everything', 'my']\n",
      "['hand', 'instead', 'your', 'you', 'doing', 'everything', 'my', 'eating', 'playing']\n",
      "['hand', 'instead', 'doing', 'you', 'your', 'everything', 'like', 'turning', \"'re\"]\n",
      "['putting', 'instead', 'doing', 'hand', 'you', 'dancing', 'like', 'everything', \"'re\"]\n",
      "['hand', 'playing', 'instead', 'doing', 'you', 'your', 'everything', 'like', 'my']\n",
      "['hand', 'eating', 'your', 'you', 'instead', 'everything', 'my', 'doing', 'fingers']\n",
      "['hand', 'your', 'eating', 'you', 'instead', 'everything', 'doing', 'my', 'fingers']\n",
      "['eating', 'instead', 'hand', 'everything', 'walking', 'washing', 'you', 'your', 'tossing']\n",
      "['hand', 'instead', 'playing', 'your', 'doing', 'you', 'everything', 'my', 'like']\n",
      "['playing', 'instead', 'doing', 'hand', 'walking', 'you', 'dancing', 'like', 'up']\n",
      "['hand', 'instead', 'doing', 'you', 'your', 'playing', 'everything', 'like', \"'re\"]\n",
      "['putting', 'washing', 'walking', 'instead', 'cleaning', 'everything', 'cooking', 'you', 'tossing']\n",
      "['putting', 'instead', 'hand', 'doing', 'you', 'like', 'dancing', 'everything', 'your']\n",
      "['eating', 'your', 'hand', 'you', 'fingers', 'everything', 'my', 'instead', 'talking']\n",
      "['hand', 'your', 'instead', 'you', 'everything', 'eating', 'doing', 'my', 'like']\n",
      "['putting', 'hand', 'instead', 'doing', 'you', 'your', 'everything', 'my', 'like']\n",
      "['putting', 'hand', 'instead', 'doing', 'you', 'like', 'your', 'my', 'talking']\n",
      "['hand', 'instead', 'you', 'your', 'doing', 'everything', 'like', 'turning', 'walking']\n",
      "['hand', 'instead', 'your', 'you', 'everything', 'doing', 'eating', 'like', 'turning']\n",
      "['eating', 'hand', 'your', 'you', 'instead', 'everything', 'my', 'fingers', 'doing']\n",
      "['eating', 'hand', 'your', 'you', 'tossing', 'everything', 'fingers', 'instead', 'my']\n",
      "['hand', 'instead', 'playing', 'doing', 'you', 'your', 'everything', 'like', \"'re\"]\n",
      "['playing', 'hand', 'instead', 'doing', 'you', 'your', 'everything', 'like', 'my']\n",
      "['hand', 'instead', 'you', 'your', 'doing', 'everything', 'like', 'turning', \"'re\"]\n",
      "['putting', 'doing', 'hand', 'instead', 'you', 'like', 'talking', 'my', 'everything']\n",
      "['walking', 'dancing', 'doing', 'playing', 'instead', 'hand', 'pulling', 'like', 'you']\n",
      "['hand', 'eating', 'your', 'you', 'instead', 'everything', 'my', 'fingers', 'doing']\n",
      "['eating', 'walking', 'instead', 'you', 'everything', 'like', 'picking', 'doing', 'your']\n",
      "['putting', 'doing', 'instead', 'hand', 'like', 'you', 'dancing', 'talking', 'my']\n",
      "['eating', 'your', 'hand', 'fingers', 'tossing', 'you', 'washing', 'everything', 'my']\n",
      "['playing', 'instead', 'hand', 'doing', 'you', 'like', 'dancing', 'walking', 'up']\n",
      "['playing', 'hand', 'instead', 'doing', 'you', 'your', 'everything', 'my', 'like']\n",
      "['hand', 'instead', 'doing', 'you', 'your', 'everything', 'like', 'my', \"'re\"]\n",
      "['eating', 'hand', 'washing', 'your', 'tossing', 'instead', 'everything', 'you', 'cleaning']\n",
      "['playing', 'hand', 'instead', 'doing', 'you', 'like', 'everything', 'your', \"'re\"]\n",
      "['hand', 'instead', 'your', 'you', 'everything', 'doing', 'eating', 'my', 'like']\n",
      "['walking', 'putting', 'instead', 'cleaning', 'you', 'like', 'picking', 'cooking', 'washing']\n",
      "['eating', 'washing', 'hand', 'your', 'tossing', 'everything', 'you', 'instead', 'fingers']\n",
      "['hand', 'eating', 'your', 'you', 'instead', 'my', 'doing', 'everything', 'talking']\n",
      "['hand', 'eating', 'your', 'you', 'instead', 'everything', 'tossing', 'my', 'fingers']\n",
      "['playing', 'hand', 'instead', 'doing', 'you', 'your', 'everything', 'like', 'my']\n",
      "['playing', 'hand', 'instead', 'doing', 'you', 'your', 'my', 'everything', 'talking']\n",
      "['eating', 'hand', 'your', 'you', 'everything', 'instead', 'fingers', 'my', 'doing']\n",
      "['hand', 'your', 'eating', 'you', 'instead', 'doing', 'everything', 'my', 'talking']\n",
      "['hand', 'instead', 'you', 'doing', 'your', 'everything', 'like', 'turning', 'walking']\n",
      "['eating', 'putting', 'jumping', 'climbing', 'instead', 'like', 'you', 'water', 'picking']\n",
      "['putting', 'cooking', 'washing', 'walking', 'cleaning', 'tossing', 'fish', 'you', 'instead']\n",
      "['hand', 'eating', 'your', 'you', 'instead', 'everything', 'my', 'fingers', 'doing']\n",
      "['hand', 'instead', 'doing', 'playing', 'you', 'your', 'everything', 'like', \"'re\"]\n",
      "['eating', 'instead', 'washing', 'everything', 'hand', 'tossing', 'walking', 'your', 'you']\n",
      "['instead', 'hand', 'eating', 'everything', 'your', 'you', 'doing', 'walking', 'turning']\n",
      "['hand', 'your', 'instead', 'you', 'eating', 'everything', 'doing', 'my', 'tossing']\n",
      "['hand', 'your', 'instead', 'eating', 'you', 'everything', 'doing', 'my', 'fingers']\n",
      "['eating', 'washing', 'hand', 'your', 'tossing', 'everything', 'you', 'instead', 'cleaning']\n",
      "['putting', 'hand', 'instead', 'doing', 'you', 'your', 'my', 'everything', 'like']\n",
      "['instead', 'hand', 'doing', 'you', 'walking', 'everything', 'your', 'like', 'up']\n",
      "['eating', 'instead', 'walking', 'hand', 'everything', 'you', 'your', 'doing', 'tossing']\n",
      "['hand', 'your', 'instead', 'you', 'eating', 'everything', 'doing', 'my', 'fingers']\n",
      "['putting', 'instead', 'hand', 'doing', 'you', 'like', 'everything', 'your', \"'re\"]\n",
      "['hand', 'instead', 'your', 'you', 'everything', 'doing', 'eating', 'my', 'like']\n",
      "['hand', 'instead', 'doing', 'playing', 'you', 'your', 'everything', 'like', 'my']\n",
      "['playing', 'hand', 'instead', 'doing', 'you', 'your', 'everything', 'my', 'like']\n",
      "['eating', 'hand', 'your', 'you', 'talking', 'my', 'instead', 'doing', 'everything']\n",
      "Key:  driving tractor  items:  82\n",
      "['walking', 'instead', 'doing', 'hand', 'you', 'up', 'everything', 'like', 'pulling']\n",
      "['walking', 'instead', 'doing', 'hand', 'up', 'you', 'pulling', 'like', 'dancing']\n",
      "['climbing', 'walking', 'swimming', 'riding', 'biking', 'diving', 'skiing', 'surfing', 'water']\n",
      "['eating', 'walking', 'instead', 'you', 'everything', 'like', 'picking', 'cleaning', 'your']\n",
      "['walking', 'jumping', 'putting', 'playing', 'doing', 'pulling', 'instead', 'started', 'taking']\n",
      "['eating', 'walking', 'instead', 'you', 'like', 'everything', 'picking', 'doing', 'your']\n",
      "['walking', 'playing', 'putting', 'jumping', 'doing', 'pulling', 'instead', 'started', 'dance']\n",
      "['walking', 'climbing', 'swimming', 'riding', 'dancing', 'skiing', 'putting', 'diving', 'biking']\n",
      "['walking', 'jumping', 'playing', 'putting', 'doing', 'pulling', 'instead', 'started', 'taking']\n",
      "['putting', 'jumping', 'dancing', 'instead', 'doing', 'pulling', 'like', 'up', 'you']\n",
      "['putting', 'walking', 'instead', 'you', 'like', 'picking', 'cleaning', 'jumping', 'everything']\n",
      "['walking', 'climbing', 'swimming', 'riding', 'skiing', 'dancing', 'biking', 'diving', 'putting']\n",
      "['walking', 'instead', 'doing', 'dancing', 'hand', 'up', 'pulling', 'you', 'like']\n",
      "['jumping', 'walking', 'putting', 'playing', 'doing', 'pulling', 'climbing', 'instead', 'started']\n",
      "['putting', 'walking', 'playing', 'doing', 'instead', 'jumping', 'pulling', 'like', 'hand']\n",
      "['jumping', 'walking', 'putting', 'playing', 'doing', 'pulling', 'instead', 'started', 'taking']\n",
      "['putting', 'eating', 'jumping', 'instead', 'like', 'you', 'picking', 'doing', 'climbing']\n",
      "['playing', 'dancing', 'walking', 'doing', 'instead', 'hand', 'pulling', 'like', 'up']\n",
      "['jumping', 'climbing', 'putting', 'eating', 'swimming', 'like', 'instead', 'dancing', 'you']\n",
      "['walking', 'climbing', 'swimming', 'putting', 'riding', 'eating', 'like', 'dancing', 'off']\n",
      "['walking', 'climbing', 'swimming', 'riding', 'dancing', 'putting', 'skiing', 'diving', 'horse']\n",
      "['eating', 'walking', 'instead', 'you', 'like', 'picking', 'everything', 'doing', 'cleaning']\n",
      "['climbing', 'walking', 'swimming', 'riding', 'skiing', 'biking', 'diving', 'bike', 'surfing']\n",
      "['playing', 'putting', 'walking', 'doing', 'instead', 'hand', 'pulling', 'jumping', 'started']\n",
      "['climbing', 'walking', 'swimming', 'riding', 'biking', 'skiing', 'diving', 'surfing', 'hiking']\n",
      "['walking', 'jumping', 'playing', 'putting', 'doing', 'pulling', 'instead', 'started', 'taking']\n",
      "['walking', 'jumping', 'instead', 'eating', 'like', 'doing', 'you', 'up', 'pulling']\n",
      "['walking', 'instead', 'doing', 'hand', 'dancing', 'up', 'pulling', 'you', 'like']\n",
      "['instead', 'hand', 'walking', 'doing', 'you', 'everything', 'like', 'up', 'your']\n",
      "['jumping', 'climbing', 'swimming', 'putting', 'eating', 'like', 'riding', 'water', 'dancing']\n",
      "['walking', 'instead', 'doing', 'hand', 'you', 'up', 'pulling', 'like', 'everything']\n",
      "['putting', 'walking', 'cleaning', 'cooking', 'washing', 'instead', 'you', 'picking', 'like']\n",
      "['dancing', 'walking', 'putting', 'climbing', 'doing', 'playing', 'pulling', 'instead', 'swimming']\n",
      "['walking', 'instead', 'doing', 'you', 'eating', 'up', 'jumping', 'like', 'pulling']\n",
      "['walking', 'dancing', 'climbing', 'putting', 'swimming', 'riding', 'pulling', 'doing', 'playing']\n",
      "['putting', 'walking', 'playing', 'jumping', 'doing', 'instead', 'pulling', 'up', 'started']\n",
      "['walking', 'climbing', 'swimming', 'riding', 'dancing', 'putting', 'like', 'off', 'just']\n",
      "['walking', 'instead', 'eating', 'doing', 'you', 'hand', 'like', 'everything', 'up']\n",
      "['walking', 'instead', 'eating', 'doing', 'you', 'hand', 'like', 'everything', 'up']\n",
      "['jumping', 'walking', 'putting', 'playing', 'doing', 'pulling', 'instead', 'climbing', 'started']\n",
      "['instead', 'walking', 'doing', 'hand', 'you', 'up', 'like', 'just', 'pulling']\n",
      "['climbing', 'walking', 'swimming', 'riding', 'biking', 'diving', 'skiing', 'water', 'surfing']\n",
      "['jumping', 'walking', 'putting', 'playing', 'climbing', 'doing', 'pulling', 'swimming', 'instead']\n",
      "['climbing', 'walking', 'swimming', 'riding', 'skiing', 'biking', 'diving', 'bike', 'dancing']\n",
      "['hand', 'instead', 'playing', 'doing', 'your', 'you', 'everything', 'my', 'like']\n",
      "['eating', 'instead', 'walking', 'hand', 'you', 'everything', 'doing', 'your', 'like']\n",
      "['walking', 'eating', 'instead', 'jumping', 'like', 'you', 'doing', 'up', 'picking']\n",
      "['walking', 'climbing', 'swimming', 'riding', 'dancing', 'putting', 'skiing', 'diving', 'like']\n",
      "['walking', 'eating', 'instead', 'you', 'like', 'doing', 'up', 'jumping', 'everything']\n",
      "['jumping', 'dancing', 'putting', 'doing', 'instead', 'pulling', 'playing', 'like', 'up']\n",
      "['instead', 'eating', 'walking', 'hand', 'you', 'everything', 'doing', 'your', 'like']\n",
      "['walking', 'climbing', 'dancing', 'swimming', 'putting', 'riding', 'pulling', 'doing', 'like']\n",
      "['instead', 'walking', 'hand', 'eating', 'you', 'doing', 'everything', 'like', 'your']\n",
      "['eating', 'instead', 'walking', 'hand', 'you', 'everything', 'doing', 'your', 'like']\n",
      "['eating', 'instead', 'walking', 'hand', 'everything', 'you', 'your', 'doing', 'like']\n",
      "['instead', 'walking', 'hand', 'eating', 'you', 'everything', 'doing', 'your', 'like']\n",
      "['eating', 'jumping', 'climbing', 'putting', 'water', 'like', 'instead', 'you', 'swimming']\n",
      "['walking', 'dancing', 'doing', 'playing', 'instead', 'hand', 'pulling', 'up', 'you']\n",
      "['walking', 'instead', 'doing', 'pulling', 'up', 'hand', 'dancing', 'you', 'like']\n",
      "['walking', 'instead', 'doing', 'hand', 'you', 'dancing', 'up', 'pulling', 'like']\n",
      "['walking', 'jumping', 'putting', 'playing', 'doing', 'pulling', 'instead', 'started', 'taking']\n",
      "['putting', 'dancing', 'jumping', 'doing', 'instead', 'playing', 'pulling', 'up', 'like']\n",
      "['jumping', 'dancing', 'putting', 'climbing', 'doing', 'instead', 'pulling', 'like', 'up']\n",
      "['instead', 'hand', 'you', 'doing', 'everything', 'your', 'walking', 'like', 'turning']\n",
      "['eating', 'instead', 'hand', 'everything', 'your', 'you', 'tossing', 'washing', 'walking']\n",
      "['walking', 'dancing', 'doing', 'playing', 'instead', 'hand', 'pulling', 'up', 'like']\n",
      "['walking', 'dancing', 'putting', 'climbing', 'doing', 'instead', 'pulling', 'like', 'swimming']\n",
      "['walking', 'jumping', 'instead', 'doing', 'up', 'like', 'pulling', 'you', 'just']\n",
      "['putting', 'walking', 'washing', 'cleaning', 'instead', 'cooking', 'you', 'everything', 'tossing']\n",
      "['hand', 'your', 'instead', 'you', 'everything', 'eating', 'doing', 'tossing', 'my']\n",
      "['walking', 'dancing', 'climbing', 'putting', 'swimming', 'riding', 'doing', 'pulling', 'like']\n",
      "['putting', 'walking', 'instead', 'you', 'washing', 'everything', 'cleaning', 'like', 'picking']\n",
      "['walking', 'dancing', 'putting', 'doing', 'climbing', 'pulling', 'instead', 'playing', 'like']\n",
      "['walking', 'jumping', 'playing', 'putting', 'doing', 'pulling', 'instead', 'started', 'taking']\n",
      "['walking', 'instead', 'doing', 'up', 'hand', 'you', 'pulling', 'like', 'just']\n",
      "['instead', 'walking', 'hand', 'eating', 'you', 'doing', 'everything', 'like', 'your']\n",
      "['walking', 'eating', 'instead', 'jumping', 'like', 'you', 'doing', 'up', 'picking']\n",
      "['walking', 'climbing', 'swimming', 'riding', 'putting', 'dancing', 'like', 'off', 'just']\n",
      "['walking', 'instead', 'doing', 'up', 'you', 'like', 'hand', 'pulling', 'just']\n",
      "['walking', 'dancing', 'putting', 'climbing', 'doing', 'instead', 'pulling', 'like', 'up']\n",
      "['walking', 'jumping', 'playing', 'putting', 'doing', 'pulling', 'instead', 'started', 'dance']\n",
      "['walking', 'climbing', 'swimming', 'riding', 'putting', 'dancing', 'like', 'off', 'just']\n",
      "Key:  tap dancing  items:  61\n",
      "['playing', 'putting', 'doing', 'walking', 'instead', 'hand', 'started', 'pulling', 'like']\n",
      "['dancing', 'walking', 'climbing', 'putting', 'swimming', 'riding', 'playing', 'pulling', 'doing']\n",
      "['walking', 'playing', 'jumping', 'putting', 'doing', 'pulling', 'instead', 'started', 'dance']\n",
      "['jumping', 'walking', 'putting', 'playing', 'doing', 'pulling', 'started', 'instead', 'climbing']\n",
      "['playing', 'walking', 'putting', 'doing', 'jumping', 'pulling', 'instead', 'started', 'hand']\n",
      "['playing', 'putting', 'walking', 'doing', 'jumping', 'instead', 'pulling', 'hand', 'started']\n",
      "['walking', 'playing', 'jumping', 'putting', 'doing', 'pulling', 'instead', 'started', 'dance']\n",
      "['playing', 'putting', 'doing', 'walking', 'instead', 'hand', 'started', 'pulling', 'like']\n",
      "['dancing', 'putting', 'doing', 'walking', 'instead', 'hand', 'started', 'like', 'you']\n",
      "['playing', 'walking', 'putting', 'jumping', 'doing', 'pulling', 'instead', 'started', 'throwing']\n",
      "['playing', 'putting', 'doing', 'walking', 'instead', 'hand', 'started', 'pulling', 'like']\n",
      "['walking', 'jumping', 'playing', 'putting', 'doing', 'pulling', 'instead', 'started', 'dance']\n",
      "['walking', 'playing', 'jumping', 'putting', 'doing', 'pulling', 'instead', 'started', 'dance']\n",
      "['playing', 'walking', 'putting', 'jumping', 'doing', 'pulling', 'instead', 'started', 'dance']\n",
      "['putting', 'dancing', 'doing', 'instead', 'hand', 'walking', 'started', 'like', 'you']\n",
      "['playing', 'putting', 'doing', 'walking', 'instead', 'hand', 'started', 'pulling', 'like']\n",
      "['putting', 'doing', 'instead', 'hand', 'dancing', 'like', 'you', 'started', 'walking']\n",
      "['dancing', 'putting', 'doing', 'walking', 'instead', 'hand', 'started', 'like', 'pulling']\n",
      "['walking', 'instead', 'doing', 'hand', 'you', 'up', 'like', 'everything', 'pulling']\n",
      "['playing', 'putting', 'doing', 'walking', 'instead', 'hand', 'started', 'pulling', 'like']\n",
      "['putting', 'instead', 'hand', 'doing', 'you', 'like', 'dancing', 'everything', \"'re\"]\n",
      "['jumping', 'walking', 'playing', 'putting', 'doing', 'pulling', 'instead', 'started', 'taking']\n",
      "['dancing', 'putting', 'doing', 'instead', 'hand', 'walking', 'started', 'like', 'you']\n",
      "['hand', 'instead', 'doing', 'your', 'you', 'everything', 'like', 'my', \"'re\"]\n",
      "['playing', 'putting', 'walking', 'doing', 'jumping', 'instead', 'pulling', 'started', 'hand']\n",
      "['walking', 'putting', 'jumping', 'playing', 'doing', 'pulling', 'instead', 'like', 'up']\n",
      "['walking', 'playing', 'putting', 'jumping', 'doing', 'pulling', 'instead', 'started', 'taking']\n",
      "['walking', 'jumping', 'playing', 'putting', 'doing', 'pulling', 'instead', 'started', 'taking']\n",
      "['playing', 'putting', 'doing', 'walking', 'instead', 'hand', 'started', 'pulling', 'like']\n",
      "['jumping', 'walking', 'putting', 'playing', 'doing', 'pulling', 'climbing', 'started', 'instead']\n",
      "['walking', 'playing', 'jumping', 'putting', 'doing', 'pulling', 'instead', 'started', 'dance']\n",
      "['walking', 'putting', 'playing', 'jumping', 'doing', 'pulling', 'instead', 'started', 'like']\n",
      "['walking', 'dancing', 'climbing', 'putting', 'swimming', 'doing', 'riding', 'pulling', 'playing']\n",
      "['walking', 'dancing', 'doing', 'instead', 'playing', 'hand', 'pulling', 'up', 'you']\n",
      "['playing', 'putting', 'walking', 'doing', 'jumping', 'instead', 'hand', 'pulling', 'started']\n",
      "['playing', 'putting', 'doing', 'walking', 'instead', 'hand', 'started', 'pulling', 'like']\n",
      "['playing', 'putting', 'walking', 'doing', 'instead', 'jumping', 'pulling', 'hand', 'started']\n",
      "['playing', 'instead', 'doing', 'hand', 'dancing', 'you', 'walking', 'like', 'up']\n",
      "['playing', 'putting', 'walking', 'doing', 'jumping', 'instead', 'pulling', 'started', 'hand']\n",
      "['jumping', 'walking', 'putting', 'playing', 'doing', 'climbing', 'pulling', 'swimming', 'started']\n",
      "['playing', 'walking', 'putting', 'jumping', 'doing', 'pulling', 'instead', 'started', 'dance']\n",
      "['playing', 'putting', 'walking', 'doing', 'jumping', 'instead', 'pulling', 'started', 'hand']\n",
      "['dancing', 'putting', 'doing', 'walking', 'instead', 'hand', 'started', 'like', 'you']\n",
      "['playing', 'walking', 'putting', 'doing', 'jumping', 'pulling', 'instead', 'started', 'hand']\n",
      "['playing', 'putting', 'doing', 'walking', 'instead', 'hand', 'started', 'pulling', 'like']\n",
      "['putting', 'walking', 'playing', 'jumping', 'doing', 'instead', 'pulling', 'started', 'hand']\n",
      "['walking', 'playing', 'putting', 'jumping', 'doing', 'pulling', 'instead', 'started', 'like']\n",
      "['playing', 'walking', 'putting', 'jumping', 'doing', 'pulling', 'instead', 'started', 'dance']\n",
      "['walking', 'jumping', 'playing', 'putting', 'doing', 'pulling', 'instead', 'started', 'dance']\n",
      "['playing', 'putting', 'walking', 'doing', 'jumping', 'instead', 'pulling', 'started', 'hand']\n",
      "['playing', 'putting', 'doing', 'walking', 'instead', 'hand', 'started', 'pulling', 'like']\n",
      "['walking', 'jumping', 'playing', 'putting', 'doing', 'pulling', 'instead', 'started', 'dance']\n",
      "['playing', 'putting', 'walking', 'doing', 'instead', 'hand', 'started', 'pulling', 'jumping']\n",
      "['walking', 'playing', 'jumping', 'putting', 'doing', 'pulling', 'instead', 'started', 'dance']\n",
      "['instead', 'hand', 'doing', 'walking', 'you', 'up', 'like', 'everything', 'just']\n",
      "['jumping', 'walking', 'playing', 'putting', 'doing', 'pulling', 'instead', 'started', 'taking']\n",
      "['playing', 'putting', 'walking', 'doing', 'instead', 'jumping', 'hand', 'pulling', 'started']\n",
      "['playing', 'putting', 'walking', 'doing', 'instead', 'hand', 'jumping', 'started', 'pulling']\n",
      "['jumping', 'walking', 'putting', 'playing', 'doing', 'pulling', 'instead', 'started', 'taking']\n",
      "['dancing', 'putting', 'doing', 'instead', 'hand', 'walking', 'started', 'like', 'you']\n",
      "['hand', 'your', 'instead', 'eating', 'you', 'everything', 'tossing', 'doing', 'my']\n",
      "Key:  sharpening pencil  items:  81\n",
      "['putting', 'doing', 'instead', 'hand', 'dancing', 'like', 'play', 'started', 'you']\n",
      "['putting', 'instead', 'walking', 'washing', 'cleaning', 'everything', 'you', 'tossing', 'your']\n",
      "['instead', 'walking', 'eating', 'hand', 'you', 'everything', 'doing', 'like', 'your']\n",
      "['hand', 'instead', 'your', 'you', 'everything', 'eating', 'doing', 'my', 'tossing']\n",
      "['playing', 'instead', 'doing', 'hand', 'dancing', 'you', 'like', 'walking', 'just']\n",
      "['playing', 'walking', 'putting', 'jumping', 'doing', 'pulling', 'instead', 'started', 'throwing']\n",
      "['hand', 'instead', 'your', 'you', 'everything', 'eating', 'doing', 'tossing', 'my']\n",
      "['eating', 'instead', 'hand', 'everything', 'walking', 'washing', 'you', 'your', 'tossing']\n",
      "['putting', 'hand', 'instead', 'doing', 'you', 'your', 'like', 'everything', 'my']\n",
      "['playing', 'putting', 'walking', 'doing', 'instead', 'hand', 'jumping', 'started', 'pulling']\n",
      "['hand', 'your', 'instead', 'you', 'everything', 'eating', 'doing', 'my', 'tossing']\n",
      "['eating', 'washing', 'hand', 'tossing', 'instead', 'your', 'everything', 'cleaning', 'you']\n",
      "['hand', 'your', 'instead', 'eating', 'you', 'everything', 'tossing', 'doing', 'my']\n",
      "['hand', 'your', 'instead', 'eating', 'you', 'everything', 'tossing', 'doing', 'my']\n",
      "['eating', 'hand', 'your', 'tossing', 'you', 'everything', 'fingers', 'instead', 'washing']\n",
      "['hand', 'instead', 'your', 'you', 'doing', 'everything', 'like', 'turning', \"'re\"]\n",
      "['instead', 'walking', 'hand', 'doing', 'you', 'everything', 'up', 'like', 'your']\n",
      "['instead', 'hand', 'eating', 'everything', 'your', 'you', 'doing', 'walking', 'turning']\n",
      "['hand', 'instead', 'doing', 'you', 'your', 'everything', 'playing', 'like', 'walking']\n",
      "['walking', 'instead', 'doing', 'you', 'hand', 'up', 'like', 'everything', 'eating']\n",
      "['dancing', 'putting', 'doing', 'instead', 'hand', 'walking', 'started', 'like', 'you']\n",
      "['eating', 'walking', 'instead', 'you', 'everything', 'hand', 'doing', 'like', 'your']\n",
      "['hand', 'instead', 'playing', 'doing', 'you', 'your', 'like', 'everything', \"'re\"]\n",
      "['instead', 'eating', 'hand', 'everything', 'you', 'your', 'walking', 'doing', 'tossing']\n",
      "['hand', 'instead', 'your', 'you', 'everything', 'eating', 'doing', 'tossing', 'my']\n",
      "['putting', 'instead', 'hand', 'doing', 'you', 'like', 'everything', 'your', 'my']\n",
      "['playing', 'hand', 'instead', 'doing', 'you', 'your', 'like', 'everything', 'my']\n",
      "['instead', 'hand', 'you', 'walking', 'everything', 'eating', 'doing', 'your', 'like']\n",
      "['hand', 'instead', 'your', 'you', 'everything', 'doing', 'like', 'my', 'turning']\n",
      "['eating', 'hand', 'your', 'tossing', 'everything', 'you', 'instead', 'washing', 'fingers']\n",
      "['hand', 'instead', 'your', 'eating', 'everything', 'you', 'tossing', 'doing', 'turning']\n",
      "['walking', 'instead', 'eating', 'you', 'doing', 'hand', 'everything', 'like', 'up']\n",
      "['playing', 'hand', 'instead', 'doing', 'you', 'your', 'everything', 'my', 'like']\n",
      "['putting', 'doing', 'instead', 'hand', 'dancing', 'like', 'you', 'started', \"'re\"]\n",
      "['hand', 'instead', 'doing', 'you', 'your', 'everything', 'playing', 'like', \"'re\"]\n",
      "['hand', 'your', 'instead', 'you', 'everything', 'eating', 'doing', 'tossing', 'my']\n",
      "['instead', 'hand', 'doing', 'playing', 'you', 'like', 'everything', 'your', 'walking']\n",
      "['putting', 'instead', 'doing', 'hand', 'dancing', 'you', 'like', 'walking', 'just']\n",
      "['hand', 'your', 'instead', 'you', 'everything', 'eating', 'doing', 'my', 'tossing']\n",
      "['hand', 'your', 'instead', 'you', 'eating', 'everything', 'doing', 'my', 'fingers']\n",
      "['instead', 'hand', 'you', 'everything', 'walking', 'doing', 'your', 'eating', 'like']\n",
      "['hand', 'your', 'instead', 'you', 'everything', 'eating', 'doing', 'tossing', 'my']\n",
      "['playing', 'instead', 'hand', 'doing', 'you', 'like', 'everything', 'your', \"'re\"]\n",
      "['putting', 'your', 'you', 'fingers', 'hand', 'my', 'talking', 'everything', 'instead']\n",
      "['hand', 'instead', 'playing', 'your', 'doing', 'you', 'everything', 'my', 'like']\n",
      "['playing', 'hand', 'instead', 'doing', 'you', 'your', 'everything', 'like', 'my']\n",
      "['putting', 'dancing', 'doing', 'instead', 'hand', 'walking', 'like', 'you', 'started']\n",
      "['eating', 'instead', 'hand', 'walking', 'everything', 'you', 'your', 'tossing', 'washing']\n",
      "['hand', 'instead', 'your', 'you', 'everything', 'doing', 'eating', 'like', 'turning']\n",
      "['putting', 'dancing', 'doing', 'instead', 'hand', 'like', 'started', 'walking', 'you']\n",
      "['eating', 'hand', 'washing', 'your', 'tossing', 'instead', 'everything', 'you', 'turning']\n",
      "['playing', 'hand', 'instead', 'doing', 'you', 'your', 'like', 'everything', \"'re\"]\n",
      "['hand', 'your', 'eating', 'instead', 'you', 'everything', 'tossing', 'doing', 'my']\n",
      "['playing', 'hand', 'instead', 'doing', 'you', 'your', 'everything', 'my', 'like']\n",
      "['hand', 'instead', 'your', 'you', 'everything', 'doing', 'eating', 'like', 'turning']\n",
      "['playing', 'doing', 'dancing', 'instead', 'hand', 'walking', 'you', 'like', 'up']\n",
      "['hand', 'eating', 'your', 'you', 'instead', 'everything', 'my', 'fingers', 'tossing']\n",
      "['instead', 'walking', 'doing', 'hand', 'you', 'up', 'like', 'everything', 'pulling']\n",
      "['hand', 'your', 'instead', 'you', 'everything', 'eating', 'doing', 'tossing', 'my']\n",
      "['hand', 'instead', 'your', 'you', 'doing', 'everything', 'my', 'eating', 'like']\n",
      "['instead', 'eating', 'walking', 'hand', 'you', 'everything', 'doing', 'your', 'like']\n",
      "['putting', 'walking', 'playing', 'doing', 'jumping', 'instead', 'pulling', 'hand', 'started']\n",
      "['putting', 'instead', 'doing', 'hand', 'dancing', 'you', 'like', 'walking', 'just']\n",
      "['playing', 'hand', 'instead', 'doing', 'you', 'like', 'everything', 'your', \"'re\"]\n",
      "['eating', 'hand', 'your', 'washing', 'tossing', 'instead', 'everything', 'you', 'turning']\n",
      "['hand', 'instead', 'doing', 'you', 'your', 'everything', 'like', \"'re\", 'playing']\n",
      "['hand', 'instead', 'your', 'you', 'everything', 'doing', 'eating', 'my', 'like']\n",
      "['eating', 'instead', 'walking', 'everything', 'washing', 'you', 'hand', 'your', 'tossing']\n",
      "['putting', 'doing', 'instead', 'hand', 'dancing', 'you', 'like', \"'re\", 'everything']\n",
      "['eating', 'instead', 'walking', 'hand', 'everything', 'you', 'your', 'doing', 'like']\n",
      "['putting', 'instead', 'hand', 'doing', 'you', 'like', 'everything', 'your', \"'re\"]\n",
      "['instead', 'hand', 'doing', 'you', 'playing', 'everything', 'your', 'like', 'walking']\n",
      "['putting', 'hand', 'doing', 'instead', 'you', 'like', 'my', 'your', 'talking']\n",
      "['putting', 'instead', 'doing', 'hand', 'dancing', 'you', 'like', 'walking', 'just']\n",
      "['playing', 'hand', 'instead', 'doing', 'you', 'your', 'everything', 'like', 'my']\n",
      "['hand', 'your', 'instead', 'eating', 'you', 'everything', 'tossing', 'doing', 'my']\n",
      "['eating', 'your', 'hand', 'you', 'fingers', 'everything', 'my', 'instead', 'tossing']\n",
      "['hand', 'your', 'instead', 'you', 'everything', 'doing', 'eating', 'my', 'like']\n",
      "['hand', 'instead', 'playing', 'your', 'you', 'doing', 'everything', 'my', 'eating']\n",
      "['hand', 'instead', 'your', 'you', 'everything', 'doing', 'eating', 'my', 'tossing']\n",
      "['hand', 'instead', 'doing', 'you', 'your', 'everything', 'playing', 'like', 'my']\n",
      "Key:  using segway  items:  83\n",
      "['jumping', 'walking', 'putting', 'playing', 'doing', 'pulling', 'climbing', 'instead', 'started']\n",
      "['walking', 'climbing', 'swimming', 'riding', 'dancing', 'putting', 'skiing', 'horse', 'like']\n",
      "['walking', 'putting', 'jumping', 'playing', 'doing', 'instead', 'pulling', 'up', 'like']\n",
      "['walking', 'dancing', 'climbing', 'swimming', 'putting', 'riding', 'pulling', 'doing', 'playing']\n",
      "['jumping', 'walking', 'putting', 'playing', 'doing', 'pulling', 'climbing', 'instead', 'started']\n",
      "['walking', 'instead', 'doing', 'you', 'hand', 'like', 'up', 'everything', 'pulling']\n",
      "['jumping', 'walking', 'putting', 'playing', 'doing', 'pulling', 'climbing', 'instead', 'started']\n",
      "['playing', 'walking', 'putting', 'jumping', 'doing', 'pulling', 'instead', 'started', 'dance']\n",
      "['walking', 'instead', 'doing', 'hand', 'you', 'like', 'up', 'dancing', 'pulling']\n",
      "['walking', 'climbing', 'swimming', 'dancing', 'riding', 'putting', 'skiing', 'like', 'pulling']\n",
      "['walking', 'jumping', 'putting', 'playing', 'doing', 'pulling', 'instead', 'started', 'taking']\n",
      "['dancing', 'walking', 'putting', 'climbing', 'playing', 'doing', 'pulling', 'swimming', 'started']\n",
      "['walking', 'dancing', 'climbing', 'putting', 'swimming', 'riding', 'pulling', 'doing', 'playing']\n",
      "['walking', 'climbing', 'swimming', 'riding', 'dancing', 'putting', 'skiing', 'horse', 'diving']\n",
      "['walking', 'climbing', 'dancing', 'swimming', 'riding', 'putting', 'pulling', 'doing', 'like']\n",
      "['walking', 'climbing', 'putting', 'dancing', 'swimming', 'riding', 'like', 'instead', 'doing']\n",
      "['jumping', 'walking', 'putting', 'playing', 'doing', 'pulling', 'instead', 'started', 'taking']\n",
      "['walking', 'dancing', 'climbing', 'swimming', 'putting', 'riding', 'pulling', 'doing', 'like']\n",
      "['jumping', 'walking', 'putting', 'playing', 'doing', 'pulling', 'instead', 'started', 'taking']\n",
      "['walking', 'jumping', 'playing', 'putting', 'doing', 'pulling', 'instead', 'started', 'taking']\n",
      "['climbing', 'walking', 'swimming', 'riding', 'skiing', 'biking', 'diving', 'dancing', 'horse']\n",
      "['dancing', 'playing', 'walking', 'doing', 'instead', 'hand', 'pulling', 'up', 'like']\n",
      "['playing', 'putting', 'walking', 'doing', 'jumping', 'instead', 'pulling', 'hand', 'started']\n",
      "['jumping', 'walking', 'putting', 'playing', 'doing', 'climbing', 'pulling', 'instead', 'swimming']\n",
      "['walking', 'jumping', 'playing', 'putting', 'doing', 'pulling', 'instead', 'started', 'taking']\n",
      "['walking', 'jumping', 'putting', 'doing', 'playing', 'instead', 'pulling', 'like', 'up']\n",
      "['playing', 'doing', 'instead', 'hand', 'dancing', 'walking', 'you', 'like', 'up']\n",
      "['jumping', 'walking', 'putting', 'playing', 'doing', 'pulling', 'instead', 'climbing', 'started']\n",
      "['walking', 'dancing', 'instead', 'doing', 'jumping', 'pulling', 'up', 'playing', 'like']\n",
      "['dancing', 'walking', 'climbing', 'putting', 'swimming', 'doing', 'playing', 'pulling', 'riding']\n",
      "['walking', 'jumping', 'playing', 'putting', 'doing', 'pulling', 'instead', 'started', 'dance']\n",
      "['jumping', 'walking', 'putting', 'playing', 'climbing', 'doing', 'pulling', 'swimming', 'instead']\n",
      "['playing', 'putting', 'walking', 'doing', 'jumping', 'instead', 'pulling', 'started', 'hand']\n",
      "['playing', 'walking', 'putting', 'jumping', 'doing', 'pulling', 'instead', 'started', 'dance']\n",
      "['walking', 'dancing', 'climbing', 'swimming', 'putting', 'riding', 'pulling', 'doing', 'like']\n",
      "['walking', 'climbing', 'swimming', 'dancing', 'riding', 'putting', 'like', 'skiing', 'off']\n",
      "['climbing', 'walking', 'swimming', 'riding', 'skiing', 'biking', 'diving', 'dancing', 'putting']\n",
      "['dancing', 'walking', 'putting', 'climbing', 'doing', 'playing', 'pulling', 'instead', 'swimming']\n",
      "['jumping', 'walking', 'playing', 'putting', 'doing', 'pulling', 'started', 'instead', 'dance']\n",
      "['jumping', 'walking', 'putting', 'playing', 'doing', 'pulling', 'instead', 'started', 'taking']\n",
      "['putting', 'instead', 'hand', 'doing', 'you', 'like', 'everything', 'your', 'dancing']\n",
      "['jumping', 'walking', 'putting', 'playing', 'doing', 'pulling', 'instead', 'started', 'taking']\n",
      "['playing', 'walking', 'putting', 'jumping', 'doing', 'pulling', 'instead', 'started', 'throwing']\n",
      "['walking', 'jumping', 'playing', 'putting', 'doing', 'pulling', 'instead', 'started', 'taking']\n",
      "['climbing', 'walking', 'swimming', 'riding', 'skiing', 'biking', 'diving', 'dancing', 'horse']\n",
      "['dancing', 'walking', 'putting', 'climbing', 'playing', 'doing', 'pulling', 'swimming', 'instead']\n",
      "['walking', 'dancing', 'climbing', 'swimming', 'putting', 'riding', 'pulling', 'doing', 'like']\n",
      "['putting', 'walking', 'playing', 'doing', 'jumping', 'instead', 'pulling', 'hand', 'started']\n",
      "['playing', 'putting', 'walking', 'doing', 'instead', 'hand', 'started', 'pulling', 'jumping']\n",
      "['walking', 'dancing', 'climbing', 'putting', 'swimming', 'riding', 'doing', 'pulling', 'playing']\n",
      "['jumping', 'walking', 'playing', 'putting', 'doing', 'pulling', 'instead', 'started', 'taking']\n",
      "['walking', 'putting', 'playing', 'jumping', 'doing', 'pulling', 'instead', 'started', 'like']\n",
      "['walking', 'dancing', 'climbing', 'swimming', 'putting', 'riding', 'pulling', 'doing', 'like']\n",
      "['walking', 'climbing', 'swimming', 'riding', 'dancing', 'putting', 'skiing', 'like', 'diving']\n",
      "['jumping', 'walking', 'putting', 'playing', 'doing', 'climbing', 'pulling', 'swimming', 'started']\n",
      "['dancing', 'putting', 'doing', 'walking', 'instead', 'hand', 'started', 'like', 'pulling']\n",
      "['climbing', 'walking', 'swimming', 'riding', 'skiing', 'biking', 'diving', 'dancing', 'bike']\n",
      "['walking', 'climbing', 'dancing', 'swimming', 'putting', 'riding', 'pulling', 'doing', 'like']\n",
      "['walking', 'jumping', 'playing', 'putting', 'doing', 'pulling', 'instead', 'started', 'dance']\n",
      "['walking', 'climbing', 'swimming', 'dancing', 'riding', 'putting', 'like', 'pulling', 'doing']\n",
      "['playing', 'putting', 'walking', 'doing', 'jumping', 'instead', 'pulling', 'hand', 'started']\n",
      "['walking', 'climbing', 'dancing', 'swimming', 'riding', 'putting', 'pulling', 'doing', 'like']\n",
      "['walking', 'dancing', 'instead', 'doing', 'pulling', 'up', 'playing', 'hand', 'jumping']\n",
      "['walking', 'climbing', 'swimming', 'riding', 'dancing', 'putting', 'skiing', 'diving', 'horse']\n",
      "['walking', 'playing', 'putting', 'jumping', 'doing', 'pulling', 'instead', 'started', 'like']\n",
      "['walking', 'dancing', 'climbing', 'putting', 'swimming', 'riding', 'doing', 'pulling', 'like']\n",
      "['walking', 'jumping', 'putting', 'playing', 'doing', 'pulling', 'instead', 'started', 'like']\n",
      "['dancing', 'walking', 'putting', 'climbing', 'playing', 'swimming', 'doing', 'pulling', 'riding']\n",
      "['putting', 'doing', 'instead', 'dancing', 'hand', 'like', 'you', 'started', 'just']\n",
      "['walking', 'instead', 'doing', 'you', 'hand', 'up', 'like', 'everything', 'eating']\n",
      "['walking', 'dancing', 'climbing', 'swimming', 'putting', 'riding', 'pulling', 'doing', 'like']\n",
      "['walking', 'dancing', 'instead', 'doing', 'jumping', 'pulling', 'up', 'playing', 'like']\n",
      "['walking', 'climbing', 'swimming', 'dancing', 'riding', 'putting', 'pulling', 'like', 'doing']\n",
      "['walking', 'putting', 'jumping', 'playing', 'doing', 'instead', 'pulling', 'up', 'like']\n",
      "['walking', 'jumping', 'playing', 'putting', 'doing', 'pulling', 'instead', 'started', 'dance']\n",
      "['jumping', 'walking', 'putting', 'playing', 'doing', 'pulling', 'instead', 'started', 'climbing']\n",
      "['eating', 'instead', 'walking', 'hand', 'everything', 'you', 'your', 'washing', 'tossing']\n",
      "['playing', 'putting', 'walking', 'doing', 'jumping', 'instead', 'pulling', 'started', 'hand']\n",
      "['walking', 'dancing', 'putting', 'climbing', 'doing', 'swimming', 'pulling', 'playing', 'instead']\n",
      "['walking', 'dancing', 'climbing', 'putting', 'swimming', 'riding', 'doing', 'pulling', 'playing']\n",
      "['walking', 'playing', 'jumping', 'putting', 'doing', 'pulling', 'instead', 'started', 'taking']\n",
      "['walking', 'jumping', 'playing', 'putting', 'doing', 'pulling', 'instead', 'started', 'dance']\n",
      "['jumping', 'putting', 'climbing', 'instead', 'eating', 'like', 'dancing', 'doing', 'you']\n",
      "Key:  zumba  items:  47\n",
      "['walking', 'dancing', 'climbing', 'putting', 'swimming', 'riding', 'doing', 'pulling', 'like']\n",
      "['putting', 'walking', 'playing', 'doing', 'instead', 'jumping', 'pulling', 'hand', 'up']\n",
      "['playing', 'putting', 'walking', 'doing', 'jumping', 'instead', 'pulling', 'started', 'hand']\n",
      "['walking', 'jumping', 'playing', 'putting', 'doing', 'pulling', 'instead', 'started', 'taking']\n",
      "['dancing', 'putting', 'doing', 'instead', 'hand', 'started', 'walking', 'like', 'you']\n",
      "['playing', 'putting', 'doing', 'walking', 'instead', 'hand', 'started', 'pulling', 'like']\n",
      "['walking', 'jumping', 'playing', 'putting', 'doing', 'pulling', 'instead', 'started', 'dance']\n",
      "['walking', 'playing', 'jumping', 'putting', 'doing', 'pulling', 'instead', 'started', 'dance']\n",
      "['walking', 'jumping', 'playing', 'putting', 'doing', 'pulling', 'instead', 'started', 'dance']\n",
      "['instead', 'hand', 'doing', 'you', 'playing', 'everything', 'your', 'like', 'walking']\n",
      "['putting', 'doing', 'dancing', 'instead', 'hand', 'like', 'walking', 'you', 'started']\n",
      "['walking', 'putting', 'playing', 'jumping', 'doing', 'instead', 'pulling', 'started', 'up']\n",
      "['playing', 'instead', 'hand', 'doing', 'you', 'walking', 'like', 'dancing', 'up']\n",
      "['dancing', 'putting', 'doing', 'instead', 'hand', 'walking', 'started', 'like', 'you']\n",
      "['jumping', 'walking', 'playing', 'putting', 'doing', 'pulling', 'instead', 'started', 'dance']\n",
      "['jumping', 'walking', 'putting', 'playing', 'doing', 'climbing', 'pulling', 'swimming', 'started']\n",
      "['playing', 'putting', 'doing', 'walking', 'instead', 'hand', 'started', 'pulling', 'like']\n",
      "['playing', 'putting', 'walking', 'doing', 'jumping', 'instead', 'pulling', 'started', 'hand']\n",
      "['instead', 'hand', 'doing', 'playing', 'you', 'like', 'everything', 'walking', 'your']\n",
      "['walking', 'putting', 'jumping', 'playing', 'doing', 'instead', 'pulling', 'up', 'like']\n",
      "['jumping', 'walking', 'playing', 'putting', 'doing', 'pulling', 'instead', 'started', 'taking']\n",
      "['walking', 'playing', 'jumping', 'putting', 'doing', 'pulling', 'instead', 'started', 'dance']\n",
      "['playing', 'putting', 'walking', 'doing', 'jumping', 'instead', 'pulling', 'hand', 'started']\n",
      "['dancing', 'walking', 'putting', 'climbing', 'playing', 'doing', 'swimming', 'pulling', 'riding']\n",
      "['playing', 'instead', 'doing', 'hand', 'walking', 'dancing', 'you', 'up', 'like']\n",
      "['jumping', 'walking', 'putting', 'playing', 'doing', 'pulling', 'climbing', 'started', 'swimming']\n",
      "['playing', 'putting', 'walking', 'doing', 'jumping', 'instead', 'pulling', 'started', 'hand']\n",
      "['walking', 'dancing', 'doing', 'instead', 'playing', 'jumping', 'pulling', 'up', 'hand']\n",
      "['instead', 'hand', 'eating', 'everything', 'you', 'your', 'walking', 'doing', 'like']\n",
      "['playing', 'putting', 'walking', 'doing', 'jumping', 'instead', 'pulling', 'hand', 'started']\n",
      "['walking', 'jumping', 'playing', 'putting', 'doing', 'pulling', 'instead', 'started', 'dance']\n",
      "['eating', 'walking', 'instead', 'you', 'like', 'everything', 'doing', 'picking', 'your']\n",
      "['walking', 'jumping', 'playing', 'putting', 'doing', 'pulling', 'instead', 'started', 'dance']\n",
      "['jumping', 'walking', 'putting', 'playing', 'doing', 'pulling', 'climbing', 'started', 'instead']\n",
      "['dancing', 'putting', 'doing', 'instead', 'hand', 'started', 'play', 'like', 'you']\n",
      "['jumping', 'dancing', 'putting', 'doing', 'instead', 'pulling', 'playing', 'like', 'up']\n",
      "['playing', 'walking', 'putting', 'jumping', 'doing', 'pulling', 'instead', 'started', 'hand']\n",
      "['playing', 'putting', 'walking', 'doing', 'instead', 'hand', 'started', 'pulling', 'jumping']\n",
      "['eating', 'instead', 'hand', 'walking', 'everything', 'you', 'your', 'doing', 'like']\n",
      "['playing', 'putting', 'walking', 'doing', 'instead', 'hand', 'jumping', 'started', 'pulling']\n",
      "['instead', 'doing', 'playing', 'hand', 'walking', 'you', 'like', 'dancing', 'up']\n",
      "['playing', 'walking', 'putting', 'jumping', 'doing', 'pulling', 'instead', 'started', 'dance']\n",
      "['playing', 'walking', 'putting', 'jumping', 'doing', 'pulling', 'instead', 'started', 'dance']\n",
      "['playing', 'putting', 'doing', 'walking', 'instead', 'hand', 'started', 'pulling', 'like']\n",
      "['playing', 'putting', 'walking', 'doing', 'jumping', 'instead', 'pulling', 'hand', 'started']\n",
      "['playing', 'putting', 'walking', 'doing', 'jumping', 'instead', 'pulling', 'hand', 'started']\n",
      "['playing', 'putting', 'walking', 'doing', 'instead', 'hand', 'started', 'pulling', 'jumping']\n",
      "Key:  cooking egg  items:  81\n",
      "['putting', 'washing', 'tossing', 'cleaning', 'instead', 'your', 'everything', 'cooking', 'hand']\n",
      "['eating', 'washing', 'your', 'hand', 'tossing', 'fingers', 'everything', 'you', 'my']\n",
      "['putting', 'walking', 'washing', 'cleaning', 'instead', 'cooking', 'you', 'everything', 'tossing']\n",
      "['eating', 'instead', 'walking', 'hand', 'everything', 'you', 'your', 'doing', 'like']\n",
      "['eating', 'washing', 'instead', 'cleaning', 'everything', 'tossing', 'walking', 'your', 'hand']\n",
      "['dancing', 'putting', 'doing', 'walking', 'instead', 'hand', 'started', 'like', 'pulling']\n",
      "['eating', 'your', 'hand', 'tossing', 'you', 'everything', 'fingers', 'washing', 'my']\n",
      "['playing', 'hand', 'instead', 'doing', 'you', 'your', 'everything', 'like', 'my']\n",
      "['eating', 'hand', 'washing', 'your', 'tossing', 'instead', 'everything', 'you', 'turning']\n",
      "['putting', 'walking', 'washing', 'cleaning', 'cooking', 'instead', 'you', 'everything', 'tossing']\n",
      "['hand', 'your', 'instead', 'you', 'everything', 'doing', 'eating', 'my', 'like']\n",
      "['eating', 'hand', 'instead', 'your', 'everything', 'washing', 'tossing', 'you', 'turning']\n",
      "['hand', 'your', 'instead', 'you', 'everything', 'doing', 'eating', 'my', 'like']\n",
      "['hand', 'your', 'eating', 'instead', 'you', 'everything', 'tossing', 'doing', 'my']\n",
      "['hand', 'your', 'eating', 'you', 'instead', 'everything', 'my', 'doing', 'fingers']\n",
      "['instead', 'eating', 'walking', 'hand', 'you', 'everything', 'doing', 'your', 'like']\n",
      "['eating', 'hand', 'your', 'you', 'everything', 'tossing', 'fingers', 'instead', 'my']\n",
      "['hand', 'eating', 'your', 'you', 'everything', 'instead', 'tossing', 'fingers', 'my']\n",
      "['hand', 'your', 'eating', 'instead', 'you', 'everything', 'tossing', 'my', 'doing']\n",
      "['instead', 'hand', 'playing', 'doing', 'you', 'walking', 'like', 'everything', 'up']\n",
      "['instead', 'doing', 'hand', 'walking', 'playing', 'you', 'like', 'up', 'dancing']\n",
      "['eating', 'instead', 'hand', 'everything', 'your', 'you', 'tossing', 'washing', 'walking']\n",
      "['hand', 'your', 'eating', 'instead', 'you', 'everything', 'tossing', 'doing', 'my']\n",
      "['playing', 'hand', 'instead', 'doing', 'you', 'like', 'your', 'everything', \"'re\"]\n",
      "['instead', 'walking', 'hand', 'doing', 'you', 'everything', 'up', 'like', 'your']\n",
      "['eating', 'hand', 'your', 'tossing', 'everything', 'you', 'washing', 'instead', 'fingers']\n",
      "['eating', 'hand', 'your', 'washing', 'tossing', 'everything', 'you', 'fingers', 'instead']\n",
      "['eating', 'washing', 'tossing', 'hand', 'your', 'everything', 'instead', 'cleaning', 'you']\n",
      "['hand', 'your', 'instead', 'you', 'eating', 'everything', 'doing', 'my', 'tossing']\n",
      "['putting', 'washing', 'cooking', 'cleaning', 'walking', 'tossing', 'instead', 'you', 'everything']\n",
      "['eating', 'hand', 'instead', 'your', 'everything', 'tossing', 'washing', 'you', 'walking']\n",
      "['hand', 'eating', 'your', 'you', 'instead', 'everything', 'tossing', 'fingers', 'my']\n",
      "['eating', 'instead', 'walking', 'washing', 'everything', 'you', 'hand', 'tossing', 'your']\n",
      "['hand', 'instead', 'you', 'your', 'everything', 'doing', 'like', 'turning', 'walking']\n",
      "['hand', 'instead', 'doing', 'you', 'your', 'everything', 'like', 'walking', 'turning']\n",
      "['eating', 'washing', 'hand', 'tossing', 'your', 'instead', 'everything', 'you', 'cleaning']\n",
      "['eating', 'hand', 'your', 'tossing', 'washing', 'everything', 'you', 'instead', 'fingers']\n",
      "['walking', 'eating', 'instead', 'jumping', 'like', 'you', 'doing', 'picking', 'up']\n",
      "['eating', 'hand', 'washing', 'your', 'tossing', 'everything', 'instead', 'you', 'cleaning']\n",
      "['walking', 'instead', 'jumping', 'doing', 'up', 'like', 'you', 'pulling', 'eating']\n",
      "['hand', 'your', 'instead', 'eating', 'you', 'everything', 'doing', 'tossing', 'my']\n",
      "['hand', 'instead', 'your', 'you', 'everything', 'doing', 'eating', 'tossing', 'my']\n",
      "['eating', 'instead', 'walking', 'hand', 'you', 'everything', 'your', 'doing', 'like']\n",
      "['putting', 'walking', 'instead', 'you', 'like', 'cleaning', 'picking', 'everything', 'washing']\n",
      "['eating', 'your', 'hand', 'tossing', 'washing', 'fingers', 'everything', 'you', 'my']\n",
      "['eating', 'washing', 'hand', 'tossing', 'your', 'everything', 'instead', 'you', 'cleaning']\n",
      "['hand', 'instead', 'doing', 'your', 'you', 'everything', 'like', 'my', 'turning']\n",
      "['eating', 'hand', 'instead', 'your', 'everything', 'you', 'tossing', 'washing', 'turning']\n",
      "['eating', 'hand', 'your', 'washing', 'tossing', 'everything', 'you', 'fingers', 'instead']\n",
      "['eating', 'instead', 'walking', 'you', 'everything', 'hand', 'your', 'doing', 'like']\n",
      "['hand', 'instead', 'your', 'you', 'everything', 'doing', 'eating', 'my', 'like']\n",
      "['hand', 'instead', 'your', 'doing', 'you', 'everything', 'like', 'my', \"'re\"]\n",
      "['walking', 'instead', 'doing', 'you', 'hand', 'like', 'up', 'eating', 'everything']\n",
      "['instead', 'eating', 'hand', 'everything', 'you', 'your', 'walking', 'doing', 'tossing']\n",
      "['instead', 'eating', 'walking', 'hand', 'you', 'everything', 'doing', 'your', 'like']\n",
      "['eating', 'your', 'hand', 'you', 'everything', 'fingers', 'tossing', 'instead', 'my']\n",
      "['hand', 'your', 'instead', 'you', 'everything', 'doing', 'eating', 'my', 'like']\n",
      "['hand', 'instead', 'your', 'you', 'everything', 'doing', 'eating', 'my', 'like']\n",
      "['instead', 'eating', 'walking', 'hand', 'you', 'everything', 'doing', 'your', 'like']\n",
      "['eating', 'washing', 'hand', 'your', 'tossing', 'everything', 'instead', 'you', 'cleaning']\n",
      "['eating', 'washing', 'hand', 'your', 'tossing', 'everything', 'you', 'instead', 'cleaning']\n",
      "['instead', 'walking', 'eating', 'you', 'hand', 'doing', 'everything', 'like', 'up']\n",
      "['putting', 'walking', 'cooking', 'cleaning', 'washing', 'fish', 'instead', 'you', 'picking']\n",
      "['hand', 'instead', 'your', 'you', 'everything', 'doing', 'eating', 'my', 'tossing']\n",
      "['eating', 'washing', 'hand', 'your', 'tossing', 'everything', 'you', 'instead', 'cleaning']\n",
      "['eating', 'washing', 'hand', 'tossing', 'your', 'everything', 'instead', 'you', 'cleaning']\n",
      "['eating', 'washing', 'tossing', 'hand', 'your', 'instead', 'everything', 'cleaning', 'you']\n",
      "['hand', 'your', 'eating', 'you', 'instead', 'everything', 'my', 'doing', 'fingers']\n",
      "['hand', 'eating', 'your', 'tossing', 'everything', 'you', 'instead', 'washing', 'fingers']\n",
      "['playing', 'instead', 'doing', 'hand', 'dancing', 'you', 'like', 'walking', 'just']\n",
      "['putting', 'walking', 'instead', 'washing', 'cleaning', 'you', 'everything', 'tossing', 'your']\n",
      "['eating', 'instead', 'hand', 'washing', 'everything', 'your', 'tossing', 'you', 'walking']\n",
      "['instead', 'eating', 'hand', 'everything', 'your', 'you', 'walking', 'tossing', 'doing']\n",
      "['eating', 'walking', 'instead', 'you', 'everything', 'like', 'doing', 'picking', 'your']\n",
      "['hand', 'eating', 'your', 'tossing', 'everything', 'instead', 'you', 'washing', 'fingers']\n",
      "['eating', 'instead', 'hand', 'everything', 'you', 'walking', 'your', 'tossing', 'washing']\n",
      "['putting', 'washing', 'tossing', 'your', 'hand', 'everything', 'cleaning', 'you', 'cooking']\n",
      "['hand', 'instead', 'your', 'you', 'everything', 'doing', 'eating', 'turning', 'like']\n",
      "['hand', 'instead', 'doing', 'you', 'your', 'everything', 'like', 'playing', \"'re\"]\n",
      "['hand', 'instead', 'your', 'you', 'everything', 'doing', 'eating', 'like', 'my']\n",
      "['putting', 'washing', 'instead', 'cleaning', 'tossing', 'everything', 'walking', 'cooking', 'your']\n",
      "Key:  skateboarding  items:  51\n",
      "['putting', 'doing', 'dancing', 'instead', 'hand', 'walking', 'like', 'you', 'started']\n",
      "['jumping', 'walking', 'putting', 'playing', 'doing', 'pulling', 'instead', 'started', 'like']\n",
      "['walking', 'dancing', 'climbing', 'putting', 'swimming', 'riding', 'pulling', 'doing', 'playing']\n",
      "['walking', 'climbing', 'putting', 'dancing', 'swimming', 'riding', 'like', 'instead', 'doing']\n",
      "['dancing', 'walking', 'putting', 'climbing', 'playing', 'doing', 'pulling', 'swimming', 'riding']\n",
      "['hand', 'instead', 'your', 'you', 'doing', 'everything', 'like', 'my', 'turning']\n",
      "['walking', 'climbing', 'putting', 'dancing', 'instead', 'like', 'swimming', 'doing', 'pulling']\n",
      "['playing', 'instead', 'hand', 'doing', 'you', 'walking', 'like', 'dancing', 'up']\n",
      "['dancing', 'walking', 'putting', 'climbing', 'playing', 'doing', 'pulling', 'swimming', 'instead']\n",
      "['walking', 'climbing', 'swimming', 'riding', 'dancing', 'skiing', 'putting', 'diving', 'horse']\n",
      "['walking', 'climbing', 'swimming', 'dancing', 'riding', 'putting', 'skiing', 'pulling', 'like']\n",
      "['walking', 'jumping', 'playing', 'putting', 'doing', 'pulling', 'instead', 'started', 'dance']\n",
      "['walking', 'dancing', 'climbing', 'swimming', 'putting', 'riding', 'pulling', 'doing', 'like']\n",
      "['walking', 'dancing', 'putting', 'climbing', 'doing', 'pulling', 'swimming', 'playing', 'instead']\n",
      "['walking', 'playing', 'jumping', 'putting', 'doing', 'pulling', 'instead', 'started', 'taking']\n",
      "['jumping', 'walking', 'playing', 'putting', 'doing', 'pulling', 'instead', 'started', 'taking']\n",
      "['hand', 'instead', 'doing', 'you', 'playing', 'your', 'everything', 'like', \"'re\"]\n",
      "['walking', 'climbing', 'swimming', 'riding', 'putting', 'dancing', 'like', 'off', 'diving']\n",
      "['jumping', 'climbing', 'putting', 'eating', 'swimming', 'like', 'instead', 'dancing', 'you']\n",
      "['walking', 'climbing', 'dancing', 'swimming', 'riding', 'putting', 'pulling', 'like', 'doing']\n",
      "['walking', 'climbing', 'dancing', 'swimming', 'riding', 'putting', 'pulling', 'doing', 'like']\n",
      "['walking', 'dancing', 'climbing', 'putting', 'swimming', 'riding', 'doing', 'pulling', 'playing']\n",
      "['jumping', 'climbing', 'swimming', 'putting', 'eating', 'riding', 'like', 'water', 'dancing']\n",
      "['walking', 'climbing', 'swimming', 'riding', 'dancing', 'putting', 'skiing', 'pulling', 'like']\n",
      "['eating', 'hand', 'instead', 'your', 'everything', 'washing', 'tossing', 'you', 'walking']\n",
      "['walking', 'climbing', 'swimming', 'riding', 'dancing', 'skiing', 'putting', 'diving', 'biking']\n",
      "['playing', 'instead', 'doing', 'hand', 'dancing', 'you', 'like', 'walking', 'just']\n",
      "['climbing', 'jumping', 'eating', 'swimming', 'water', 'putting', 'like', 'you', 'off']\n",
      "['playing', 'instead', 'doing', 'hand', 'walking', 'you', 'dancing', 'like', 'up']\n",
      "['walking', 'dancing', 'climbing', 'putting', 'swimming', 'riding', 'doing', 'pulling', 'playing']\n",
      "['walking', 'playing', 'jumping', 'putting', 'doing', 'pulling', 'instead', 'started', 'dance']\n",
      "['dancing', 'walking', 'putting', 'climbing', 'playing', 'doing', 'pulling', 'swimming', 'instead']\n",
      "['walking', 'climbing', 'swimming', 'riding', 'dancing', 'skiing', 'putting', 'diving', 'biking']\n",
      "['putting', 'jumping', 'eating', 'instead', 'climbing', 'like', 'you', 'doing', 'up']\n",
      "['walking', 'jumping', 'playing', 'putting', 'doing', 'pulling', 'instead', 'started', 'dance']\n",
      "['jumping', 'walking', 'playing', 'putting', 'doing', 'pulling', 'instead', 'started', 'dance']\n",
      "['jumping', 'walking', 'playing', 'putting', 'doing', 'pulling', 'instead', 'started', 'taking']\n",
      "['putting', 'walking', 'playing', 'doing', 'jumping', 'instead', 'pulling', 'started', 'hand']\n",
      "['playing', 'doing', 'instead', 'hand', 'dancing', 'walking', 'you', 'like', 'up']\n",
      "['walking', 'putting', 'playing', 'jumping', 'doing', 'pulling', 'instead', 'started', 'like']\n",
      "['putting', 'jumping', 'instead', 'like', 'eating', 'doing', 'climbing', 'you', 'up']\n",
      "['dancing', 'walking', 'climbing', 'putting', 'swimming', 'playing', 'doing', 'pulling', 'riding']\n",
      "['walking', 'dancing', 'climbing', 'putting', 'swimming', 'riding', 'pulling', 'doing', 'playing']\n",
      "['walking', 'dancing', 'climbing', 'putting', 'swimming', 'doing', 'pulling', 'riding', 'playing']\n",
      "['jumping', 'walking', 'putting', 'playing', 'doing', 'pulling', 'instead', 'started', 'climbing']\n",
      "['dancing', 'jumping', 'putting', 'doing', 'instead', 'pulling', 'playing', 'like', 'up']\n",
      "['walking', 'jumping', 'playing', 'putting', 'doing', 'pulling', 'instead', 'started', 'dance']\n",
      "['instead', 'playing', 'doing', 'hand', 'walking', 'dancing', 'you', 'like', 'up']\n",
      "['dancing', 'walking', 'putting', 'climbing', 'playing', 'doing', 'pulling', 'swimming', 'instead']\n",
      "['playing', 'doing', 'instead', 'hand', 'dancing', 'walking', 'you', 'like', 'up']\n",
      "['walking', 'instead', 'doing', 'up', 'hand', 'pulling', 'you', 'like', 'just']\n",
      "Key:  blowing glass  items:  63\n",
      "['putting', 'dancing', 'doing', 'instead', 'hand', 'walking', 'you', 'up', 'like']\n",
      "['playing', 'instead', 'hand', 'doing', 'you', 'like', 'dancing', 'walking', 'everything']\n",
      "['putting', 'washing', 'your', 'tossing', 'hand', 'fingers', 'everything', 'you', 'clothes']\n",
      "['walking', 'instead', 'doing', 'hand', 'you', 'like', 'up', 'everything', 'pulling']\n",
      "['walking', 'instead', 'doing', 'hand', 'you', 'up', 'like', 'dancing', 'pulling']\n",
      "['walking', 'doing', 'dancing', 'instead', 'playing', 'hand', 'pulling', 'up', 'you']\n",
      "['instead', 'walking', 'hand', 'doing', 'you', 'everything', 'eating', 'like', 'up']\n",
      "['putting', 'doing', 'dancing', 'instead', 'play', 'hand', 'started', 'like', 'talking']\n",
      "['playing', 'putting', 'doing', 'walking', 'instead', 'hand', 'started', 'pulling', 'like']\n",
      "['dancing', 'putting', 'doing', 'walking', 'instead', 'hand', 'started', 'like', 'you']\n",
      "['playing', 'instead', 'hand', 'doing', 'you', 'like', 'walking', 'everything', 'dancing']\n",
      "['playing', 'putting', 'walking', 'doing', 'jumping', 'instead', 'pulling', 'started', 'hand']\n",
      "['playing', 'instead', 'doing', 'hand', 'dancing', 'you', 'walking', 'like', 'up']\n",
      "['hand', 'instead', 'your', 'you', 'everything', 'doing', 'like', 'my', 'turning']\n",
      "['instead', 'hand', 'doing', 'playing', 'you', 'like', 'everything', 'your', 'walking']\n",
      "['instead', 'hand', 'walking', 'you', 'everything', 'eating', 'doing', 'your', 'like']\n",
      "['playing', 'putting', 'doing', 'walking', 'instead', 'hand', 'started', 'pulling', 'like']\n",
      "['playing', 'putting', 'walking', 'doing', 'jumping', 'instead', 'pulling', 'hand', 'started']\n",
      "['dancing', 'putting', 'doing', 'instead', 'hand', 'started', 'walking', 'like', 'you']\n",
      "['walking', 'putting', 'playing', 'jumping', 'doing', 'pulling', 'instead', 'started', 'like']\n",
      "['instead', 'hand', 'doing', 'walking', 'you', 'up', 'like', 'everything', 'just']\n",
      "['walking', 'doing', 'instead', 'dancing', 'playing', 'hand', 'pulling', 'up', 'you']\n",
      "['putting', 'doing', 'dancing', 'instead', 'play', 'hand', 'started', 'like', 'you']\n",
      "['hand', 'your', 'eating', 'instead', 'you', 'everything', 'tossing', 'doing', 'my']\n",
      "['eating', 'instead', 'walking', 'hand', 'everything', 'you', 'your', 'tossing', 'doing']\n",
      "['walking', 'playing', 'putting', 'jumping', 'doing', 'pulling', 'instead', 'started', 'taking']\n",
      "['playing', 'putting', 'walking', 'doing', 'jumping', 'instead', 'pulling', 'hand', 'started']\n",
      "['hand', 'your', 'instead', 'you', 'doing', 'eating', 'everything', 'my', 'talking']\n",
      "['playing', 'putting', 'doing', 'walking', 'instead', 'hand', 'started', 'pulling', 'like']\n",
      "['playing', 'walking', 'putting', 'doing', 'jumping', 'instead', 'pulling', 'started', 'hand']\n",
      "['hand', 'your', 'instead', 'eating', 'you', 'everything', 'doing', 'my', 'fingers']\n",
      "['walking', 'instead', 'doing', 'hand', 'you', 'up', 'like', 'pulling', 'everything']\n",
      "['playing', 'walking', 'putting', 'jumping', 'doing', 'pulling', 'instead', 'started', 'hand']\n",
      "['playing', 'putting', 'walking', 'doing', 'instead', 'hand', 'pulling', 'up', 'like']\n",
      "['walking', 'dancing', 'doing', 'instead', 'playing', 'pulling', 'hand', 'up', 'jumping']\n",
      "['hand', 'instead', 'doing', 'you', 'your', 'everything', 'like', 'walking', 'turning']\n",
      "['putting', 'dancing', 'doing', 'instead', 'hand', 'walking', 'started', 'like', 'you']\n",
      "['instead', 'walking', 'hand', 'doing', 'you', 'everything', 'up', 'like', 'your']\n",
      "['instead', 'hand', 'doing', 'you', 'walking', 'everything', 'your', 'like', 'up']\n",
      "['playing', 'putting', 'walking', 'doing', 'instead', 'hand', 'pulling', 'started', 'jumping']\n",
      "['putting', 'doing', 'instead', 'hand', 'dancing', 'like', 'you', 'started', \"'re\"]\n",
      "['putting', 'doing', 'instead', 'hand', 'dancing', 'like', 'you', 'started', \"'re\"]\n",
      "['eating', 'instead', 'walking', 'you', 'everything', 'hand', 'your', 'doing', 'like']\n",
      "['playing', 'putting', 'walking', 'doing', 'jumping', 'instead', 'pulling', 'hand', 'started']\n",
      "['walking', 'dancing', 'playing', 'doing', 'instead', 'hand', 'pulling', 'up', 'like']\n",
      "['walking', 'playing', 'jumping', 'putting', 'doing', 'pulling', 'instead', 'started', 'taking']\n",
      "['putting', 'doing', 'instead', 'hand', 'dancing', 'you', 'walking', 'like', 'up']\n",
      "['playing', 'putting', 'walking', 'doing', 'jumping', 'instead', 'pulling', 'started', 'hand']\n",
      "['eating', 'hand', 'your', 'you', 'instead', 'everything', 'my', 'fingers', 'doing']\n",
      "['putting', 'doing', 'instead', 'hand', 'dancing', 'you', 'like', 'walking', 'just']\n",
      "['hand', 'instead', 'doing', 'you', 'your', 'everything', 'like', 'walking', 'turning']\n",
      "['dancing', 'putting', 'doing', 'walking', 'instead', 'hand', 'started', 'like', 'you']\n",
      "['jumping', 'dancing', 'putting', 'doing', 'instead', 'pulling', 'like', 'climbing', 'up']\n",
      "['dancing', 'putting', 'doing', 'instead', 'hand', 'started', 'play', 'like', 'you']\n",
      "['dancing', 'playing', 'walking', 'doing', 'instead', 'hand', 'pulling', 'jumping', 'up']\n",
      "['eating', 'instead', 'washing', 'hand', 'everything', 'your', 'tossing', 'you', 'walking']\n",
      "['putting', 'doing', 'instead', 'hand', 'dancing', 'like', 'you', 'walking', 'started']\n",
      "['dancing', 'putting', 'doing', 'walking', 'instead', 'hand', 'started', 'like', 'you']\n",
      "['playing', 'hand', 'instead', 'doing', 'you', 'like', 'everything', 'your', \"'re\"]\n",
      "['playing', 'hand', 'instead', 'doing', 'you', 'like', 'your', 'everything', 'my']\n",
      "['putting', 'doing', 'dancing', 'instead', 'hand', 'like', 'started', 'you', 'just']\n",
      "['playing', 'putting', 'walking', 'doing', 'jumping', 'instead', 'pulling', 'started', 'hand']\n",
      "['putting', 'walking', 'jumping', 'playing', 'doing', 'instead', 'pulling', 'up', 'like']\n",
      "Key:  arranging flowers  items:  71\n",
      "['dancing', 'putting', 'doing', 'walking', 'instead', 'hand', 'started', 'like', 'you']\n",
      "['walking', 'jumping', 'putting', 'playing', 'doing', 'pulling', 'instead', 'started', 'taking']\n",
      "['putting', 'washing', 'cleaning', 'instead', 'walking', 'cooking', 'tossing', 'everything', 'you']\n",
      "['hand', 'your', 'instead', 'you', 'eating', 'everything', 'doing', 'my', 'fingers']\n",
      "['instead', 'hand', 'doing', 'playing', 'walking', 'you', 'like', 'up', 'everything']\n",
      "['walking', 'playing', 'putting', 'jumping', 'doing', 'pulling', 'instead', 'started', 'taking']\n",
      "['hand', 'instead', 'your', 'everything', 'you', 'eating', 'doing', 'turning', 'walking']\n",
      "['walking', 'instead', 'doing', 'up', 'you', 'pulling', 'like', 'jumping', 'just']\n",
      "['putting', 'hand', 'instead', 'doing', 'you', 'your', 'like', 'everything', 'my']\n",
      "['eating', 'instead', 'walking', 'you', 'everything', 'hand', 'your', 'doing', 'like']\n",
      "['hand', 'instead', 'doing', 'you', 'your', 'everything', 'like', 'my', \"'re\"]\n",
      "['jumping', 'climbing', 'eating', 'putting', 'like', 'swimming', 'instead', 'water', 'you']\n",
      "['hand', 'instead', 'doing', 'you', 'playing', 'your', 'everything', 'like', 'walking']\n",
      "['instead', 'eating', 'hand', 'walking', 'everything', 'you', 'your', 'doing', 'like']\n",
      "['hand', 'instead', 'your', 'you', 'everything', 'doing', 'eating', 'my', 'like']\n",
      "['eating', 'walking', 'instead', 'you', 'everything', 'washing', 'cleaning', 'your', 'tossing']\n",
      "['playing', 'hand', 'instead', 'doing', 'you', 'your', 'like', 'everything', 'my']\n",
      "['hand', 'instead', 'eating', 'your', 'everything', 'you', 'tossing', 'doing', 'turning']\n",
      "['walking', 'instead', 'doing', 'jumping', 'dancing', 'up', 'pulling', 'like', 'you']\n",
      "['putting', 'walking', 'instead', 'cleaning', 'you', 'cooking', 'washing', 'like', 'picking']\n",
      "['putting', 'instead', 'doing', 'hand', 'dancing', 'you', 'like', 'walking', 'everything']\n",
      "['eating', 'instead', 'hand', 'walking', 'everything', 'you', 'your', 'tossing', 'doing']\n",
      "['walking', 'instead', 'jumping', 'eating', 'doing', 'like', 'you', 'up', 'pulling']\n",
      "['putting', 'doing', 'instead', 'hand', 'dancing', 'like', 'you', 'started', \"'re\"]\n",
      "['instead', 'walking', 'hand', 'doing', 'you', 'like', 'everything', 'up', 'just']\n",
      "['instead', 'hand', 'doing', 'you', 'walking', 'like', 'everything', 'your', 'up']\n",
      "['hand', 'instead', 'your', 'you', 'everything', 'doing', 'like', 'turning', 'walking']\n",
      "['putting', 'doing', 'instead', 'dancing', 'hand', 'like', 'you', 'started', 'walking']\n",
      "['walking', 'instead', 'eating', 'you', 'doing', 'everything', 'like', 'hand', 'up']\n",
      "['hand', 'instead', 'your', 'you', 'everything', 'doing', 'eating', 'tossing', 'my']\n",
      "['eating', 'walking', 'instead', 'you', 'everything', 'hand', 'like', 'doing', 'your']\n",
      "['instead', 'eating', 'hand', 'walking', 'everything', 'you', 'your', 'doing', 'like']\n",
      "['eating', 'instead', 'hand', 'everything', 'you', 'your', 'walking', 'tossing', 'washing']\n",
      "['eating', 'walking', 'instead', 'you', 'like', 'picking', 'doing', 'everything', 'jumping']\n",
      "['hand', 'eating', 'instead', 'your', 'everything', 'you', 'tossing', 'washing', 'turning']\n",
      "['eating', 'instead', 'hand', 'everything', 'walking', 'washing', 'you', 'your', 'tossing']\n",
      "['eating', 'instead', 'walking', 'hand', 'you', 'everything', 'your', 'doing', 'like']\n",
      "['hand', 'eating', 'your', 'instead', 'everything', 'you', 'tossing', 'washing', 'doing']\n",
      "['hand', 'instead', 'your', 'everything', 'eating', 'you', 'tossing', 'doing', 'turning']\n",
      "['putting', 'doing', 'instead', 'dancing', 'hand', 'like', 'you', 'walking', 'started']\n",
      "['hand', 'eating', 'your', 'instead', 'tossing', 'everything', 'you', 'washing', 'my']\n",
      "['walking', 'instead', 'jumping', 'doing', 'up', 'pulling', 'like', 'you', 'just']\n",
      "['putting', 'dancing', 'doing', 'walking', 'instead', 'hand', 'like', 'started', 'you']\n",
      "['putting', 'doing', 'instead', 'hand', 'dancing', 'like', 'you', 'started', \"'re\"]\n",
      "['eating', 'instead', 'walking', 'hand', 'everything', 'you', 'your', 'tossing', 'doing']\n",
      "['hand', 'eating', 'your', 'instead', 'you', 'everything', 'tossing', 'my', 'doing']\n",
      "['walking', 'dancing', 'putting', 'climbing', 'doing', 'pulling', 'swimming', 'instead', 'playing']\n",
      "['walking', 'putting', 'instead', 'jumping', 'like', 'you', 'picking', 'climbing', 'doing']\n",
      "['putting', 'doing', 'instead', 'hand', 'dancing', 'you', 'like', \"'re\", 'everything']\n",
      "['putting', 'doing', 'instead', 'hand', 'you', 'like', 'dancing', 'everything', 'my']\n",
      "['hand', 'your', 'instead', 'you', 'everything', 'eating', 'doing', 'tossing', 'my']\n",
      "['instead', 'hand', 'you', 'doing', 'everything', 'walking', 'your', 'like', 'turning']\n",
      "['putting', 'walking', 'playing', 'doing', 'jumping', 'instead', 'pulling', 'hand', 'up']\n",
      "['putting', 'doing', 'instead', 'dancing', 'hand', 'like', 'play', 'started', 'you']\n",
      "['putting', 'doing', 'dancing', 'instead', 'hand', 'started', 'like', 'play', 'you']\n",
      "['instead', 'hand', 'eating', 'everything', 'you', 'walking', 'your', 'doing', 'like']\n",
      "['eating', 'putting', 'jumping', 'climbing', 'instead', 'like', 'you', 'picking', 'water']\n",
      "['putting', 'washing', 'tossing', 'cleaning', 'instead', 'cooking', 'your', 'everything', 'hand']\n",
      "['eating', 'instead', 'hand', 'everything', 'your', 'you', 'washing', 'tossing', 'walking']\n",
      "['eating', 'hand', 'instead', 'washing', 'your', 'everything', 'tossing', 'you', 'cleaning']\n",
      "['instead', 'eating', 'hand', 'walking', 'everything', 'you', 'your', 'doing', 'like']\n",
      "['walking', 'playing', 'doing', 'instead', 'dancing', 'hand', 'you', 'up', 'like']\n",
      "['putting', 'jumping', 'dancing', 'instead', 'doing', 'pulling', 'like', 'up', 'just']\n",
      "['putting', 'instead', 'doing', 'hand', 'dancing', 'you', 'like', 'walking', 'just']\n",
      "['hand', 'eating', 'your', 'tossing', 'everything', 'instead', 'you', 'washing', 'fingers']\n",
      "['eating', 'walking', 'instead', 'you', 'everything', 'washing', 'your', 'hand', 'cleaning']\n",
      "['putting', 'doing', 'instead', 'hand', 'dancing', 'like', 'you', 'started', \"'re\"]\n",
      "['hand', 'instead', 'your', 'you', 'everything', 'eating', 'doing', 'tossing', 'turning']\n",
      "['hand', 'instead', 'your', 'you', 'everything', 'doing', 'eating', 'tossing', 'turning']\n",
      "['playing', 'instead', 'hand', 'doing', 'you', 'like', 'everything', 'your', \"'re\"]\n",
      "['eating', 'hand', 'your', 'you', 'tossing', 'everything', 'fingers', 'instead', 'my']\n",
      "Key:  dribbling basketball  items:  77\n",
      "['walking', 'playing', 'jumping', 'putting', 'doing', 'pulling', 'instead', 'started', 'dance']\n",
      "['hand', 'instead', 'doing', 'you', 'your', 'everything', 'like', 'playing', \"'re\"]\n",
      "['putting', 'doing', 'instead', 'hand', 'dancing', 'like', 'you', 'started', 'just']\n",
      "['dancing', 'walking', 'climbing', 'putting', 'swimming', 'doing', 'pulling', 'playing', 'riding']\n",
      "['jumping', 'walking', 'putting', 'playing', 'doing', 'pulling', 'started', 'instead', 'taking']\n",
      "['walking', 'instead', 'dancing', 'doing', 'pulling', 'up', 'jumping', 'hand', 'you']\n",
      "['dancing', 'putting', 'doing', 'walking', 'instead', 'hand', 'like', 'started', 'you']\n",
      "['dancing', 'walking', 'putting', 'climbing', 'playing', 'doing', 'pulling', 'swimming', 'instead']\n",
      "['walking', 'instead', 'jumping', 'doing', 'dancing', 'up', 'pulling', 'like', 'you']\n",
      "['walking', 'climbing', 'dancing', 'swimming', 'riding', 'putting', 'pulling', 'doing', 'like']\n",
      "['walking', 'instead', 'doing', 'hand', 'you', 'like', 'up', 'everything', 'pulling']\n",
      "['jumping', 'walking', 'putting', 'playing', 'climbing', 'doing', 'pulling', 'swimming', 'started']\n",
      "['instead', 'hand', 'playing', 'doing', 'you', 'like', 'everything', 'your', 'walking']\n",
      "['walking', 'climbing', 'swimming', 'riding', 'dancing', 'putting', 'skiing', 'like', 'diving']\n",
      "['walking', 'jumping', 'playing', 'putting', 'doing', 'pulling', 'instead', 'started', 'taking']\n",
      "['walking', 'jumping', 'putting', 'playing', 'doing', 'pulling', 'instead', 'started', 'taking']\n",
      "['walking', 'dancing', 'climbing', 'putting', 'swimming', 'riding', 'pulling', 'doing', 'playing']\n",
      "['walking', 'jumping', 'playing', 'putting', 'doing', 'pulling', 'instead', 'started', 'dance']\n",
      "['eating', 'washing', 'instead', 'walking', 'everything', 'tossing', 'cleaning', 'you', 'your']\n",
      "['walking', 'jumping', 'playing', 'putting', 'doing', 'pulling', 'instead', 'started', 'taking']\n",
      "['jumping', 'walking', 'putting', 'playing', 'doing', 'pulling', 'climbing', 'started', 'instead']\n",
      "['putting', 'doing', 'dancing', 'instead', 'hand', 'like', 'started', 'you', 'walking']\n",
      "['putting', 'jumping', 'eating', 'climbing', 'instead', 'like', 'you', 'doing', 'up']\n",
      "['walking', 'climbing', 'dancing', 'swimming', 'riding', 'putting', 'pulling', 'doing', 'like']\n",
      "['putting', 'jumping', 'dancing', 'instead', 'doing', 'pulling', 'like', 'up', 'just']\n",
      "['playing', 'walking', 'putting', 'jumping', 'doing', 'pulling', 'instead', 'started', 'throwing']\n",
      "['dancing', 'putting', 'doing', 'instead', 'hand', 'walking', 'started', 'like', 'you']\n",
      "['jumping', 'walking', 'putting', 'playing', 'climbing', 'doing', 'pulling', 'swimming', 'started']\n",
      "['playing', 'putting', 'doing', 'walking', 'instead', 'hand', 'started', 'pulling', 'like']\n",
      "['hand', 'instead', 'you', 'your', 'everything', 'doing', 'like', 'turning', 'walking']\n",
      "['walking', 'playing', 'jumping', 'putting', 'doing', 'pulling', 'instead', 'started', 'dance']\n",
      "['playing', 'putting', 'doing', 'walking', 'instead', 'hand', 'started', 'pulling', 'like']\n",
      "['jumping', 'walking', 'putting', 'playing', 'doing', 'pulling', 'climbing', 'started', 'instead']\n",
      "['walking', 'climbing', 'swimming', 'riding', 'dancing', 'skiing', 'putting', 'diving', 'horse']\n",
      "['walking', 'dancing', 'putting', 'climbing', 'swimming', 'doing', 'pulling', 'playing', 'instead']\n",
      "['hand', 'instead', 'doing', 'you', 'playing', 'your', 'everything', 'like', 'walking']\n",
      "['putting', 'walking', 'playing', 'doing', 'instead', 'jumping', 'pulling', 'hand', 'up']\n",
      "['walking', 'jumping', 'putting', 'playing', 'doing', 'pulling', 'instead', 'started', 'like']\n",
      "['walking', 'playing', 'jumping', 'putting', 'doing', 'pulling', 'instead', 'started', 'dance']\n",
      "['jumping', 'walking', 'putting', 'playing', 'climbing', 'doing', 'pulling', 'swimming', 'started']\n",
      "['walking', 'putting', 'playing', 'jumping', 'doing', 'instead', 'pulling', 'started', 'up']\n",
      "['playing', 'walking', 'putting', 'jumping', 'doing', 'pulling', 'instead', 'started', 'dance']\n",
      "['jumping', 'walking', 'putting', 'playing', 'doing', 'pulling', 'climbing', 'instead', 'started']\n",
      "['playing', 'putting', 'doing', 'walking', 'instead', 'hand', 'started', 'pulling', 'like']\n",
      "['putting', 'doing', 'dancing', 'instead', 'hand', 'started', 'play', 'like', 'you']\n",
      "['playing', 'walking', 'putting', 'jumping', 'doing', 'pulling', 'instead', 'started', 'dance']\n",
      "['dancing', 'walking', 'climbing', 'putting', 'swimming', 'riding', 'pulling', 'doing', 'playing']\n",
      "['jumping', 'walking', 'putting', 'playing', 'doing', 'climbing', 'pulling', 'swimming', 'instead']\n",
      "['walking', 'jumping', 'playing', 'putting', 'doing', 'pulling', 'instead', 'started', 'dance']\n",
      "['walking', 'dancing', 'doing', 'jumping', 'playing', 'instead', 'pulling', 'up', 'like']\n",
      "['walking', 'dancing', 'putting', 'climbing', 'doing', 'pulling', 'playing', 'instead', 'like']\n",
      "['jumping', 'walking', 'putting', 'playing', 'climbing', 'doing', 'pulling', 'swimming', 'started']\n",
      "['jumping', 'walking', 'putting', 'playing', 'climbing', 'doing', 'pulling', 'swimming', 'started']\n",
      "['playing', 'putting', 'walking', 'doing', 'jumping', 'instead', 'pulling', 'started', 'hand']\n",
      "['jumping', 'walking', 'putting', 'playing', 'doing', 'pulling', 'instead', 'started', 'taking']\n",
      "['playing', 'putting', 'doing', 'walking', 'instead', 'hand', 'started', 'pulling', 'like']\n",
      "['jumping', 'walking', 'putting', 'playing', 'doing', 'pulling', 'climbing', 'started', 'instead']\n",
      "['playing', 'walking', 'putting', 'jumping', 'doing', 'pulling', 'instead', 'started', 'dance']\n",
      "['walking', 'climbing', 'dancing', 'swimming', 'putting', 'riding', 'pulling', 'doing', 'like']\n",
      "['dancing', 'walking', 'putting', 'climbing', 'swimming', 'doing', 'playing', 'pulling', 'riding']\n",
      "['jumping', 'walking', 'putting', 'playing', 'climbing', 'doing', 'pulling', 'swimming', 'started']\n",
      "['playing', 'putting', 'walking', 'doing', 'jumping', 'instead', 'pulling', 'hand', 'started']\n",
      "['walking', 'climbing', 'dancing', 'swimming', 'riding', 'putting', 'pulling', 'like', 'doing']\n",
      "['putting', 'doing', 'dancing', 'instead', 'hand', 'walking', 'you', 'like', 'up']\n",
      "['jumping', 'walking', 'putting', 'playing', 'doing', 'pulling', 'started', 'climbing', 'instead']\n",
      "['jumping', 'walking', 'playing', 'putting', 'doing', 'pulling', 'instead', 'started', 'taking']\n",
      "['eating', 'instead', 'hand', 'everything', 'your', 'washing', 'tossing', 'you', 'walking']\n",
      "['walking', 'jumping', 'playing', 'putting', 'doing', 'pulling', 'instead', 'started', 'taking']\n",
      "['playing', 'putting', 'walking', 'doing', 'instead', 'hand', 'pulling', 'up', 'like']\n",
      "['walking', 'putting', 'playing', 'jumping', 'doing', 'instead', 'pulling', 'started', 'like']\n",
      "['jumping', 'walking', 'putting', 'playing', 'doing', 'pulling', 'climbing', 'started', 'instead']\n",
      "['playing', 'walking', 'putting', 'doing', 'jumping', 'pulling', 'instead', 'started', 'hand']\n",
      "['instead', 'walking', 'hand', 'you', 'eating', 'doing', 'everything', 'your', 'like']\n",
      "['walking', 'instead', 'doing', 'you', 'eating', 'hand', 'up', 'like', 'everything']\n",
      "['hand', 'instead', 'your', 'you', 'doing', 'everything', 'like', 'my', 'turning']\n",
      "['dancing', 'putting', 'doing', 'instead', 'walking', 'hand', 'started', 'like', 'you']\n",
      "['putting', 'walking', 'playing', 'doing', 'instead', 'jumping', 'pulling', 'hand', 'up']\n",
      "Key:  answering questions  items:  63\n",
      "['playing', 'hand', 'instead', 'doing', 'you', 'your', 'everything', 'like', 'my']\n",
      "['putting', 'doing', 'instead', 'hand', 'dancing', 'like', 'you', 'started', \"'re\"]\n",
      "['hand', 'your', 'instead', 'you', 'everything', 'doing', 'eating', 'my', 'like']\n",
      "['doing', 'putting', 'dancing', 'play', 'instead', 'hand', 'started', 'like', 'talking']\n",
      "['putting', 'dancing', 'doing', 'instead', 'hand', 'started', 'play', 'like', 'you']\n",
      "['playing', 'instead', 'doing', 'hand', 'you', 'dancing', 'like', 'walking', 'everything']\n",
      "['hand', 'your', 'eating', 'you', 'instead', 'everything', 'doing', 'my', 'fingers']\n",
      "['hand', 'instead', 'your', 'you', 'doing', 'everything', 'my', 'eating', 'like']\n",
      "['play', 'doing', 'dancing', 'putting', 'guitar', 'instead', 'singing', 'started', 'talking']\n",
      "['putting', 'doing', 'instead', 'dancing', 'hand', 'walking', 'you', 'like', 'just']\n",
      "['instead', 'hand', 'doing', 'walking', 'you', 'playing', 'like', 'everything', 'up']\n",
      "['hand', 'your', 'instead', 'you', 'doing', 'everything', 'eating', 'my', 'like']\n",
      "['hand', 'instead', 'your', 'you', 'everything', 'doing', 'eating', 'turning', 'like']\n",
      "['hand', 'eating', 'your', 'you', 'instead', 'everything', 'my', 'doing', 'fingers']\n",
      "['playing', 'hand', 'instead', 'doing', 'you', 'your', 'everything', 'my', 'like']\n",
      "['hand', 'instead', 'doing', 'playing', 'you', 'your', 'everything', 'like', 'my']\n",
      "['hand', 'your', 'instead', 'you', 'everything', 'doing', 'eating', 'my', 'like']\n",
      "['hand', 'your', 'instead', 'eating', 'you', 'everything', 'doing', 'my', 'tossing']\n",
      "['hand', 'eating', 'your', 'you', 'instead', 'everything', 'my', 'tossing', 'fingers']\n",
      "['putting', 'your', 'you', 'hand', 'fingers', 'my', 'talking', 'everything', 'instead']\n",
      "['hand', 'instead', 'playing', 'your', 'doing', 'you', 'everything', 'my', 'like']\n",
      "['hand', 'your', 'instead', 'you', 'doing', 'everything', 'eating', 'my', 'like']\n",
      "['putting', 'doing', 'dancing', 'instead', 'play', 'hand', 'started', 'like', 'you']\n",
      "['putting', 'doing', 'dancing', 'instead', 'play', 'hand', 'started', 'like', 'you']\n",
      "['putting', 'doing', 'instead', 'hand', 'dancing', 'walking', 'you', 'like', 'just']\n",
      "['putting', 'your', 'fingers', 'you', 'hand', 'my', 'everything', 'tossing', 'talking']\n",
      "['hand', 'instead', 'playing', 'doing', 'you', 'your', 'everything', 'like', 'my']\n",
      "['instead', 'doing', 'walking', 'hand', 'you', 'playing', 'like', 'up', 'dancing']\n",
      "['hand', 'your', 'instead', 'eating', 'you', 'everything', 'doing', 'my', 'fingers']\n",
      "['hand', 'your', 'instead', 'you', 'playing', 'doing', 'eating', 'everything', 'my']\n",
      "['hand', 'your', 'instead', 'you', 'eating', 'everything', 'doing', 'my', 'fingers']\n",
      "['hand', 'eating', 'your', 'you', 'instead', 'everything', 'my', 'doing', 'fingers']\n",
      "['eating', 'your', 'hand', 'you', 'everything', 'fingers', 'my', 'instead', 'talking']\n",
      "['hand', 'your', 'instead', 'you', 'eating', 'doing', 'everything', 'my', 'playing']\n",
      "['walking', 'doing', 'instead', 'dancing', 'playing', 'hand', 'pulling', 'up', 'you']\n",
      "['instead', 'hand', 'doing', 'playing', 'you', 'like', 'everything', 'your', 'walking']\n",
      "['playing', 'hand', 'instead', 'doing', 'you', 'your', 'everything', 'like', 'my']\n",
      "['hand', 'instead', 'playing', 'doing', 'you', 'your', 'everything', 'like', 'my']\n",
      "['hand', 'your', 'instead', 'you', 'eating', 'doing', 'everything', 'my', 'talking']\n",
      "['instead', 'walking', 'hand', 'doing', 'you', 'everything', 'like', 'eating', 'up']\n",
      "['hand', 'eating', 'your', 'you', 'instead', 'everything', 'my', 'fingers', 'doing']\n",
      "['hand', 'your', 'instead', 'eating', 'you', 'everything', 'doing', 'my', 'fingers']\n",
      "['putting', 'doing', 'instead', 'hand', 'you', 'like', 'talking', 'my', 'dancing']\n",
      "['putting', 'doing', 'instead', 'hand', 'dancing', 'like', 'started', 'you', 'play']\n",
      "['hand', 'instead', 'your', 'you', 'everything', 'doing', 'like', 'my', 'eating']\n",
      "['eating', 'hand', 'your', 'tossing', 'washing', 'everything', 'you', 'fingers', 'instead']\n",
      "['eating', 'instead', 'hand', 'walking', 'everything', 'washing', 'you', 'your', 'tossing']\n",
      "['hand', 'playing', 'instead', 'doing', 'your', 'you', 'everything', 'my', 'like']\n",
      "['hand', 'instead', 'your', 'you', 'everything', 'doing', 'eating', 'my', 'like']\n",
      "['putting', 'dancing', 'doing', 'instead', 'hand', 'walking', 'you', 'like', 'up']\n",
      "['hand', 'instead', 'playing', 'your', 'you', 'doing', 'everything', 'my', 'eating']\n",
      "['putting', 'doing', 'instead', 'hand', 'dancing', 'like', 'you', 'talking', 'started']\n",
      "['hand', 'instead', 'your', 'everything', 'you', 'eating', 'doing', 'tossing', 'turning']\n",
      "['hand', 'your', 'instead', 'you', 'eating', 'everything', 'doing', 'tossing', 'my']\n",
      "['eating', 'your', 'hand', 'you', 'my', 'instead', 'everything', 'fingers', 'talking']\n",
      "['putting', 'doing', 'instead', 'dancing', 'play', 'hand', 'like', 'started', 'talking']\n",
      "['playing', 'hand', 'instead', 'doing', 'your', 'you', 'everything', 'my', 'like']\n",
      "['putting', 'instead', 'doing', 'hand', 'dancing', 'you', 'like', 'walking', 'just']\n",
      "['putting', 'hand', 'instead', 'doing', 'you', 'like', 'everything', 'your', 'my']\n",
      "['hand', 'instead', 'playing', 'doing', 'you', 'your', 'everything', 'like', 'my']\n",
      "['eating', 'instead', 'hand', 'everything', 'your', 'you', 'walking', 'tossing', 'washing']\n",
      "['hand', 'instead', 'doing', 'playing', 'you', 'your', 'everything', 'like', \"'re\"]\n",
      "['hand', 'your', 'eating', 'instead', 'you', 'everything', 'my', 'doing', 'fingers']\n",
      "Key:  making jewelry  items:  74\n",
      "['putting', 'walking', 'instead', 'you', 'like', 'picking', 'everything', 'cleaning', 'doing']\n",
      "['eating', 'your', 'hand', 'you', 'everything', 'fingers', 'tossing', 'instead', 'my']\n",
      "['eating', 'washing', 'hand', 'your', 'tossing', 'everything', 'instead', 'you', 'cleaning']\n",
      "['putting', 'doing', 'dancing', 'instead', 'hand', 'started', 'play', 'like', 'you']\n",
      "['hand', 'your', 'instead', 'you', 'eating', 'everything', 'doing', 'my', 'fingers']\n",
      "['eating', 'hand', 'your', 'washing', 'tossing', 'everything', 'instead', 'you', 'turning']\n",
      "['hand', 'instead', 'your', 'you', 'everything', 'doing', 'eating', 'like', 'turning']\n",
      "['eating', 'walking', 'instead', 'you', 'like', 'everything', 'picking', 'doing', 'your']\n",
      "['walking', 'eating', 'instead', 'you', 'like', 'doing', 'up', 'jumping', 'everything']\n",
      "['playing', 'instead', 'doing', 'hand', 'dancing', 'you', 'like', 'walking', 'just']\n",
      "['hand', 'instead', 'doing', 'your', 'you', 'playing', 'everything', 'my', 'like']\n",
      "['eating', 'putting', 'jumping', 'climbing', 'instead', 'like', 'you', 'water', 'picking']\n",
      "['eating', 'walking', 'instead', 'you', 'everything', 'hand', 'like', 'doing', 'your']\n",
      "['putting', 'washing', 'tossing', 'your', 'hand', 'everything', 'you', 'cleaning', 'instead']\n",
      "['instead', 'hand', 'you', 'everything', 'walking', 'doing', 'your', 'eating', 'like']\n",
      "['eating', 'walking', 'instead', 'you', 'like', 'everything', 'picking', 'doing', 'your']\n",
      "['hand', 'eating', 'instead', 'your', 'everything', 'you', 'tossing', 'washing', 'walking']\n",
      "['hand', 'your', 'eating', 'instead', 'you', 'everything', 'tossing', 'my', 'doing']\n",
      "['hand', 'your', 'eating', 'instead', 'you', 'everything', 'tossing', 'my', 'doing']\n",
      "['putting', 'walking', 'cooking', 'washing', 'cleaning', 'fish', 'you', 'instead', 'picking']\n",
      "['hand', 'eating', 'your', 'you', 'everything', 'tossing', 'instead', 'fingers', 'my']\n",
      "['eating', 'hand', 'your', 'tossing', 'you', 'everything', 'fingers', 'instead', 'washing']\n",
      "['instead', 'walking', 'eating', 'hand', 'you', 'everything', 'doing', 'like', 'your']\n",
      "['eating', 'hand', 'your', 'tossing', 'washing', 'everything', 'you', 'instead', 'fingers']\n",
      "['hand', 'your', 'eating', 'instead', 'you', 'everything', 'tossing', 'my', 'doing']\n",
      "['eating', 'instead', 'washing', 'everything', 'hand', 'walking', 'tossing', 'your', 'you']\n",
      "['hand', 'instead', 'eating', 'your', 'everything', 'you', 'tossing', 'doing', 'turning']\n",
      "['putting', 'dancing', 'doing', 'instead', 'hand', 'walking', 'like', 'you', 'started']\n",
      "['putting', 'washing', 'tossing', 'your', 'hand', 'cleaning', 'everything', 'instead', 'cooking']\n",
      "['hand', 'instead', 'doing', 'you', 'your', 'everything', 'like', 'turning', 'walking']\n",
      "['hand', 'instead', 'doing', 'your', 'you', 'everything', 'like', 'my', 'playing']\n",
      "['hand', 'instead', 'your', 'you', 'everything', 'doing', 'my', 'eating', 'like']\n",
      "['eating', 'instead', 'walking', 'hand', 'everything', 'you', 'your', 'doing', 'like']\n",
      "['instead', 'hand', 'doing', 'you', 'walking', 'everything', 'your', 'like', 'up']\n",
      "['eating', 'your', 'hand', 'you', 'tossing', 'everything', 'fingers', 'my', 'instead']\n",
      "['eating', 'hand', 'your', 'instead', 'washing', 'tossing', 'everything', 'you', 'turning']\n",
      "['instead', 'walking', 'doing', 'hand', 'you', 'like', 'up', 'pulling', 'everything']\n",
      "['hand', 'your', 'instead', 'you', 'everything', 'eating', 'doing', 'my', 'tossing']\n",
      "['putting', 'instead', 'hand', 'doing', 'you', 'like', 'everything', 'my', 'your']\n",
      "['eating', 'instead', 'walking', 'you', 'everything', 'hand', 'your', 'doing', 'like']\n",
      "['eating', 'hand', 'your', 'washing', 'tossing', 'everything', 'instead', 'you', 'turning']\n",
      "['putting', 'walking', 'instead', 'you', 'like', 'picking', 'everything', 'cleaning', 'doing']\n",
      "['putting', 'hand', 'instead', 'doing', 'you', 'your', 'everything', 'like', 'my']\n",
      "['hand', 'your', 'eating', 'instead', 'you', 'everything', 'doing', 'my', 'fingers']\n",
      "['eating', 'hand', 'instead', 'your', 'everything', 'you', 'tossing', 'washing', 'turning']\n",
      "['eating', 'hand', 'washing', 'your', 'tossing', 'everything', 'instead', 'you', 'cleaning']\n",
      "['putting', 'your', 'fingers', 'hand', 'you', 'my', 'everything', 'tossing', 'washing']\n",
      "['hand', 'your', 'instead', 'you', 'everything', 'eating', 'doing', 'tossing', 'my']\n",
      "['hand', 'instead', 'doing', 'your', 'you', 'everything', 'like', 'my', \"'re\"]\n",
      "['hand', 'your', 'instead', 'you', 'eating', 'everything', 'doing', 'my', 'fingers']\n",
      "['hand', 'instead', 'playing', 'doing', 'your', 'you', 'everything', 'my', 'like']\n",
      "['instead', 'walking', 'eating', 'hand', 'you', 'everything', 'doing', 'like', 'your']\n",
      "['eating', 'hand', 'washing', 'your', 'tossing', 'everything', 'instead', 'you', 'turning']\n",
      "['putting', 'washing', 'tossing', 'instead', 'hand', 'your', 'everything', 'cleaning', 'you']\n",
      "['instead', 'walking', 'eating', 'hand', 'you', 'everything', 'doing', 'like', 'your']\n",
      "['hand', 'instead', 'doing', 'playing', 'you', 'your', 'everything', 'like', 'my']\n",
      "['hand', 'instead', 'your', 'you', 'everything', 'doing', 'eating', 'like', 'my']\n",
      "['instead', 'hand', 'walking', 'you', 'doing', 'everything', 'eating', 'your', 'like']\n",
      "['hand', 'instead', 'doing', 'you', 'your', 'everything', 'like', 'turning', 'walking']\n",
      "['hand', 'instead', 'your', 'you', 'everything', 'doing', 'eating', 'my', 'like']\n",
      "['hand', 'your', 'instead', 'you', 'eating', 'everything', 'doing', 'tossing', 'my']\n",
      "['hand', 'instead', 'your', 'you', 'everything', 'doing', 'eating', 'turning', 'like']\n",
      "['instead', 'walking', 'doing', 'hand', 'you', 'up', 'like', 'everything', 'pulling']\n",
      "['hand', 'instead', 'your', 'you', 'doing', 'everything', 'like', 'turning', 'my']\n",
      "['hand', 'your', 'eating', 'instead', 'you', 'everything', 'tossing', 'doing', 'my']\n",
      "['hand', 'your', 'instead', 'eating', 'you', 'everything', 'tossing', 'doing', 'my']\n",
      "['walking', 'jumping', 'instead', 'dancing', 'doing', 'pulling', 'up', 'like', 'just']\n",
      "['putting', 'hand', 'instead', 'doing', 'you', 'your', 'my', 'like', 'talking']\n",
      "['instead', 'hand', 'doing', 'playing', 'you', 'walking', 'like', 'up', 'just']\n",
      "['hand', 'instead', 'doing', 'you', 'playing', 'your', 'everything', 'like', 'walking']\n",
      "['eating', 'washing', 'hand', 'tossing', 'your', 'instead', 'everything', 'you', 'cleaning']\n",
      "['instead', 'walking', 'doing', 'hand', 'you', 'up', 'like', 'pulling', 'everything']\n",
      "['putting', 'hand', 'instead', 'doing', 'you', 'like', 'everything', 'my', 'your']\n",
      "['walking', 'instead', 'eating', 'doing', 'you', 'jumping', 'like', 'up', 'pulling']\n",
      "Key:  playing kickball  items:  71\n",
      "['jumping', 'walking', 'playing', 'putting', 'doing', 'pulling', 'instead', 'started', 'taking']\n",
      "['dancing', 'walking', 'putting', 'climbing', 'playing', 'swimming', 'doing', 'pulling', 'riding']\n",
      "['walking', 'climbing', 'swimming', 'riding', 'dancing', 'skiing', 'putting', 'diving', 'biking']\n",
      "['climbing', 'walking', 'swimming', 'riding', 'skiing', 'biking', 'dancing', 'diving', 'horse']\n",
      "['walking', 'climbing', 'swimming', 'riding', 'dancing', 'skiing', 'putting', 'diving', 'biking']\n",
      "['walking', 'climbing', 'dancing', 'swimming', 'riding', 'putting', 'pulling', 'like', 'doing']\n",
      "['walking', 'climbing', 'putting', 'swimming', 'dancing', 'like', 'riding', 'instead', 'off']\n",
      "['walking', 'climbing', 'swimming', 'riding', 'skiing', 'dancing', 'biking', 'diving', 'putting']\n",
      "['walking', 'climbing', 'swimming', 'riding', 'dancing', 'putting', 'skiing', 'pulling', 'horse']\n",
      "['jumping', 'walking', 'putting', 'playing', 'doing', 'pulling', 'climbing', 'instead', 'started']\n",
      "['climbing', 'walking', 'swimming', 'riding', 'skiing', 'biking', 'diving', 'bike', 'jump']\n",
      "['walking', 'climbing', 'swimming', 'putting', 'riding', 'dancing', 'like', 'off', 'just']\n",
      "['walking', 'climbing', 'swimming', 'dancing', 'riding', 'putting', 'pulling', 'like', 'skiing']\n",
      "['walking', 'climbing', 'swimming', 'riding', 'dancing', 'skiing', 'putting', 'diving', 'horse']\n",
      "['walking', 'climbing', 'swimming', 'riding', 'dancing', 'skiing', 'putting', 'diving', 'biking']\n",
      "['walking', 'climbing', 'dancing', 'swimming', 'riding', 'putting', 'pulling', 'doing', 'like']\n",
      "['walking', 'climbing', 'swimming', 'riding', 'dancing', 'skiing', 'biking', 'diving', 'putting']\n",
      "['putting', 'eating', 'instead', 'jumping', 'like', 'you', 'doing', 'picking', 'up']\n",
      "['climbing', 'walking', 'swimming', 'riding', 'skiing', 'biking', 'diving', 'surfing', 'bike']\n",
      "['walking', 'climbing', 'swimming', 'riding', 'skiing', 'dancing', 'biking', 'diving', 'putting']\n",
      "['walking', 'climbing', 'swimming', 'riding', 'dancing', 'skiing', 'putting', 'diving', 'biking']\n",
      "['walking', 'climbing', 'swimming', 'riding', 'skiing', 'dancing', 'biking', 'diving', 'putting']\n",
      "['dancing', 'walking', 'putting', 'climbing', 'playing', 'doing', 'swimming', 'pulling', 'riding']\n",
      "['walking', 'climbing', 'swimming', 'riding', 'skiing', 'dancing', 'biking', 'diving', 'horse']\n",
      "['walking', 'climbing', 'swimming', 'riding', 'putting', 'dancing', 'like', 'off', 'just']\n",
      "['climbing', 'walking', 'swimming', 'riding', 'skiing', 'biking', 'diving', 'bike', 'surfing']\n",
      "['walking', 'dancing', 'climbing', 'putting', 'swimming', 'doing', 'pulling', 'riding', 'instead']\n",
      "['jumping', 'walking', 'playing', 'putting', 'doing', 'pulling', 'instead', 'started', 'taking']\n",
      "['walking', 'climbing', 'swimming', 'dancing', 'riding', 'putting', 'skiing', 'pulling', 'like']\n",
      "['walking', 'climbing', 'dancing', 'swimming', 'riding', 'putting', 'pulling', 'like', 'skiing']\n",
      "['walking', 'climbing', 'swimming', 'riding', 'dancing', 'skiing', 'putting', 'diving', 'biking']\n",
      "['walking', 'dancing', 'putting', 'climbing', 'doing', 'pulling', 'playing', 'swimming', 'instead']\n",
      "['climbing', 'walking', 'swimming', 'riding', 'skiing', 'biking', 'diving', 'dancing', 'horse']\n",
      "['walking', 'jumping', 'playing', 'putting', 'doing', 'pulling', 'instead', 'started', 'taking']\n",
      "['walking', 'climbing', 'dancing', 'swimming', 'riding', 'putting', 'pulling', 'doing', 'like']\n",
      "['putting', 'dancing', 'jumping', 'doing', 'instead', 'pulling', 'playing', 'up', 'like']\n",
      "['dancing', 'walking', 'putting', 'climbing', 'playing', 'doing', 'swimming', 'pulling', 'riding']\n",
      "['walking', 'climbing', 'swimming', 'riding', 'dancing', 'skiing', 'putting', 'diving', 'biking']\n",
      "['walking', 'climbing', 'swimming', 'riding', 'dancing', 'putting', 'skiing', 'horse', 'diving']\n",
      "['walking', 'climbing', 'swimming', 'riding', 'dancing', 'skiing', 'putting', 'diving', 'biking']\n",
      "['climbing', 'walking', 'swimming', 'riding', 'skiing', 'biking', 'diving', 'dancing', 'jump']\n",
      "['walking', 'climbing', 'dancing', 'putting', 'swimming', 'riding', 'doing', 'pulling', 'like']\n",
      "['walking', 'dancing', 'climbing', 'swimming', 'riding', 'putting', 'pulling', 'doing', 'taking']\n",
      "['walking', 'climbing', 'swimming', 'riding', 'dancing', 'putting', 'skiing', 'pulling', 'like']\n",
      "['dancing', 'walking', 'climbing', 'putting', 'swimming', 'playing', 'pulling', 'doing', 'riding']\n",
      "['walking', 'climbing', 'dancing', 'swimming', 'riding', 'putting', 'pulling', 'doing', 'like']\n",
      "['walking', 'dancing', 'climbing', 'putting', 'swimming', 'riding', 'pulling', 'doing', 'playing']\n",
      "['walking', 'climbing', 'swimming', 'riding', 'dancing', 'putting', 'skiing', 'like', 'horse']\n",
      "['walking', 'climbing', 'swimming', 'dancing', 'riding', 'putting', 'skiing', 'pulling', 'like']\n",
      "['walking', 'dancing', 'climbing', 'swimming', 'riding', 'putting', 'pulling', 'doing', 'taking']\n",
      "['walking', 'climbing', 'dancing', 'swimming', 'riding', 'putting', 'pulling', 'like', 'doing']\n",
      "['jumping', 'dancing', 'putting', 'doing', 'instead', 'pulling', 'like', 'up', 'playing']\n",
      "['walking', 'climbing', 'dancing', 'swimming', 'riding', 'putting', 'pulling', 'skiing', 'like']\n",
      "['walking', 'climbing', 'swimming', 'riding', 'dancing', 'putting', 'skiing', 'pulling', 'like']\n",
      "['walking', 'dancing', 'climbing', 'putting', 'swimming', 'riding', 'doing', 'pulling', 'like']\n",
      "['walking', 'climbing', 'swimming', 'riding', 'dancing', 'skiing', 'putting', 'diving', 'biking']\n",
      "['climbing', 'walking', 'swimming', 'riding', 'skiing', 'biking', 'diving', 'dancing', 'horse']\n",
      "['climbing', 'walking', 'swimming', 'riding', 'skiing', 'biking', 'diving', 'bike', 'surfing']\n",
      "['walking', 'climbing', 'dancing', 'swimming', 'riding', 'putting', 'pulling', 'doing', 'like']\n",
      "['walking', 'climbing', 'swimming', 'riding', 'dancing', 'putting', 'skiing', 'horse', 'pulling']\n",
      "['walking', 'dancing', 'climbing', 'putting', 'swimming', 'riding', 'doing', 'pulling', 'playing']\n",
      "['walking', 'climbing', 'swimming', 'riding', 'dancing', 'skiing', 'putting', 'diving', 'biking']\n",
      "['walking', 'climbing', 'swimming', 'riding', 'dancing', 'putting', 'skiing', 'like', 'pulling']\n",
      "['dancing', 'walking', 'climbing', 'putting', 'swimming', 'doing', 'playing', 'pulling', 'riding']\n",
      "['climbing', 'walking', 'swimming', 'riding', 'skiing', 'biking', 'diving', 'dancing', 'jump']\n",
      "['walking', 'dancing', 'climbing', 'swimming', 'putting', 'riding', 'pulling', 'doing', 'like']\n",
      "['walking', 'climbing', 'dancing', 'swimming', 'riding', 'putting', 'pulling', 'doing', 'like']\n",
      "['walking', 'climbing', 'dancing', 'swimming', 'putting', 'riding', 'pulling', 'doing', 'like']\n",
      "['climbing', 'walking', 'swimming', 'riding', 'skiing', 'biking', 'dancing', 'diving', 'horse']\n",
      "['walking', 'dancing', 'climbing', 'putting', 'swimming', 'riding', 'pulling', 'doing', 'playing']\n",
      "['walking', 'dancing', 'climbing', 'swimming', 'putting', 'riding', 'pulling', 'doing', 'like']\n",
      "Key:  running on treadmill  items:  84\n",
      "['playing', 'putting', 'walking', 'doing', 'instead', 'hand', 'pulling', 'like', 'started']\n",
      "['walking', 'instead', 'doing', 'hand', 'up', 'you', 'pulling', 'like', 'just']\n",
      "['dancing', 'putting', 'doing', 'instead', 'hand', 'started', 'play', 'like', 'you']\n",
      "['playing', 'walking', 'putting', 'doing', 'jumping', 'instead', 'pulling', 'started', 'hand']\n",
      "['instead', 'walking', 'doing', 'playing', 'hand', 'dancing', 'you', 'up', 'like']\n",
      "['instead', 'walking', 'hand', 'doing', 'you', 'everything', 'like', 'up', 'your']\n",
      "['putting', 'doing', 'instead', 'hand', 'dancing', 'you', 'like', 'just', 'walking']\n",
      "['walking', 'instead', 'doing', 'dancing', 'hand', 'pulling', 'up', 'you', 'like']\n",
      "['putting', 'doing', 'instead', 'hand', 'you', 'like', 'talking', 'my', 'dancing']\n",
      "['walking', 'putting', 'playing', 'jumping', 'doing', 'instead', 'pulling', 'started', 'hand']\n",
      "['putting', 'doing', 'dancing', 'instead', 'hand', 'walking', 'like', 'you', 'started']\n",
      "['putting', 'dancing', 'doing', 'instead', 'hand', 'started', 'like', 'play', 'you']\n",
      "['playing', 'instead', 'hand', 'doing', 'you', 'like', 'walking', 'everything', 'your']\n",
      "['playing', 'putting', 'doing', 'walking', 'instead', 'hand', 'started', 'pulling', 'like']\n",
      "['eating', 'hand', 'instead', 'your', 'everything', 'you', 'tossing', 'washing', 'turning']\n",
      "['putting', 'doing', 'instead', 'dancing', 'hand', 'like', 'you', 'started', 'walking']\n",
      "['hand', 'instead', 'doing', 'you', 'your', 'everything', 'like', 'walking', 'turning']\n",
      "['walking', 'instead', 'doing', 'hand', 'dancing', 'pulling', 'up', 'you', 'like']\n",
      "['instead', 'eating', 'hand', 'everything', 'you', 'walking', 'your', 'doing', 'like']\n",
      "['playing', 'putting', 'doing', 'walking', 'instead', 'hand', 'started', 'pulling', 'like']\n",
      "['putting', 'doing', 'instead', 'hand', 'dancing', 'you', 'like', 'started', 'just']\n",
      "['playing', 'putting', 'walking', 'doing', 'instead', 'jumping', 'pulling', 'hand', 'started']\n",
      "['playing', 'putting', 'doing', 'walking', 'instead', 'hand', 'started', 'pulling', 'like']\n",
      "['putting', 'doing', 'instead', 'hand', 'you', 'like', 'my', 'dancing', 'everything']\n",
      "['putting', 'doing', 'instead', 'dancing', 'hand', 'play', 'like', 'talking', 'started']\n",
      "['hand', 'instead', 'playing', 'doing', 'you', 'your', 'everything', 'like', \"'re\"]\n",
      "['dancing', 'putting', 'doing', 'walking', 'instead', 'hand', 'started', 'like', 'you']\n",
      "['playing', 'putting', 'doing', 'walking', 'instead', 'hand', 'started', 'pulling', 'like']\n",
      "['putting', 'doing', 'dancing', 'instead', 'hand', 'walking', 'you', 'like', 'up']\n",
      "['playing', 'putting', 'doing', 'walking', 'instead', 'hand', 'started', 'pulling', 'like']\n",
      "['playing', 'instead', 'doing', 'hand', 'dancing', 'you', 'like', 'walking', 'just']\n",
      "['putting', 'instead', 'doing', 'hand', 'dancing', 'you', 'like', 'walking', 'just']\n",
      "['playing', 'hand', 'instead', 'doing', 'you', 'like', 'your', 'everything', \"'re\"]\n",
      "['hand', 'instead', 'doing', 'playing', 'you', 'like', 'your', 'everything', 'walking']\n",
      "['playing', 'walking', 'putting', 'jumping', 'doing', 'pulling', 'instead', 'started', 'hand']\n",
      "['playing', 'putting', 'doing', 'walking', 'instead', 'hand', 'started', 'pulling', 'like']\n",
      "['walking', 'jumping', 'playing', 'putting', 'doing', 'pulling', 'instead', 'started', 'taking']\n",
      "['walking', 'instead', 'doing', 'hand', 'you', 'like', 'up', 'dancing', 'everything']\n",
      "['playing', 'putting', 'doing', 'walking', 'instead', 'hand', 'started', 'pulling', 'like']\n",
      "['playing', 'instead', 'doing', 'hand', 'dancing', 'you', 'like', 'walking', 'just']\n",
      "['playing', 'putting', 'doing', 'walking', 'instead', 'hand', 'started', 'pulling', 'like']\n",
      "['walking', 'jumping', 'playing', 'putting', 'doing', 'pulling', 'instead', 'started', 'taking']\n",
      "['instead', 'hand', 'doing', 'playing', 'you', 'walking', 'like', 'everything', 'your']\n",
      "['walking', 'putting', 'playing', 'jumping', 'doing', 'pulling', 'instead', 'started', 'like']\n",
      "['playing', 'putting', 'walking', 'doing', 'jumping', 'instead', 'pulling', 'hand', 'started']\n",
      "['walking', 'instead', 'doing', 'up', 'you', 'hand', 'pulling', 'like', 'just']\n",
      "['putting', 'instead', 'hand', 'doing', 'you', 'like', 'dancing', 'everything', 'your']\n",
      "['instead', 'walking', 'doing', 'hand', 'you', 'like', 'up', 'everything', 'pulling']\n",
      "['walking', 'instead', 'doing', 'hand', 'you', 'like', 'up', 'everything', 'pulling']\n",
      "['putting', 'doing', 'instead', 'hand', 'dancing', 'like', 'you', 'started', \"'re\"]\n",
      "['playing', 'walking', 'putting', 'doing', 'jumping', 'instead', 'pulling', 'started', 'hand']\n",
      "['dancing', 'putting', 'doing', 'walking', 'instead', 'hand', 'started', 'like', 'pulling']\n",
      "['instead', 'hand', 'doing', 'you', 'everything', 'your', 'walking', 'like', 'turning']\n",
      "['instead', 'hand', 'playing', 'doing', 'you', 'walking', 'like', 'up', 'just']\n",
      "['instead', 'hand', 'doing', 'you', 'walking', 'everything', 'like', 'up', 'your']\n",
      "['putting', 'doing', 'instead', 'hand', 'dancing', 'like', 'you', 'started', \"'re\"]\n",
      "['playing', 'putting', 'doing', 'walking', 'instead', 'hand', 'started', 'pulling', 'like']\n",
      "['playing', 'putting', 'doing', 'walking', 'instead', 'hand', 'started', 'pulling', 'like']\n",
      "['hand', 'your', 'instead', 'eating', 'you', 'everything', 'tossing', 'doing', 'my']\n",
      "['instead', 'hand', 'doing', 'walking', 'you', 'like', 'up', 'everything', 'playing']\n",
      "['dancing', 'putting', 'doing', 'walking', 'instead', 'hand', 'started', 'like', 'pulling']\n",
      "['playing', 'instead', 'doing', 'hand', 'dancing', 'walking', 'you', 'like', 'up']\n",
      "['walking', 'playing', 'putting', 'jumping', 'doing', 'pulling', 'instead', 'started', 'dance']\n",
      "['playing', 'walking', 'putting', 'jumping', 'doing', 'pulling', 'instead', 'started', 'hand']\n",
      "['playing', 'putting', 'walking', 'doing', 'instead', 'hand', 'started', 'pulling', 'jumping']\n",
      "['hand', 'instead', 'your', 'you', 'doing', 'everything', 'my', 'like', \"'re\"]\n",
      "['putting', 'doing', 'dancing', 'instead', 'hand', 'started', 'play', 'like', 'you']\n",
      "['instead', 'hand', 'eating', 'you', 'everything', 'walking', 'your', 'doing', 'like']\n",
      "['jumping', 'walking', 'putting', 'playing', 'doing', 'pulling', 'instead', 'climbing', 'started']\n",
      "['putting', 'doing', 'dancing', 'instead', 'play', 'hand', 'started', 'like', 'you']\n",
      "['hand', 'instead', 'doing', 'you', 'your', 'everything', 'like', 'playing', 'my']\n",
      "['hand', 'instead', 'your', 'you', 'doing', 'everything', 'my', 'playing', 'eating']\n",
      "['dancing', 'putting', 'doing', 'walking', 'instead', 'hand', 'started', 'like', 'pulling']\n",
      "['putting', 'dancing', 'doing', 'instead', 'hand', 'walking', 'like', 'you', 'started']\n",
      "['instead', 'walking', 'doing', 'hand', 'playing', 'dancing', 'you', 'up', 'like']\n",
      "['eating', 'instead', 'walking', 'hand', 'you', 'everything', 'doing', 'your', 'like']\n",
      "['playing', 'instead', 'hand', 'doing', 'you', 'like', 'everything', 'your', 'walking']\n",
      "['putting', 'doing', 'instead', 'hand', 'dancing', 'you', 'walking', 'like', 'up']\n",
      "['playing', 'putting', 'doing', 'walking', 'instead', 'hand', 'started', 'pulling', 'like']\n",
      "['playing', 'putting', 'walking', 'doing', 'instead', 'jumping', 'hand', 'started', 'pulling']\n",
      "['putting', 'dancing', 'doing', 'instead', 'walking', 'hand', 'like', 'you', 'up']\n",
      "['dancing', 'putting', 'doing', 'instead', 'walking', 'hand', 'started', 'like', 'you']\n",
      "['instead', 'hand', 'walking', 'doing', 'you', 'everything', 'your', 'like', 'up']\n",
      "['walking', 'instead', 'doing', 'dancing', 'hand', 'up', 'pulling', 'you', 'like']\n",
      "Key:  weaving basket  items:  83\n",
      "['walking', 'instead', 'eating', 'you', 'doing', 'like', 'everything', 'hand', 'up']\n",
      "['eating', 'instead', 'walking', 'hand', 'everything', 'you', 'your', 'washing', 'tossing']\n",
      "['instead', 'walking', 'hand', 'doing', 'you', 'everything', 'like', 'up', 'eating']\n",
      "['walking', 'instead', 'eating', 'you', 'doing', 'hand', 'everything', 'like', 'your']\n",
      "['eating', 'hand', 'your', 'tossing', 'you', 'everything', 'instead', 'fingers', 'washing']\n",
      "['putting', 'walking', 'instead', 'washing', 'you', 'cleaning', 'everything', 'your', 'tossing']\n",
      "['instead', 'doing', 'hand', 'walking', 'you', 'like', 'up', 'everything', 'playing']\n",
      "['putting', 'hand', 'instead', 'doing', 'you', 'like', 'your', 'everything', 'my']\n",
      "['instead', 'eating', 'hand', 'walking', 'you', 'everything', 'your', 'doing', 'like']\n",
      "['instead', 'hand', 'doing', 'walking', 'you', 'like', 'everything', 'up', 'your']\n",
      "['walking', 'instead', 'doing', 'you', 'up', 'hand', 'like', 'pulling', 'everything']\n",
      "['hand', 'your', 'instead', 'you', 'eating', 'doing', 'everything', 'my', 'talking']\n",
      "['putting', 'walking', 'instead', 'washing', 'cleaning', 'you', 'everything', 'tossing', 'your']\n",
      "['eating', 'walking', 'instead', 'you', 'everything', 'washing', 'cleaning', 'your', 'hand']\n",
      "['hand', 'instead', 'your', 'you', 'everything', 'doing', 'eating', 'my', 'tossing']\n",
      "['putting', 'washing', 'walking', 'cleaning', 'instead', 'cooking', 'you', 'everything', 'tossing']\n",
      "['instead', 'walking', 'doing', 'hand', 'you', 'everything', 'like', 'up', 'eating']\n",
      "['eating', 'instead', 'walking', 'everything', 'you', 'hand', 'your', 'washing', 'tossing']\n",
      "['hand', 'your', 'eating', 'you', 'instead', 'everything', 'my', 'doing', 'fingers']\n",
      "['eating', 'instead', 'walking', 'washing', 'everything', 'you', 'cleaning', 'tossing', 'your']\n",
      "['putting', 'washing', 'instead', 'cleaning', 'tossing', 'everything', 'your', 'hand', 'walking']\n",
      "['eating', 'instead', 'walking', 'you', 'everything', 'hand', 'your', 'tossing', 'like']\n",
      "['putting', 'walking', 'instead', 'you', 'like', 'picking', 'everything', 'cleaning', 'doing']\n",
      "['eating', 'instead', 'walking', 'hand', 'everything', 'you', 'washing', 'your', 'tossing']\n",
      "['eating', 'hand', 'washing', 'your', 'tossing', 'everything', 'instead', 'you', 'turning']\n",
      "['eating', 'instead', 'walking', 'washing', 'everything', 'you', 'hand', 'your', 'tossing']\n",
      "['climbing', 'jumping', 'swimming', 'eating', 'water', 'putting', 'like', 'diving', 'fish']\n",
      "['walking', 'instead', 'doing', 'you', 'hand', 'up', 'like', 'everything', 'pulling']\n",
      "['putting', 'walking', 'instead', 'washing', 'cleaning', 'you', 'everything', 'tossing', 'your']\n",
      "['instead', 'walking', 'hand', 'doing', 'you', 'eating', 'everything', 'up', 'like']\n",
      "['instead', 'hand', 'playing', 'doing', 'you', 'like', 'everything', 'your', 'walking']\n",
      "['putting', 'walking', 'cleaning', 'cooking', 'washing', 'instead', 'you', 'picking', 'like']\n",
      "['eating', 'instead', 'walking', 'washing', 'everything', 'you', 'hand', 'your', 'tossing']\n",
      "['eating', 'instead', 'hand', 'walking', 'everything', 'you', 'your', 'doing', 'turning']\n",
      "['eating', 'hand', 'your', 'tossing', 'you', 'everything', 'fingers', 'instead', 'my']\n",
      "['instead', 'walking', 'doing', 'hand', 'you', 'up', 'like', 'everything', 'pulling']\n",
      "['eating', 'instead', 'hand', 'walking', 'everything', 'you', 'your', 'doing', 'like']\n",
      "['hand', 'eating', 'your', 'tossing', 'instead', 'everything', 'washing', 'you', 'turning']\n",
      "['hand', 'your', 'instead', 'eating', 'everything', 'you', 'tossing', 'doing', 'turning']\n",
      "['hand', 'instead', 'your', 'everything', 'you', 'eating', 'doing', 'turning', 'walking']\n",
      "['eating', 'washing', 'instead', 'tossing', 'everything', 'cleaning', 'your', 'hand', 'walking']\n",
      "['putting', 'jumping', 'dancing', 'instead', 'doing', 'pulling', 'up', 'like', 'just']\n",
      "['hand', 'instead', 'playing', 'doing', 'you', 'your', 'everything', 'like', 'my']\n",
      "['eating', 'your', 'hand', 'washing', 'tossing', 'fingers', 'everything', 'you', 'instead']\n",
      "['walking', 'putting', 'jumping', 'playing', 'doing', 'instead', 'pulling', 'started', 'like']\n",
      "['hand', 'instead', 'your', 'everything', 'you', 'eating', 'doing', 'turning', 'tossing']\n",
      "['eating', 'washing', 'instead', 'tossing', 'hand', 'your', 'everything', 'cleaning', 'you']\n",
      "['putting', 'doing', 'dancing', 'instead', 'hand', 'like', 'walking', 'you', 'started']\n",
      "['putting', 'doing', 'dancing', 'instead', 'hand', 'like', 'walking', 'you', 'started']\n",
      "['eating', 'walking', 'instead', 'you', 'everything', 'washing', 'cleaning', 'like', 'your']\n",
      "['putting', 'walking', 'instead', 'washing', 'cleaning', 'you', 'everything', 'tossing', 'your']\n",
      "['putting', 'walking', 'instead', 'cleaning', 'washing', 'you', 'everything', 'picking', 'like']\n",
      "['eating', 'hand', 'instead', 'your', 'washing', 'everything', 'tossing', 'you', 'walking']\n",
      "['eating', 'your', 'hand', 'you', 'fingers', 'everything', 'tossing', 'my', 'instead']\n",
      "['walking', 'instead', 'doing', 'hand', 'you', 'up', 'like', 'pulling', 'everything']\n",
      "['hand', 'eating', 'your', 'instead', 'everything', 'you', 'tossing', 'washing', 'turning']\n",
      "['eating', 'washing', 'tossing', 'instead', 'hand', 'your', 'everything', 'cleaning', 'you']\n",
      "['putting', 'dancing', 'doing', 'instead', 'walking', 'hand', 'like', 'you', 'up']\n",
      "['hand', 'instead', 'your', 'you', 'everything', 'doing', 'eating', 'like', 'my']\n",
      "['putting', 'doing', 'instead', 'hand', 'you', 'dancing', 'like', 'everything', \"'re\"]\n",
      "['putting', 'washing', 'tossing', 'hand', 'your', 'instead', 'everything', 'cleaning', 'cooking']\n",
      "['walking', 'climbing', 'swimming', 'putting', 'riding', 'eating', 'like', 'dancing', 'off']\n",
      "['hand', 'instead', 'your', 'you', 'doing', 'everything', 'my', 'eating', 'like']\n",
      "['putting', 'jumping', 'instead', 'eating', 'like', 'doing', 'you', 'up', 'pulling']\n",
      "['eating', 'walking', 'instead', 'you', 'everything', 'hand', 'your', 'like', 'doing']\n",
      "['walking', 'eating', 'instead', 'jumping', 'like', 'you', 'picking', 'doing', 'everything']\n",
      "['instead', 'eating', 'walking', 'hand', 'you', 'everything', 'doing', 'your', 'like']\n",
      "['eating', 'washing', 'instead', 'hand', 'tossing', 'everything', 'your', 'cleaning', 'you']\n",
      "['eating', 'walking', 'instead', 'you', 'everything', 'like', 'picking', 'your', 'doing']\n",
      "['instead', 'hand', 'eating', 'everything', 'you', 'your', 'walking', 'doing', 'tossing']\n",
      "['hand', 'instead', 'you', 'your', 'doing', 'everything', 'like', 'turning', 'walking']\n",
      "['putting', 'walking', 'instead', 'cleaning', 'washing', 'cooking', 'you', 'picking', 'like']\n",
      "['eating', 'instead', 'washing', 'hand', 'everything', 'tossing', 'your', 'you', 'walking']\n",
      "['eating', 'hand', 'washing', 'instead', 'your', 'tossing', 'everything', 'you', 'cleaning']\n",
      "['eating', 'instead', 'walking', 'hand', 'everything', 'you', 'your', 'doing', 'like']\n",
      "['eating', 'walking', 'instead', 'you', 'like', 'everything', 'doing', 'picking', 'your']\n",
      "['putting', 'dancing', 'doing', 'instead', 'hand', 'walking', 'like', 'you', 'started']\n",
      "['putting', 'walking', 'instead', 'you', 'like', 'cleaning', 'picking', 'everything', 'washing']\n",
      "['walking', 'instead', 'doing', 'dancing', 'playing', 'hand', 'up', 'pulling', 'you']\n",
      "['putting', 'walking', 'instead', 'cleaning', 'you', 'washing', 'like', 'picking', 'everything']\n",
      "['instead', 'walking', 'eating', 'hand', 'you', 'everything', 'doing', 'like', 'your']\n",
      "['walking', 'eating', 'instead', 'you', 'doing', 'like', 'everything', 'hand', 'up']\n",
      "['hand', 'instead', 'your', 'you', 'everything', 'doing', 'eating', 'like', 'turning']\n",
      "Key:  playing guitar  items:  78\n",
      "['walking', 'instead', 'doing', 'hand', 'dancing', 'pulling', 'up', 'you', 'like']\n",
      "['instead', 'hand', 'eating', 'everything', 'you', 'walking', 'your', 'doing', 'like']\n",
      "['putting', 'doing', 'instead', 'hand', 'like', 'dancing', 'talking', 'you', 'my']\n",
      "['hand', 'your', 'eating', 'you', 'instead', 'everything', 'my', 'tossing', 'doing']\n",
      "['playing', 'hand', 'instead', 'doing', 'you', 'like', 'everything', 'your', \"'re\"]\n",
      "['hand', 'instead', 'your', 'everything', 'you', 'doing', 'eating', 'turning', 'like']\n",
      "['putting', 'hand', 'instead', 'doing', 'you', 'your', 'my', 'talking', 'everything']\n",
      "['doing', 'putting', 'dancing', 'play', 'instead', 'hand', 'started', 'like', 'talking']\n",
      "['putting', 'playing', 'walking', 'doing', 'instead', 'pulling', 'jumping', 'hand', 'up']\n",
      "['hand', 'playing', 'instead', 'your', 'you', 'doing', 'my', 'everything', 'eating']\n",
      "['putting', 'doing', 'instead', 'hand', 'like', 'you', 'dancing', 'talking', 'my']\n",
      "['putting', 'hand', 'doing', 'instead', 'you', 'talking', 'your', 'my', 'like']\n",
      "['hand', 'playing', 'instead', 'your', 'you', 'doing', 'my', 'everything', 'eating']\n",
      "['hand', 'instead', 'your', 'doing', 'you', 'playing', 'everything', 'my', 'like']\n",
      "['putting', 'dancing', 'doing', 'instead', 'hand', 'started', 'like', 'play', 'you']\n",
      "['putting', 'hand', 'instead', 'doing', 'you', 'your', 'like', 'everything', 'my']\n",
      "['playing', 'instead', 'doing', 'hand', 'dancing', 'you', 'walking', 'like', 'up']\n",
      "['hand', 'playing', 'instead', 'your', 'you', 'doing', 'my', 'everything', 'eating']\n",
      "['instead', 'walking', 'doing', 'hand', 'you', 'everything', 'like', 'eating', 'up']\n",
      "['putting', 'dancing', 'doing', 'instead', 'hand', 'like', 'started', 'you', 'walking']\n",
      "['putting', 'hand', 'doing', 'instead', 'you', 'like', 'talking', 'my', 'your']\n",
      "['playing', 'hand', 'instead', 'doing', 'you', 'your', 'everything', 'my', 'like']\n",
      "['hand', 'instead', 'your', 'you', 'doing', 'playing', 'everything', 'my', 'eating']\n",
      "['playing', 'instead', 'doing', 'hand', 'dancing', 'you', 'like', 'walking', 'everything']\n",
      "['putting', 'doing', 'instead', 'hand', 'you', 'like', 'dancing', 'my', 'everything']\n",
      "['putting', 'hand', 'instead', 'doing', 'you', 'your', 'everything', 'my', 'like']\n",
      "['putting', 'doing', 'instead', 'dancing', 'play', 'hand', 'like', 'started', 'talking']\n",
      "['hand', 'your', 'instead', 'you', 'everything', 'doing', 'eating', 'my', 'like']\n",
      "['instead', 'hand', 'you', 'everything', 'your', 'eating', 'doing', 'walking', 'like']\n",
      "['putting', 'doing', 'dancing', 'instead', 'hand', 'play', 'started', 'like', 'you']\n",
      "['doing', 'putting', 'dancing', 'play', 'instead', 'hand', 'started', 'like', 'talking']\n",
      "['putting', 'instead', 'doing', 'hand', 'dancing', 'you', 'like', 'walking', 'just']\n",
      "['putting', 'hand', 'instead', 'doing', 'you', 'your', 'my', 'talking', 'everything']\n",
      "['playing', 'hand', 'instead', 'doing', 'you', 'your', 'my', 'everything', 'like']\n",
      "['walking', 'playing', 'putting', 'jumping', 'doing', 'pulling', 'instead', 'started', 'like']\n",
      "['eating', 'your', 'hand', 'you', 'my', 'instead', 'everything', 'fingers', 'talking']\n",
      "['playing', 'hand', 'instead', 'doing', 'you', 'your', 'my', 'everything', 'like']\n",
      "['putting', 'instead', 'hand', 'doing', 'you', 'like', 'everything', 'dancing', 'your']\n",
      "['putting', 'hand', 'doing', 'instead', 'you', 'your', 'talking', 'my', 'like']\n",
      "['putting', 'doing', 'dancing', 'instead', 'hand', 'started', 'like', 'play', 'you']\n",
      "['putting', 'hand', 'instead', 'doing', 'you', 'like', 'your', 'my', 'everything']\n",
      "['putting', 'doing', 'instead', 'hand', 'dancing', 'like', 'you', 'talking', 'started']\n",
      "['hand', 'instead', 'playing', 'doing', 'your', 'you', 'everything', 'my', 'like']\n",
      "['hand', 'instead', 'doing', 'you', 'your', 'playing', 'everything', 'like', 'my']\n",
      "['putting', 'doing', 'instead', 'dancing', 'hand', 'play', 'like', 'started', 'you']\n",
      "['hand', 'instead', 'doing', 'playing', 'you', 'your', 'everything', 'like', 'my']\n",
      "['putting', 'doing', 'hand', 'instead', 'you', 'talking', 'my', 'your', 'like']\n",
      "['walking', 'jumping', 'playing', 'putting', 'doing', 'pulling', 'instead', 'started', 'taking']\n",
      "['hand', 'eating', 'your', 'you', 'instead', 'playing', 'doing', 'my', 'everything']\n",
      "['hand', 'your', 'instead', 'you', 'eating', 'everything', 'doing', 'my', 'tossing']\n",
      "['eating', 'your', 'hand', 'you', 'fingers', 'everything', 'my', 'tossing', 'instead']\n",
      "['playing', 'walking', 'putting', 'doing', 'jumping', 'pulling', 'instead', 'started', 'hand']\n",
      "['putting', 'doing', 'instead', 'hand', 'like', 'you', 'dancing', 'my', 'talking']\n",
      "['putting', 'doing', 'instead', 'hand', 'dancing', 'like', 'you', 'started', \"'re\"]\n",
      "['putting', 'hand', 'instead', 'doing', 'you', 'your', 'everything', 'my', 'like']\n",
      "['hand', 'your', 'instead', 'you', 'eating', 'doing', 'everything', 'my', 'playing']\n",
      "['putting', 'hand', 'doing', 'instead', 'you', 'like', 'my', 'talking', 'your']\n",
      "['putting', 'doing', 'instead', 'dancing', 'talking', 'hand', 'play', 'like', 'you']\n",
      "['instead', 'playing', 'doing', 'hand', 'walking', 'dancing', 'you', 'like', 'up']\n",
      "['putting', 'playing', 'walking', 'doing', 'jumping', 'instead', 'pulling', 'hand', 'started']\n",
      "['instead', 'playing', 'hand', 'doing', 'you', 'walking', 'like', 'everything', 'dancing']\n",
      "['putting', 'doing', 'instead', 'hand', 'dancing', 'like', 'play', 'talking', 'you']\n",
      "['doing', 'play', 'putting', 'dancing', 'instead', 'guitar', 'talking', 'singing', 'hand']\n",
      "['hand', 'your', 'instead', 'eating', 'you', 'everything', 'doing', 'my', 'tossing']\n",
      "['putting', 'doing', 'instead', 'hand', 'dancing', 'like', 'you', 'talking', 'my']\n",
      "['putting', 'doing', 'instead', 'dancing', 'hand', 'play', 'like', 'talking', 'started']\n",
      "['putting', 'doing', 'instead', 'dancing', 'hand', 'like', 'started', 'you', 'play']\n",
      "['instead', 'eating', 'walking', 'hand', 'you', 'everything', 'doing', 'your', 'like']\n",
      "['putting', 'doing', 'instead', 'hand', 'dancing', 'like', 'you', 'talking', 'started']\n",
      "['hand', 'instead', 'doing', 'your', 'you', 'everything', 'like', 'playing', 'my']\n",
      "['hand', 'your', 'eating', 'you', 'instead', 'doing', 'everything', 'my', 'talking']\n",
      "['putting', 'doing', 'instead', 'hand', 'dancing', 'like', 'you', \"'re\", 'started']\n",
      "['putting', 'hand', 'doing', 'instead', 'you', 'your', 'talking', 'my', 'everything']\n",
      "['putting', 'doing', 'dancing', 'instead', 'hand', 'play', 'started', 'like', 'you']\n",
      "['hand', 'your', 'eating', 'instead', 'everything', 'you', 'tossing', 'my', 'doing']\n",
      "['instead', 'doing', 'hand', 'walking', 'playing', 'you', 'like', 'up', 'everything']\n",
      "['putting', 'doing', 'instead', 'hand', 'you', 'like', 'talking', 'my', 'dancing']\n",
      "['hand', 'instead', 'your', 'you', 'doing', 'everything', 'my', 'eating', 'like']\n",
      "Key:  recording music  items:  74\n",
      "['putting', 'doing', 'instead', 'dancing', 'hand', 'walking', 'you', 'like', 'up']\n",
      "['walking', 'dancing', 'doing', 'instead', 'playing', 'hand', 'pulling', 'up', 'you']\n",
      "['putting', 'doing', 'instead', 'dancing', 'hand', 'like', 'started', 'you', 'just']\n",
      "['playing', 'hand', 'instead', 'doing', 'you', 'like', 'your', 'everything', \"'re\"]\n",
      "['putting', 'doing', 'dancing', 'instead', 'hand', 'started', 'like', 'play', 'you']\n",
      "['dancing', 'walking', 'playing', 'doing', 'instead', 'pulling', 'hand', 'jumping', 'up']\n",
      "['putting', 'doing', 'dancing', 'instead', 'hand', 'started', 'like', 'play', 'you']\n",
      "['hand', 'instead', 'your', 'you', 'everything', 'doing', 'eating', 'my', 'like']\n",
      "['eating', 'hand', 'your', 'washing', 'tossing', 'everything', 'instead', 'you', 'fingers']\n",
      "['putting', 'doing', 'dancing', 'instead', 'hand', 'started', 'play', 'like', 'you']\n",
      "['hand', 'instead', 'your', 'everything', 'eating', 'you', 'doing', 'walking', 'turning']\n",
      "['hand', 'instead', 'playing', 'doing', 'you', 'your', 'everything', 'like', 'my']\n",
      "['eating', 'instead', 'hand', 'walking', 'everything', 'you', 'your', 'doing', 'turning']\n",
      "['putting', 'instead', 'doing', 'hand', 'you', 'dancing', 'like', 'everything', 'walking']\n",
      "['putting', 'doing', 'instead', 'hand', 'dancing', 'like', 'you', 'started', \"'re\"]\n",
      "['playing', 'doing', 'instead', 'hand', 'dancing', 'walking', 'you', 'up', 'like']\n",
      "['putting', 'doing', 'instead', 'hand', 'talking', 'like', 'you', 'dancing', 'my']\n",
      "['hand', 'instead', 'doing', 'you', 'your', 'everything', 'like', 'walking', 'turning']\n",
      "['putting', 'doing', 'instead', 'hand', 'like', 'you', 'dancing', 'my', 'talking']\n",
      "['playing', 'putting', 'doing', 'walking', 'instead', 'hand', 'started', 'pulling', 'like']\n",
      "['playing', 'hand', 'instead', 'doing', 'your', 'you', 'everything', 'my', 'talking']\n",
      "['putting', 'doing', 'instead', 'dancing', 'hand', 'like', 'you', 'started', 'walking']\n",
      "['hand', 'your', 'eating', 'you', 'instead', 'everything', 'tossing', 'my', 'fingers']\n",
      "['putting', 'doing', 'hand', 'instead', 'you', 'like', 'talking', 'my', 'your']\n",
      "['walking', 'instead', 'doing', 'up', 'pulling', 'dancing', 'you', 'hand', 'jumping']\n",
      "['dancing', 'putting', 'doing', 'walking', 'instead', 'hand', 'started', 'like', 'pulling']\n",
      "['playing', 'walking', 'putting', 'doing', 'jumping', 'pulling', 'instead', 'started', 'hand']\n",
      "['putting', 'doing', 'instead', 'hand', 'dancing', 'like', 'you', \"'re\", 'my']\n",
      "['hand', 'instead', 'your', 'you', 'everything', 'doing', 'eating', 'like', 'turning']\n",
      "['hand', 'playing', 'instead', 'your', 'you', 'doing', 'my', 'everything', 'eating']\n",
      "['putting', 'instead', 'doing', 'hand', 'you', 'dancing', 'like', 'walking', 'just']\n",
      "['hand', 'instead', 'your', 'you', 'everything', 'doing', 'turning', 'like', 'eating']\n",
      "['instead', 'hand', 'doing', 'you', 'everything', 'your', 'walking', 'like', 'up']\n",
      "['playing', 'putting', 'walking', 'doing', 'jumping', 'instead', 'pulling', 'hand', 'started']\n",
      "['playing', 'putting', 'doing', 'walking', 'instead', 'hand', 'started', 'pulling', 'like']\n",
      "['putting', 'hand', 'instead', 'doing', 'you', 'like', 'your', 'everything', 'my']\n",
      "['hand', 'instead', 'playing', 'doing', 'you', 'your', 'everything', 'like', 'my']\n",
      "['hand', 'your', 'eating', 'instead', 'you', 'everything', 'doing', 'my', 'fingers']\n",
      "['dancing', 'walking', 'doing', 'playing', 'jumping', 'instead', 'pulling', 'up', 'hand']\n",
      "['putting', 'doing', 'instead', 'dancing', 'hand', 'like', 'started', 'you', 'just']\n",
      "['playing', 'hand', 'instead', 'doing', 'you', 'your', 'everything', 'like', 'my']\n",
      "['hand', 'instead', 'your', 'you', 'everything', 'doing', 'eating', 'my', 'like']\n",
      "['putting', 'instead', 'doing', 'hand', 'dancing', 'you', 'like', 'everything', \"'re\"]\n",
      "['putting', 'doing', 'instead', 'hand', 'like', 'you', 'talking', 'dancing', 'my']\n",
      "['hand', 'eating', 'your', 'instead', 'everything', 'tossing', 'you', 'washing', 'turning']\n",
      "['instead', 'hand', 'doing', 'playing', 'you', 'walking', 'like', 'everything', 'your']\n",
      "['walking', 'instead', 'doing', 'dancing', 'hand', 'pulling', 'up', 'you', 'like']\n",
      "['walking', 'instead', 'doing', 'hand', 'up', 'you', 'pulling', 'like', 'just']\n",
      "['hand', 'your', 'eating', 'instead', 'you', 'everything', 'doing', 'my', 'fingers']\n",
      "['putting', 'doing', 'instead', 'hand', 'you', 'like', 'dancing', 'everything', 'my']\n",
      "['dancing', 'putting', 'doing', 'instead', 'hand', 'started', 'like', 'play', 'you']\n",
      "['dancing', 'putting', 'doing', 'instead', 'walking', 'hand', 'started', 'like', 'you']\n",
      "['playing', 'putting', 'walking', 'doing', 'instead', 'hand', 'pulling', 'like', 'started']\n",
      "['hand', 'instead', 'doing', 'you', 'your', 'everything', 'like', 'turning', \"'re\"]\n",
      "['putting', 'doing', 'dancing', 'instead', 'hand', 'play', 'started', 'like', 'you']\n",
      "['dancing', 'putting', 'doing', 'instead', 'hand', 'started', 'like', 'play', 'walking']\n",
      "['eating', 'your', 'hand', 'you', 'everything', 'fingers', 'my', 'instead', 'tossing']\n",
      "['putting', 'hand', 'instead', 'doing', 'you', 'like', 'your', 'everything', 'my']\n",
      "['putting', 'dancing', 'doing', 'instead', 'walking', 'hand', 'like', 'you', 'up']\n",
      "['putting', 'instead', 'doing', 'hand', 'dancing', 'you', 'like', 'walking', 'just']\n",
      "['instead', 'walking', 'hand', 'doing', 'you', 'everything', 'eating', 'like', 'up']\n",
      "['dancing', 'putting', 'doing', 'walking', 'instead', 'hand', 'started', 'like', 'you']\n",
      "['hand', 'instead', 'doing', 'you', 'your', 'everything', 'like', 'walking', 'turning']\n",
      "['putting', 'playing', 'walking', 'doing', 'jumping', 'instead', 'pulling', 'hand', 'started']\n",
      "['putting', 'walking', 'playing', 'doing', 'instead', 'pulling', 'jumping', 'hand', 'up']\n",
      "['hand', 'instead', 'your', 'you', 'everything', 'doing', 'like', 'turning', 'eating']\n",
      "['dancing', 'putting', 'doing', 'instead', 'hand', 'started', 'play', 'like', 'you']\n",
      "['putting', 'doing', 'dancing', 'instead', 'hand', 'started', 'like', 'play', 'you']\n",
      "['walking', 'dancing', 'doing', 'playing', 'instead', 'jumping', 'pulling', 'up', 'hand']\n",
      "['putting', 'instead', 'doing', 'hand', 'dancing', 'you', 'like', 'just', \"'re\"]\n",
      "['playing', 'walking', 'putting', 'doing', 'jumping', 'instead', 'pulling', 'started', 'hand']\n",
      "['hand', 'instead', 'playing', 'doing', 'your', 'you', 'everything', 'my', 'like']\n",
      "['hand', 'eating', 'your', 'you', 'instead', 'everything', 'my', 'doing', 'fingers']\n",
      "['putting', 'doing', 'instead', 'hand', 'dancing', 'like', 'you', 'started', \"'re\"]\n",
      "Key:  digging  items:  78\n",
      "['eating', 'washing', 'hand', 'your', 'tossing', 'everything', 'instead', 'you', 'cleaning']\n",
      "['jumping', 'climbing', 'swimming', 'putting', 'eating', 'like', 'riding', 'dancing', 'off']\n",
      "['eating', 'washing', 'hand', 'instead', 'tossing', 'your', 'everything', 'you', 'cleaning']\n",
      "['eating', 'washing', 'instead', 'everything', 'tossing', 'hand', 'your', 'cleaning', 'walking']\n",
      "['eating', 'putting', 'jumping', 'climbing', 'instead', 'like', 'you', 'picking', 'water']\n",
      "['walking', 'climbing', 'putting', 'dancing', 'instead', 'like', 'swimming', 'doing', 'pulling']\n",
      "['walking', 'climbing', 'swimming', 'riding', 'diving', 'biking', 'skiing', 'putting', 'water']\n",
      "['climbing', 'walking', 'swimming', 'riding', 'skiing', 'biking', 'diving', 'dancing', 'putting']\n",
      "['walking', 'instead', 'doing', 'dancing', 'pulling', 'up', 'jumping', 'hand', 'you']\n",
      "['walking', 'instead', 'jumping', 'doing', 'up', 'you', 'like', 'eating', 'pulling']\n",
      "['walking', 'putting', 'dancing', 'climbing', 'doing', 'instead', 'pulling', 'like', 'up']\n",
      "['walking', 'instead', 'doing', 'dancing', 'hand', 'pulling', 'up', 'you', 'like']\n",
      "['putting', 'washing', 'instead', 'walking', 'cleaning', 'tossing', 'everything', 'your', 'you']\n",
      "['walking', 'dancing', 'putting', 'climbing', 'doing', 'pulling', 'playing', 'instead', 'swimming']\n",
      "['putting', 'walking', 'instead', 'like', 'you', 'jumping', 'picking', 'doing', 'everything']\n",
      "['walking', 'instead', 'eating', 'you', 'doing', 'like', 'hand', 'everything', 'up']\n",
      "['eating', 'walking', 'instead', 'you', 'everything', 'doing', 'hand', 'like', 'your']\n",
      "['hand', 'instead', 'your', 'you', 'doing', 'everything', 'like', 'turning', \"'re\"]\n",
      "['walking', 'climbing', 'swimming', 'riding', 'putting', 'dancing', 'like', 'off', 'just']\n",
      "['dancing', 'walking', 'putting', 'climbing', 'playing', 'doing', 'swimming', 'pulling', 'instead']\n",
      "['walking', 'putting', 'cooking', 'cleaning', 'washing', 'instead', 'you', 'like', 'picking']\n",
      "['walking', 'climbing', 'putting', 'dancing', 'swimming', 'instead', 'like', 'doing', 'pulling']\n",
      "['walking', 'dancing', 'climbing', 'putting', 'swimming', 'doing', 'pulling', 'riding', 'playing']\n",
      "['putting', 'washing', 'walking', 'cleaning', 'cooking', 'instead', 'you', 'tossing', 'everything']\n",
      "['climbing', 'jumping', 'swimming', 'eating', 'water', 'putting', 'fish', 'like', 'diving']\n",
      "['instead', 'walking', 'eating', 'you', 'hand', 'everything', 'doing', 'like', 'your']\n",
      "['eating', 'instead', 'walking', 'hand', 'you', 'everything', 'your', 'doing', 'like']\n",
      "['jumping', 'climbing', 'putting', 'swimming', 'eating', 'like', 'instead', 'water', 'you']\n",
      "['instead', 'hand', 'eating', 'you', 'everything', 'walking', 'your', 'doing', 'like']\n",
      "['walking', 'climbing', 'swimming', 'riding', 'dancing', 'skiing', 'putting', 'diving', 'biking']\n",
      "['walking', 'climbing', 'swimming', 'riding', 'dancing', 'putting', 'like', 'off', 'skiing']\n",
      "['walking', 'instead', 'doing', 'hand', 'you', 'like', 'up', 'pulling', 'everything']\n",
      "['putting', 'walking', 'washing', 'cooking', 'cleaning', 'instead', 'you', 'tossing', 'everything']\n",
      "['putting', 'walking', 'washing', 'instead', 'cleaning', 'cooking', 'you', 'everything', 'tossing']\n",
      "['putting', 'washing', 'cooking', 'cleaning', 'tossing', 'your', 'everything', 'walking', 'you']\n",
      "['walking', 'putting', 'fish', 'cooking', 'water', 'cleaning', 'washing', 'like', 'you']\n",
      "['jumping', 'climbing', 'swimming', 'eating', 'putting', 'water', 'riding', 'like', 'off']\n",
      "['walking', 'putting', 'instead', 'water', 'jumping', 'like', 'you', 'cleaning', 'cooking']\n",
      "['walking', 'climbing', 'swimming', 'riding', 'putting', 'dancing', 'like', 'off', 'diving']\n",
      "['walking', 'instead', 'eating', 'you', 'doing', 'like', 'everything', 'up', 'hand']\n",
      "['eating', 'instead', 'walking', 'hand', 'everything', 'you', 'your', 'tossing', 'washing']\n",
      "['walking', 'climbing', 'swimming', 'putting', 'dancing', 'riding', 'like', 'off', 'instead']\n",
      "['walking', 'dancing', 'putting', 'climbing', 'doing', 'pulling', 'playing', 'instead', 'like']\n",
      "['eating', 'instead', 'hand', 'walking', 'everything', 'you', 'your', 'washing', 'tossing']\n",
      "['jumping', 'climbing', 'putting', 'eating', 'instead', 'like', 'dancing', 'swimming', 'you']\n",
      "['eating', 'instead', 'walking', 'hand', 'everything', 'you', 'your', 'doing', 'like']\n",
      "['eating', 'walking', 'instead', 'you', 'everything', 'like', 'your', 'hand', 'picking']\n",
      "['putting', 'walking', 'cooking', 'washing', 'cleaning', 'instead', 'you', 'picking', 'like']\n",
      "['eating', 'walking', 'instead', 'you', 'everything', 'hand', 'doing', 'like', 'your']\n",
      "['climbing', 'jumping', 'eating', 'swimming', 'water', 'putting', 'like', 'you', 'instead']\n",
      "['putting', 'eating', 'jumping', 'instead', 'like', 'you', 'doing', 'up', 'picking']\n",
      "['walking', 'instead', 'doing', 'you', 'like', 'up', 'eating', 'pulling', 'just']\n",
      "['instead', 'walking', 'eating', 'you', 'hand', 'doing', 'everything', 'like', 'up']\n",
      "['walking', 'climbing', 'swimming', 'putting', 'riding', 'dancing', 'like', 'eating', 'off']\n",
      "['eating', 'jumping', 'climbing', 'putting', 'like', 'water', 'instead', 'you', 'picking']\n",
      "['hand', 'instead', 'doing', 'you', 'your', 'everything', 'like', 'walking', \"'re\"]\n",
      "['jumping', 'climbing', 'swimming', 'eating', 'putting', 'riding', 'water', 'like', 'dancing']\n",
      "['jumping', 'putting', 'climbing', 'instead', 'dancing', 'like', 'doing', 'pulling', 'up']\n",
      "['walking', 'instead', 'eating', 'doing', 'you', 'like', 'up', 'hand', 'everything']\n",
      "['putting', 'walking', 'instead', 'cleaning', 'you', 'like', 'picking', 'washing', 'cooking']\n",
      "['walking', 'climbing', 'putting', 'swimming', 'dancing', 'like', 'instead', 'eating', 'doing']\n",
      "['walking', 'instead', 'doing', 'you', 'up', 'hand', 'like', 'everything', 'pulling']\n",
      "['jumping', 'climbing', 'eating', 'swimming', 'putting', 'water', 'like', 'you', 'instead']\n",
      "['putting', 'washing', 'cleaning', 'cooking', 'walking', 'instead', 'tossing', 'everything', 'your']\n",
      "['instead', 'eating', 'walking', 'hand', 'you', 'everything', 'doing', 'like', 'your']\n",
      "['jumping', 'climbing', 'eating', 'swimming', 'putting', 'water', 'like', 'you', 'instead']\n",
      "['walking', 'instead', 'doing', 'jumping', 'up', 'dancing', 'pulling', 'you', 'like']\n",
      "['jumping', 'climbing', 'eating', 'putting', 'swimming', 'like', 'instead', 'water', 'you']\n",
      "['putting', 'washing', 'cleaning', 'instead', 'cooking', 'tossing', 'everything', 'your', 'walking']\n",
      "['climbing', 'walking', 'swimming', 'riding', 'skiing', 'biking', 'diving', 'surfing', 'hiking']\n",
      "['walking', 'instead', 'doing', 'jumping', 'up', 'you', 'like', 'pulling', 'just']\n",
      "['eating', 'washing', 'instead', 'hand', 'tossing', 'everything', 'your', 'cleaning', 'you']\n",
      "['walking', 'climbing', 'jumping', 'putting', 'water', 'fish', 'like', 'swimming', 'you']\n",
      "['walking', 'putting', 'playing', 'jumping', 'doing', 'pulling', 'instead', 'started', 'taking']\n",
      "['instead', 'walking', 'hand', 'doing', 'you', 'everything', 'up', 'like', 'pulling']\n",
      "['putting', 'walking', 'instead', 'cleaning', 'washing', 'you', 'cooking', 'everything', 'picking']\n",
      "['putting', 'walking', 'washing', 'instead', 'cleaning', 'you', 'cooking', 'everything', 'tossing']\n",
      "['putting', 'walking', 'instead', 'washing', 'you', 'cleaning', 'everything', 'your', 'picking']\n",
      "Key:  chopping wood  items:  83\n",
      "['walking', 'instead', 'doing', 'up', 'hand', 'pulling', 'you', 'like', 'just']\n",
      "['putting', 'walking', 'cleaning', 'cooking', 'washing', 'instead', 'you', 'picking', 'like']\n",
      "['instead', 'walking', 'eating', 'hand', 'you', 'everything', 'doing', 'your', 'like']\n",
      "['walking', 'putting', 'instead', 'jumping', 'like', 'you', 'picking', 'doing', 'everything']\n",
      "['walking', 'instead', 'doing', 'hand', 'up', 'you', 'pulling', 'like', 'dancing']\n",
      "['walking', 'jumping', 'putting', 'playing', 'doing', 'pulling', 'instead', 'started', 'like']\n",
      "['instead', 'hand', 'doing', 'walking', 'you', 'up', 'everything', 'like', 'your']\n",
      "['walking', 'climbing', 'swimming', 'riding', 'dancing', 'putting', 'like', 'off', 'just']\n",
      "['jumping', 'putting', 'climbing', 'instead', 'eating', 'like', 'dancing', 'doing', 'you']\n",
      "['walking', 'climbing', 'putting', 'dancing', 'swimming', 'instead', 'doing', 'like', 'pulling']\n",
      "['putting', 'doing', 'dancing', 'instead', 'hand', 'like', 'you', 'started', 'walking']\n",
      "['dancing', 'putting', 'jumping', 'doing', 'instead', 'pulling', 'playing', 'up', 'like']\n",
      "['hand', 'instead', 'doing', 'you', 'your', 'everything', 'like', 'walking', 'turning']\n",
      "['putting', 'washing', 'tossing', 'cleaning', 'instead', 'your', 'hand', 'everything', 'cooking']\n",
      "['putting', 'washing', 'instead', 'cleaning', 'walking', 'tossing', 'cooking', 'everything', 'you']\n",
      "['walking', 'climbing', 'dancing', 'putting', 'swimming', 'riding', 'doing', 'like', 'pulling']\n",
      "['instead', 'hand', 'walking', 'doing', 'you', 'everything', 'your', 'like', 'eating']\n",
      "['eating', 'walking', 'instead', 'you', 'everything', 'like', 'doing', 'hand', 'picking']\n",
      "['playing', 'walking', 'putting', 'doing', 'jumping', 'instead', 'pulling', 'started', 'hand']\n",
      "['walking', 'instead', 'doing', 'hand', 'you', 'up', 'like', 'pulling', 'everything']\n",
      "['eating', 'walking', 'instead', 'you', 'everything', 'like', 'hand', 'doing', 'your']\n",
      "['climbing', 'walking', 'swimming', 'riding', 'skiing', 'biking', 'diving', 'surfing', 'horse']\n",
      "['putting', 'dancing', 'doing', 'walking', 'instead', 'hand', 'like', 'you', 'up']\n",
      "['eating', 'instead', 'walking', 'you', 'hand', 'everything', 'doing', 'your', 'like']\n",
      "['walking', 'dancing', 'climbing', 'putting', 'swimming', 'riding', 'doing', 'pulling', 'like']\n",
      "['putting', 'jumping', 'instead', 'doing', 'like', 'up', 'dancing', 'pulling', 'you']\n",
      "['putting', 'jumping', 'instead', 'climbing', 'doing', 'dancing', 'like', 'up', 'pulling']\n",
      "['instead', 'walking', 'eating', 'hand', 'you', 'doing', 'everything', 'like', 'your']\n",
      "['jumping', 'walking', 'putting', 'playing', 'climbing', 'doing', 'pulling', 'swimming', 'instead']\n",
      "['walking', 'instead', 'eating', 'you', 'doing', 'hand', 'everything', 'like', 'up']\n",
      "['walking', 'jumping', 'putting', 'playing', 'doing', 'pulling', 'instead', 'started', 'like']\n",
      "['eating', 'walking', 'instead', 'you', 'like', 'jumping', 'picking', 'doing', 'everything']\n",
      "['walking', 'climbing', 'dancing', 'swimming', 'riding', 'putting', 'pulling', 'like', 'doing']\n",
      "['eating', 'instead', 'walking', 'you', 'everything', 'hand', 'doing', 'like', 'your']\n",
      "['walking', 'putting', 'jumping', 'playing', 'doing', 'instead', 'pulling', 'started', 'up']\n",
      "['walking', 'climbing', 'swimming', 'dancing', 'putting', 'riding', 'like', 'pulling', 'doing']\n",
      "['playing', 'instead', 'hand', 'doing', 'you', 'like', 'dancing', 'walking', 'everything']\n",
      "['playing', 'putting', 'walking', 'doing', 'jumping', 'instead', 'pulling', 'started', 'hand']\n",
      "['playing', 'walking', 'putting', 'jumping', 'doing', 'pulling', 'instead', 'started', 'throwing']\n",
      "['jumping', 'walking', 'putting', 'playing', 'doing', 'pulling', 'instead', 'started', 'taking']\n",
      "['jumping', 'climbing', 'putting', 'eating', 'like', 'instead', 'swimming', 'you', 'doing']\n",
      "['walking', 'instead', 'doing', 'jumping', 'up', 'you', 'like', 'pulling', 'just']\n",
      "['walking', 'climbing', 'swimming', 'dancing', 'riding', 'putting', 'like', 'off', 'pulling']\n",
      "['walking', 'jumping', 'playing', 'putting', 'doing', 'pulling', 'instead', 'started', 'taking']\n",
      "['dancing', 'walking', 'putting', 'climbing', 'playing', 'doing', 'pulling', 'swimming', 'instead']\n",
      "['jumping', 'putting', 'dancing', 'climbing', 'instead', 'doing', 'like', 'pulling', 'up']\n",
      "['putting', 'jumping', 'dancing', 'instead', 'doing', 'pulling', 'up', 'like', 'just']\n",
      "['hand', 'playing', 'instead', 'doing', 'your', 'you', 'everything', 'my', 'like']\n",
      "['walking', 'climbing', 'putting', 'swimming', 'dancing', 'riding', 'like', 'instead', 'off']\n",
      "['walking', 'climbing', 'swimming', 'riding', 'skiing', 'dancing', 'biking', 'diving', 'putting']\n",
      "['walking', 'dancing', 'putting', 'climbing', 'swimming', 'doing', 'playing', 'pulling', 'instead']\n",
      "['eating', 'instead', 'walking', 'you', 'everything', 'hand', 'doing', 'your', 'like']\n",
      "['putting', 'jumping', 'eating', 'instead', 'like', 'climbing', 'you', 'doing', 'up']\n",
      "['eating', 'instead', 'walking', 'hand', 'everything', 'you', 'your', 'doing', 'like']\n",
      "['walking', 'dancing', 'climbing', 'putting', 'swimming', 'riding', 'doing', 'pulling', 'like']\n",
      "['dancing', 'walking', 'putting', 'climbing', 'doing', 'playing', 'pulling', 'swimming', 'instead']\n",
      "['walking', 'playing', 'putting', 'jumping', 'doing', 'pulling', 'instead', 'started', 'taking']\n",
      "['walking', 'climbing', 'dancing', 'putting', 'swimming', 'riding', 'pulling', 'doing', 'like']\n",
      "['walking', 'instead', 'doing', 'up', 'you', 'pulling', 'hand', 'like', 'just']\n",
      "['walking', 'jumping', 'instead', 'doing', 'dancing', 'up', 'pulling', 'like', 'you']\n",
      "['jumping', 'climbing', 'swimming', 'eating', 'riding', 'water', 'diving', 'putting', 'biking']\n",
      "['playing', 'putting', 'walking', 'doing', 'jumping', 'instead', 'pulling', 'hand', 'started']\n",
      "['walking', 'instead', 'eating', 'you', 'doing', 'like', 'everything', 'hand', 'up']\n",
      "['eating', 'washing', 'instead', 'tossing', 'hand', 'your', 'everything', 'cleaning', 'you']\n",
      "['instead', 'hand', 'you', 'doing', 'everything', 'your', 'walking', 'like', 'turning']\n",
      "['walking', 'dancing', 'putting', 'climbing', 'doing', 'swimming', 'instead', 'pulling', 'like']\n",
      "['walking', 'climbing', 'swimming', 'riding', 'diving', 'biking', 'putting', 'skiing', 'eating']\n",
      "['walking', 'dancing', 'putting', 'climbing', 'doing', 'pulling', 'playing', 'instead', 'swimming']\n",
      "['hand', 'instead', 'your', 'you', 'everything', 'doing', 'like', 'turning', 'my']\n",
      "['walking', 'playing', 'jumping', 'putting', 'doing', 'pulling', 'instead', 'started', 'taking']\n",
      "['walking', 'eating', 'instead', 'you', 'doing', 'like', 'everything', 'hand', 'up']\n",
      "['putting', 'jumping', 'dancing', 'instead', 'doing', 'pulling', 'up', 'like', 'just']\n",
      "['walking', 'jumping', 'putting', 'playing', 'doing', 'pulling', 'instead', 'started', 'like']\n",
      "['jumping', 'putting', 'dancing', 'instead', 'doing', 'climbing', 'like', 'pulling', 'up']\n",
      "['instead', 'walking', 'doing', 'hand', 'you', 'up', 'like', 'just', 'pulling']\n",
      "['walking', 'climbing', 'swimming', 'putting', 'riding', 'dancing', 'like', 'off', 'just']\n",
      "['putting', 'washing', 'cleaning', 'walking', 'cooking', 'instead', 'tossing', 'everything', 'you']\n",
      "['putting', 'walking', 'instead', 'you', 'like', 'picking', 'jumping', 'everything', 'cleaning']\n",
      "['walking', 'playing', 'putting', 'jumping', 'doing', 'pulling', 'instead', 'started', 'taking']\n",
      "['walking', 'climbing', 'swimming', 'dancing', 'putting', 'riding', 'like', 'doing', 'pulling']\n",
      "['playing', 'putting', 'walking', 'doing', 'instead', 'hand', 'pulling', 'jumping', 'started']\n",
      "['instead', 'hand', 'walking', 'doing', 'you', 'everything', 'like', 'your', 'up']\n",
      "['eating', 'instead', 'hand', 'washing', 'everything', 'your', 'tossing', 'you', 'walking']\n",
      "Key:  golf driving  items:  86\n",
      "['walking', 'climbing', 'swimming', 'riding', 'dancing', 'putting', 'skiing', 'like', 'off']\n",
      "['walking', 'climbing', 'dancing', 'swimming', 'riding', 'putting', 'pulling', 'doing', 'like']\n",
      "['jumping', 'walking', 'putting', 'playing', 'climbing', 'doing', 'pulling', 'swimming', 'started']\n",
      "['walking', 'playing', 'jumping', 'putting', 'doing', 'pulling', 'instead', 'started', 'dance']\n",
      "['walking', 'climbing', 'swimming', 'riding', 'dancing', 'skiing', 'putting', 'diving', 'biking']\n",
      "['walking', 'instead', 'doing', 'dancing', 'jumping', 'pulling', 'up', 'like', 'you']\n",
      "['walking', 'climbing', 'dancing', 'swimming', 'riding', 'putting', 'pulling', 'doing', 'like']\n",
      "['walking', 'climbing', 'swimming', 'riding', 'dancing', 'skiing', 'putting', 'diving', 'biking']\n",
      "['jumping', 'walking', 'putting', 'playing', 'doing', 'pulling', 'instead', 'started', 'taking']\n",
      "['jumping', 'walking', 'putting', 'playing', 'doing', 'pulling', 'climbing', 'instead', 'started']\n",
      "['walking', 'climbing', 'dancing', 'swimming', 'putting', 'riding', 'pulling', 'doing', 'like']\n",
      "['putting', 'jumping', 'instead', 'dancing', 'doing', 'like', 'pulling', 'up', 'you']\n",
      "['walking', 'climbing', 'dancing', 'swimming', 'putting', 'riding', 'pulling', 'doing', 'like']\n",
      "['walking', 'putting', 'jumping', 'playing', 'doing', 'pulling', 'instead', 'like', 'started']\n",
      "['walking', 'climbing', 'swimming', 'riding', 'dancing', 'putting', 'skiing', 'like', 'horse']\n",
      "['playing', 'putting', 'walking', 'doing', 'instead', 'hand', 'jumping', 'started', 'pulling']\n",
      "['walking', 'climbing', 'dancing', 'swimming', 'riding', 'putting', 'pulling', 'like', 'doing']\n",
      "['walking', 'dancing', 'climbing', 'putting', 'swimming', 'riding', 'pulling', 'doing', 'like']\n",
      "['walking', 'climbing', 'dancing', 'swimming', 'riding', 'putting', 'pulling', 'doing', 'like']\n",
      "['walking', 'climbing', 'putting', 'dancing', 'swimming', 'instead', 'doing', 'like', 'pulling']\n",
      "['jumping', 'walking', 'putting', 'playing', 'doing', 'pulling', 'instead', 'started', 'climbing']\n",
      "['walking', 'dancing', 'climbing', 'putting', 'swimming', 'riding', 'pulling', 'doing', 'playing']\n",
      "['walking', 'climbing', 'swimming', 'riding', 'putting', 'dancing', 'like', 'off', 'diving']\n",
      "['walking', 'dancing', 'climbing', 'swimming', 'putting', 'riding', 'pulling', 'doing', 'like']\n",
      "['jumping', 'walking', 'putting', 'playing', 'doing', 'pulling', 'climbing', 'instead', 'started']\n",
      "['jumping', 'walking', 'putting', 'playing', 'doing', 'climbing', 'pulling', 'instead', 'swimming']\n",
      "['instead', 'eating', 'hand', 'everything', 'you', 'your', 'walking', 'doing', 'tossing']\n",
      "['eating', 'walking', 'instead', 'you', 'like', 'doing', 'everything', 'picking', 'hand']\n",
      "['walking', 'climbing', 'swimming', 'riding', 'dancing', 'putting', 'skiing', 'diving', 'horse']\n",
      "['walking', 'dancing', 'climbing', 'putting', 'swimming', 'riding', 'doing', 'pulling', 'like']\n",
      "['putting', 'playing', 'walking', 'doing', 'instead', 'hand', 'pulling', 'jumping', 'up']\n",
      "['climbing', 'swimming', 'walking', 'skiing', 'riding', 'biking', 'diving', 'surfing', 'bike']\n",
      "['dancing', 'walking', 'putting', 'climbing', 'playing', 'doing', 'pulling', 'swimming', 'instead']\n",
      "['dancing', 'walking', 'putting', 'climbing', 'playing', 'doing', 'pulling', 'swimming', 'instead']\n",
      "['walking', 'instead', 'doing', 'up', 'pulling', 'you', 'hand', 'like', 'just']\n",
      "['jumping', 'walking', 'putting', 'playing', 'doing', 'pulling', 'climbing', 'instead', 'started']\n",
      "['putting', 'walking', 'cleaning', 'washing', 'instead', 'cooking', 'you', 'picking', 'everything']\n",
      "['walking', 'climbing', 'putting', 'swimming', 'dancing', 'like', 'instead', 'eating', 'off']\n",
      "['hand', 'instead', 'you', 'your', 'doing', 'everything', 'like', 'turning', 'walking']\n",
      "['dancing', 'walking', 'climbing', 'putting', 'swimming', 'doing', 'pulling', 'playing', 'riding']\n",
      "['walking', 'dancing', 'climbing', 'putting', 'swimming', 'riding', 'pulling', 'doing', 'playing']\n",
      "['walking', 'jumping', 'playing', 'putting', 'doing', 'pulling', 'instead', 'started', 'taking']\n",
      "['hand', 'instead', 'doing', 'you', 'your', 'everything', 'like', 'turning', 'walking']\n",
      "['walking', 'dancing', 'climbing', 'swimming', 'putting', 'riding', 'pulling', 'doing', 'like']\n",
      "['dancing', 'walking', 'putting', 'climbing', 'playing', 'doing', 'pulling', 'instead', 'swimming']\n",
      "['jumping', 'walking', 'putting', 'playing', 'doing', 'pulling', 'climbing', 'started', 'instead']\n",
      "['walking', 'climbing', 'swimming', 'riding', 'putting', 'dancing', 'like', 'diving', 'off']\n",
      "['walking', 'climbing', 'swimming', 'riding', 'dancing', 'putting', 'skiing', 'horse', 'like']\n",
      "['putting', 'walking', 'playing', 'doing', 'jumping', 'instead', 'pulling', 'up', 'hand']\n",
      "['jumping', 'eating', 'climbing', 'putting', 'like', 'instead', 'you', 'water', 'swimming']\n",
      "['walking', 'climbing', 'swimming', 'putting', 'riding', 'dancing', 'like', 'eating', 'off']\n",
      "['dancing', 'walking', 'putting', 'climbing', 'playing', 'swimming', 'doing', 'pulling', 'riding']\n",
      "['walking', 'dancing', 'climbing', 'putting', 'swimming', 'riding', 'pulling', 'doing', 'playing']\n",
      "['walking', 'instead', 'doing', 'jumping', 'up', 'pulling', 'you', 'like', 'dancing']\n",
      "['dancing', 'walking', 'putting', 'climbing', 'playing', 'doing', 'pulling', 'swimming', 'instead']\n",
      "['jumping', 'walking', 'putting', 'playing', 'doing', 'climbing', 'pulling', 'instead', 'started']\n",
      "['eating', 'instead', 'hand', 'everything', 'walking', 'you', 'your', 'washing', 'tossing']\n",
      "['jumping', 'putting', 'dancing', 'instead', 'doing', 'climbing', 'pulling', 'like', 'up']\n",
      "['walking', 'playing', 'jumping', 'putting', 'doing', 'pulling', 'instead', 'started', 'taking']\n",
      "['dancing', 'walking', 'putting', 'climbing', 'swimming', 'playing', 'doing', 'pulling', 'riding']\n",
      "['jumping', 'climbing', 'swimming', 'putting', 'eating', 'like', 'dancing', 'riding', 'instead']\n",
      "['walking', 'climbing', 'swimming', 'riding', 'dancing', 'putting', 'skiing', 'diving', 'like']\n",
      "['jumping', 'walking', 'putting', 'playing', 'doing', 'climbing', 'pulling', 'swimming', 'instead']\n",
      "['putting', 'walking', 'instead', 'you', 'everything', 'cleaning', 'washing', 'like', 'picking']\n",
      "['walking', 'instead', 'doing', 'you', 'hand', 'up', 'like', 'everything', 'eating']\n",
      "['jumping', 'walking', 'putting', 'playing', 'doing', 'pulling', 'instead', 'started', 'taking']\n",
      "['walking', 'putting', 'dancing', 'climbing', 'doing', 'instead', 'pulling', 'like', 'swimming']\n",
      "['climbing', 'walking', 'swimming', 'riding', 'biking', 'skiing', 'diving', 'surfing', 'hiking']\n",
      "['jumping', 'putting', 'climbing', 'eating', 'instead', 'like', 'dancing', 'doing', 'you']\n",
      "['eating', 'walking', 'instead', 'you', 'everything', 'like', 'washing', 'picking', 'cleaning']\n",
      "['jumping', 'walking', 'putting', 'playing', 'doing', 'pulling', 'climbing', 'instead', 'started']\n",
      "['jumping', 'walking', 'putting', 'playing', 'climbing', 'doing', 'pulling', 'swimming', 'instead']\n",
      "['jumping', 'walking', 'putting', 'playing', 'doing', 'pulling', 'instead', 'started', 'taking']\n",
      "['eating', 'walking', 'instead', 'you', 'everything', 'like', 'doing', 'hand', 'your']\n",
      "['instead', 'hand', 'doing', 'walking', 'you', 'up', 'like', 'everything', 'just']\n",
      "['climbing', 'walking', 'swimming', 'riding', 'skiing', 'biking', 'diving', 'dancing', 'bike']\n",
      "['jumping', 'walking', 'putting', 'playing', 'doing', 'pulling', 'climbing', 'instead', 'started']\n",
      "['eating', 'instead', 'walking', 'you', 'everything', 'hand', 'like', 'your', 'doing']\n",
      "['walking', 'jumping', 'putting', 'playing', 'doing', 'pulling', 'instead', 'started', 'like']\n",
      "['walking', 'dancing', 'climbing', 'putting', 'swimming', 'riding', 'doing', 'pulling', 'like']\n",
      "['walking', 'climbing', 'swimming', 'dancing', 'riding', 'putting', 'like', 'skiing', 'pulling']\n",
      "['playing', 'walking', 'putting', 'jumping', 'doing', 'pulling', 'instead', 'started', 'dance']\n",
      "['walking', 'climbing', 'swimming', 'riding', 'dancing', 'putting', 'skiing', 'diving', 'like']\n",
      "['dancing', 'walking', 'putting', 'climbing', 'playing', 'doing', 'pulling', 'swimming', 'instead']\n",
      "['jumping', 'putting', 'climbing', 'dancing', 'instead', 'like', 'doing', 'pulling', 'swimming']\n",
      "['walking', 'dancing', 'climbing', 'putting', 'swimming', 'doing', 'riding', 'pulling', 'like']\n",
      "Key:  catching or throwing baseball  items:  80\n",
      "['walking', 'climbing', 'swimming', 'riding', 'dancing', 'skiing', 'putting', 'diving', 'horse']\n",
      "['jumping', 'walking', 'putting', 'playing', 'climbing', 'doing', 'pulling', 'swimming', 'started']\n",
      "['putting', 'instead', 'doing', 'hand', 'you', 'like', 'dancing', 'everything', \"'re\"]\n",
      "['walking', 'instead', 'doing', 'hand', 'you', 'up', 'like', 'pulling', 'everything']\n",
      "['playing', 'walking', 'putting', 'jumping', 'doing', 'pulling', 'instead', 'started', 'hand']\n",
      "['walking', 'playing', 'jumping', 'putting', 'doing', 'pulling', 'instead', 'started', 'dance']\n",
      "['playing', 'walking', 'putting', 'doing', 'jumping', 'pulling', 'instead', 'started', 'hand']\n",
      "['walking', 'climbing', 'swimming', 'riding', 'dancing', 'putting', 'like', 'off', 'just']\n",
      "['putting', 'walking', 'playing', 'doing', 'instead', 'jumping', 'pulling', 'hand', 'up']\n",
      "['walking', 'climbing', 'swimming', 'riding', 'diving', 'biking', 'skiing', 'putting', 'dancing']\n",
      "['putting', 'walking', 'playing', 'doing', 'jumping', 'instead', 'pulling', 'hand', 'up']\n",
      "['dancing', 'putting', 'doing', 'walking', 'instead', 'hand', 'started', 'like', 'you']\n",
      "['walking', 'jumping', 'playing', 'putting', 'doing', 'pulling', 'instead', 'started', 'taking']\n",
      "['jumping', 'dancing', 'putting', 'doing', 'instead', 'pulling', 'playing', 'like', 'up']\n",
      "['walking', 'instead', 'doing', 'up', 'you', 'pulling', 'hand', 'like', 'just']\n",
      "['dancing', 'putting', 'doing', 'instead', 'walking', 'hand', 'started', 'like', 'you']\n",
      "['walking', 'dancing', 'climbing', 'putting', 'swimming', 'riding', 'doing', 'pulling', 'like']\n",
      "['putting', 'instead', 'doing', 'hand', 'dancing', 'you', 'like', 'walking', 'just']\n",
      "['playing', 'putting', 'walking', 'doing', 'jumping', 'instead', 'pulling', 'hand', 'started']\n",
      "['walking', 'climbing', 'swimming', 'riding', 'skiing', 'dancing', 'biking', 'diving', 'putting']\n",
      "['hand', 'instead', 'playing', 'doing', 'you', 'your', 'everything', 'like', 'my']\n",
      "['climbing', 'walking', 'swimming', 'riding', 'skiing', 'biking', 'diving', 'dancing', 'horse']\n",
      "['walking', 'climbing', 'dancing', 'swimming', 'riding', 'putting', 'pulling', 'doing', 'like']\n",
      "['walking', 'climbing', 'dancing', 'swimming', 'riding', 'putting', 'pulling', 'doing', 'taking']\n",
      "['walking', 'climbing', 'dancing', 'swimming', 'putting', 'riding', 'pulling', 'doing', 'like']\n",
      "['walking', 'climbing', 'swimming', 'riding', 'dancing', 'putting', 'skiing', 'like', 'horse']\n",
      "['jumping', 'walking', 'putting', 'playing', 'doing', 'climbing', 'pulling', 'swimming', 'started']\n",
      "['walking', 'climbing', 'dancing', 'swimming', 'putting', 'riding', 'like', 'pulling', 'doing']\n",
      "['walking', 'dancing', 'climbing', 'swimming', 'putting', 'riding', 'pulling', 'doing', 'playing']\n",
      "['walking', 'climbing', 'dancing', 'swimming', 'putting', 'riding', 'pulling', 'like', 'doing']\n",
      "['walking', 'instead', 'doing', 'dancing', 'pulling', 'up', 'hand', 'you', 'jumping']\n",
      "['dancing', 'walking', 'putting', 'climbing', 'playing', 'doing', 'pulling', 'swimming', 'riding']\n",
      "['walking', 'climbing', 'dancing', 'swimming', 'riding', 'putting', 'pulling', 'doing', 'like']\n",
      "['jumping', 'climbing', 'eating', 'putting', 'swimming', 'like', 'instead', 'water', 'you']\n",
      "['walking', 'instead', 'jumping', 'doing', 'dancing', 'up', 'pulling', 'like', 'you']\n",
      "['walking', 'dancing', 'climbing', 'putting', 'swimming', 'riding', 'pulling', 'doing', 'playing']\n",
      "['climbing', 'walking', 'swimming', 'riding', 'skiing', 'biking', 'diving', 'dancing', 'horse']\n",
      "['walking', 'climbing', 'swimming', 'riding', 'skiing', 'dancing', 'biking', 'diving', 'horse']\n",
      "['walking', 'instead', 'doing', 'pulling', 'up', 'dancing', 'jumping', 'you', 'hand']\n",
      "['walking', 'instead', 'doing', 'hand', 'dancing', 'pulling', 'up', 'you', 'like']\n",
      "['jumping', 'walking', 'playing', 'putting', 'doing', 'pulling', 'started', 'instead', 'dance']\n",
      "['playing', 'putting', 'walking', 'doing', 'instead', 'hand', 'pulling', 'started', 'like']\n",
      "['climbing', 'walking', 'swimming', 'riding', 'skiing', 'biking', 'diving', 'bike', 'horse']\n",
      "['walking', 'dancing', 'climbing', 'putting', 'swimming', 'doing', 'pulling', 'riding', 'playing']\n",
      "['walking', 'climbing', 'dancing', 'swimming', 'riding', 'putting', 'pulling', 'doing', 'like']\n",
      "['dancing', 'walking', 'climbing', 'putting', 'swimming', 'riding', 'pulling', 'doing', 'playing']\n",
      "['walking', 'climbing', 'swimming', 'dancing', 'riding', 'putting', 'like', 'pulling', 'off']\n",
      "['walking', 'instead', 'doing', 'hand', 'dancing', 'playing', 'you', 'up', 'pulling']\n",
      "['walking', 'dancing', 'doing', 'instead', 'playing', 'pulling', 'hand', 'up', 'jumping']\n",
      "['walking', 'jumping', 'playing', 'putting', 'doing', 'pulling', 'instead', 'started', 'dance']\n",
      "['putting', 'doing', 'instead', 'dancing', 'hand', 'walking', 'you', 'like', 'up']\n",
      "['walking', 'jumping', 'putting', 'playing', 'doing', 'pulling', 'instead', 'started', 'like']\n",
      "['walking', 'jumping', 'playing', 'putting', 'doing', 'pulling', 'instead', 'started', 'dance']\n",
      "['climbing', 'walking', 'swimming', 'riding', 'skiing', 'biking', 'diving', 'dancing', 'horse']\n",
      "['putting', 'walking', 'playing', 'jumping', 'doing', 'instead', 'pulling', 'up', 'like']\n",
      "['walking', 'jumping', 'playing', 'putting', 'doing', 'pulling', 'instead', 'started', 'taking']\n",
      "['playing', 'walking', 'putting', 'jumping', 'doing', 'pulling', 'instead', 'started', 'dance']\n",
      "['walking', 'climbing', 'dancing', 'swimming', 'putting', 'riding', 'like', 'pulling', 'doing']\n",
      "['putting', 'washing', 'tossing', 'your', 'hand', 'cleaning', 'everything', 'instead', 'cooking']\n",
      "['jumping', 'walking', 'putting', 'climbing', 'playing', 'doing', 'pulling', 'swimming', 'instead']\n",
      "['climbing', 'walking', 'swimming', 'riding', 'skiing', 'biking', 'diving', 'dancing', 'horse']\n",
      "['walking', 'dancing', 'putting', 'doing', 'climbing', 'pulling', 'playing', 'instead', 'like']\n",
      "['walking', 'jumping', 'playing', 'putting', 'doing', 'pulling', 'instead', 'started', 'dance']\n",
      "['putting', 'jumping', 'instead', 'dancing', 'doing', 'pulling', 'like', 'up', 'you']\n",
      "['walking', 'climbing', 'swimming', 'riding', 'skiing', 'dancing', 'diving', 'biking', 'putting']\n",
      "['putting', 'walking', 'playing', 'doing', 'jumping', 'instead', 'pulling', 'hand', 'up']\n",
      "['instead', 'walking', 'hand', 'you', 'eating', 'doing', 'everything', 'like', 'your']\n",
      "['putting', 'dancing', 'doing', 'instead', 'hand', 'like', 'started', 'you', 'walking']\n",
      "['playing', 'doing', 'instead', 'dancing', 'hand', 'walking', 'you', 'like', 'up']\n",
      "['walking', 'dancing', 'climbing', 'putting', 'swimming', 'riding', 'pulling', 'doing', 'playing']\n",
      "['walking', 'climbing', 'swimming', 'riding', 'dancing', 'putting', 'skiing', 'like', 'off']\n",
      "['hand', 'playing', 'instead', 'doing', 'you', 'your', 'everything', 'like', 'my']\n",
      "['dancing', 'walking', 'climbing', 'putting', 'swimming', 'riding', 'pulling', 'playing', 'doing']\n",
      "['jumping', 'climbing', 'putting', 'eating', 'instead', 'like', 'you', 'swimming', 'doing']\n",
      "['walking', 'instead', 'doing', 'you', 'hand', 'up', 'everything', 'like', 'eating']\n",
      "['walking', 'jumping', 'playing', 'putting', 'doing', 'pulling', 'instead', 'started', 'taking']\n",
      "['playing', 'walking', 'putting', 'jumping', 'doing', 'pulling', 'instead', 'started', 'hand']\n",
      "['walking', 'dancing', 'playing', 'doing', 'instead', 'hand', 'pulling', 'up', 'like']\n",
      "['walking', 'climbing', 'swimming', 'riding', 'dancing', 'skiing', 'putting', 'diving', 'biking']\n",
      "['walking', 'dancing', 'climbing', 'putting', 'swimming', 'doing', 'pulling', 'playing', 'riding']\n",
      "Key:  spraying  items:  78\n",
      "['walking', 'instead', 'eating', 'you', 'doing', 'hand', 'everything', 'like', 'up']\n",
      "['playing', 'instead', 'doing', 'hand', 'you', 'walking', 'dancing', 'like', 'up']\n",
      "['hand', 'your', 'eating', 'instead', 'you', 'everything', 'tossing', 'my', 'doing']\n",
      "['hand', 'your', 'eating', 'instead', 'you', 'everything', 'tossing', 'my', 'doing']\n",
      "['climbing', 'walking', 'swimming', 'riding', 'skiing', 'biking', 'diving', 'surfing', 'hiking']\n",
      "['climbing', 'jumping', 'swimming', 'eating', 'water', 'putting', 'like', 'fish', 'you']\n",
      "['walking', 'jumping', 'dancing', 'instead', 'doing', 'pulling', 'up', 'like', 'just']\n",
      "['playing', 'putting', 'walking', 'doing', 'instead', 'hand', 'pulling', 'jumping', 'started']\n",
      "['walking', 'dancing', 'climbing', 'swimming', 'putting', 'riding', 'pulling', 'doing', 'like']\n",
      "['putting', 'walking', 'instead', 'cleaning', 'washing', 'you', 'picking', 'everything', 'like']\n",
      "['instead', 'eating', 'hand', 'everything', 'you', 'your', 'walking', 'tossing', 'doing']\n",
      "['hand', 'instead', 'your', 'you', 'everything', 'doing', 'eating', 'turning', 'like']\n",
      "['hand', 'instead', 'you', 'your', 'everything', 'doing', 'eating', 'walking', 'like']\n",
      "['eating', 'instead', 'hand', 'everything', 'walking', 'washing', 'you', 'your', 'tossing']\n",
      "['walking', 'climbing', 'putting', 'swimming', 'dancing', 'like', 'instead', 'eating', 'riding']\n",
      "['walking', 'jumping', 'playing', 'putting', 'doing', 'pulling', 'instead', 'started', 'taking']\n",
      "['walking', 'playing', 'putting', 'jumping', 'doing', 'pulling', 'instead', 'started', 'hand']\n",
      "['hand', 'instead', 'doing', 'you', 'your', 'everything', 'like', 'walking', 'turning']\n",
      "['hand', 'your', 'eating', 'instead', 'you', 'everything', 'tossing', 'doing', 'my']\n",
      "['eating', 'walking', 'instead', 'you', 'like', 'everything', 'doing', 'picking', 'hand']\n",
      "['climbing', 'walking', 'swimming', 'riding', 'skiing', 'biking', 'diving', 'dancing', 'putting']\n",
      "['putting', 'doing', 'instead', 'dancing', 'hand', 'like', 'you', 'walking', 'started']\n",
      "['walking', 'dancing', 'putting', 'climbing', 'swimming', 'doing', 'pulling', 'playing', 'instead']\n",
      "['playing', 'instead', 'hand', 'doing', 'you', 'like', 'walking', 'dancing', 'everything']\n",
      "['jumping', 'climbing', 'swimming', 'putting', 'eating', 'like', 'water', 'riding', 'instead']\n",
      "['walking', 'climbing', 'putting', 'dancing', 'swimming', 'like', 'instead', 'doing', 'pulling']\n",
      "['eating', 'putting', 'jumping', 'climbing', 'instead', 'like', 'you', 'water', 'picking']\n",
      "['walking', 'putting', 'instead', 'jumping', 'like', 'you', 'picking', 'climbing', 'water']\n",
      "['dancing', 'walking', 'putting', 'climbing', 'playing', 'doing', 'pulling', 'swimming', 'instead']\n",
      "['instead', 'hand', 'walking', 'you', 'doing', 'everything', 'your', 'like', 'up']\n",
      "['walking', 'climbing', 'swimming', 'riding', 'dancing', 'putting', 'skiing', 'diving', 'biking']\n",
      "['walking', 'dancing', 'putting', 'doing', 'climbing', 'pulling', 'instead', 'playing', 'like']\n",
      "['walking', 'climbing', 'dancing', 'swimming', 'riding', 'putting', 'pulling', 'like', 'doing']\n",
      "['walking', 'climbing', 'swimming', 'riding', 'putting', 'dancing', 'like', 'off', 'eating']\n",
      "['playing', 'putting', 'walking', 'doing', 'jumping', 'instead', 'pulling', 'hand', 'started']\n",
      "['walking', 'jumping', 'putting', 'playing', 'doing', 'pulling', 'instead', 'started', 'taking']\n",
      "['jumping', 'putting', 'climbing', 'eating', 'instead', 'like', 'you', 'doing', 'up']\n",
      "['walking', 'playing', 'jumping', 'putting', 'doing', 'pulling', 'instead', 'started', 'dance']\n",
      "['walking', 'eating', 'instead', 'you', 'like', 'doing', 'everything', 'up', 'hand']\n",
      "['eating', 'climbing', 'jumping', 'putting', 'water', 'swimming', 'like', 'you', 'instead']\n",
      "['eating', 'hand', 'washing', 'your', 'tossing', 'instead', 'everything', 'you', 'cleaning']\n",
      "['walking', 'instead', 'doing', 'you', 'hand', 'up', 'like', 'everything', 'pulling']\n",
      "['putting', 'walking', 'washing', 'cleaning', 'instead', 'cooking', 'you', 'everything', 'tossing']\n",
      "['putting', 'walking', 'playing', 'doing', 'jumping', 'instead', 'pulling', 'hand', 'up']\n",
      "['walking', 'instead', 'jumping', 'doing', 'up', 'like', 'you', 'pulling', 'eating']\n",
      "['instead', 'hand', 'everything', 'you', 'your', 'eating', 'doing', 'walking', 'turning']\n",
      "['walking', 'climbing', 'dancing', 'swimming', 'riding', 'putting', 'like', 'pulling', 'doing']\n",
      "['jumping', 'climbing', 'swimming', 'putting', 'eating', 'like', 'riding', 'dancing', 'off']\n",
      "['climbing', 'jumping', 'swimming', 'eating', 'water', 'riding', 'diving', 'putting', 'biking']\n",
      "['hand', 'instead', 'you', 'your', 'doing', 'everything', 'like', 'turning', 'walking']\n",
      "['walking', 'instead', 'eating', 'you', 'doing', 'like', 'up', 'everything', 'hand']\n",
      "['instead', 'doing', 'hand', 'walking', 'you', 'up', 'playing', 'like', 'just']\n",
      "['hand', 'instead', 'your', 'you', 'eating', 'everything', 'doing', 'tossing', 'my']\n",
      "['walking', 'instead', 'doing', 'dancing', 'pulling', 'up', 'hand', 'you', 'like']\n",
      "['walking', 'instead', 'jumping', 'eating', 'like', 'you', 'doing', 'up', 'just']\n",
      "['walking', 'putting', 'instead', 'jumping', 'like', 'you', 'picking', 'doing', 'everything']\n",
      "['instead', 'eating', 'hand', 'everything', 'walking', 'you', 'your', 'doing', 'turning']\n",
      "['walking', 'climbing', 'swimming', 'riding', 'diving', 'eating', 'putting', 'biking', 'water']\n",
      "['instead', 'playing', 'hand', 'doing', 'you', 'walking', 'like', 'up', 'just']\n",
      "['hand', 'instead', 'your', 'you', 'everything', 'doing', 'like', 'turning', 'walking']\n",
      "['walking', 'instead', 'jumping', 'doing', 'up', 'like', 'pulling', 'you', 'just']\n",
      "['climbing', 'walking', 'swimming', 'riding', 'diving', 'biking', 'skiing', 'water', 'surfing']\n",
      "['playing', 'instead', 'hand', 'doing', 'you', 'like', 'everything', 'your', 'dancing']\n",
      "['instead', 'hand', 'doing', 'walking', 'you', 'like', 'up', 'everything', 'your']\n",
      "['instead', 'walking', 'doing', 'hand', 'you', 'up', 'everything', 'like', 'pulling']\n",
      "['jumping', 'walking', 'putting', 'playing', 'doing', 'climbing', 'pulling', 'instead', 'swimming']\n",
      "['eating', 'instead', 'walking', 'you', 'everything', 'hand', 'your', 'doing', 'like']\n",
      "['putting', 'doing', 'instead', 'hand', 'dancing', 'you', 'like', \"'re\", 'everything']\n",
      "['eating', 'washing', 'hand', 'tossing', 'your', 'everything', 'instead', 'you', 'cleaning']\n",
      "['putting', 'walking', 'playing', 'doing', 'instead', 'jumping', 'pulling', 'hand', 'up']\n",
      "['eating', 'walking', 'instead', 'you', 'everything', 'like', 'cleaning', 'picking', 'washing']\n",
      "['walking', 'climbing', 'swimming', 'putting', 'riding', 'eating', 'like', 'dancing', 'off']\n",
      "['jumping', 'eating', 'climbing', 'putting', 'like', 'instead', 'you', 'swimming', 'water']\n",
      "['putting', 'washing', 'cleaning', 'instead', 'cooking', 'tossing', 'walking', 'everything', 'your']\n",
      "['instead', 'hand', 'you', 'everything', 'your', 'doing', 'walking', 'eating', 'turning']\n",
      "['instead', 'hand', 'doing', 'you', 'everything', 'your', 'walking', 'like', 'turning']\n",
      "['putting', 'jumping', 'instead', 'dancing', 'doing', 'pulling', 'like', 'up', 'you']\n",
      "['jumping', 'climbing', 'swimming', 'putting', 'eating', 'like', 'dancing', 'riding', 'instead']\n",
      "Key:  getting a tattoo  items:  75\n",
      "['eating', 'hand', 'your', 'you', 'everything', 'instead', 'tossing', 'fingers', 'my']\n",
      "['hand', 'instead', 'playing', 'doing', 'you', 'your', 'everything', 'like', 'my']\n",
      "['hand', 'your', 'instead', 'eating', 'everything', 'you', 'tossing', 'doing', 'my']\n",
      "['instead', 'hand', 'eating', 'everything', 'you', 'your', 'walking', 'doing', 'like']\n",
      "['hand', 'your', 'eating', 'you', 'instead', 'everything', 'tossing', 'my', 'fingers']\n",
      "['instead', 'hand', 'doing', 'you', 'everything', 'your', 'like', 'walking', 'turning']\n",
      "['eating', 'hand', 'your', 'you', 'instead', 'everything', 'my', 'doing', 'fingers']\n",
      "['eating', 'hand', 'your', 'you', 'everything', 'tossing', 'fingers', 'instead', 'my']\n",
      "['walking', 'dancing', 'doing', 'instead', 'playing', 'pulling', 'hand', 'up', 'jumping']\n",
      "['hand', 'your', 'eating', 'instead', 'everything', 'you', 'tossing', 'washing', 'turning']\n",
      "['hand', 'your', 'eating', 'you', 'instead', 'everything', 'my', 'doing', 'fingers']\n",
      "['eating', 'hand', 'your', 'tossing', 'washing', 'everything', 'instead', 'you', 'fingers']\n",
      "['eating', 'hand', 'your', 'you', 'everything', 'tossing', 'instead', 'fingers', 'my']\n",
      "['hand', 'your', 'eating', 'you', 'instead', 'everything', 'tossing', 'my', 'fingers']\n",
      "['eating', 'your', 'hand', 'you', 'fingers', 'everything', 'tossing', 'my', 'instead']\n",
      "['putting', 'washing', 'cooking', 'cleaning', 'tossing', 'instead', 'walking', 'your', 'everything']\n",
      "['eating', 'your', 'hand', 'tossing', 'fingers', 'you', 'washing', 'everything', 'my']\n",
      "['hand', 'instead', 'your', 'you', 'doing', 'everything', 'my', 'eating', 'like']\n",
      "['hand', 'your', 'instead', 'you', 'everything', 'eating', 'doing', 'my', 'like']\n",
      "['playing', 'hand', 'instead', 'doing', 'you', 'your', 'everything', 'like', 'my']\n",
      "['eating', 'instead', 'washing', 'hand', 'everything', 'tossing', 'your', 'you', 'walking']\n",
      "['hand', 'instead', 'doing', 'playing', 'you', 'your', 'everything', 'like', \"'re\"]\n",
      "['playing', 'hand', 'instead', 'doing', 'you', 'like', 'your', 'everything', \"'re\"]\n",
      "['eating', 'hand', 'your', 'you', 'instead', 'my', 'everything', 'fingers', 'doing']\n",
      "['eating', 'washing', 'your', 'hand', 'tossing', 'everything', 'you', 'fingers', 'instead']\n",
      "['hand', 'instead', 'your', 'doing', 'you', 'everything', 'playing', 'my', 'like']\n",
      "['hand', 'eating', 'your', 'you', 'instead', 'everything', 'tossing', 'fingers', 'my']\n",
      "['putting', 'hand', 'instead', 'doing', 'you', 'like', 'your', 'everything', 'my']\n",
      "['eating', 'washing', 'tossing', 'hand', 'instead', 'your', 'everything', 'cleaning', 'you']\n",
      "['hand', 'instead', 'your', 'you', 'doing', 'everything', 'my', 'eating', 'like']\n",
      "['eating', 'instead', 'hand', 'everything', 'you', 'walking', 'your', 'tossing', 'doing']\n",
      "['instead', 'hand', 'you', 'everything', 'your', 'doing', 'walking', 'like', 'turning']\n",
      "['eating', 'hand', 'your', 'you', 'tossing', 'everything', 'fingers', 'instead', 'my']\n",
      "['hand', 'instead', 'your', 'you', 'doing', 'everything', 'like', 'my', 'turning']\n",
      "['putting', 'your', 'hand', 'you', 'fingers', 'everything', 'my', 'tossing', 'talking']\n",
      "['walking', 'instead', 'doing', 'hand', 'you', 'up', 'like', 'pulling', 'everything']\n",
      "['eating', 'hand', 'your', 'instead', 'everything', 'tossing', 'washing', 'you', 'turning']\n",
      "['eating', 'your', 'hand', 'you', 'fingers', 'everything', 'tossing', 'my', 'instead']\n",
      "['hand', 'instead', 'your', 'you', 'everything', 'doing', 'eating', 'like', 'my']\n",
      "['playing', 'doing', 'instead', 'hand', 'dancing', 'walking', 'you', 'like', 'up']\n",
      "['hand', 'your', 'instead', 'you', 'doing', 'everything', 'eating', 'my', 'like']\n",
      "['hand', 'your', 'eating', 'you', 'instead', 'everything', 'tossing', 'my', 'fingers']\n",
      "['eating', 'washing', 'your', 'hand', 'tossing', 'everything', 'fingers', 'you', 'instead']\n",
      "['eating', 'washing', 'hand', 'your', 'tossing', 'everything', 'you', 'instead', 'cleaning']\n",
      "['eating', 'instead', 'walking', 'hand', 'you', 'everything', 'doing', 'your', 'like']\n",
      "['hand', 'your', 'eating', 'you', 'instead', 'everything', 'my', 'doing', 'fingers']\n",
      "['playing', 'hand', 'instead', 'doing', 'you', 'like', 'everything', 'your', \"'re\"]\n",
      "['hand', 'eating', 'your', 'instead', 'everything', 'tossing', 'washing', 'you', 'turning']\n",
      "['eating', 'instead', 'hand', 'walking', 'everything', 'you', 'washing', 'your', 'tossing']\n",
      "['eating', 'washing', 'instead', 'hand', 'tossing', 'your', 'everything', 'you', 'cleaning']\n",
      "['hand', 'your', 'instead', 'you', 'eating', 'everything', 'doing', 'my', 'tossing']\n",
      "['hand', 'eating', 'your', 'instead', 'everything', 'you', 'tossing', 'washing', 'my']\n",
      "['putting', 'walking', 'washing', 'cleaning', 'instead', 'cooking', 'you', 'everything', 'tossing']\n",
      "['hand', 'your', 'instead', 'eating', 'you', 'everything', 'tossing', 'doing', 'my']\n",
      "['putting', 'washing', 'tossing', 'instead', 'cleaning', 'your', 'everything', 'hand', 'cooking']\n",
      "['hand', 'eating', 'instead', 'your', 'everything', 'you', 'tossing', 'washing', 'turning']\n",
      "['hand', 'instead', 'your', 'you', 'doing', 'everything', 'my', 'like', 'eating']\n",
      "['eating', 'instead', 'hand', 'everything', 'you', 'your', 'walking', 'tossing', 'washing']\n",
      "['walking', 'instead', 'doing', 'hand', 'dancing', 'up', 'pulling', 'you', 'like']\n",
      "['hand', 'instead', 'doing', 'you', 'your', 'everything', 'like', 'turning', 'walking']\n",
      "['instead', 'hand', 'you', 'everything', 'walking', 'doing', 'your', 'eating', 'like']\n",
      "['hand', 'your', 'eating', 'instead', 'everything', 'you', 'tossing', 'washing', 'doing']\n",
      "['hand', 'instead', 'your', 'you', 'everything', 'eating', 'doing', 'tossing', 'turning']\n",
      "['hand', 'your', 'eating', 'you', 'instead', 'everything', 'my', 'doing', 'fingers']\n",
      "['hand', 'your', 'instead', 'eating', 'everything', 'you', 'tossing', 'doing', 'turning']\n",
      "['eating', 'washing', 'hand', 'tossing', 'your', 'everything', 'instead', 'you', 'cleaning']\n",
      "['hand', 'instead', 'your', 'you', 'everything', 'eating', 'doing', 'tossing', 'turning']\n",
      "['hand', 'instead', 'your', 'you', 'doing', 'everything', 'my', 'eating', 'like']\n",
      "['hand', 'instead', 'you', 'your', 'everything', 'doing', 'eating', 'like', 'turning']\n",
      "['hand', 'instead', 'your', 'you', 'doing', 'everything', 'my', 'eating', 'playing']\n",
      "['walking', 'putting', 'jumping', 'climbing', 'water', 'like', 'instead', 'fish', 'you']\n",
      "['instead', 'hand', 'eating', 'walking', 'everything', 'you', 'your', 'doing', 'like']\n",
      "['instead', 'walking', 'hand', 'doing', 'you', 'everything', 'like', 'up', 'your']\n",
      "['hand', 'instead', 'your', 'you', 'doing', 'everything', 'my', 'like', 'eating']\n",
      "['eating', 'your', 'hand', 'you', 'fingers', 'my', 'everything', 'talking', 'instead']\n",
      "Key:  dancing charleston  items:  57\n",
      "['playing', 'walking', 'putting', 'jumping', 'doing', 'pulling', 'instead', 'started', 'dance']\n",
      "['playing', 'putting', 'walking', 'doing', 'jumping', 'instead', 'pulling', 'started', 'hand']\n",
      "['playing', 'walking', 'putting', 'doing', 'jumping', 'instead', 'pulling', 'started', 'hand']\n",
      "['walking', 'jumping', 'playing', 'putting', 'doing', 'pulling', 'instead', 'started', 'dance']\n",
      "['jumping', 'walking', 'putting', 'playing', 'doing', 'pulling', 'instead', 'started', 'taking']\n",
      "['jumping', 'walking', 'putting', 'playing', 'doing', 'pulling', 'climbing', 'started', 'instead']\n",
      "['walking', 'instead', 'doing', 'hand', 'up', 'pulling', 'you', 'like', 'just']\n",
      "['playing', 'putting', 'doing', 'walking', 'instead', 'hand', 'started', 'pulling', 'like']\n",
      "['putting', 'walking', 'jumping', 'playing', 'doing', 'instead', 'pulling', 'up', 'like']\n",
      "['playing', 'putting', 'walking', 'doing', 'instead', 'hand', 'pulling', 'jumping', 'started']\n",
      "['playing', 'putting', 'walking', 'doing', 'instead', 'jumping', 'hand', 'pulling', 'started']\n",
      "['dancing', 'putting', 'doing', 'instead', 'walking', 'hand', 'started', 'like', 'you']\n",
      "['walking', 'instead', 'jumping', 'doing', 'up', 'like', 'you', 'pulling', 'just']\n",
      "['eating', 'instead', 'everything', 'hand', 'walking', 'washing', 'you', 'your', 'tossing']\n",
      "['playing', 'putting', 'walking', 'doing', 'instead', 'hand', 'started', 'pulling', 'jumping']\n",
      "['playing', 'walking', 'putting', 'doing', 'jumping', 'instead', 'pulling', 'started', 'hand']\n",
      "['playing', 'putting', 'walking', 'doing', 'instead', 'jumping', 'hand', 'pulling', 'started']\n",
      "['eating', 'walking', 'instead', 'you', 'everything', 'hand', 'doing', 'like', 'your']\n",
      "['playing', 'putting', 'walking', 'doing', 'jumping', 'instead', 'pulling', 'started', 'hand']\n",
      "['playing', 'putting', 'walking', 'doing', 'instead', 'hand', 'started', 'pulling', 'jumping']\n",
      "['playing', 'walking', 'putting', 'jumping', 'doing', 'pulling', 'instead', 'started', 'taking']\n",
      "['walking', 'playing', 'jumping', 'putting', 'doing', 'pulling', 'instead', 'started', 'dance']\n",
      "['playing', 'walking', 'putting', 'doing', 'jumping', 'instead', 'pulling', 'started', 'hand']\n",
      "['dancing', 'putting', 'doing', 'walking', 'instead', 'hand', 'started', 'like', 'you']\n",
      "['playing', 'walking', 'putting', 'jumping', 'doing', 'pulling', 'instead', 'started', 'dance']\n",
      "['walking', 'jumping', 'playing', 'putting', 'doing', 'pulling', 'instead', 'started', 'taking']\n",
      "['playing', 'putting', 'walking', 'doing', 'jumping', 'instead', 'pulling', 'started', 'hand']\n",
      "['instead', 'hand', 'doing', 'playing', 'you', 'like', 'everything', 'your', 'walking']\n",
      "['walking', 'playing', 'putting', 'jumping', 'doing', 'pulling', 'instead', 'started', 'taking']\n",
      "['playing', 'instead', 'doing', 'hand', 'dancing', 'you', 'walking', 'like', 'up']\n",
      "['instead', 'walking', 'doing', 'hand', 'you', 'like', 'up', 'dancing', 'pulling']\n",
      "['playing', 'walking', 'putting', 'doing', 'jumping', 'instead', 'pulling', 'started', 'hand']\n",
      "['dancing', 'putting', 'doing', 'walking', 'instead', 'hand', 'started', 'like', 'pulling']\n",
      "['dancing', 'putting', 'doing', 'walking', 'instead', 'hand', 'started', 'like', 'you']\n",
      "['walking', 'playing', 'jumping', 'putting', 'doing', 'pulling', 'instead', 'started', 'dance']\n",
      "['walking', 'instead', 'jumping', 'doing', 'up', 'pulling', 'like', 'you', 'dancing']\n",
      "['walking', 'playing', 'putting', 'jumping', 'doing', 'pulling', 'instead', 'started', 'dance']\n",
      "['playing', 'putting', 'doing', 'walking', 'instead', 'hand', 'started', 'pulling', 'like']\n",
      "['playing', 'putting', 'walking', 'doing', 'instead', 'hand', 'jumping', 'started', 'pulling']\n",
      "['walking', 'jumping', 'playing', 'putting', 'doing', 'pulling', 'instead', 'started', 'dance']\n",
      "['playing', 'walking', 'putting', 'doing', 'jumping', 'instead', 'pulling', 'started', 'hand']\n",
      "['walking', 'playing', 'jumping', 'putting', 'doing', 'pulling', 'instead', 'started', 'dance']\n",
      "['walking', 'instead', 'doing', 'up', 'pulling', 'you', 'jumping', 'like', 'hand']\n",
      "['playing', 'putting', 'doing', 'walking', 'instead', 'hand', 'started', 'pulling', 'like']\n",
      "['walking', 'jumping', 'putting', 'playing', 'doing', 'pulling', 'instead', 'started', 'like']\n",
      "['putting', 'walking', 'playing', 'jumping', 'doing', 'instead', 'pulling', 'started', 'up']\n",
      "['putting', 'doing', 'instead', 'hand', 'dancing', 'you', 'like', 'walking', 'just']\n",
      "['dancing', 'putting', 'doing', 'walking', 'instead', 'hand', 'started', 'like', 'pulling']\n",
      "['playing', 'walking', 'putting', 'doing', 'jumping', 'pulling', 'instead', 'started', 'hand']\n",
      "['playing', 'instead', 'doing', 'hand', 'dancing', 'walking', 'you', 'like', 'up']\n",
      "['eating', 'your', 'hand', 'you', 'fingers', 'everything', 'tossing', 'my', 'instead']\n",
      "['walking', 'jumping', 'putting', 'playing', 'doing', 'pulling', 'instead', 'started', 'like']\n",
      "['walking', 'jumping', 'playing', 'putting', 'doing', 'pulling', 'instead', 'started', 'dance']\n",
      "['putting', 'dancing', 'doing', 'instead', 'hand', 'walking', 'like', 'started', 'you']\n",
      "['hand', 'instead', 'doing', 'you', 'your', 'everything', 'like', 'walking', \"'re\"]\n",
      "['dancing', 'putting', 'doing', 'walking', 'instead', 'hand', 'started', 'like', 'you']\n",
      "['playing', 'putting', 'walking', 'doing', 'instead', 'jumping', 'hand', 'pulling', 'started']\n",
      "Key:  tickling  items:  76\n",
      "['putting', 'washing', 'instead', 'tossing', 'cleaning', 'everything', 'your', 'hand', 'you']\n",
      "['hand', 'your', 'eating', 'instead', 'you', 'everything', 'doing', 'my', 'fingers']\n",
      "['hand', 'instead', 'doing', 'your', 'you', 'everything', 'playing', 'my', 'like']\n",
      "['hand', 'instead', 'your', 'you', 'everything', 'doing', 'eating', 'like', 'turning']\n",
      "['eating', 'hand', 'instead', 'your', 'everything', 'washing', 'you', 'tossing', 'walking']\n",
      "['hand', 'instead', 'you', 'your', 'everything', 'doing', 'eating', 'walking', 'turning']\n",
      "['eating', 'instead', 'hand', 'everything', 'your', 'you', 'walking', 'tossing', 'doing']\n",
      "['hand', 'your', 'instead', 'you', 'eating', 'everything', 'doing', 'my', 'fingers']\n",
      "['hand', 'instead', 'your', 'you', 'everything', 'doing', 'eating', 'my', 'like']\n",
      "['hand', 'your', 'instead', 'you', 'eating', 'everything', 'doing', 'my', 'tossing']\n",
      "['walking', 'instead', 'doing', 'hand', 'you', 'up', 'like', 'pulling', 'everything']\n",
      "['hand', 'your', 'instead', 'eating', 'you', 'everything', 'tossing', 'doing', 'my']\n",
      "['eating', 'your', 'hand', 'washing', 'tossing', 'fingers', 'everything', 'you', 'my']\n",
      "['hand', 'eating', 'your', 'tossing', 'everything', 'you', 'instead', 'washing', 'fingers']\n",
      "['hand', 'instead', 'your', 'you', 'doing', 'everything', 'my', 'eating', 'like']\n",
      "['eating', 'your', 'hand', 'you', 'fingers', 'everything', 'my', 'instead', 'talking']\n",
      "['eating', 'your', 'hand', 'you', 'fingers', 'everything', 'my', 'tossing', 'instead']\n",
      "['hand', 'your', 'eating', 'you', 'instead', 'everything', 'my', 'doing', 'fingers']\n",
      "['eating', 'hand', 'your', 'you', 'instead', 'my', 'everything', 'fingers', 'doing']\n",
      "['hand', 'your', 'eating', 'instead', 'you', 'everything', 'doing', 'my', 'tossing']\n",
      "['hand', 'eating', 'your', 'you', 'everything', 'instead', 'tossing', 'fingers', 'my']\n",
      "['hand', 'your', 'instead', 'you', 'everything', 'eating', 'doing', 'my', 'tossing']\n",
      "['hand', 'your', 'eating', 'instead', 'you', 'everything', 'tossing', 'doing', 'my']\n",
      "['eating', 'hand', 'your', 'you', 'instead', 'everything', 'my', 'fingers', 'tossing']\n",
      "['walking', 'instead', 'doing', 'dancing', 'hand', 'pulling', 'up', 'you', 'playing']\n",
      "['hand', 'instead', 'playing', 'doing', 'you', 'your', 'everything', 'like', 'my']\n",
      "['hand', 'your', 'eating', 'instead', 'you', 'everything', 'tossing', 'doing', 'my']\n",
      "['eating', 'washing', 'tossing', 'hand', 'your', 'instead', 'everything', 'cleaning', 'you']\n",
      "['eating', 'hand', 'your', 'tossing', 'you', 'everything', 'fingers', 'washing', 'instead']\n",
      "['hand', 'your', 'instead', 'eating', 'you', 'everything', 'tossing', 'doing', 'my']\n",
      "['hand', 'your', 'instead', 'eating', 'you', 'everything', 'doing', 'my', 'fingers']\n",
      "['hand', 'instead', 'your', 'you', 'everything', 'eating', 'doing', 'tossing', 'turning']\n",
      "['hand', 'your', 'eating', 'instead', 'you', 'everything', 'tossing', 'my', 'doing']\n",
      "['hand', 'eating', 'your', 'you', 'instead', 'everything', 'my', 'tossing', 'fingers']\n",
      "['hand', 'your', 'instead', 'you', 'everything', 'eating', 'doing', 'tossing', 'my']\n",
      "['hand', 'your', 'instead', 'eating', 'you', 'everything', 'tossing', 'doing', 'my']\n",
      "['eating', 'washing', 'tossing', 'hand', 'your', 'instead', 'everything', 'cleaning', 'you']\n",
      "['hand', 'your', 'instead', 'eating', 'you', 'everything', 'tossing', 'doing', 'my']\n",
      "['hand', 'instead', 'your', 'you', 'everything', 'doing', 'eating', 'like', 'turning']\n",
      "['hand', 'playing', 'instead', 'doing', 'your', 'you', 'everything', 'my', 'like']\n",
      "['hand', 'instead', 'your', 'you', 'doing', 'everything', 'my', 'eating', 'like']\n",
      "['eating', 'hand', 'washing', 'your', 'instead', 'tossing', 'everything', 'you', 'turning']\n",
      "['hand', 'instead', 'doing', 'you', 'your', 'everything', 'playing', 'like', 'walking']\n",
      "['hand', 'instead', 'your', 'you', 'everything', 'doing', 'my', 'eating', 'like']\n",
      "['eating', 'hand', 'your', 'you', 'everything', 'instead', 'tossing', 'fingers', 'my']\n",
      "['hand', 'your', 'eating', 'you', 'instead', 'everything', 'tossing', 'my', 'fingers']\n",
      "['instead', 'eating', 'hand', 'walking', 'everything', 'you', 'your', 'doing', 'like']\n",
      "['eating', 'your', 'hand', 'tossing', 'you', 'everything', 'fingers', 'washing', 'instead']\n",
      "['hand', 'instead', 'your', 'you', 'everything', 'eating', 'doing', 'my', 'like']\n",
      "['hand', 'instead', 'doing', 'you', 'playing', 'your', 'everything', 'like', 'walking']\n",
      "['eating', 'instead', 'walking', 'everything', 'hand', 'you', 'your', 'washing', 'tossing']\n",
      "['eating', 'hand', 'your', 'washing', 'tossing', 'everything', 'instead', 'you', 'fingers']\n",
      "['instead', 'hand', 'you', 'doing', 'everything', 'your', 'walking', 'like', 'turning']\n",
      "['eating', 'your', 'hand', 'you', 'fingers', 'my', 'talking', 'everything', 'instead']\n",
      "['putting', 'doing', 'instead', 'hand', 'dancing', 'you', 'like', 'walking', 'just']\n",
      "['hand', 'instead', 'your', 'you', 'everything', 'doing', 'like', 'turning', 'eating']\n",
      "['eating', 'hand', 'instead', 'your', 'everything', 'you', 'tossing', 'washing', 'turning']\n",
      "['putting', 'walking', 'instead', 'you', 'everything', 'cleaning', 'like', 'picking', 'washing']\n",
      "['hand', 'eating', 'instead', 'your', 'everything', 'you', 'tossing', 'washing', 'turning']\n",
      "['hand', 'your', 'eating', 'instead', 'you', 'everything', 'tossing', 'my', 'fingers']\n",
      "['hand', 'your', 'eating', 'instead', 'everything', 'you', 'tossing', 'washing', 'doing']\n",
      "['hand', 'your', 'eating', 'instead', 'you', 'everything', 'doing', 'my', 'fingers']\n",
      "['putting', 'your', 'hand', 'fingers', 'you', 'everything', 'tossing', 'my', 'washing']\n",
      "['eating', 'your', 'hand', 'you', 'everything', 'fingers', 'instead', 'my', 'tossing']\n",
      "['eating', 'instead', 'washing', 'hand', 'tossing', 'everything', 'your', 'you', 'walking']\n",
      "['hand', 'instead', 'your', 'you', 'everything', 'doing', 'eating', 'turning', 'like']\n",
      "['hand', 'instead', 'doing', 'you', 'your', 'everything', 'like', 'my', \"'re\"]\n",
      "['instead', 'walking', 'hand', 'doing', 'you', 'eating', 'everything', 'like', 'up']\n",
      "['hand', 'eating', 'your', 'tossing', 'everything', 'instead', 'you', 'washing', 'fingers']\n",
      "['eating', 'hand', 'your', 'washing', 'tossing', 'instead', 'everything', 'you', 'turning']\n",
      "['eating', 'instead', 'hand', 'washing', 'everything', 'your', 'tossing', 'you', 'walking']\n",
      "['eating', 'hand', 'your', 'tossing', 'everything', 'instead', 'you', 'washing', 'fingers']\n",
      "['playing', 'instead', 'hand', 'doing', 'you', 'like', 'dancing', 'everything', 'walking']\n",
      "['eating', 'hand', 'your', 'you', 'tossing', 'everything', 'instead', 'washing', 'fingers']\n",
      "['hand', 'your', 'instead', 'you', 'eating', 'doing', 'playing', 'everything', 'my']\n",
      "['hand', 'your', 'instead', 'eating', 'you', 'everything', 'doing', 'tossing', 'my']\n",
      "Key:  playing volleyball  items:  71\n",
      "['walking', 'instead', 'eating', 'doing', 'you', 'like', 'up', 'jumping', 'pulling']\n",
      "['dancing', 'walking', 'putting', 'climbing', 'swimming', 'playing', 'doing', 'pulling', 'riding']\n",
      "['jumping', 'walking', 'putting', 'playing', 'doing', 'pulling', 'started', 'instead', 'climbing']\n",
      "['walking', 'instead', 'doing', 'you', 'like', 'eating', 'up', 'hand', 'just']\n",
      "['walking', 'instead', 'doing', 'you', 'hand', 'eating', 'like', 'everything', 'up']\n",
      "['dancing', 'walking', 'climbing', 'putting', 'swimming', 'playing', 'pulling', 'doing', 'riding']\n",
      "['walking', 'dancing', 'climbing', 'putting', 'swimming', 'riding', 'pulling', 'doing', 'playing']\n",
      "['jumping', 'walking', 'putting', 'playing', 'doing', 'pulling', 'instead', 'started', 'taking']\n",
      "['walking', 'dancing', 'climbing', 'putting', 'swimming', 'riding', 'pulling', 'doing', 'playing']\n",
      "['walking', 'dancing', 'climbing', 'swimming', 'putting', 'riding', 'pulling', 'doing', 'taking']\n",
      "['walking', 'jumping', 'putting', 'playing', 'doing', 'pulling', 'instead', 'started', 'taking']\n",
      "['walking', 'dancing', 'doing', 'instead', 'playing', 'hand', 'pulling', 'up', 'like']\n",
      "['dancing', 'walking', 'climbing', 'putting', 'swimming', 'playing', 'doing', 'pulling', 'riding']\n",
      "['jumping', 'walking', 'putting', 'playing', 'doing', 'climbing', 'pulling', 'swimming', 'started']\n",
      "['walking', 'climbing', 'swimming', 'riding', 'dancing', 'putting', 'skiing', 'pulling', 'like']\n",
      "['dancing', 'walking', 'climbing', 'putting', 'swimming', 'riding', 'pulling', 'doing', 'playing']\n",
      "['walking', 'playing', 'jumping', 'putting', 'doing', 'pulling', 'instead', 'started', 'dance']\n",
      "['walking', 'putting', 'jumping', 'climbing', 'instead', 'like', 'you', 'picking', 'water']\n",
      "['walking', 'jumping', 'playing', 'putting', 'doing', 'pulling', 'instead', 'started', 'taking']\n",
      "['jumping', 'walking', 'putting', 'playing', 'doing', 'pulling', 'climbing', 'started', 'instead']\n",
      "['jumping', 'walking', 'putting', 'playing', 'climbing', 'doing', 'pulling', 'instead', 'swimming']\n",
      "['climbing', 'walking', 'swimming', 'riding', 'skiing', 'biking', 'diving', 'surfing', 'hiking']\n",
      "['walking', 'dancing', 'climbing', 'putting', 'swimming', 'riding', 'pulling', 'doing', 'playing']\n",
      "['walking', 'climbing', 'swimming', 'dancing', 'riding', 'putting', 'pulling', 'like', 'doing']\n",
      "['walking', 'climbing', 'swimming', 'dancing', 'riding', 'putting', 'skiing', 'pulling', 'like']\n",
      "['jumping', 'walking', 'putting', 'playing', 'doing', 'pulling', 'climbing', 'started', 'instead']\n",
      "['dancing', 'walking', 'putting', 'climbing', 'swimming', 'playing', 'doing', 'pulling', 'riding']\n",
      "['jumping', 'walking', 'putting', 'playing', 'climbing', 'doing', 'pulling', 'swimming', 'instead']\n",
      "['jumping', 'walking', 'playing', 'putting', 'doing', 'pulling', 'instead', 'started', 'dance']\n",
      "['walking', 'playing', 'jumping', 'putting', 'doing', 'pulling', 'instead', 'started', 'taking']\n",
      "['dancing', 'walking', 'putting', 'climbing', 'playing', 'swimming', 'doing', 'pulling', 'riding']\n",
      "['walking', 'dancing', 'climbing', 'swimming', 'putting', 'riding', 'pulling', 'doing', 'like']\n",
      "['dancing', 'walking', 'putting', 'climbing', 'playing', 'doing', 'pulling', 'swimming', 'started']\n",
      "['walking', 'climbing', 'swimming', 'riding', 'dancing', 'putting', 'skiing', 'like', 'pulling']\n",
      "['dancing', 'walking', 'putting', 'climbing', 'playing', 'swimming', 'doing', 'pulling', 'riding']\n",
      "['walking', 'jumping', 'playing', 'putting', 'doing', 'pulling', 'instead', 'started', 'taking']\n",
      "['putting', 'walking', 'jumping', 'playing', 'doing', 'instead', 'pulling', 'up', 'like']\n",
      "['walking', 'jumping', 'playing', 'putting', 'doing', 'pulling', 'instead', 'started', 'dance']\n",
      "['jumping', 'walking', 'putting', 'playing', 'climbing', 'doing', 'pulling', 'swimming', 'started']\n",
      "['walking', 'instead', 'doing', 'hand', 'you', 'up', 'like', 'pulling', 'everything']\n",
      "['walking', 'jumping', 'playing', 'putting', 'doing', 'pulling', 'instead', 'started', 'dance']\n",
      "['dancing', 'putting', 'doing', 'instead', 'hand', 'walking', 'started', 'like', 'you']\n",
      "['dancing', 'walking', 'climbing', 'putting', 'swimming', 'playing', 'doing', 'pulling', 'riding']\n",
      "['walking', 'climbing', 'swimming', 'riding', 'dancing', 'skiing', 'diving', 'biking', 'putting']\n",
      "['jumping', 'walking', 'putting', 'playing', 'doing', 'pulling', 'instead', 'started', 'taking']\n",
      "['walking', 'jumping', 'playing', 'putting', 'doing', 'pulling', 'instead', 'started', 'taking']\n",
      "['jumping', 'walking', 'putting', 'playing', 'doing', 'pulling', 'instead', 'started', 'taking']\n",
      "['walking', 'dancing', 'climbing', 'putting', 'swimming', 'doing', 'pulling', 'instead', 'like']\n",
      "['putting', 'dancing', 'doing', 'instead', 'hand', 'walking', 'like', 'started', 'you']\n",
      "['dancing', 'walking', 'putting', 'climbing', 'playing', 'doing', 'pulling', 'swimming', 'started']\n",
      "['jumping', 'walking', 'putting', 'playing', 'doing', 'pulling', 'instead', 'climbing', 'started']\n",
      "['jumping', 'walking', 'putting', 'playing', 'doing', 'climbing', 'pulling', 'swimming', 'started']\n",
      "['walking', 'dancing', 'climbing', 'swimming', 'putting', 'riding', 'pulling', 'doing', 'like']\n",
      "['walking', 'jumping', 'putting', 'playing', 'doing', 'pulling', 'instead', 'started', 'taking']\n",
      "['dancing', 'walking', 'putting', 'climbing', 'playing', 'doing', 'pulling', 'swimming', 'riding']\n",
      "['walking', 'climbing', 'swimming', 'dancing', 'riding', 'putting', 'pulling', 'like', 'skiing']\n",
      "['climbing', 'walking', 'swimming', 'riding', 'skiing', 'biking', 'diving', 'bike', 'horse']\n",
      "['playing', 'walking', 'putting', 'doing', 'jumping', 'pulling', 'instead', 'started', 'hand']\n",
      "['playing', 'hand', 'instead', 'doing', 'you', 'your', 'my', 'everything', 'talking']\n",
      "['jumping', 'walking', 'putting', 'playing', 'doing', 'pulling', 'climbing', 'started', 'instead']\n",
      "['walking', 'jumping', 'playing', 'putting', 'doing', 'pulling', 'instead', 'started', 'dance']\n",
      "['dancing', 'putting', 'doing', 'walking', 'instead', 'hand', 'started', 'like', 'pulling']\n",
      "['walking', 'dancing', 'climbing', 'swimming', 'putting', 'riding', 'pulling', 'doing', 'playing']\n",
      "['playing', 'putting', 'walking', 'doing', 'jumping', 'instead', 'pulling', 'started', 'hand']\n",
      "['walking', 'jumping', 'playing', 'putting', 'doing', 'pulling', 'instead', 'started', 'taking']\n",
      "['jumping', 'walking', 'putting', 'playing', 'doing', 'pulling', 'climbing', 'started', 'instead']\n",
      "['playing', 'putting', 'walking', 'doing', 'instead', 'jumping', 'hand', 'pulling', 'started']\n",
      "['walking', 'putting', 'jumping', 'playing', 'doing', 'pulling', 'instead', 'started', 'like']\n",
      "['walking', 'climbing', 'swimming', 'riding', 'dancing', 'putting', 'skiing', 'like', 'horse']\n",
      "['walking', 'climbing', 'putting', 'swimming', 'dancing', 'riding', 'like', 'instead', 'doing']\n",
      "['jumping', 'walking', 'playing', 'putting', 'doing', 'pulling', 'instead', 'started', 'dance']\n"
     ]
    }
   ],
   "source": [
    "for k, v in unseen_similarities.items():\n",
    "    print(\"Key: \", k, \" items: \", len(v))\n",
    "    for vals in v:\n",
    "        sim_words = [word_vals[0] for word_vals in vals[0]]\n",
    "        print(sim_words)"
   ]
  },
  {
   "cell_type": "markdown",
   "metadata": {},
   "source": [
    "### 1. Cricket Shot"
   ]
  },
  {
   "cell_type": "code",
   "execution_count": 1112,
   "metadata": {},
   "outputs": [
    {
     "name": "stdout",
     "output_type": "stream",
     "text": [
      "shape now: torch.Size([1, 3, 79, 224, 224])\n"
     ]
    }
   ],
   "source": [
    "sample_path = 'data/kinetic-samples/v_CricketShot_g04_c01_rgb.npy'\n",
    "rgb_sample = np.load(sample_path).transpose(0, 4, 1, 2, 3)\n",
    "sample = torch.from_numpy(rgb_sample)\n",
    "print(\"shape now:\", sample.shape)"
   ]
  },
  {
   "cell_type": "code",
   "execution_count": 1113,
   "metadata": {},
   "outputs": [
    {
     "name": "stdout",
     "output_type": "stream",
     "text": [
      "torch.Size([1, 3, 79, 224, 224])\n"
     ]
    }
   ],
   "source": [
    "sample_var = torch.autograd.Variable(sample).to(device)\n",
    "print(sample_var.shape)\n",
    "out_var, _ = i3d_rgb(sample_var)"
   ]
  },
  {
   "cell_type": "code",
   "execution_count": 1114,
   "metadata": {},
   "outputs": [
    {
     "data": {
      "text/plain": [
       "torch.Size([1, 1024])"
      ]
     },
     "execution_count": 1114,
     "metadata": {},
     "output_type": "execute_result"
    }
   ],
   "source": [
    "out_var.shape"
   ]
  },
  {
   "cell_type": "code",
   "execution_count": 1118,
   "metadata": {},
   "outputs": [
    {
     "name": "stdout",
     "output_type": "stream",
     "text": [
      "torch.Size([1, 150]) torch.Size([1, 1024]) torch.Size([1, 1, 300])\n"
     ]
    }
   ],
   "source": [
    "mid_video = enc_vid(out_var)\n",
    "out_video = dec_vid(mid_video)\n",
    "\n",
    "\n",
    "\n",
    "mid_word = enc_word(word)\n",
    "out_word = dec_word(mid_word)\n",
    "\n",
    "print(mid_video.shape, out_video.shape, out_word.shape)"
   ]
  },
  {
   "cell_type": "code",
   "execution_count": 1119,
   "metadata": {},
   "outputs": [],
   "source": [
    "sample_word = out_word.cpu().detach().numpy()\n",
    "sample_word = np.squeeze(np.transpose(sample_word))"
   ]
  },
  {
   "cell_type": "code",
   "execution_count": 1120,
   "metadata": {},
   "outputs": [
    {
     "data": {
      "text/plain": [
       "[('reading', 0.8370588350649026),\n",
       " ('read', 0.7465486610683334),\n",
       " ('books', 0.7398531582532274),\n",
       " ('writing', 0.6838575261008999),\n",
       " ('published', 0.621612031251118),\n",
       " ('wrote', 0.6150002525840218),\n",
       " ('author', 0.5880179617651263),\n",
       " ('written', 0.5863053538222806),\n",
       " ('write', 0.5764967926605968)]"
      ]
     },
     "execution_count": 1120,
     "metadata": {},
     "output_type": "execute_result"
    }
   ],
   "source": [
    "_similarity_query(word_vectors, sample_word, 10, inverse_dictionary)[1:]"
   ]
  },
  {
   "cell_type": "markdown",
   "metadata": {},
   "source": [
    "### 2. Drawing samples"
   ]
  },
  {
   "cell_type": "code",
   "execution_count": null,
   "metadata": {},
   "outputs": [],
   "source": [
    "label = unseen_vid_ids[150].split(\"_\")[0]\n",
    "label = label.split()\n",
    "print(label)"
   ]
  },
  {
   "cell_type": "code",
   "execution_count": null,
   "metadata": {},
   "outputs": [],
   "source": [
    "unseen_similarities= {}\n",
    "\n",
    "unseen_loss=[]\n",
    "\n",
    "for k, v in unseen_vid_features.items():\n",
    "    #print(v.shape)\n",
    "    var = torch.from_numpy(v).float().to(device)\n",
    "    sample_mapped = model(var)\n",
    "    sample_word = sample_mapped.cpu().detach().numpy()\n",
    "    sample_word = np.squeeze(np.transpose(sample_word))\n",
    "    #print(\"samp word size:\", sample_word.shape )\n",
    "    sims = _similarity_query(word_vectors, sample_word, 10, inverse_dictionary)[1:]\n",
    "    \n",
    "    label = k.split(\"_\")[0]\n",
    "    if label not in unseen_similarities:\n",
    "        print(\"new label\", label, \"\\n\")\n",
    "        unseen_similarities[label] = [[sims]]\n",
    "    else:\n",
    "        unseen_similarities[label].append([sims])\n",
    "    \n",
    "    word = unseen_word_dict[label]\n",
    "    word = torch.from_numpy(word).float().to(device)\n",
    "    loss = criterion(y_pred, word)\n",
    "    unseen_loss.append(loss.item())"
   ]
  },
  {
   "cell_type": "code",
   "execution_count": null,
   "metadata": {},
   "outputs": [],
   "source": [
    "len(unseen_similarities.values())"
   ]
  },
  {
   "cell_type": "code",
   "execution_count": null,
   "metadata": {},
   "outputs": [],
   "source": [
    "acc = 0\n",
    "c = 0\n",
    "for k, v in unseen_similarities.items():\n",
    "    print(\"Key: \", k)\n",
    "    c +=1\n",
    "    for vals in v:\n",
    "        sim_words = [word_vals[0] for word_vals in vals[0]]\n",
    "        print(sim_words)\n",
    "        if check_match(k, sim_words):\n",
    "            acc += 1\n",
    "    print(\" =================================================== \")"
   ]
  },
  {
   "cell_type": "markdown",
   "metadata": {},
   "source": [
    "# LINEAR MAPPING #"
   ]
  },
  {
   "cell_type": "code",
   "execution_count": 284,
   "metadata": {},
   "outputs": [
    {
     "data": {
      "text/plain": [
       "300"
      ]
     },
     "execution_count": 284,
     "metadata": {},
     "output_type": "execute_result"
    }
   ],
   "source": [
    "D"
   ]
  },
  {
   "cell_type": "code",
   "execution_count": 296,
   "metadata": {},
   "outputs": [],
   "source": [
    "linear_mapping = nn.Linear(V, D).to(device)\n",
    "linear_mapping = nn.DataParallel(linear_mapping)\n",
    "\n",
    "num_epochs = 100\n",
    "learning_rate = 1e-3\n",
    "weight_decay = 1e-5\n",
    "drop_out = 0.3\n",
    "\n",
    "optim = torch.optim.Adam(linear_mapping.parameters(), lr=learning_rate, weight_decay = weight_decay)\n",
    "criterion = nn.MSELoss()"
   ]
  },
  {
   "cell_type": "code",
   "execution_count": 297,
   "metadata": {},
   "outputs": [
    {
     "name": "stdout",
     "output_type": "stream",
     "text": [
      "epoch [1/100], loss:0.25613388\n",
      "epoch [26/100], loss:0.24182955\n",
      "epoch [51/100], loss:0.22801141\n",
      "epoch [76/100], loss:0.23444165\n",
      "Training complete in 0m 39s\n",
      "Best val Acc: 0.224706\n"
     ]
    }
   ],
   "source": [
    "import time\n",
    "import copy\n",
    "\n",
    "since = time.time()\n",
    "\n",
    "train_acc_history = []\n",
    "val_acc_history = []\n",
    "\n",
    "best_loss = 1000000.0\n",
    "\n",
    "num_epochs=100\n",
    "\n",
    "for epoch in range(num_epochs):\n",
    "\n",
    "    for phase in ['train', 'val']:\n",
    "        if phase == 'train':\n",
    "            # Set model to training mode\n",
    "            linear_mapping.train()\n",
    "        else:\n",
    "            linear_mapping.eval()\n",
    "            \n",
    "        optim.zero_grad()\n",
    "        running_loss = 0.0\n",
    "        \n",
    "        for data in dataloaders_dict[phase]:\n",
    "            \n",
    "            video = data[\"vid_feat\"].float().to(device)\n",
    "            word = data[\"word_feat\"].float().to(device)\n",
    "\n",
    "            with torch.set_grad_enabled(phase == 'train'):\n",
    "                \n",
    "                #print(video.shape)\n",
    "                #print(word.shape)\n",
    "                \n",
    "                out_word = linear_mapping(video)\n",
    "                loss = criterion(out_word, word)\n",
    "                running_loss += loss.item()\n",
    "\n",
    "                if phase == 'train':\n",
    "                    optim.zero_grad()\n",
    "                    loss.backward()\n",
    "                    optim.step()\n",
    "                    \n",
    "        epoch_loss = running_loss #/ len(dataloaders_dict[phase].dataset)\n",
    "        \n",
    "        if phase == 'train':\n",
    "            train_acc_history.append(epoch_loss)\n",
    "        \n",
    "        #loss = running_loss\n",
    "        if phase == 'val':\n",
    "            if epoch_loss < best_loss:\n",
    "                best_loss = epoch_loss\n",
    "            val_acc_history.append(epoch_loss)\n",
    "            if epoch%25 ==0:\n",
    "                print('epoch [{}/{}], loss:{:.8f}'\n",
    "                      .format(epoch + 1, num_epochs, epoch_loss))\n",
    "        \n",
    "time_elapsed = time.time() - since\n",
    "print('Training complete in {:.0f}m {:.0f}s'.format(time_elapsed // 60, time_elapsed % 60))\n",
    "print('Best val Acc: {:4f}'.format(best_loss))"
   ]
  },
  {
   "cell_type": "code",
   "execution_count": 298,
   "metadata": {},
   "outputs": [
    {
     "data": {
      "image/png": "[encoded data removed]",
      "text/plain": [
       "<Figure size 432x288 with 1 Axes>"
      ]
     },
     "metadata": {
      "needs_background": "light"
     },
     "output_type": "display_data"
    }
   ],
   "source": [
    "import matplotlib.pyplot as plt\n",
    "\n",
    "plt.plot(val_acc_history)\n",
    "plt.show()"
   ]
  },
  {
   "cell_type": "code",
   "execution_count": 299,
   "metadata": {},
   "outputs": [],
   "source": [
    "linear_mapping.eval()\n",
    "\n",
    "eval_loss = []\n",
    "test_dataloader = DataLoader(dataset=test_data, batch_size=1, shuffle=True)\n",
    "\n",
    "c = 0\n",
    "\n",
    "mNNOs = []\n",
    "\n",
    "torch.set_grad_enabled(False)\n",
    "\n",
    "data_size=len(dataloaders_dict['test'].dataset)\n",
    "\n",
    "vid_inputs = torch.zeros((data_size, V))\n",
    "word_inputs = torch.zeros((data_size, D))\n",
    "vid_to_word = torch.zeros((data_size, D))\n",
    "word_to_vid = torch.zeros((data_size, V))\n",
    "\n",
    "for data in test_dataloader:\n",
    "    video = data[\"vid_feat\"].float().to(device)\n",
    "    word = data[\"word_feat\"].float().to(device)\n",
    "    \n",
    "    \n",
    "    out_word = linear_mapping(video)\n",
    "    loss = criterion(out_word, word)\n",
    "    \n",
    "    #print(\"data: {}, \\n\" , c)\n",
    "    #print('  mid video: {} ,  out video:{}'.format(mid_video[0][0][:5], out_video[0][0][:5]))\n",
    "    #print(' out word:{}'.format(out_word[0][:5]))\n",
    "    \n",
    "    vid_inputs[c]=video.squeeze(0)\n",
    "    word_inputs[c]=word.squeeze(0)\n",
    "    vid_to_word[c]=out_word.squeeze(0)\n",
    "    #word_to_vid[c]=out_video.squeeze(0)\n",
    "    \n",
    "    eval_loss.append(loss.item())\n",
    "    c+=1"
   ]
  },
  {
   "cell_type": "code",
   "execution_count": 300,
   "metadata": {},
   "outputs": [
    {
     "name": "stdout",
     "output_type": "stream",
     "text": [
      "TEST: MNNO(f(X),X)= 0.346  || MNNO(f(X),Y)= 0.109  || MNNO(Y,X)= 0.092  || mse= 0.07879  || R2= 0.0635\n"
     ]
    }
   ],
   "source": [
    "perf = eval_utils.eval_performance(vid_inputs.numpy(), word_inputs.numpy(), vid_to_word.numpy(), sim, k_neighbors, True)\n",
    "\n",
    "\n",
    "print('TEST: MNNO(f(X),X)=', round(perf['mnno_map-in'],3),\n",
    "                                      ' || MNNO(f(X),Y)=', round(perf['mnno_map-out'],3),\n",
    "                                      ' || MNNO(Y,X)=', round(perf['mnno_in-out'],3),\n",
    "                                      ' || mse=', round(perf['mse'],5), ' || R2=', round(perf['R2'],4))"
   ]
  },
  {
   "cell_type": "code",
   "execution_count": null,
   "metadata": {},
   "outputs": [],
   "source": []
  }
 ],
 "metadata": {
  "kernelspec": {
   "display_name": "Python 3",
   "language": "python",
   "name": "python3"
  },
  "language_info": {
   "codemirror_mode": {
    "name": "ipython",
    "version": 3
   },
   "file_extension": ".py",
   "mimetype": "text/x-python",
   "name": "python",
   "nbconvert_exporter": "python",
   "pygments_lexer": "ipython3",
   "version": "3.5.2"
  }
 },
 "nbformat": 4,
 "nbformat_minor": 2
}
